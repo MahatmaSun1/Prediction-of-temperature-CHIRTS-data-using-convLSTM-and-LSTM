{
 "cells": [
  {
   "cell_type": "code",
   "execution_count": 76,
   "metadata": {},
   "outputs": [],
   "source": [
    "# input file\n",
    "import pickle\n",
    "import numpy as np\n",
    "import matplotlib.pyplot as plt\n",
    "from sklearn.preprocessing import MinMaxScaler\n",
    "\n",
    "pickle_in = open(\"../Data_error/error_2D.pickle\",\"rb\")\n",
    "X = pickle.load(pickle_in)"
   ]
  },
  {
   "cell_type": "code",
   "execution_count": 77,
   "metadata": {},
   "outputs": [
    {
     "data": {
      "text/plain": [
       "array([[0., 0., 0., ..., 0., 0., 0.],\n",
       "       [0., 0., 0., ..., 0., 0., 0.],\n",
       "       [0., 0., 0., ..., 0., 0., 0.],\n",
       "       ...,\n",
       "       [0., 0., 0., ..., 0., 0., 0.],\n",
       "       [0., 0., 0., ..., 0., 0., 0.],\n",
       "       [0., 0., 0., ..., 0., 0., 0.]], dtype=float32)"
      ]
     },
     "execution_count": 77,
     "metadata": {},
     "output_type": "execute_result"
    }
   ],
   "source": [
    "# trying open first data\n",
    "X[1]"
   ]
  },
  {
   "cell_type": "code",
   "execution_count": 78,
   "metadata": {},
   "outputs": [
    {
     "data": {
      "text/plain": [
       "<matplotlib.image.AxesImage at 0x21007673630>"
      ]
     },
     "execution_count": 78,
     "metadata": {},
     "output_type": "execute_result"
    },
    {
     "data": {
      "image/png": "[encoded data removed]",
      "text/plain": [
       "<Figure size 432x288 with 1 Axes>"
      ]
     },
     "metadata": {
      "needs_background": "light"
     },
     "output_type": "display_data"
    }
   ],
   "source": [
    "plt.imshow(X[0])"
   ]
  },
  {
   "cell_type": "code",
   "execution_count": 79,
   "metadata": {},
   "outputs": [],
   "source": [
    "X = np.array(X).reshape(-1,9462)"
   ]
  },
  {
   "cell_type": "code",
   "execution_count": 80,
   "metadata": {},
   "outputs": [
    {
     "data": {
      "text/plain": [
       "(396, 9462)"
      ]
     },
     "execution_count": 80,
     "metadata": {},
     "output_type": "execute_result"
    }
   ],
   "source": [
    "X.shape"
   ]
  },
  {
   "cell_type": "code",
   "execution_count": 81,
   "metadata": {},
   "outputs": [],
   "source": [
    "df = X\n",
    "scaler = MinMaxScaler()\n",
    "scaler.fit(df)\n",
    "df = scaler.transform(df)\n",
    "\n",
    "df=df.reshape(-1,83,114)\n",
    "\n",
    "data_1 = df[:-48]\n",
    "data_2 = df[:-36]\n",
    "data_3 = df[:-24]\n",
    "data_4 = df[:-12]\n",
    "data_5 = df\n",
    "df=df[:-60]"
   ]
  },
  {
   "cell_type": "code",
   "execution_count": null,
   "metadata": {},
   "outputs": [],
   "source": []
  },
  {
   "cell_type": "code",
   "execution_count": 82,
   "metadata": {},
   "outputs": [],
   "source": [
    "train, test = df[:-12], df[-12:]"
   ]
  },
  {
   "cell_type": "code",
   "execution_count": 83,
   "metadata": {},
   "outputs": [],
   "source": [
    "# adjust input from 3D (1D longitude, 1D latitude, 1D time) to 5D\n",
    "train = np.array(train).reshape(-1,12,83,114,1)\n",
    "# X_test = np.array(X_test).reshape(-1,12,83,114,1)"
   ]
  },
  {
   "cell_type": "code",
   "execution_count": 84,
   "metadata": {},
   "outputs": [
    {
     "data": {
      "text/plain": [
       "(27, 12, 83, 114, 1)"
      ]
     },
     "execution_count": 84,
     "metadata": {},
     "output_type": "execute_result"
    }
   ],
   "source": [
    "train.shape"
   ]
  },
  {
   "cell_type": "code",
   "execution_count": 85,
   "metadata": {},
   "outputs": [
    {
     "data": {
      "text/plain": [
       "(12, 83, 114)"
      ]
     },
     "execution_count": 85,
     "metadata": {},
     "output_type": "execute_result"
    }
   ],
   "source": [
    "np.array(test).shape"
   ]
  },
  {
   "cell_type": "code",
   "execution_count": 86,
   "metadata": {},
   "outputs": [
    {
     "data": {
      "text/plain": [
       "array([[[[0.],\n",
       "         [0.],\n",
       "         [0.],\n",
       "         ...,\n",
       "         [0.],\n",
       "         [0.],\n",
       "         [0.]],\n",
       "\n",
       "        [[0.],\n",
       "         [0.],\n",
       "         [0.],\n",
       "         ...,\n",
       "         [0.],\n",
       "         [0.],\n",
       "         [0.]],\n",
       "\n",
       "        [[0.],\n",
       "         [0.],\n",
       "         [0.],\n",
       "         ...,\n",
       "         [0.],\n",
       "         [0.],\n",
       "         [0.]],\n",
       "\n",
       "        ...,\n",
       "\n",
       "        [[0.],\n",
       "         [0.],\n",
       "         [0.],\n",
       "         ...,\n",
       "         [0.],\n",
       "         [0.],\n",
       "         [0.]],\n",
       "\n",
       "        [[0.],\n",
       "         [0.],\n",
       "         [0.],\n",
       "         ...,\n",
       "         [0.],\n",
       "         [0.],\n",
       "         [0.]],\n",
       "\n",
       "        [[0.],\n",
       "         [0.],\n",
       "         [0.],\n",
       "         ...,\n",
       "         [0.],\n",
       "         [0.],\n",
       "         [0.]]],\n",
       "\n",
       "\n",
       "       [[[0.],\n",
       "         [0.],\n",
       "         [0.],\n",
       "         ...,\n",
       "         [0.],\n",
       "         [0.],\n",
       "         [0.]],\n",
       "\n",
       "        [[0.],\n",
       "         [0.],\n",
       "         [0.],\n",
       "         ...,\n",
       "         [0.],\n",
       "         [0.],\n",
       "         [0.]],\n",
       "\n",
       "        [[0.],\n",
       "         [0.],\n",
       "         [0.],\n",
       "         ...,\n",
       "         [0.],\n",
       "         [0.],\n",
       "         [0.]],\n",
       "\n",
       "        ...,\n",
       "\n",
       "        [[0.],\n",
       "         [0.],\n",
       "         [0.],\n",
       "         ...,\n",
       "         [0.],\n",
       "         [0.],\n",
       "         [0.]],\n",
       "\n",
       "        [[0.],\n",
       "         [0.],\n",
       "         [0.],\n",
       "         ...,\n",
       "         [0.],\n",
       "         [0.],\n",
       "         [0.]],\n",
       "\n",
       "        [[0.],\n",
       "         [0.],\n",
       "         [0.],\n",
       "         ...,\n",
       "         [0.],\n",
       "         [0.],\n",
       "         [0.]]],\n",
       "\n",
       "\n",
       "       [[[0.],\n",
       "         [0.],\n",
       "         [0.],\n",
       "         ...,\n",
       "         [0.],\n",
       "         [0.],\n",
       "         [0.]],\n",
       "\n",
       "        [[0.],\n",
       "         [0.],\n",
       "         [0.],\n",
       "         ...,\n",
       "         [0.],\n",
       "         [0.],\n",
       "         [0.]],\n",
       "\n",
       "        [[0.],\n",
       "         [0.],\n",
       "         [0.],\n",
       "         ...,\n",
       "         [0.],\n",
       "         [0.],\n",
       "         [0.]],\n",
       "\n",
       "        ...,\n",
       "\n",
       "        [[0.],\n",
       "         [0.],\n",
       "         [0.],\n",
       "         ...,\n",
       "         [0.],\n",
       "         [0.],\n",
       "         [0.]],\n",
       "\n",
       "        [[0.],\n",
       "         [0.],\n",
       "         [0.],\n",
       "         ...,\n",
       "         [0.],\n",
       "         [0.],\n",
       "         [0.]],\n",
       "\n",
       "        [[0.],\n",
       "         [0.],\n",
       "         [0.],\n",
       "         ...,\n",
       "         [0.],\n",
       "         [0.],\n",
       "         [0.]]],\n",
       "\n",
       "\n",
       "       ...,\n",
       "\n",
       "\n",
       "       [[[0.],\n",
       "         [0.],\n",
       "         [0.],\n",
       "         ...,\n",
       "         [0.],\n",
       "         [0.],\n",
       "         [0.]],\n",
       "\n",
       "        [[0.],\n",
       "         [0.],\n",
       "         [0.],\n",
       "         ...,\n",
       "         [0.],\n",
       "         [0.],\n",
       "         [0.]],\n",
       "\n",
       "        [[0.],\n",
       "         [0.],\n",
       "         [0.],\n",
       "         ...,\n",
       "         [0.],\n",
       "         [0.],\n",
       "         [0.]],\n",
       "\n",
       "        ...,\n",
       "\n",
       "        [[0.],\n",
       "         [0.],\n",
       "         [0.],\n",
       "         ...,\n",
       "         [0.],\n",
       "         [0.],\n",
       "         [0.]],\n",
       "\n",
       "        [[0.],\n",
       "         [0.],\n",
       "         [0.],\n",
       "         ...,\n",
       "         [0.],\n",
       "         [0.],\n",
       "         [0.]],\n",
       "\n",
       "        [[0.],\n",
       "         [0.],\n",
       "         [0.],\n",
       "         ...,\n",
       "         [0.],\n",
       "         [0.],\n",
       "         [0.]]],\n",
       "\n",
       "\n",
       "       [[[0.],\n",
       "         [0.],\n",
       "         [0.],\n",
       "         ...,\n",
       "         [0.],\n",
       "         [0.],\n",
       "         [0.]],\n",
       "\n",
       "        [[0.],\n",
       "         [0.],\n",
       "         [0.],\n",
       "         ...,\n",
       "         [0.],\n",
       "         [0.],\n",
       "         [0.]],\n",
       "\n",
       "        [[0.],\n",
       "         [0.],\n",
       "         [0.],\n",
       "         ...,\n",
       "         [0.],\n",
       "         [0.],\n",
       "         [0.]],\n",
       "\n",
       "        ...,\n",
       "\n",
       "        [[0.],\n",
       "         [0.],\n",
       "         [0.],\n",
       "         ...,\n",
       "         [0.],\n",
       "         [0.],\n",
       "         [0.]],\n",
       "\n",
       "        [[0.],\n",
       "         [0.],\n",
       "         [0.],\n",
       "         ...,\n",
       "         [0.],\n",
       "         [0.],\n",
       "         [0.]],\n",
       "\n",
       "        [[0.],\n",
       "         [0.],\n",
       "         [0.],\n",
       "         ...,\n",
       "         [0.],\n",
       "         [0.],\n",
       "         [0.]]],\n",
       "\n",
       "\n",
       "       [[[0.],\n",
       "         [0.],\n",
       "         [0.],\n",
       "         ...,\n",
       "         [0.],\n",
       "         [0.],\n",
       "         [0.]],\n",
       "\n",
       "        [[0.],\n",
       "         [0.],\n",
       "         [0.],\n",
       "         ...,\n",
       "         [0.],\n",
       "         [0.],\n",
       "         [0.]],\n",
       "\n",
       "        [[0.],\n",
       "         [0.],\n",
       "         [0.],\n",
       "         ...,\n",
       "         [0.],\n",
       "         [0.],\n",
       "         [0.]],\n",
       "\n",
       "        ...,\n",
       "\n",
       "        [[0.],\n",
       "         [0.],\n",
       "         [0.],\n",
       "         ...,\n",
       "         [0.],\n",
       "         [0.],\n",
       "         [0.]],\n",
       "\n",
       "        [[0.],\n",
       "         [0.],\n",
       "         [0.],\n",
       "         ...,\n",
       "         [0.],\n",
       "         [0.],\n",
       "         [0.]],\n",
       "\n",
       "        [[0.],\n",
       "         [0.],\n",
       "         [0.],\n",
       "         ...,\n",
       "         [0.],\n",
       "         [0.],\n",
       "         [0.]]]], dtype=float32)"
      ]
     },
     "execution_count": 86,
     "metadata": {},
     "output_type": "execute_result"
    }
   ],
   "source": [
    "train[0]"
   ]
  },
  {
   "cell_type": "code",
   "execution_count": 87,
   "metadata": {},
   "outputs": [],
   "source": [
    "from keras.models import Sequential\n",
    "from keras.layers.convolutional import Conv3D\n",
    "from keras.layers.convolutional_recurrent import ConvLSTM2D\n",
    "from keras.layers.normalization import BatchNormalization"
   ]
  },
  {
   "cell_type": "code",
   "execution_count": 88,
   "metadata": {},
   "outputs": [],
   "source": [
    "# model ConvLSTM\n",
    "seq = Sequential()\n",
    "\n",
    "seq.add(ConvLSTM2D(filters=32, kernel_size=(1, 1), activation='relu',\n",
    "                   input_shape=(None,83,114,1),\n",
    "                   padding='same', return_sequences=True))\n",
    "seq.add(BatchNormalization())\n",
    "\n",
    "seq.add(ConvLSTM2D(filters=64, kernel_size=(1, 1), activation='relu',\n",
    "                   padding='same', return_sequences=True))\n",
    "seq.add(BatchNormalization())\n",
    "\n",
    "seq.add(ConvLSTM2D(filters=114, kernel_size=(1, 1), activation='sigmoid',\n",
    "                   padding='same', return_sequences=True))\n",
    "seq.add(BatchNormalization())\n",
    "\n",
    "seq.add(Conv3D(filters=1, kernel_size=(1, 1, 1),\n",
    "               activation='relu',\n",
    "               padding='same', data_format='channels_last'))\n",
    "seq.compile(loss='mae', optimizer='adam')"
   ]
  },
  {
   "cell_type": "code",
   "execution_count": 89,
   "metadata": {},
   "outputs": [
    {
     "name": "stdout",
     "output_type": "stream",
     "text": [
      "Model: \"sequential_3\"\n",
      "_________________________________________________________________\n",
      "Layer (type)                 Output Shape              Param #   \n",
      "=================================================================\n",
      "conv_lst_m2d_7 (ConvLSTM2D)  (None, None, 83, 114, 32) 4352      \n",
      "_________________________________________________________________\n",
      "batch_normalization_7 (Batch (None, None, 83, 114, 32) 128       \n",
      "_________________________________________________________________\n",
      "conv_lst_m2d_8 (ConvLSTM2D)  (None, None, 83, 114, 64) 24832     \n",
      "_________________________________________________________________\n",
      "batch_normalization_8 (Batch (None, None, 83, 114, 64) 256       \n",
      "_________________________________________________________________\n",
      "conv_lst_m2d_9 (ConvLSTM2D)  (None, None, 83, 114, 114 81624     \n",
      "_________________________________________________________________\n",
      "batch_normalization_9 (Batch (None, None, 83, 114, 114 456       \n",
      "_________________________________________________________________\n",
      "conv3d_3 (Conv3D)            (None, None, 83, 114, 1)  115       \n",
      "=================================================================\n",
      "Total params: 111,763\n",
      "Trainable params: 111,343\n",
      "Non-trainable params: 420\n",
      "_________________________________________________________________\n"
     ]
    }
   ],
   "source": [
    "seq.summary()"
   ]
  },
  {
   "cell_type": "code",
   "execution_count": 90,
   "metadata": {
    "scrolled": true
   },
   "outputs": [
    {
     "name": "stdout",
     "output_type": "stream",
     "text": [
      "Train on 24 samples, validate on 3 samples\n",
      "Epoch 1/3\n",
      "24/24 [==============================] - 48s 2s/step - loss: 0.1047 - val_loss: 0.0185\n",
      "Epoch 2/3\n",
      "24/24 [==============================] - 46s 2s/step - loss: 0.0202 - val_loss: 0.0185\n",
      "Epoch 3/3\n",
      "24/24 [==============================] - 46s 2s/step - loss: 0.0159 - val_loss: 0.0185\n"
     ]
    },
    {
     "data": {
      "text/plain": [
       "<keras.callbacks.callbacks.History at 0x21007697c18>"
      ]
     },
     "execution_count": 90,
     "metadata": {},
     "output_type": "execute_result"
    }
   ],
   "source": [
    "seq.fit(train, train, batch_size=1,epochs=3, validation_split=0.1)"
   ]
  },
  {
   "cell_type": "code",
   "execution_count": 99,
   "metadata": {},
   "outputs": [],
   "source": [
    "# pred_list =[]\n",
    "\n",
    "# # batch = X_train[-12:].reshape((-1, 12, 83,114,1))\n",
    "# batch = np.array(X_predict).reshape(-1,12,83,114,1)\n",
    "\n",
    "pred_list = []\n",
    "\n",
    "batch = np.array(data_4[-60:-48]).reshape((-1,12,83,114,1))\n",
    "\n",
    "for i in range(0,12):\n",
    "    pred_list.append(seq.predict(batch)[0][i])    \n",
    "    \n",
    "# batch1 = np.array(data_4[-48:-36]).reshape((-1,12,83,114,1))\n",
    "\n",
    "# for i in range(0,12):\n",
    "#     pred_list.append(seq.predict(batch1)[0][i])  \n",
    "    \n",
    "# batch2 = np.array(data_4[-36:-24]).reshape((-1,12,83,114,1))\n",
    "\n",
    "# for i in range(0,12):\n",
    "#     pred_list.append(seq.predict(batch2)[0][i]) \n",
    "    \n",
    "# batch3 = np.array(data_4[-24:-12]).reshape((-1,12,83,114,1))\n",
    "\n",
    "# for i in range(0,12):\n",
    "#     pred_list.append(seq.predict(batch3)[0][i]) \n",
    "\n",
    "# batch4 = np.array(data_4[-12:]).reshape((-1,12,83,114,1))\n",
    "\n",
    "# for i in range(0,12):\n",
    "#     pred_list.append(seq.predict(batch4)[0][i]) "
   ]
  },
  {
   "cell_type": "code",
   "execution_count": 100,
   "metadata": {},
   "outputs": [],
   "source": [
    "pred_list=np.array(pred_list).reshape(-1,9462)\n",
    "pred_list = scaler.inverse_transform(pred_list)"
   ]
  },
  {
   "cell_type": "code",
   "execution_count": 98,
   "metadata": {},
   "outputs": [
    {
     "data": {
      "text/plain": [
       "(1, 12, 83, 114, 1)"
      ]
     },
     "execution_count": 98,
     "metadata": {},
     "output_type": "execute_result"
    }
   ],
   "source": [
    "# pred_list=seq.predict(batch)\n",
    "\n",
    "# pred_list.shape"
   ]
  },
  {
   "cell_type": "code",
   "execution_count": 101,
   "metadata": {},
   "outputs": [],
   "source": [
    "# change dimension\n",
    "pred_list=pred_list.reshape(-1,83,114)"
   ]
  },
  {
   "cell_type": "code",
   "execution_count": 102,
   "metadata": {},
   "outputs": [
    {
     "data": {
      "text/plain": [
       "(12, 83, 114)"
      ]
     },
     "execution_count": 102,
     "metadata": {},
     "output_type": "execute_result"
    }
   ],
   "source": [
    "pred_list.shape"
   ]
  },
  {
   "cell_type": "code",
   "execution_count": 107,
   "metadata": {},
   "outputs": [
    {
     "data": {
      "text/plain": [
       "0.0"
      ]
     },
     "execution_count": 107,
     "metadata": {},
     "output_type": "execute_result"
    }
   ],
   "source": [
    "pred_list[0][82][3]"
   ]
  },
  {
   "cell_type": "code",
   "execution_count": 110,
   "metadata": {},
   "outputs": [],
   "source": [
    "import pandas as pd\n",
    "\n",
    "f= open(\"data.txt\",\"w+\")\n",
    "for i in range(83):\n",
    "    for j in range(114):\n",
    "        f.write(str(pred_list[0][i][j]))\n",
    "    f.write('\\r\\n')\n",
    "        \n",
    "f.close()"
   ]
  },
  {
   "cell_type": "code",
   "execution_count": 111,
   "metadata": {},
   "outputs": [
    {
     "data": {
      "text/plain": [
       "<matplotlib.image.AxesImage at 0x2100ff49978>"
      ]
     },
     "execution_count": 111,
     "metadata": {},
     "output_type": "execute_result"
    },
    {
     "data": {
      "image/png": "[encoded data removed]",
      "text/plain": [
       "<Figure size 432x288 with 1 Axes>"
      ]
     },
     "metadata": {
      "needs_background": "light"
     },
     "output_type": "display_data"
    }
   ],
   "source": [
    "plt.imshow(pred_list[0])"
   ]
  },
  {
   "cell_type": "code",
   "execution_count": 59,
   "metadata": {
    "scrolled": true
   },
   "outputs": [
    {
     "data": {
      "text/plain": [
       "<matplotlib.image.AxesImage at 0x210074dbc18>"
      ]
     },
     "execution_count": 59,
     "metadata": {},
     "output_type": "execute_result"
    },
    {
     "data": {
      "image/png": "[encoded data removed]",
      "text/plain": [
       "<Figure size 432x288 with 1 Axes>"
      ]
     },
     "metadata": {
      "needs_background": "light"
     },
     "output_type": "display_data"
    }
   ],
   "source": [
    "# test=np.squeeze(X_predict[-1:], axis=(4,))\n",
    "plt.imshow(X[0])"
   ]
  },
  {
   "cell_type": "code",
   "execution_count": 49,
   "metadata": {},
   "outputs": [],
   "source": [
    "df_asli=X[-60:]\n",
    "df_asli = np.array(df_asli).reshape(-1,9462)\n",
    "df_asli[df_asli<5]=0"
   ]
  },
  {
   "cell_type": "code",
   "execution_count": 24,
   "metadata": {},
   "outputs": [],
   "source": [
    "# MAE untuk semua data\n",
    "pred_list=np.array(pred_list).reshape(-1,9462)\n",
    "pred_list[pred_list<10]=0\n",
    "pred_list_new=[]\n",
    "df_asli_new=[]\n",
    "no=0\n",
    "# for pred in pred_list:\n",
    "#     pred_list_new.append(list(filter(lambda x: x != 0, pred_list[no])))\n",
    "#     df_asli_new.append(list(filter(lambda x: x != 0, df_asli[no])))\n",
    "#     no+=1\n",
    "    \n",
    "# pred_list_new=np.array(pred_list_new)\n",
    "# df_asli_new=np.array(df_asli_new)\n",
    "\n",
    "mae=[]\n",
    "no=0\n",
    "for pred1 in pred_list:\n",
    "    mae_ = df_asli[no]-pred1\n",
    "    mae_=(list(filter(lambda x: x != 0, mae_)))\n",
    "    mae_ = np.average(mae_)\n",
    "    mae.append(mae_)\n",
    "    no+=1"
   ]
  },
  {
   "cell_type": "code",
   "execution_count": 25,
   "metadata": {},
   "outputs": [
    {
     "data": {
      "text/plain": [
       "[31.334848,\n",
       " 29.99653,\n",
       " 29.63623,\n",
       " 29.085732,\n",
       " 30.011528,\n",
       " 29.64352,\n",
       " 30.82745,\n",
       " 30.177841,\n",
       " 29.639706,\n",
       " 30.32503,\n",
       " 30.880247,\n",
       " 31.806211,\n",
       " 30.669863,\n",
       " 29.633335,\n",
       " 29.547937,\n",
       " 30.052494,\n",
       " 30.369568,\n",
       " 30.163286,\n",
       " 29.766775,\n",
       " 29.551134,\n",
       " 28.981064,\n",
       " 30.152018,\n",
       " 30.588184,\n",
       " 31.61113,\n",
       " 28.717209,\n",
       " 28.599314,\n",
       " 29.432047,\n",
       " 30.333246,\n",
       " 30.349848,\n",
       " 30.60727,\n",
       " 30.426474,\n",
       " 29.349894,\n",
       " 30.326189,\n",
       " 30.782469,\n",
       " 31.780468,\n",
       " 30.911684,\n",
       " 29.445574,\n",
       " 29.648788,\n",
       " 30.144518,\n",
       " 30.066677,\n",
       " 30.65963,\n",
       " 30.109915,\n",
       " 29.599026,\n",
       " 30.322515,\n",
       " 30.681152,\n",
       " 31.80031,\n",
       " 31.570414,\n",
       " 30.384956,\n",
       " 30.645473,\n",
       " 30.11118,\n",
       " 30.997614,\n",
       " 30.653616,\n",
       " 30.675169,\n",
       " 30.543276,\n",
       " 29.918377,\n",
       " 30.565548,\n",
       " 30.786732,\n",
       " 30.653025,\n",
       " 29.704332,\n",
       " 29.00742]"
      ]
     },
     "execution_count": 25,
     "metadata": {},
     "output_type": "execute_result"
    }
   ],
   "source": [
    "mae"
   ]
  },
  {
   "cell_type": "code",
   "execution_count": 26,
   "metadata": {},
   "outputs": [],
   "source": [
    "from skimage import io\n",
    "# io.imsave('bulan_.tif', prediksi[0][0])"
   ]
  },
  {
   "cell_type": "code",
   "execution_count": 23,
   "metadata": {},
   "outputs": [
    {
     "data": {
      "text/plain": [
       "[Timestamp('2012-01-01 00:00:00'),\n",
       " Timestamp('2012-02-01 00:00:00'),\n",
       " Timestamp('2012-03-01 00:00:00'),\n",
       " Timestamp('2012-04-01 00:00:00'),\n",
       " Timestamp('2012-05-01 00:00:00'),\n",
       " Timestamp('2012-06-01 00:00:00'),\n",
       " Timestamp('2012-07-01 00:00:00'),\n",
       " Timestamp('2012-08-01 00:00:00'),\n",
       " Timestamp('2012-09-01 00:00:00'),\n",
       " Timestamp('2012-10-01 00:00:00'),\n",
       " Timestamp('2012-11-01 00:00:00'),\n",
       " Timestamp('2012-12-01 00:00:00'),\n",
       " Timestamp('2013-01-01 00:00:00'),\n",
       " Timestamp('2013-02-01 00:00:00'),\n",
       " Timestamp('2013-03-01 00:00:00'),\n",
       " Timestamp('2013-04-01 00:00:00'),\n",
       " Timestamp('2013-05-01 00:00:00'),\n",
       " Timestamp('2013-06-01 00:00:00'),\n",
       " Timestamp('2013-07-01 00:00:00'),\n",
       " Timestamp('2013-08-01 00:00:00'),\n",
       " Timestamp('2013-09-01 00:00:00'),\n",
       " Timestamp('2013-10-01 00:00:00'),\n",
       " Timestamp('2013-11-01 00:00:00'),\n",
       " Timestamp('2013-12-01 00:00:00'),\n",
       " Timestamp('2014-01-01 00:00:00'),\n",
       " Timestamp('2014-02-01 00:00:00'),\n",
       " Timestamp('2014-03-01 00:00:00'),\n",
       " Timestamp('2014-04-01 00:00:00'),\n",
       " Timestamp('2014-05-01 00:00:00'),\n",
       " Timestamp('2014-06-01 00:00:00'),\n",
       " Timestamp('2014-07-01 00:00:00'),\n",
       " Timestamp('2014-08-01 00:00:00'),\n",
       " Timestamp('2014-09-01 00:00:00'),\n",
       " Timestamp('2014-10-01 00:00:00'),\n",
       " Timestamp('2014-11-01 00:00:00'),\n",
       " Timestamp('2014-12-01 00:00:00'),\n",
       " Timestamp('2015-01-01 00:00:00'),\n",
       " Timestamp('2015-02-01 00:00:00'),\n",
       " Timestamp('2015-03-01 00:00:00'),\n",
       " Timestamp('2015-04-01 00:00:00'),\n",
       " Timestamp('2015-05-01 00:00:00'),\n",
       " Timestamp('2015-06-01 00:00:00'),\n",
       " Timestamp('2015-07-01 00:00:00'),\n",
       " Timestamp('2015-08-01 00:00:00'),\n",
       " Timestamp('2015-09-01 00:00:00'),\n",
       " Timestamp('2015-10-01 00:00:00'),\n",
       " Timestamp('2015-11-01 00:00:00'),\n",
       " Timestamp('2015-12-01 00:00:00'),\n",
       " Timestamp('2016-01-01 00:00:00'),\n",
       " Timestamp('2016-02-01 00:00:00'),\n",
       " Timestamp('2016-03-01 00:00:00'),\n",
       " Timestamp('2016-04-01 00:00:00'),\n",
       " Timestamp('2016-05-01 00:00:00'),\n",
       " Timestamp('2016-06-01 00:00:00'),\n",
       " Timestamp('2016-07-01 00:00:00'),\n",
       " Timestamp('2016-08-01 00:00:00'),\n",
       " Timestamp('2016-09-01 00:00:00'),\n",
       " Timestamp('2016-10-01 00:00:00'),\n",
       " Timestamp('2016-11-01 00:00:00'),\n",
       " Timestamp('2016-12-01 00:00:00')]"
      ]
     },
     "execution_count": 23,
     "metadata": {},
     "output_type": "execute_result"
    }
   ],
   "source": [
    "import pandas as pd\n",
    "awal = \"2012-1\"\n",
    "awal = pd.to_datetime(awal)\n",
    "from pandas.tseries.offsets import DateOffset\n",
    "add_dates = [awal + DateOffset(months=x) for x in range(0,60) ]\n",
    "add_dates"
   ]
  },
  {
   "cell_type": "code",
   "execution_count": 28,
   "metadata": {},
   "outputs": [
    {
     "data": {
      "text/plain": [
       "60"
      ]
     },
     "execution_count": 28,
     "metadata": {},
     "output_type": "execute_result"
    }
   ],
   "source": [
    "len(add_dates)\n"
   ]
  },
  {
   "cell_type": "code",
   "execution_count": 29,
   "metadata": {},
   "outputs": [
    {
     "ename": "NameError",
     "evalue": "name 'Pred_rata' is not defined",
     "output_type": "error",
     "traceback": [
      "\u001b[1;31m---------------------------------------------------------------------------\u001b[0m",
      "\u001b[1;31mNameError\u001b[0m                                 Traceback (most recent call last)",
      "\u001b[1;32m<ipython-input-29-209d0624965e>\u001b[0m in \u001b[0;36m<module>\u001b[1;34m\u001b[0m\n\u001b[1;32m----> 1\u001b[1;33m \u001b[0mlen\u001b[0m\u001b[1;33m(\u001b[0m\u001b[0mPred_rata\u001b[0m\u001b[1;33m)\u001b[0m\u001b[1;33m\u001b[0m\u001b[1;33m\u001b[0m\u001b[0m\n\u001b[0m",
      "\u001b[1;31mNameError\u001b[0m: name 'Pred_rata' is not defined"
     ]
    }
   ],
   "source": [
    "len(Pred_rata)"
   ]
  },
  {
   "cell_type": "code",
   "execution_count": null,
   "metadata": {},
   "outputs": [],
   "source": [
    "len(df_asli_rata)"
   ]
  },
  {
   "cell_type": "code",
   "execution_count": null,
   "metadata": {},
   "outputs": [],
   "source": [
    "dict = {'bulan': add_dates, 'data ':mae}\n",
    "df = pd.DataFrame(dict)"
   ]
  },
  {
   "cell_type": "code",
   "execution_count": null,
   "metadata": {},
   "outputs": [],
   "source": [
    "df"
   ]
  },
  {
   "cell_type": "code",
   "execution_count": null,
   "metadata": {},
   "outputs": [],
   "source": [
    "df = df.set_index(\"bulan\")\n",
    "plt.figure(figsize=(20, 5))\n",
    "plt.plot(df.index,df)"
   ]
  },
  {
   "cell_type": "code",
   "execution_count": null,
   "metadata": {},
   "outputs": [],
   "source": [
    "dict = {'bulan': add_dates, 'data prediksi':Pred_rata, 'data asli':df_asli_rata}\n",
    "df = pd.DataFrame(dict)\n",
    "df\n"
   ]
  },
  {
   "cell_type": "code",
   "execution_count": null,
   "metadata": {},
   "outputs": [],
   "source": [
    "# df_asli = data_4\n",
    "df = df.set_index(\"bulan\")\n",
    "plt.figure(figsize=(20, 5))\n",
    "plt.plot(df.index, df_asli_rata[-60:], color='b', label=\"observasi\")\n",
    "plt.plot(df.index, Pred_rata[-60:], color='r', label=\"prediksi\")\n",
    "plt.legend(loc='best', fontsize='xx-large')\n",
    "plt.xticks(fontsize=18)\n",
    "plt.yticks(fontsize=16)\n",
    "plt.show()"
   ]
  },
  {
   "cell_type": "code",
   "execution_count": null,
   "metadata": {},
   "outputs": [],
   "source": [
    "import statsmodels.tsa.api as smt\n",
    "\n",
    "acf = smt.graphics.plot_acf(mae, lags=12 , alpha=0.05)\n",
    "acf.show()"
   ]
  },
  {
   "cell_type": "code",
   "execution_count": null,
   "metadata": {},
   "outputs": [],
   "source": [
    "pacf = smt.graphics.plot_pacf(mae, lags=12 , alpha=0.05)\n",
    "pacf.show()"
   ]
  },
  {
   "cell_type": "code",
   "execution_count": 50,
   "metadata": {},
   "outputs": [],
   "source": [
    "from skimage import io\n",
    "prediksi[prediksi==-1]=-9999"
   ]
  },
  {
   "cell_type": "code",
   "execution_count": 51,
   "metadata": {},
   "outputs": [
    {
     "name": "stderr",
     "output_type": "stream",
     "text": [
      "c:\\users\\komputer3\\miniconda3\\envs\\ml1\\lib\\site-packages\\ipykernel_launcher.py:8: UserWarning: Raster/201201.tif is a low contrast image\n",
      "  \n"
     ]
    },
    {
     "data": {
      "text/plain": [
       "'Raster/201201.tif'"
      ]
     },
     "execution_count": 51,
     "metadata": {},
     "output_type": "execute_result"
    }
   ],
   "source": [
    "no=0\n",
    "for pred in prediksi:\n",
    "    if(add_dates[no].month<10):\n",
    "        nama_file = 'Raster/'+str(add_dates[no].year)+'0'+str(add_dates[no].month)+'.tif'\n",
    "    else:\n",
    "        nama_file = 'Raster/'+str(add_dates[no].year)+str(add_dates[no].month)+'.tif'\n",
    "            \n",
    "    io.imsave(nama_file, prediksi[no])\n",
    "    no+=1\n",
    "nama_file"
   ]
  },
  {
   "cell_type": "code",
   "execution_count": 23,
   "metadata": {},
   "outputs": [],
   "source": [
    "# pickle_out =open(\"prediksi.pickle\",'wb')\n",
    "# pickle.dump(prediksi[0][0], pickle_out)\n",
    "# pickle_out.close()"
   ]
  },
  {
   "cell_type": "code",
   "execution_count": null,
   "metadata": {},
   "outputs": [],
   "source": []
  }
 ],
 "metadata": {
  "kernelspec": {
   "display_name": "Python 3",
   "language": "python",
   "name": "python3"
  },
  "language_info": {
   "codemirror_mode": {
    "name": "ipython",
    "version": 3
   },
   "file_extension": ".py",
   "mimetype": "text/x-python",
   "name": "python",
   "nbconvert_exporter": "python",
   "pygments_lexer": "ipython3",
   "version": "3.7.3"
  }
 },
 "nbformat": 4,
 "nbformat_minor": 4
}
