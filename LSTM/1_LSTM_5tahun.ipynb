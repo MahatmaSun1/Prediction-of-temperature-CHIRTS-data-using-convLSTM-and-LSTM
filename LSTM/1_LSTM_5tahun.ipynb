{
 "cells": [
  {
   "cell_type": "code",
   "execution_count": 90,
   "metadata": {},
   "outputs": [],
   "source": [
    "import numpy as np\n",
    "import pandas as pd\n",
    "import matplotlib.pyplot as plt\n",
    "%matplotlib inline\n",
    "from sklearn.preprocessing import MinMaxScaler\n",
    "from tensorflow.keras.preprocessing.sequence import TimeseriesGenerator\n",
    "from tensorflow.keras.models import Sequential\n",
    "from tensorflow.keras.layers import Dense\n",
    "from tensorflow.keras.layers import LSTM\n",
    "from tensorflow.keras.layers import Dropout, Embedding, TimeDistributed\n",
    "from keras.initializers import RandomNormal\n",
    "# from keras.layers import Conv1D, MaxPooling2D\n",
    "import warnings\n",
    "import pickle\n",
    "warnings.filterwarnings(\"ignore\")"
   ]
  },
  {
   "cell_type": "code",
   "execution_count": 91,
   "metadata": {},
   "outputs": [
    {
     "data": {
      "text/plain": [
       "<matplotlib.image.AxesImage at 0x1f85d2c9a20>"
      ]
     },
     "execution_count": 91,
     "metadata": {},
     "output_type": "execute_result"
    },
    {
     "data": {
      "image/png": "[encoded data removed]",
      "text/plain": [
       "<Figure size 432x288 with 1 Axes>"
      ]
     },
     "metadata": {
      "needs_background": "light"
     },
     "output_type": "display_data"
    }
   ],
   "source": [
    "pickle_in = open(\"../Data_error/error_flatten.pickle\",\"rb\")\n",
    "# data diload sudah dalam bentuk 1D\n",
    "X = pickle.load(pickle_in)\n",
    "# untuk menampilkan gambar data 1D -> 2D\n",
    "plt.imshow(X[0].reshape(83,114))"
   ]
  },
  {
   "cell_type": "code",
   "execution_count": 92,
   "metadata": {},
   "outputs": [
    {
     "data": {
      "text/plain": [
       "(396, 9462)"
      ]
     },
     "execution_count": 92,
     "metadata": {},
     "output_type": "execute_result"
    }
   ],
   "source": [
    "np.array(X).shape"
   ]
  },
  {
   "cell_type": "code",
   "execution_count": 93,
   "metadata": {},
   "outputs": [],
   "source": [
    "df = X\n",
    "data_1 = df[:-48]\n",
    "data_2 = df[:-36]\n",
    "data_3 = df[:-24]\n",
    "data_4 = df[:-12]\n",
    "data_5 = df\n",
    "# data tahun 1983-2011\n",
    "df=df[:-60]"
   ]
  },
  {
   "cell_type": "code",
   "execution_count": 94,
   "metadata": {},
   "outputs": [],
   "source": [
    "# train -> data 1983-2011\n",
    "train, test = df[-240:], df[-24:]"
   ]
  },
  {
   "cell_type": "code",
   "execution_count": 95,
   "metadata": {},
   "outputs": [
    {
     "data": {
      "text/plain": [
       "20.0"
      ]
     },
     "execution_count": 95,
     "metadata": {},
     "output_type": "execute_result"
    }
   ],
   "source": [
    "np.array(train).shape[0]/12"
   ]
  },
  {
   "cell_type": "code",
   "execution_count": 96,
   "metadata": {},
   "outputs": [],
   "source": [
    "scaler = MinMaxScaler()\n",
    "scaler.fit(train)\n",
    "scaler.fit(data_4)\n",
    "scaler.fit(test)\n",
    "train = scaler.transform(train)\n",
    "data_4 = scaler.transform(data_4)\n",
    "test = scaler.transform(test)"
   ]
  },
  {
   "cell_type": "code",
   "execution_count": 97,
   "metadata": {},
   "outputs": [],
   "source": [
    "n_input = 12\n",
    "n_features = 9462\n",
    "batch_size=12\n",
    "# supervised data\n",
    "generator = TimeseriesGenerator(train, train, length=n_input, batch_size=batch_size)\n",
    "validation_sequence = TimeseriesGenerator(test, test, length=n_input, batch_size=batch_size)"
   ]
  },
  {
   "cell_type": "code",
   "execution_count": 98,
   "metadata": {},
   "outputs": [],
   "source": [
    "import tensorflow.compat.v1 as tf\n",
    "tf.disable_v2_behavior()\n",
    "model = Sequential()\n",
    "model.add(LSTM(10, activation='relu', kernel_initializer=RandomNormal(mean=0.0, stddev=0.05, seed=1), unit_forget_bias='zeros', input_shape=(n_input, n_features), return_sequences=True))\n",
    "model.add(LSTM(20, activation='relu', kernel_initializer=RandomNormal(mean=0.0, stddev=0.05, seed=1), unit_forget_bias='zeros', return_sequences=True))\n",
    "model.add(Dropout(0.2))\n",
    "model.add(LSTM(30, activation='relu', kernel_initializer=RandomNormal(mean=0.0, stddev=0.05, seed=1), unit_forget_bias='zeros', return_sequences=False))\n",
    "model.add(Dropout(0.2))\n",
    "model.add(Dense(40, activation='sigmoid', kernel_initializer=RandomNormal(mean=0.0, stddev=0.05, seed=1)))\n",
    "model.add(Dropout(0.2))\n",
    "model.add(Dense(50, activation='sigmoid', kernel_initializer=RandomNormal(mean=0.0, stddev=0.05, seed=1)))\n",
    "model.add(Dropout(0.2))\n",
    "model.add(Dense(60, activation='sigmoid', kernel_initializer=RandomNormal(mean=0.0, stddev=0.05, seed=1)))\n",
    "model.add(Dropout(0.2))\n",
    "model.add(Dense(n_features, activation='sigmoid', kernel_initializer=RandomNormal(mean=0.0, stddev=0.05, seed=1)))\n",
    "model.compile(optimizer='adam', loss='mae', metrics=['mae'])"
   ]
  },
  {
   "cell_type": "code",
   "execution_count": 99,
   "metadata": {},
   "outputs": [
    {
     "name": "stdout",
     "output_type": "stream",
     "text": [
      "Model: \"sequential_2\"\n",
      "_________________________________________________________________\n",
      "Layer (type)                 Output Shape              Param #   \n",
      "=================================================================\n",
      "lstm_6 (LSTM)                (None, 12, 10)            378920    \n",
      "_________________________________________________________________\n",
      "lstm_7 (LSTM)                (None, 12, 20)            2480      \n",
      "_________________________________________________________________\n",
      "dropout_10 (Dropout)         (None, 12, 20)            0         \n",
      "_________________________________________________________________\n",
      "lstm_8 (LSTM)                (None, 30)                6120      \n",
      "_________________________________________________________________\n",
      "dropout_11 (Dropout)         (None, 30)                0         \n",
      "_________________________________________________________________\n",
      "dense_8 (Dense)              (None, 40)                1240      \n",
      "_________________________________________________________________\n",
      "dropout_12 (Dropout)         (None, 40)                0         \n",
      "_________________________________________________________________\n",
      "dense_9 (Dense)              (None, 50)                2050      \n",
      "_________________________________________________________________\n",
      "dropout_13 (Dropout)         (None, 50)                0         \n",
      "_________________________________________________________________\n",
      "dense_10 (Dense)             (None, 60)                3060      \n",
      "_________________________________________________________________\n",
      "dropout_14 (Dropout)         (None, 60)                0         \n",
      "_________________________________________________________________\n",
      "dense_11 (Dense)             (None, 9462)              577182    \n",
      "=================================================================\n",
      "Total params: 971,052\n",
      "Trainable params: 971,052\n",
      "Non-trainable params: 0\n",
      "_________________________________________________________________\n"
     ]
    }
   ],
   "source": [
    "model.summary()"
   ]
  },
  {
   "cell_type": "code",
   "execution_count": 100,
   "metadata": {},
   "outputs": [
    {
     "name": "stdout",
     "output_type": "stream",
     "text": [
      "Epoch 1/90\n",
      "19/19 [==============================] - 2s 97ms/step - loss: 0.4166 - mean_absolute_error: 0.4166\n",
      "Epoch 2/90\n",
      "19/19 [==============================] - 1s 28ms/step - loss: 0.2602 - mean_absolute_error: 0.2602\n",
      "Epoch 3/90\n",
      "19/19 [==============================] - 1s 29ms/step - loss: 0.1279 - mean_absolute_error: 0.1279\n",
      "Epoch 4/90\n",
      "19/19 [==============================] - 1s 29ms/step - loss: 0.0760 - mean_absolute_error: 0.0760\n",
      "Epoch 5/90\n",
      "19/19 [==============================] - 1s 28ms/step - loss: 0.0612 - mean_absolute_error: 0.0612\n",
      "Epoch 6/90\n",
      "19/19 [==============================] - 1s 29ms/step - loss: 0.0551 - mean_absolute_error: 0.0551\n",
      "Epoch 7/90\n",
      "19/19 [==============================] - 1s 29ms/step - loss: 0.0512 - mean_absolute_error: 0.0512\n",
      "Epoch 8/90\n",
      "19/19 [==============================] - 1s 30ms/step - loss: 0.0479 - mean_absolute_error: 0.0479\n",
      "Epoch 9/90\n",
      "19/19 [==============================] - 1s 29ms/step - loss: 0.0469 - mean_absolute_error: 0.0469\n",
      "Epoch 10/90\n",
      "19/19 [==============================] - 1s 30ms/step - loss: 0.0456 - mean_absolute_error: 0.0456\n",
      "Epoch 11/90\n",
      "19/19 [==============================] - 1s 29ms/step - loss: 0.0446 - mean_absolute_error: 0.0446\n",
      "Epoch 12/90\n",
      "19/19 [==============================] - 1s 30ms/step - loss: 0.0441 - mean_absolute_error: 0.0441\n",
      "Epoch 13/90\n",
      "19/19 [==============================] - 1s 30ms/step - loss: 0.0434 - mean_absolute_error: 0.0434\n",
      "Epoch 14/90\n",
      "19/19 [==============================] - 1s 29ms/step - loss: 0.0426 - mean_absolute_error: 0.0426\n",
      "Epoch 15/90\n",
      "19/19 [==============================] - 1s 28ms/step - loss: 0.0423 - mean_absolute_error: 0.0423\n",
      "Epoch 16/90\n",
      "19/19 [==============================] - 1s 29ms/step - loss: 0.0420 - mean_absolute_error: 0.0420\n",
      "Epoch 17/90\n",
      "19/19 [==============================] - 1s 29ms/step - loss: 0.0416 - mean_absolute_error: 0.0416\n",
      "Epoch 18/90\n",
      "19/19 [==============================] - 1s 29ms/step - loss: 0.0412 - mean_absolute_error: 0.0412\n",
      "Epoch 19/90\n",
      "19/19 [==============================] - 1s 28ms/step - loss: 0.0411 - mean_absolute_error: 0.0411\n",
      "Epoch 20/90\n",
      "19/19 [==============================] - 1s 29ms/step - loss: 0.0410 - mean_absolute_error: 0.0410\n",
      "Epoch 21/90\n",
      "19/19 [==============================] - 1s 29ms/step - loss: 0.0406 - mean_absolute_error: 0.0406\n",
      "Epoch 22/90\n",
      "19/19 [==============================] - 1s 29ms/step - loss: 0.0404 - mean_absolute_error: 0.0404\n",
      "Epoch 23/90\n",
      "19/19 [==============================] - 1s 28ms/step - loss: 0.0404 - mean_absolute_error: 0.0404\n",
      "Epoch 24/90\n",
      "19/19 [==============================] - 1s 27ms/step - loss: 0.0403 - mean_absolute_error: 0.0403\n",
      "Epoch 25/90\n",
      "19/19 [==============================] - 1s 28ms/step - loss: 0.0400 - mean_absolute_error: 0.0400\n",
      "Epoch 26/90\n",
      "19/19 [==============================] - 1s 28ms/step - loss: 0.0398 - mean_absolute_error: 0.0398\n",
      "Epoch 27/90\n",
      "19/19 [==============================] - 1s 28ms/step - loss: 0.0399 - mean_absolute_error: 0.0399\n",
      "Epoch 28/90\n",
      "19/19 [==============================] - 1s 28ms/step - loss: 0.0398 - mean_absolute_error: 0.0398\n",
      "Epoch 29/90\n",
      "19/19 [==============================] - 1s 35ms/step - loss: 0.0396 - mean_absolute_error: 0.0396\n",
      "Epoch 30/90\n",
      "19/19 [==============================] - 1s 34ms/step - loss: 0.0397 - mean_absolute_error: 0.0397\n",
      "Epoch 31/90\n",
      "19/19 [==============================] - 1s 36ms/step - loss: 0.0395 - mean_absolute_error: 0.0395\n",
      "Epoch 32/90\n",
      "19/19 [==============================] - 1s 36ms/step - loss: 0.0395 - mean_absolute_error: 0.0395\n",
      "Epoch 33/90\n",
      "19/19 [==============================] - 1s 35ms/step - loss: 0.0395 - mean_absolute_error: 0.0395\n",
      "Epoch 34/90\n",
      "19/19 [==============================] - 1s 35ms/step - loss: 0.0395 - mean_absolute_error: 0.0395\n",
      "Epoch 35/90\n",
      "19/19 [==============================] - 1s 36ms/step - loss: 0.0393 - mean_absolute_error: 0.0393\n",
      "Epoch 36/90\n",
      "19/19 [==============================] - 1s 35ms/step - loss: 0.0393 - mean_absolute_error: 0.0393\n",
      "Epoch 37/90\n",
      "19/19 [==============================] - 1s 35ms/step - loss: 0.0393 - mean_absolute_error: 0.0393\n",
      "Epoch 38/90\n",
      "19/19 [==============================] - 1s 35ms/step - loss: 0.0392 - mean_absolute_error: 0.0392\n",
      "Epoch 39/90\n",
      "19/19 [==============================] - 1s 35ms/step - loss: 0.0391 - mean_absolute_error: 0.0391\n",
      "Epoch 40/90\n",
      "19/19 [==============================] - 1s 35ms/step - loss: 0.0392 - mean_absolute_error: 0.0392\n",
      "Epoch 41/90\n",
      "19/19 [==============================] - 1s 35ms/step - loss: 0.0391 - mean_absolute_error: 0.0391\n",
      "Epoch 42/90\n",
      "19/19 [==============================] - 1s 36ms/step - loss: 0.0391 - mean_absolute_error: 0.0391\n",
      "Epoch 43/90\n",
      "19/19 [==============================] - 1s 35ms/step - loss: 0.0391 - mean_absolute_error: 0.0391\n",
      "Epoch 44/90\n",
      "19/19 [==============================] - 1s 35ms/step - loss: 0.0390 - mean_absolute_error: 0.0390\n",
      "Epoch 45/90\n",
      "19/19 [==============================] - 1s 35ms/step - loss: 0.0390 - mean_absolute_error: 0.0390\n",
      "Epoch 46/90\n",
      "19/19 [==============================] - 1s 35ms/step - loss: 0.0390 - mean_absolute_error: 0.0390\n",
      "Epoch 47/90\n",
      "19/19 [==============================] - 1s 35ms/step - loss: 0.0390 - mean_absolute_error: 0.0390\n",
      "Epoch 48/90\n",
      "19/19 [==============================] - 1s 35ms/step - loss: 0.0388 - mean_absolute_error: 0.0388\n",
      "Epoch 49/90\n",
      "19/19 [==============================] - 1s 35ms/step - loss: 0.0389 - mean_absolute_error: 0.0389\n",
      "Epoch 50/90\n",
      "19/19 [==============================] - 1s 35ms/step - loss: 0.0389 - mean_absolute_error: 0.0389\n",
      "Epoch 51/90\n",
      "19/19 [==============================] - 1s 36ms/step - loss: 0.0388 - mean_absolute_error: 0.0388\n",
      "Epoch 52/90\n",
      "19/19 [==============================] - 1s 35ms/step - loss: 0.0389 - mean_absolute_error: 0.0389\n",
      "Epoch 53/90\n",
      "19/19 [==============================] - 1s 35ms/step - loss: 0.0388 - mean_absolute_error: 0.0388\n",
      "Epoch 54/90\n",
      "19/19 [==============================] - 1s 36ms/step - loss: 0.0389 - mean_absolute_error: 0.0389\n",
      "Epoch 55/90\n",
      "19/19 [==============================] - 1s 35ms/step - loss: 0.0388 - mean_absolute_error: 0.0388\n",
      "Epoch 56/90\n",
      "19/19 [==============================] - 1s 35ms/step - loss: 0.0388 - mean_absolute_error: 0.0388\n",
      "Epoch 57/90\n",
      "19/19 [==============================] - 1s 36ms/step - loss: 0.0388 - mean_absolute_error: 0.0388\n",
      "Epoch 58/90\n",
      "19/19 [==============================] - 1s 35ms/step - loss: 0.0387 - mean_absolute_error: 0.0387\n",
      "Epoch 59/90\n",
      "19/19 [==============================] - 1s 35ms/step - loss: 0.0388 - mean_absolute_error: 0.0388\n",
      "Epoch 60/90\n",
      "19/19 [==============================] - 1s 35ms/step - loss: 0.0388 - mean_absolute_error: 0.0388\n",
      "Epoch 61/90\n",
      "19/19 [==============================] - 1s 36ms/step - loss: 0.0388 - mean_absolute_error: 0.0388\n",
      "Epoch 62/90\n",
      "19/19 [==============================] - 1s 36ms/step - loss: 0.0386 - mean_absolute_error: 0.0386\n",
      "Epoch 63/90\n",
      "19/19 [==============================] - 1s 35ms/step - loss: 0.0387 - mean_absolute_error: 0.0387\n",
      "Epoch 64/90\n",
      "19/19 [==============================] - 1s 35ms/step - loss: 0.0387 - mean_absolute_error: 0.0387\n",
      "Epoch 65/90\n",
      "19/19 [==============================] - 1s 35ms/step - loss: 0.0385 - mean_absolute_error: 0.0385\n",
      "Epoch 66/90\n",
      "19/19 [==============================] - 1s 36ms/step - loss: 0.0387 - mean_absolute_error: 0.0387\n",
      "Epoch 67/90\n",
      "19/19 [==============================] - 1s 35ms/step - loss: 0.0386 - mean_absolute_error: 0.0386\n",
      "Epoch 68/90\n",
      "19/19 [==============================] - 1s 35ms/step - loss: 0.0387 - mean_absolute_error: 0.0387\n",
      "Epoch 69/90\n",
      "19/19 [==============================] - 1s 36ms/step - loss: 0.0386 - mean_absolute_error: 0.0386\n",
      "Epoch 70/90\n",
      "19/19 [==============================] - 1s 31ms/step - loss: 0.0386 - mean_absolute_error: 0.0386\n",
      "Epoch 71/90\n",
      "19/19 [==============================] - 1s 29ms/step - loss: 0.0387 - mean_absolute_error: 0.0387\n",
      "Epoch 72/90\n",
      "19/19 [==============================] - 1s 33ms/step - loss: 0.0387 - mean_absolute_error: 0.0387\n",
      "Epoch 73/90\n",
      "19/19 [==============================] - 1s 35ms/step - loss: 0.0386 - mean_absolute_error: 0.0386\n",
      "Epoch 74/90\n"
     ]
    },
    {
     "name": "stdout",
     "output_type": "stream",
     "text": [
      "19/19 [==============================] - 1s 35ms/step - loss: 0.0387 - mean_absolute_error: 0.0387\n",
      "Epoch 75/90\n",
      "19/19 [==============================] - 1s 36ms/step - loss: 0.0386 - mean_absolute_error: 0.0386\n",
      "Epoch 76/90\n",
      "19/19 [==============================] - 1s 35ms/step - loss: 0.0386 - mean_absolute_error: 0.0386\n",
      "Epoch 77/90\n",
      "19/19 [==============================] - 1s 37ms/step - loss: 0.0385 - mean_absolute_error: 0.0385\n",
      "Epoch 78/90\n",
      "19/19 [==============================] - 1s 35ms/step - loss: 0.0386 - mean_absolute_error: 0.0386\n",
      "Epoch 79/90\n",
      "19/19 [==============================] - 1s 35ms/step - loss: 0.0386 - mean_absolute_error: 0.0386\n",
      "Epoch 80/90\n",
      "19/19 [==============================] - 1s 32ms/step - loss: 0.0386 - mean_absolute_error: 0.0386\n",
      "Epoch 81/90\n",
      "19/19 [==============================] - 1s 35ms/step - loss: 0.0386 - mean_absolute_error: 0.0386\n",
      "Epoch 82/90\n",
      "19/19 [==============================] - 1s 35ms/step - loss: 0.0385 - mean_absolute_error: 0.0385\n",
      "Epoch 83/90\n",
      "19/19 [==============================] - 1s 36ms/step - loss: 0.0386 - mean_absolute_error: 0.0386\n",
      "Epoch 84/90\n",
      "19/19 [==============================] - 1s 35ms/step - loss: 0.0386 - mean_absolute_error: 0.0386\n",
      "Epoch 85/90\n",
      "19/19 [==============================] - 1s 35ms/step - loss: 0.0386 - mean_absolute_error: 0.0386\n",
      "Epoch 86/90\n",
      "19/19 [==============================] - 1s 35ms/step - loss: 0.0385 - mean_absolute_error: 0.0385\n",
      "Epoch 87/90\n",
      "19/19 [==============================] - 1s 35ms/step - loss: 0.0384 - mean_absolute_error: 0.0384\n",
      "Epoch 88/90\n",
      "19/19 [==============================] - 1s 36ms/step - loss: 0.0385 - mean_absolute_error: 0.0385\n",
      "Epoch 89/90\n",
      "19/19 [==============================] - ETA: 0s - loss: 0.0395 - mean_absolute_error: 0.039 - 1s 36ms/step - loss: 0.0385 - mean_absolute_error: 0.0385\n",
      "Epoch 90/90\n",
      "19/19 [==============================] - 1s 36ms/step - loss: 0.0384 - mean_absolute_error: 0.0384\n"
     ]
    },
    {
     "data": {
      "text/plain": [
       "<tensorflow.python.keras.callbacks.History at 0x1f85d301f60>"
      ]
     },
     "execution_count": 100,
     "metadata": {},
     "output_type": "execute_result"
    }
   ],
   "source": [
    "model.fit_generator(generator,epochs=90)"
   ]
  },
  {
   "cell_type": "code",
   "execution_count": 101,
   "metadata": {},
   "outputs": [
    {
     "data": {
      "text/plain": [
       "[0.04401629790663719, 0.044016298]"
      ]
     },
     "execution_count": 101,
     "metadata": {},
     "output_type": "execute_result"
    }
   ],
   "source": [
    "model.evaluate_generator(validation_sequence)"
   ]
  },
  {
   "cell_type": "code",
   "execution_count": 102,
   "metadata": {
    "scrolled": true
   },
   "outputs": [
    {
     "data": {
      "text/plain": [
       "array([[[0., 0., 0., ..., 0., 0., 0.],\n",
       "        [0., 0., 0., ..., 0., 0., 0.],\n",
       "        [0., 0., 0., ..., 0., 0., 0.],\n",
       "        ...,\n",
       "        [0., 0., 0., ..., 0., 0., 0.],\n",
       "        [0., 0., 0., ..., 0., 0., 0.],\n",
       "        [0., 0., 0., ..., 0., 0., 0.]]])"
      ]
     },
     "execution_count": 102,
     "metadata": {},
     "output_type": "execute_result"
    }
   ],
   "source": [
    "pred_list = []\n",
    "\n",
    "batch = train[-12:].reshape((1, n_input, n_features))\n",
    "batch"
   ]
  },
  {
   "cell_type": "code",
   "execution_count": 103,
   "metadata": {},
   "outputs": [],
   "source": [
    "for i in range(n_input):   \n",
    "    pred_list.append(model.predict(batch)[0]) \n",
    "    batch = np.append(batch[:,1:,:],[[pred_list[i]]],axis=1)\n",
    "\n",
    "pred_list = scaler.inverse_transform(pred_list)\n",
    "\n",
    "# prediksi = (model.predict(batch)[0])"
   ]
  },
  {
   "cell_type": "code",
   "execution_count": 104,
   "metadata": {},
   "outputs": [
    {
     "data": {
      "text/plain": [
       "<matplotlib.image.AxesImage at 0x1f86050a860>"
      ]
     },
     "execution_count": 104,
     "metadata": {},
     "output_type": "execute_result"
    },
    {
     "data": {
      "image/png": "[encoded data removed]",
      "text/plain": [
       "<Figure size 432x288 with 1 Axes>"
      ]
     },
     "metadata": {
      "needs_background": "light"
     },
     "output_type": "display_data"
    }
   ],
   "source": [
    "plt.imshow(pred_list[0].reshape(83,114))"
   ]
  },
  {
   "cell_type": "code",
   "execution_count": 105,
   "metadata": {},
   "outputs": [],
   "source": [
    "train = df\n",
    "test = df[-24:]"
   ]
  },
  {
   "cell_type": "code",
   "execution_count": 106,
   "metadata": {},
   "outputs": [],
   "source": [
    "scaler.fit(train)\n",
    "train = scaler.transform(train)\n",
    "scaler.fit(test)\n",
    "test = scaler.transform(test)"
   ]
  },
  {
   "cell_type": "code",
   "execution_count": 107,
   "metadata": {},
   "outputs": [],
   "source": [
    "n_input = 12\n",
    "n_features = 9462\n",
    "generator = TimeseriesGenerator(train, train, length=n_input, batch_size=12)\n",
    "validation_sequence = TimeseriesGenerator(test, test, length=n_input, batch_size=12)"
   ]
  },
  {
   "cell_type": "code",
   "execution_count": 108,
   "metadata": {
    "scrolled": false
   },
   "outputs": [
    {
     "name": "stdout",
     "output_type": "stream",
     "text": [
      "Epoch 1/90\n",
      "27/27 [==============================] - 1s 33ms/step - loss: 0.0207 - mean_absolute_error: 0.0207\n",
      "Epoch 2/90\n",
      "27/27 [==============================] - 1s 35ms/step - loss: 0.0206 - mean_absolute_error: 0.0206\n",
      "Epoch 3/90\n",
      "27/27 [==============================] - 1s 35ms/step - loss: 0.0207 - mean_absolute_error: 0.0207\n",
      "Epoch 4/90\n",
      "27/27 [==============================] - 1s 32ms/step - loss: 0.0207 - mean_absolute_error: 0.0207\n",
      "Epoch 5/90\n",
      "27/27 [==============================] - 1s 34ms/step - loss: 0.0207 - mean_absolute_error: 0.0207\n",
      "Epoch 6/90\n",
      "27/27 [==============================] - 1s 32ms/step - loss: 0.0207 - mean_absolute_error: 0.0207\n",
      "Epoch 7/90\n",
      "27/27 [==============================] - 1s 34ms/step - loss: 0.0206 - mean_absolute_error: 0.0206\n",
      "Epoch 8/90\n",
      "27/27 [==============================] - 1s 35ms/step - loss: 0.0206 - mean_absolute_error: 0.0206\n",
      "Epoch 9/90\n",
      "27/27 [==============================] - 1s 35ms/step - loss: 0.0207 - mean_absolute_error: 0.0207\n",
      "Epoch 10/90\n",
      "27/27 [==============================] - 1s 34ms/step - loss: 0.0206 - mean_absolute_error: 0.0206\n",
      "Epoch 11/90\n",
      "27/27 [==============================] - 1s 34ms/step - loss: 0.0207 - mean_absolute_error: 0.0207\n",
      "Epoch 12/90\n",
      "27/27 [==============================] - 1s 31ms/step - loss: 0.0206 - mean_absolute_error: 0.0206\n",
      "Epoch 13/90\n",
      "27/27 [==============================] - 1s 32ms/step - loss: 0.0207 - mean_absolute_error: 0.0207\n",
      "Epoch 14/90\n",
      "27/27 [==============================] - 1s 34ms/step - loss: 0.0206 - mean_absolute_error: 0.0206\n",
      "Epoch 15/90\n",
      "27/27 [==============================] - 1s 32ms/step - loss: 0.0206 - mean_absolute_error: 0.0206\n",
      "Epoch 16/90\n",
      "27/27 [==============================] - 1s 34ms/step - loss: 0.0206 - mean_absolute_error: 0.0206\n",
      "Epoch 17/90\n",
      "27/27 [==============================] - 1s 31ms/step - loss: 0.0206 - mean_absolute_error: 0.0206\n",
      "Epoch 18/90\n",
      "27/27 [==============================] - 1s 32ms/step - loss: 0.0206 - mean_absolute_error: 0.0206\n",
      "Epoch 19/90\n",
      "27/27 [==============================] - 1s 34ms/step - loss: 0.0206 - mean_absolute_error: 0.0206\n",
      "Epoch 20/90\n",
      "27/27 [==============================] - 1s 34ms/step - loss: 0.0206 - mean_absolute_error: 0.0206\n",
      "Epoch 21/90\n",
      "27/27 [==============================] - 1s 32ms/step - loss: 0.0206 - mean_absolute_error: 0.0206\n",
      "Epoch 22/90\n",
      "27/27 [==============================] - 1s 35ms/step - loss: 0.0206 - mean_absolute_error: 0.0206\n",
      "Epoch 23/90\n",
      "27/27 [==============================] - 1s 36ms/step - loss: 0.0206 - mean_absolute_error: 0.0206\n",
      "Epoch 24/90\n",
      "27/27 [==============================] - 1s 35ms/step - loss: 0.0206 - mean_absolute_error: 0.0206\n",
      "Epoch 25/90\n",
      "27/27 [==============================] - 1s 35ms/step - loss: 0.0206 - mean_absolute_error: 0.0206\n",
      "Epoch 26/90\n",
      "27/27 [==============================] - 1s 35ms/step - loss: 0.0206 - mean_absolute_error: 0.0206\n",
      "Epoch 27/90\n",
      "27/27 [==============================] - 1s 34ms/step - loss: 0.0206 - mean_absolute_error: 0.0206\n",
      "Epoch 28/90\n",
      "27/27 [==============================] - 1s 35ms/step - loss: 0.0206 - mean_absolute_error: 0.0206\n",
      "Epoch 29/90\n",
      "27/27 [==============================] - 1s 34ms/step - loss: 0.0206 - mean_absolute_error: 0.0206\n",
      "Epoch 30/90\n",
      "27/27 [==============================] - 1s 32ms/step - loss: 0.0206 - mean_absolute_error: 0.0206\n",
      "Epoch 31/90\n",
      "27/27 [==============================] - 1s 32ms/step - loss: 0.0205 - mean_absolute_error: 0.0205\n",
      "Epoch 32/90\n",
      "27/27 [==============================] - 1s 34ms/step - loss: 0.0205 - mean_absolute_error: 0.0205\n",
      "Epoch 33/90\n",
      "27/27 [==============================] - 1s 32ms/step - loss: 0.0206 - mean_absolute_error: 0.0206\n",
      "Epoch 34/90\n",
      "27/27 [==============================] - 1s 34ms/step - loss: 0.0206 - mean_absolute_error: 0.0206\n",
      "Epoch 35/90\n",
      "27/27 [==============================] - 1s 34ms/step - loss: 0.0206 - mean_absolute_error: 0.0206\n",
      "Epoch 36/90\n",
      "27/27 [==============================] - 1s 32ms/step - loss: 0.0205 - mean_absolute_error: 0.0205\n",
      "Epoch 37/90\n",
      "27/27 [==============================] - 1s 35ms/step - loss: 0.0206 - mean_absolute_error: 0.0206\n",
      "Epoch 38/90\n",
      "27/27 [==============================] - 1s 35ms/step - loss: 0.0206 - mean_absolute_error: 0.0206\n",
      "Epoch 39/90\n",
      "27/27 [==============================] - 1s 35ms/step - loss: 0.0206 - mean_absolute_error: 0.0206\n",
      "Epoch 40/90\n",
      "27/27 [==============================] - 1s 35ms/step - loss: 0.0205 - mean_absolute_error: 0.0205\n",
      "Epoch 41/90\n",
      "27/27 [==============================] - 1s 34ms/step - loss: 0.0206 - mean_absolute_error: 0.0206\n",
      "Epoch 42/90\n",
      "27/27 [==============================] - 1s 32ms/step - loss: 0.0205 - mean_absolute_error: 0.0205\n",
      "Epoch 43/90\n",
      "27/27 [==============================] - 1s 34ms/step - loss: 0.0206 - mean_absolute_error: 0.0206\n",
      "Epoch 44/90\n",
      "27/27 [==============================] - 1s 34ms/step - loss: 0.0205 - mean_absolute_error: 0.0205\n",
      "Epoch 45/90\n",
      "27/27 [==============================] - 1s 35ms/step - loss: 0.0205 - mean_absolute_error: 0.0205: 0s - loss: 0.0213 - mean_absolute_error: 0.021\n",
      "Epoch 46/90\n",
      "27/27 [==============================] - 1s 34ms/step - loss: 0.0206 - mean_absolute_error: 0.0206\n",
      "Epoch 47/90\n",
      "27/27 [==============================] - 1s 34ms/step - loss: 0.0205 - mean_absolute_error: 0.0205\n",
      "Epoch 48/90\n",
      "27/27 [==============================] - 1s 34ms/step - loss: 0.0205 - mean_absolute_error: 0.0205\n",
      "Epoch 49/90\n",
      "27/27 [==============================] - 1s 31ms/step - loss: 0.0205 - mean_absolute_error: 0.0205\n",
      "Epoch 50/90\n",
      "27/27 [==============================] - 1s 31ms/step - loss: 0.0205 - mean_absolute_error: 0.0205\n",
      "Epoch 51/90\n",
      "27/27 [==============================] - 1s 31ms/step - loss: 0.0206 - mean_absolute_error: 0.0206\n",
      "Epoch 52/90\n",
      "27/27 [==============================] - 1s 32ms/step - loss: 0.0205 - mean_absolute_error: 0.0205\n",
      "Epoch 53/90\n",
      "27/27 [==============================] - 1s 35ms/step - loss: 0.0206 - mean_absolute_error: 0.0206\n",
      "Epoch 54/90\n",
      "27/27 [==============================] - 1s 35ms/step - loss: 0.0206 - mean_absolute_error: 0.0206\n",
      "Epoch 55/90\n",
      "27/27 [==============================] - 1s 34ms/step - loss: 0.0206 - mean_absolute_error: 0.0206\n",
      "Epoch 56/90\n",
      "27/27 [==============================] - 1s 35ms/step - loss: 0.0205 - mean_absolute_error: 0.0205\n",
      "Epoch 57/90\n",
      "27/27 [==============================] - 1s 35ms/step - loss: 0.0206 - mean_absolute_error: 0.0206\n",
      "Epoch 58/90\n",
      "27/27 [==============================] - 1s 35ms/step - loss: 0.0206 - mean_absolute_error: 0.0206\n",
      "Epoch 59/90\n",
      "27/27 [==============================] - 1s 34ms/step - loss: 0.0205 - mean_absolute_error: 0.0205\n",
      "Epoch 60/90\n",
      "27/27 [==============================] - 1s 34ms/step - loss: 0.0205 - mean_absolute_error: 0.0205\n",
      "Epoch 61/90\n",
      "27/27 [==============================] - 1s 34ms/step - loss: 0.0206 - mean_absolute_error: 0.0206\n",
      "Epoch 62/90\n",
      "27/27 [==============================] - 1s 35ms/step - loss: 0.0205 - mean_absolute_error: 0.0205\n",
      "Epoch 63/90\n",
      "27/27 [==============================] - 1s 34ms/step - loss: 0.0205 - mean_absolute_error: 0.0205\n",
      "Epoch 64/90\n",
      "27/27 [==============================] - 1s 35ms/step - loss: 0.0205 - mean_absolute_error: 0.0205\n",
      "Epoch 65/90\n",
      "27/27 [==============================] - 1s 34ms/step - loss: 0.0206 - mean_absolute_error: 0.0206\n",
      "Epoch 66/90\n",
      "27/27 [==============================] - 1s 34ms/step - loss: 0.0206 - mean_absolute_error: 0.0206\n",
      "Epoch 67/90\n",
      "27/27 [==============================] - 1s 34ms/step - loss: 0.0205 - mean_absolute_error: 0.0205\n",
      "Epoch 68/90\n",
      "27/27 [==============================] - 1s 35ms/step - loss: 0.0205 - mean_absolute_error: 0.0205\n",
      "Epoch 69/90\n",
      "27/27 [==============================] - 1s 34ms/step - loss: 0.0205 - mean_absolute_error: 0.0205\n",
      "Epoch 70/90\n",
      "27/27 [==============================] - 1s 34ms/step - loss: 0.0206 - mean_absolute_error: 0.0206\n",
      "Epoch 71/90\n",
      "27/27 [==============================] - 1s 35ms/step - loss: 0.0205 - mean_absolute_error: 0.0205\n",
      "Epoch 72/90\n",
      "27/27 [==============================] - 1s 34ms/step - loss: 0.0205 - mean_absolute_error: 0.0205\n",
      "Epoch 73/90\n",
      "27/27 [==============================] - 1s 34ms/step - loss: 0.0205 - mean_absolute_error: 0.0205\n",
      "Epoch 74/90\n"
     ]
    },
    {
     "name": "stdout",
     "output_type": "stream",
     "text": [
      "27/27 [==============================] - 1s 27ms/step - loss: 0.0205 - mean_absolute_error: 0.0205\n",
      "Epoch 75/90\n",
      "27/27 [==============================] - 1s 27ms/step - loss: 0.0205 - mean_absolute_error: 0.0205\n",
      "Epoch 76/90\n",
      "27/27 [==============================] - 1s 28ms/step - loss: 0.0205 - mean_absolute_error: 0.0205\n",
      "Epoch 77/90\n",
      "27/27 [==============================] - 1s 28ms/step - loss: 0.0206 - mean_absolute_error: 0.0206\n",
      "Epoch 78/90\n",
      "27/27 [==============================] - 1s 29ms/step - loss: 0.0205 - mean_absolute_error: 0.0205\n",
      "Epoch 79/90\n",
      "27/27 [==============================] - 1s 29ms/step - loss: 0.0205 - mean_absolute_error: 0.0205\n",
      "Epoch 80/90\n",
      "27/27 [==============================] - 1s 28ms/step - loss: 0.0205 - mean_absolute_error: 0.0205\n",
      "Epoch 81/90\n",
      "27/27 [==============================] - 1s 28ms/step - loss: 0.0205 - mean_absolute_error: 0.0205\n",
      "Epoch 82/90\n",
      "27/27 [==============================] - 1s 28ms/step - loss: 0.0205 - mean_absolute_error: 0.0205\n",
      "Epoch 83/90\n",
      "27/27 [==============================] - 1s 28ms/step - loss: 0.0205 - mean_absolute_error: 0.0205\n",
      "Epoch 84/90\n",
      "27/27 [==============================] - 1s 27ms/step - loss: 0.0205 - mean_absolute_error: 0.0205\n",
      "Epoch 85/90\n",
      "27/27 [==============================] - 1s 28ms/step - loss: 0.0205 - mean_absolute_error: 0.0205\n",
      "Epoch 86/90\n",
      "27/27 [==============================] - 1s 28ms/step - loss: 0.0205 - mean_absolute_error: 0.0205\n",
      "Epoch 87/90\n",
      "27/27 [==============================] - 1s 28ms/step - loss: 0.0205 - mean_absolute_error: 0.0205\n",
      "Epoch 88/90\n",
      "27/27 [==============================] - 1s 28ms/step - loss: 0.0205 - mean_absolute_error: 0.0205\n",
      "Epoch 89/90\n",
      "27/27 [==============================] - 1s 28ms/step - loss: 0.0205 - mean_absolute_error: 0.0205\n",
      "Epoch 90/90\n",
      "27/27 [==============================] - 1s 29ms/step - loss: 0.0205 - mean_absolute_error: 0.0205\n"
     ]
    },
    {
     "data": {
      "text/plain": [
       "<tensorflow.python.keras.callbacks.History at 0x1f85ea275c0>"
      ]
     },
     "execution_count": 108,
     "metadata": {},
     "output_type": "execute_result"
    }
   ],
   "source": [
    "model.fit_generator(generator,epochs=90)"
   ]
  },
  {
   "cell_type": "code",
   "execution_count": 109,
   "metadata": {},
   "outputs": [
    {
     "data": {
      "text/plain": [
       "[0.04399846866726875, 0.04399847]"
      ]
     },
     "execution_count": 109,
     "metadata": {},
     "output_type": "execute_result"
    }
   ],
   "source": [
    "model.evaluate_generator(validation_sequence)"
   ]
  },
  {
   "cell_type": "code",
   "execution_count": 110,
   "metadata": {},
   "outputs": [],
   "source": [
    "pred_list = []\n",
    "\n",
    "batch = data_4[-60:-48].reshape((1, n_input, n_features))\n",
    "\n",
    "for i in range(n_input):   \n",
    "    pred_list.append(model.predict(batch)[0]) \n",
    "    batch = np.append(batch[:,1:,:],[[pred_list[i]]],axis=1)\n",
    "    \n",
    "batch1 = data_4[-48:-36].reshape((1, n_input, n_features))\n",
    "\n",
    "for i in range(n_input):   \n",
    "    pred_list.append(model.predict(batch1)[0]) \n",
    "    batch1 = np.append(batch1[:,1:,:],[[pred_list[i]]],axis=1)\n",
    "    \n",
    "batch2 = data_4[-36:-24].reshape((1, n_input, n_features))\n",
    "\n",
    "for i in range(n_input):   \n",
    "    pred_list.append(model.predict(batch2)[0]) \n",
    "    batch2 = np.append(batch2[:,1:,:],[[pred_list[i]]],axis=1)\n",
    "    \n",
    "# data tahun 2014 untuk memprediksi tahun 2015\n",
    "batch3 = data_4[-24:-12].reshape((1, n_input, n_features))\n",
    "\n",
    "for i in range(n_input):   \n",
    "    pred_list.append(model.predict(batch3)[0]) \n",
    "    batch3 = np.append(batch3[:,1:,:],[[pred_list[i]]],axis=1)\n",
    "\n",
    "# data tahun 2015 untuk memprediksi tahun 2016\n",
    "batch4 = data_4[-12:].reshape((1, n_input, n_features))\n",
    "\n",
    "for i in range(n_input):   \n",
    "    pred_list.append(model.predict(batch4)[0]) \n",
    "    batch4 = np.append(batch4[:,1:,:],[[pred_list[i]]],axis=1)"
   ]
  },
  {
   "cell_type": "code",
   "execution_count": 111,
   "metadata": {},
   "outputs": [
    {
     "data": {
      "text/plain": [
       "array([[[3.53965661e-05, 3.57748795e-05, 3.63970539e-05, ...,\n",
       "         3.53508876e-05, 3.60078993e-05, 3.71604729e-05],\n",
       "        [3.53965661e-05, 3.57748795e-05, 3.63970539e-05, ...,\n",
       "         3.53508876e-05, 3.60078993e-05, 3.71604729e-05],\n",
       "        [3.53965661e-05, 3.57748795e-05, 3.63970539e-05, ...,\n",
       "         3.53508876e-05, 3.60078993e-05, 3.71604729e-05],\n",
       "        ...,\n",
       "        [3.63480431e-05, 3.67331959e-05, 3.73704643e-05, ...,\n",
       "         3.63039071e-05, 3.69718946e-05, 3.81574355e-05],\n",
       "        [3.63342479e-05, 3.67195717e-05, 3.73566072e-05, ...,\n",
       "         3.62901628e-05, 3.69579684e-05, 3.81430618e-05],\n",
       "        [3.62742503e-05, 3.66589375e-05, 3.72950599e-05, ...,\n",
       "         3.62299652e-05, 3.68969741e-05, 3.80800411e-05]]])"
      ]
     },
     "execution_count": 111,
     "metadata": {},
     "output_type": "execute_result"
    }
   ],
   "source": [
    "batch"
   ]
  },
  {
   "cell_type": "code",
   "execution_count": 112,
   "metadata": {},
   "outputs": [
    {
     "data": {
      "text/plain": [
       "array([[3.53965661e-05, 3.57748795e-05, 3.63970539e-05, ...,\n",
       "        3.53508876e-05, 3.60078993e-05, 3.71604729e-05],\n",
       "       [3.53965661e-05, 3.57748795e-05, 3.63970539e-05, ...,\n",
       "        3.53508876e-05, 3.60078993e-05, 3.71604729e-05],\n",
       "       [3.53965661e-05, 3.57748795e-05, 3.63970539e-05, ...,\n",
       "        3.53508876e-05, 3.60078993e-05, 3.71604729e-05],\n",
       "       ...,\n",
       "       [3.53545292e-05, 3.57325662e-05, 3.63540348e-05, ...,\n",
       "        3.53088071e-05, 3.59653095e-05, 3.71165552e-05],\n",
       "       [3.53586438e-05, 3.57366916e-05, 3.63582694e-05, ...,\n",
       "        3.53129508e-05, 3.59694968e-05, 3.71208043e-05],\n",
       "       [3.53728101e-05, 3.57509743e-05, 3.63728323e-05, ...,\n",
       "        3.53270989e-05, 3.59837686e-05, 3.71357128e-05]])"
      ]
     },
     "execution_count": 112,
     "metadata": {},
     "output_type": "execute_result"
    }
   ],
   "source": [
    "pred_list = scaler.inverse_transform(pred_list)\n",
    "pred_list"
   ]
  },
  {
   "cell_type": "code",
   "execution_count": 113,
   "metadata": {},
   "outputs": [
    {
     "data": {
      "text/plain": [
       "(60, 9462)"
      ]
     },
     "execution_count": 113,
     "metadata": {},
     "output_type": "execute_result"
    }
   ],
   "source": [
    "pred_list.shape"
   ]
  },
  {
   "cell_type": "code",
   "execution_count": 114,
   "metadata": {},
   "outputs": [
    {
     "data": {
      "text/plain": [
       "<matplotlib.image.AxesImage at 0x1f85e870b00>"
      ]
     },
     "execution_count": 114,
     "metadata": {},
     "output_type": "execute_result"
    },
    {
     "data": {
      "image/png": "[encoded data removed]",
      "text/plain": [
       "<Figure size 432x288 with 1 Axes>"
      ]
     },
     "metadata": {
      "needs_background": "light"
     },
     "output_type": "display_data"
    }
   ],
   "source": [
    "plt.imshow(pred_list[59].reshape(83,114))"
   ]
  },
  {
   "cell_type": "code",
   "execution_count": 115,
   "metadata": {},
   "outputs": [
    {
     "data": {
      "text/plain": [
       "<matplotlib.image.AxesImage at 0x1f85e6245c0>"
      ]
     },
     "execution_count": 115,
     "metadata": {},
     "output_type": "execute_result"
    },
    {
     "data": {
      "image/png": "[encoded data removed]",
      "text/plain": [
       "<Figure size 432x288 with 1 Axes>"
      ]
     },
     "metadata": {
      "needs_background": "light"
     },
     "output_type": "display_data"
    }
   ],
   "source": [
    "df_asli = X[-60:]\n",
    "plt.imshow(df_asli[0].reshape(83,114))"
   ]
  },
  {
   "cell_type": "code",
   "execution_count": 116,
   "metadata": {},
   "outputs": [
    {
     "data": {
      "text/plain": [
       "0.1083671312131127"
      ]
     },
     "execution_count": 116,
     "metadata": {},
     "output_type": "execute_result"
    }
   ],
   "source": [
    "max(pred_list[10])"
   ]
  },
  {
   "cell_type": "code",
   "execution_count": 117,
   "metadata": {},
   "outputs": [
    {
     "data": {
      "text/plain": [
       "0.0"
      ]
     },
     "execution_count": 117,
     "metadata": {},
     "output_type": "execute_result"
    }
   ],
   "source": [
    "max(df_asli[10])"
   ]
  },
  {
   "cell_type": "code",
   "execution_count": 118,
   "metadata": {},
   "outputs": [],
   "source": [
    "# MAE untuk semua data\n",
    "pred_list[pred_list<0]=0\n",
    "pred_list_new=[]\n",
    "df_asli_new=[]\n",
    "no=0\n",
    "df_asli=np.array(df_asli)\n",
    "# for pred in pred_list:\n",
    "#     pred_list_new.append(list(filter(lambda x: x != 0, pred_list[no])))\n",
    "#     df_asli_new.append(list(filter(lambda x: x != 0, df_asli[no])))\n",
    "#     no+=1\n",
    "    \n",
    "pred_list_new=np.array(pred_list_new)\n",
    "df_asli_new=np.array(df_asli_new)\n",
    "\n",
    "# pred_list.shape\n",
    "# np.array(df_asli_new).shape\n",
    "\n",
    "mae=[]\n",
    "no=0\n",
    "# for pred1 in pred_list:\n",
    "#     mae_ = df_asli[no]-pred1\n",
    "#     mae_ = np.average(mae_)\n",
    "#     mae.append(mae_)\n",
    "#     no+=1\n",
    "from sklearn.metrics import mean_absolute_error\n",
    "for pred1 in pred_list:\n",
    "    mae_ = mean_absolute_error(df_asli[no], pred1)\n",
    "    mae.append(mae_)\n",
    "    no+=1"
   ]
  },
  {
   "cell_type": "code",
   "execution_count": 119,
   "metadata": {},
   "outputs": [],
   "source": [
    "sae=[]\n",
    "no=0\n",
    "\n",
    "for pred1 in pred_list:\n",
    "    sae_ = df_asli[no]-pred1\n",
    "    sae_ = np.abs(sae_)\n",
    "    sae.append(sae_)\n",
    "    no+=1"
   ]
  },
  {
   "cell_type": "code",
   "execution_count": 120,
   "metadata": {},
   "outputs": [
    {
     "data": {
      "text/plain": [
       "[0.04797327733849732,\n",
       " 0.027014986693426567,\n",
       " 0.0532242957074827,\n",
       " 0.0024447480816448754,\n",
       " 0.002445171026506282,\n",
       " 0.0019581064219793354,\n",
       " 0.0034153106214468215,\n",
       " 0.02080841687579724,\n",
       " 0.0724419315980438,\n",
       " 0.004199466620294942,\n",
       " 0.002465635424534302,\n",
       " 0.002465159614046948,\n",
       " 0.06680087497296927,\n",
       " 0.042398192076327314,\n",
       " 0.06612382470744063,\n",
       " 0.002444744424977751,\n",
       " 0.002445103807834702,\n",
       " 0.0014357434410933914,\n",
       " 0.0037805442548836422,\n",
       " 0.02456478155493997,\n",
       " 0.07142552437516023,\n",
       " 0.0035095905036516216,\n",
       " 0.0024656358605568847,\n",
       " 0.002464366541475212,\n",
       " 0.04128412079999225,\n",
       " 0.016621137273520693,\n",
       " 0.039214330012812354,\n",
       " 0.002444744462169067,\n",
       " 0.0024451554714181294,\n",
       " 0.0020350368471686777,\n",
       " 0.0044105956526079996,\n",
       " 0.017902488634937225,\n",
       " 0.07240222512262776,\n",
       " 0.0036115717669063458,\n",
       " 0.002465635424534302,\n",
       " 0.0024718591055412384,\n",
       " 0.002538124769131705,\n",
       " 0.0024452669753152953,\n",
       " 0.002445217317512515,\n",
       " 0.0024447444461735313,\n",
       " 0.0024450938909986717,\n",
       " 0.0024451710384260114,\n",
       " 0.009700286880038444,\n",
       " 0.005273716812844929,\n",
       " 0.07837910609864443,\n",
       " 0.004921556795092548,\n",
       " 0.0024656374054243453,\n",
       " 0.01766915579667,\n",
       " 0.0976848751202238,\n",
       " 0.06422363004531934,\n",
       " 0.08479304231316065,\n",
       " 0.002444744338898239,\n",
       " 0.00244482083760192,\n",
       " 0.0014877517034340248,\n",
       " 0.0034007981582828166,\n",
       " 0.028485229032856278,\n",
       " 0.06929312545181297,\n",
       " 0.002880856383772586,\n",
       " 0.002444862678247151,\n",
       " 0.0024451676042127023]"
      ]
     },
     "execution_count": 120,
     "metadata": {},
     "output_type": "execute_result"
    }
   ],
   "source": [
    "mae"
   ]
  },
  {
   "cell_type": "code",
   "execution_count": 121,
   "metadata": {},
   "outputs": [
    {
     "data": {
      "text/plain": [
       "0.020553771916889046"
      ]
     },
     "execution_count": 121,
     "metadata": {},
     "output_type": "execute_result"
    }
   ],
   "source": [
    "sum(mae)/60"
   ]
  },
  {
   "cell_type": "code",
   "execution_count": 122,
   "metadata": {},
   "outputs": [
    {
     "data": {
      "text/plain": [
       "[array([3.53965661e-05, 3.57748795e-05, 3.63970539e-05, ...,\n",
       "        3.53508876e-05, 3.60078993e-05, 3.71604729e-05]),\n",
       " array([3.53965661e-05, 3.57748795e-05, 3.63970539e-05, ...,\n",
       "        3.53508876e-05, 3.60078993e-05, 3.71604729e-05]),\n",
       " array([3.53965661e-05, 3.57748795e-05, 3.63970539e-05, ...,\n",
       "        3.53508876e-05, 3.60078993e-05, 3.71604729e-05]),\n",
       " array([3.53532814e-05, 3.57312711e-05, 3.63528234e-05, ...,\n",
       "        3.53075993e-05, 3.59640762e-05, 3.71151764e-05]),\n",
       " array([3.53729774e-05, 3.57511453e-05, 3.63730069e-05, ...,\n",
       "        3.53272662e-05, 3.59839396e-05, 3.71357819e-05]),\n",
       " array([3.53730466e-05, 3.57511781e-05, 3.63730396e-05, ...,\n",
       "        3.53273354e-05, 3.59839760e-05, 3.71358146e-05]),\n",
       " array([3.53965661e-05, 3.57748795e-05, 3.63970539e-05, ...,\n",
       "        3.53508876e-05, 3.60078993e-05, 3.71604729e-05]),\n",
       " array([3.53965661e-05, 3.57748795e-05, 3.63970539e-05, ...,\n",
       "        3.53508876e-05, 3.60078993e-05, 3.71604729e-05]),\n",
       " array([3.53965661e-05, 3.57748795e-05, 3.63970539e-05, ...,\n",
       "        3.53508876e-05, 3.60078993e-05, 3.71604729e-05]),\n",
       " array([3.63480431e-05, 3.67331959e-05, 3.73704643e-05, ...,\n",
       "        3.63039071e-05, 3.69718946e-05, 3.81574355e-05]),\n",
       " array([3.63342479e-05, 3.67195717e-05, 3.73566072e-05, ...,\n",
       "        3.62901628e-05, 3.69579684e-05, 3.81430618e-05]),\n",
       " array([3.62742503e-05, 3.66589375e-05, 3.72950599e-05, ...,\n",
       "        3.62299652e-05, 3.68969741e-05, 3.80800411e-05]),\n",
       " array([3.53965661e-05, 3.57748795e-05, 3.63970539e-05, ...,\n",
       "        3.53508876e-05, 3.60078993e-05, 3.71604729e-05]),\n",
       " array([3.53965661e-05, 3.57748795e-05, 3.63970539e-05, ...,\n",
       "        3.53508876e-05, 3.60078993e-05, 3.71604729e-05]),\n",
       " array([3.53965661e-05, 3.57748795e-05, 3.63970539e-05, ...,\n",
       "        3.53508876e-05, 3.60078993e-05, 3.71604729e-05]),\n",
       " array([3.53530813e-05, 3.57311328e-05, 3.63527579e-05, ...,\n",
       "        3.53074611e-05, 3.59638361e-05, 3.71150345e-05]),\n",
       " array([3.53699070e-05, 3.57480421e-05, 3.63696745e-05, ...,\n",
       "        3.53241667e-05, 3.59808510e-05, 3.71325586e-05]),\n",
       " array([3.53729774e-05, 3.57511453e-05, 3.63730069e-05, ...,\n",
       "        3.53272662e-05, 3.59839396e-05, 3.71357819e-05]),\n",
       " array([3.53965333e-05, 3.57748795e-05, 3.63970539e-05, ...,\n",
       "        3.53508585e-05, 3.60078666e-05, 3.71604365e-05]),\n",
       " array([3.53965661e-05, 3.57748795e-05, 3.63970539e-05, ...,\n",
       "        3.53508876e-05, 3.60078993e-05, 3.71604729e-05]),\n",
       " array([3.53965661e-05, 3.57748795e-05, 3.63970539e-05, ...,\n",
       "        3.53508876e-05, 3.60078993e-05, 3.71604729e-05]),\n",
       " array([3.63479339e-05, 3.67331268e-05, 3.73703588e-05, ...,\n",
       "        3.63037689e-05, 3.69717527e-05, 3.81573591e-05]),\n",
       " array([3.63342479e-05, 3.67195717e-05, 3.73566072e-05, ...,\n",
       "        3.62901628e-05, 3.69580048e-05, 3.81430618e-05]),\n",
       " array([3.62742503e-05, 3.66589738e-05, 3.72950599e-05, ...,\n",
       "        3.62299979e-05, 3.68970104e-05, 3.80801139e-05]),\n",
       " array([3.53965661e-05, 3.57748795e-05, 3.63970539e-05, ...,\n",
       "        3.53508876e-05, 3.60078993e-05, 3.71604729e-05]),\n",
       " array([3.53965661e-05, 3.57748795e-05, 3.63970539e-05, ...,\n",
       "        3.53508876e-05, 3.60078993e-05, 3.71604729e-05]),\n",
       " array([3.53965661e-05, 3.57748795e-05, 3.63970539e-05, ...,\n",
       "        3.53508876e-05, 3.60078993e-05, 3.71604729e-05]),\n",
       " array([3.53530813e-05, 3.57311692e-05, 3.63527579e-05, ...,\n",
       "        3.53074611e-05, 3.59638361e-05, 3.71150345e-05]),\n",
       " array([3.53723008e-05, 3.57504614e-05, 3.63721410e-05, ...,\n",
       "        3.53265932e-05, 3.59832884e-05, 3.71350725e-05]),\n",
       " array([3.53729774e-05, 3.57511453e-05, 3.63730069e-05, ...,\n",
       "        3.53272662e-05, 3.59839396e-05, 3.71357819e-05]),\n",
       " array([3.53965333e-05, 3.57748795e-05, 3.63970539e-05, ...,\n",
       "        3.53508585e-05, 3.60078993e-05, 3.71604729e-05]),\n",
       " array([3.53965661e-05, 3.57748795e-05, 3.63970539e-05, ...,\n",
       "        3.53508876e-05, 3.60078993e-05, 3.71604729e-05]),\n",
       " array([3.53965661e-05, 3.57748795e-05, 3.63970539e-05, ...,\n",
       "        3.53508876e-05, 3.60078993e-05, 3.71604729e-05]),\n",
       " array([3.63624276e-05, 3.67478424e-05, 3.73853291e-05, ...,\n",
       "        3.63183826e-05, 3.69864210e-05, 3.81725004e-05]),\n",
       " array([3.63342479e-05, 3.67195717e-05, 3.73566072e-05, ...,\n",
       "        3.62901628e-05, 3.69579684e-05, 3.81430618e-05]),\n",
       " array([3.62742503e-05, 3.66589375e-05, 3.72950599e-05, ...,\n",
       "        3.62299652e-05, 3.68969741e-05, 3.80800411e-05]),\n",
       " array([3.53965661e-05, 3.57748795e-05, 3.63970539e-05, ...,\n",
       "        3.53508876e-05, 3.60078993e-05, 3.71604729e-05]),\n",
       " array([3.53774303e-05, 3.57556091e-05, 3.63774816e-05, ...,\n",
       "        3.53317810e-05, 3.59885380e-05, 3.71404567e-05]),\n",
       " array([3.53751384e-05, 3.57533245e-05, 3.63751569e-05, ...,\n",
       "        3.53294890e-05, 3.59861697e-05, 3.71381175e-05]),\n",
       " array([3.53530813e-05, 3.57311328e-05, 3.63527579e-05, ...,\n",
       "        3.53074611e-05, 3.59638361e-05, 3.71150345e-05]),\n",
       " array([3.53694377e-05, 3.57474601e-05, 3.63692961e-05, ...,\n",
       "        3.53236610e-05, 3.59803707e-05, 3.71320311e-05]),\n",
       " array([3.53729774e-05, 3.57511453e-05, 3.63730069e-05, ...,\n",
       "        3.53272662e-05, 3.59839396e-05, 3.71357819e-05]),\n",
       " array([3.53964970e-05, 3.57748468e-05, 3.63970175e-05, ...,\n",
       "        3.53507894e-05, 3.60077975e-05, 3.71604037e-05]),\n",
       " array([3.53965661e-05, 3.57748795e-05, 3.63970539e-05, ...,\n",
       "        3.53508876e-05, 3.60078993e-05, 3.71604729e-05]),\n",
       " array([3.53965661e-05, 3.57748795e-05, 3.63970539e-05, ...,\n",
       "        3.53508876e-05, 3.60078993e-05, 3.71604729e-05]),\n",
       " array([3.63604522e-05, 3.67458088e-05, 3.73832991e-05, ...,\n",
       "        3.63163381e-05, 3.69844820e-05, 3.81704631e-05]),\n",
       " array([3.63343534e-05, 3.67196408e-05, 3.73566400e-05, ...,\n",
       "        3.62902683e-05, 3.69580775e-05, 3.81431346e-05]),\n",
       " array([3.62743522e-05, 3.66590793e-05, 3.72951326e-05, ...,\n",
       "        3.62300998e-05, 3.68972578e-05, 3.80801503e-05]),\n",
       " array([3.53569267e-05, 3.57349891e-05, 3.63565341e-05, ...,\n",
       "        3.53112664e-05, 3.59677797e-05, 3.71191054e-05]),\n",
       " array([3.53531141e-05, 3.57311692e-05, 3.63527579e-05, ...,\n",
       "        3.53074975e-05, 3.59639052e-05, 3.71151073e-05]),\n",
       " array([3.53530813e-05, 3.57311328e-05, 3.63527579e-05, ...,\n",
       "        3.53074611e-05, 3.59638361e-05, 3.71150345e-05]),\n",
       " array([3.53530813e-05, 3.57311328e-05, 3.63527579e-05, ...,\n",
       "        3.53074611e-05, 3.59638361e-05, 3.71150345e-05]),\n",
       " array([3.53566538e-05, 3.57347162e-05, 3.63562576e-05, ...,\n",
       "        3.53110299e-05, 3.59674741e-05, 3.71188216e-05]),\n",
       " array([3.53729774e-05, 3.57511453e-05, 3.63730069e-05, ...,\n",
       "        3.53272662e-05, 3.59839396e-05, 3.71357819e-05]),\n",
       " array([3.53897485e-05, 3.57680583e-05, 3.63900763e-05, ...,\n",
       "        3.53440446e-05, 3.60009981e-05, 3.71533861e-05]),\n",
       " array([3.53965661e-05, 3.57748795e-05, 3.63970539e-05, ...,\n",
       "        3.53508876e-05, 3.60078993e-05, 3.71604729e-05]),\n",
       " array([3.53965661e-05, 3.57748795e-05, 3.63970539e-05, ...,\n",
       "        3.53508876e-05, 3.60078993e-05, 3.71604729e-05]),\n",
       " array([3.53545292e-05, 3.57325662e-05, 3.63540348e-05, ...,\n",
       "        3.53088071e-05, 3.59653095e-05, 3.71165552e-05]),\n",
       " array([3.53586438e-05, 3.57366916e-05, 3.63582694e-05, ...,\n",
       "        3.53129508e-05, 3.59694968e-05, 3.71208043e-05]),\n",
       " array([3.53728101e-05, 3.57509743e-05, 3.63728323e-05, ...,\n",
       "        3.53270989e-05, 3.59837686e-05, 3.71357128e-05])]"
      ]
     },
     "execution_count": 122,
     "metadata": {},
     "output_type": "execute_result"
    }
   ],
   "source": [
    "sae"
   ]
  },
  {
   "cell_type": "code",
   "execution_count": 123,
   "metadata": {},
   "outputs": [
    {
     "data": {
      "text/plain": [
       "194.47978987760416"
      ]
     },
     "execution_count": 123,
     "metadata": {},
     "output_type": "execute_result"
    }
   ],
   "source": [
    "sae_ = sum(sae)/60\n",
    "sae_ = np.sum(sae_)\n",
    "sae_"
   ]
  },
  {
   "cell_type": "code",
   "execution_count": 31,
   "metadata": {},
   "outputs": [],
   "source": [
    "# pred_list_new\n",
    "\n",
    "Pred_rata= []\n",
    "for i in range(0,60):\n",
    "\tPred_rata.append((pred_list[i].mean()))\n"
   ]
  },
  {
   "cell_type": "code",
   "execution_count": 32,
   "metadata": {},
   "outputs": [],
   "source": [
    "df_asli_rata= []\n",
    "for i in range(0,60):\n",
    "\tdf_asli_rata.append((df_asli[i].mean()))"
   ]
  },
  {
   "cell_type": "code",
   "execution_count": 33,
   "metadata": {
    "scrolled": true
   },
   "outputs": [
    {
     "data": {
      "text/plain": [
       "[0.0024492434519973443,\n",
       " 0.0024492434519973443,\n",
       " 0.0024492434519973443,\n",
       " 0.0024480937494316905,\n",
       " 0.002449197812970371,\n",
       " 0.002449242422035398,\n",
       " 0.0024492434519973443,\n",
       " 0.0024492434519973443,\n",
       " 0.0024492434519973443,\n",
       " 0.0024663972194014926,\n",
       " 0.002466249593303063,\n",
       " 0.0024656653046057405,\n",
       " 0.0024492434519973443,\n",
       " 0.0024492434519973443,\n",
       " 0.0024492434519973443,\n",
       " 0.0024480212905038973,\n",
       " 0.002448700004747854,\n",
       " 0.0024491184020638806,\n",
       " 0.002449243253537871,\n",
       " 0.0024492434519973443,\n",
       " 0.0024492434519973443,\n",
       " 0.0024663877462136547,\n",
       " 0.00246624941649793,\n",
       " 0.0024656651635433023,\n",
       " 0.0024492434519973443,\n",
       " 0.0024492434519973443,\n",
       " 0.0024492434519973443,\n",
       " 0.0024480296443472284,\n",
       " 0.0024488090391948823,\n",
       " 0.0024491625339970323,\n",
       " 0.0024492433430216825,\n",
       " 0.0024492434519973443,\n",
       " 0.0024492434519973443,\n",
       " 0.0024665402474865644,\n",
       " 0.002466249593303063,\n",
       " 0.0024656653046057405,\n",
       " 0.0024492434519973443,\n",
       " 0.0024492427277928884,\n",
       " 0.002449239689221592,\n",
       " 0.0024480185881953806,\n",
       " 0.002448643398382706,\n",
       " 0.0024491444279188907,\n",
       " 0.0024492431206044876,\n",
       " 0.0024492434488794295,\n",
       " 0.0024492434519973443,\n",
       " 0.0024665150805231735,\n",
       " 0.002466248339011045,\n",
       " 0.0024656639459717847,\n",
       " 0.0024484400723649544,\n",
       " 0.0024481381994895988,\n",
       " 0.0024480408332118856,\n",
       " 0.0024480141274087343,\n",
       " 0.0024482632467781045,\n",
       " 0.0024492153806384776,\n",
       " 0.0024492432780832286,\n",
       " 0.0024492434519973443,\n",
       " 0.0024492434519973443,\n",
       " 0.0024483372388500067,\n",
       " 0.0024482849306475965,\n",
       " 0.00244827424652323]"
      ]
     },
     "execution_count": 33,
     "metadata": {},
     "output_type": "execute_result"
    }
   ],
   "source": [
    "Pred_rata"
   ]
  },
  {
   "cell_type": "code",
   "execution_count": 34,
   "metadata": {},
   "outputs": [
    {
     "data": {
      "text/plain": [
       "[0.050361443,\n",
       " 0.029394211,\n",
       " 0.055611517,\n",
       " 0.0,\n",
       " 0.0,\n",
       " 0.00049859984,\n",
       " 0.0047321394,\n",
       " 0.023135662,\n",
       " 0.07482821,\n",
       " 0.0019517558,\n",
       " 0.0,\n",
       " 8.443186e-07,\n",
       " 0.069189034,\n",
       " 0.04478209,\n",
       " 0.068511695,\n",
       " 0.0,\n",
       " 0.0,\n",
       " 0.0015270336,\n",
       " 0.005131007,\n",
       " 0.026906889,\n",
       " 0.073812164,\n",
       " 0.0012374661,\n",
       " 0.0,\n",
       " 0.0,\n",
       " 0.04367229,\n",
       " 0.018763991,\n",
       " 0.041600674,\n",
       " 0.0,\n",
       " 0.0,\n",
       " 0.000423101,\n",
       " 0.0060387095,\n",
       " 0.020210369,\n",
       " 0.0747887,\n",
       " 0.0013435925,\n",
       " 0.0,\n",
       " 7.588192e-06,\n",
       " 9.328075e-05,\n",
       " 0.0,\n",
       " 0.0,\n",
       " 0.0,\n",
       " 0.0,\n",
       " 0.0,\n",
       " 0.01143431,\n",
       " 0.0050058723,\n",
       " 0.08076222,\n",
       " 0.0026893893,\n",
       " 0.0,\n",
       " 0.019596733,\n",
       " 0.10007225,\n",
       " 0.06660953,\n",
       " 0.087180346,\n",
       " 0.0,\n",
       " 0.0,\n",
       " 0.0012253057,\n",
       " 0.004553074,\n",
       " 0.030833978,\n",
       " 0.07168045,\n",
       " 0.00053633633,\n",
       " 0.0,\n",
       " 0.0]"
      ]
     },
     "execution_count": 34,
     "metadata": {},
     "output_type": "execute_result"
    }
   ],
   "source": [
    "df_asli_rata\n"
   ]
  },
  {
   "cell_type": "code",
   "execution_count": 35,
   "metadata": {},
   "outputs": [
    {
     "data": {
      "text/plain": [
       "[Timestamp('2012-01-01 00:00:00'),\n",
       " Timestamp('2012-02-01 00:00:00'),\n",
       " Timestamp('2012-03-01 00:00:00'),\n",
       " Timestamp('2012-04-01 00:00:00'),\n",
       " Timestamp('2012-05-01 00:00:00'),\n",
       " Timestamp('2012-06-01 00:00:00'),\n",
       " Timestamp('2012-07-01 00:00:00'),\n",
       " Timestamp('2012-08-01 00:00:00'),\n",
       " Timestamp('2012-09-01 00:00:00'),\n",
       " Timestamp('2012-10-01 00:00:00'),\n",
       " Timestamp('2012-11-01 00:00:00'),\n",
       " Timestamp('2012-12-01 00:00:00'),\n",
       " Timestamp('2013-01-01 00:00:00'),\n",
       " Timestamp('2013-02-01 00:00:00'),\n",
       " Timestamp('2013-03-01 00:00:00'),\n",
       " Timestamp('2013-04-01 00:00:00'),\n",
       " Timestamp('2013-05-01 00:00:00'),\n",
       " Timestamp('2013-06-01 00:00:00'),\n",
       " Timestamp('2013-07-01 00:00:00'),\n",
       " Timestamp('2013-08-01 00:00:00'),\n",
       " Timestamp('2013-09-01 00:00:00'),\n",
       " Timestamp('2013-10-01 00:00:00'),\n",
       " Timestamp('2013-11-01 00:00:00'),\n",
       " Timestamp('2013-12-01 00:00:00'),\n",
       " Timestamp('2014-01-01 00:00:00'),\n",
       " Timestamp('2014-02-01 00:00:00'),\n",
       " Timestamp('2014-03-01 00:00:00'),\n",
       " Timestamp('2014-04-01 00:00:00'),\n",
       " Timestamp('2014-05-01 00:00:00'),\n",
       " Timestamp('2014-06-01 00:00:00'),\n",
       " Timestamp('2014-07-01 00:00:00'),\n",
       " Timestamp('2014-08-01 00:00:00'),\n",
       " Timestamp('2014-09-01 00:00:00'),\n",
       " Timestamp('2014-10-01 00:00:00'),\n",
       " Timestamp('2014-11-01 00:00:00'),\n",
       " Timestamp('2014-12-01 00:00:00'),\n",
       " Timestamp('2015-01-01 00:00:00'),\n",
       " Timestamp('2015-02-01 00:00:00'),\n",
       " Timestamp('2015-03-01 00:00:00'),\n",
       " Timestamp('2015-04-01 00:00:00'),\n",
       " Timestamp('2015-05-01 00:00:00'),\n",
       " Timestamp('2015-06-01 00:00:00'),\n",
       " Timestamp('2015-07-01 00:00:00'),\n",
       " Timestamp('2015-08-01 00:00:00'),\n",
       " Timestamp('2015-09-01 00:00:00'),\n",
       " Timestamp('2015-10-01 00:00:00'),\n",
       " Timestamp('2015-11-01 00:00:00'),\n",
       " Timestamp('2015-12-01 00:00:00'),\n",
       " Timestamp('2016-01-01 00:00:00'),\n",
       " Timestamp('2016-02-01 00:00:00'),\n",
       " Timestamp('2016-03-01 00:00:00'),\n",
       " Timestamp('2016-04-01 00:00:00'),\n",
       " Timestamp('2016-05-01 00:00:00'),\n",
       " Timestamp('2016-06-01 00:00:00'),\n",
       " Timestamp('2016-07-01 00:00:00'),\n",
       " Timestamp('2016-08-01 00:00:00'),\n",
       " Timestamp('2016-09-01 00:00:00'),\n",
       " Timestamp('2016-10-01 00:00:00'),\n",
       " Timestamp('2016-11-01 00:00:00'),\n",
       " Timestamp('2016-12-01 00:00:00')]"
      ]
     },
     "execution_count": 35,
     "metadata": {},
     "output_type": "execute_result"
    }
   ],
   "source": [
    "# membuat index tanggal, agar mempudah dalam proses plotting data\n",
    "awal = \"2012-1\"\n",
    "awal = pd.to_datetime(awal)\n",
    "from pandas.tseries.offsets import DateOffset\n",
    "add_dates = [awal + DateOffset(months=x) for x in range(0,60) ]\n",
    "add_dates"
   ]
  },
  {
   "cell_type": "code",
   "execution_count": 36,
   "metadata": {},
   "outputs": [
    {
     "data": {
      "text/plain": [
       "60"
      ]
     },
     "execution_count": 36,
     "metadata": {},
     "output_type": "execute_result"
    }
   ],
   "source": [
    "len(add_dates)\n"
   ]
  },
  {
   "cell_type": "code",
   "execution_count": 37,
   "metadata": {},
   "outputs": [
    {
     "data": {
      "text/plain": [
       "60"
      ]
     },
     "execution_count": 37,
     "metadata": {},
     "output_type": "execute_result"
    }
   ],
   "source": [
    "len(Pred_rata)\n"
   ]
  },
  {
   "cell_type": "code",
   "execution_count": 38,
   "metadata": {},
   "outputs": [
    {
     "data": {
      "text/plain": [
       "60"
      ]
     },
     "execution_count": 38,
     "metadata": {},
     "output_type": "execute_result"
    }
   ],
   "source": [
    "len(df_asli_rata)"
   ]
  },
  {
   "cell_type": "code",
   "execution_count": 39,
   "metadata": {},
   "outputs": [],
   "source": [
    "dict = {'bulan': add_dates, 'data ':mae}\n",
    "df = pd.DataFrame(dict)"
   ]
  },
  {
   "cell_type": "code",
   "execution_count": 40,
   "metadata": {},
   "outputs": [
    {
     "data": {
      "text/html": [
       "<div>\n",
       "<style scoped>\n",
       "    .dataframe tbody tr th:only-of-type {\n",
       "        vertical-align: middle;\n",
       "    }\n",
       "\n",
       "    .dataframe tbody tr th {\n",
       "        vertical-align: top;\n",
       "    }\n",
       "\n",
       "    .dataframe thead th {\n",
       "        text-align: right;\n",
       "    }\n",
       "</style>\n",
       "<table border=\"1\" class=\"dataframe\">\n",
       "  <thead>\n",
       "    <tr style=\"text-align: right;\">\n",
       "      <th></th>\n",
       "      <th>bulan</th>\n",
       "      <th>data</th>\n",
       "    </tr>\n",
       "  </thead>\n",
       "  <tbody>\n",
       "    <tr>\n",
       "      <th>0</th>\n",
       "      <td>2012-01-01</td>\n",
       "      <td>0.047951</td>\n",
       "    </tr>\n",
       "    <tr>\n",
       "      <th>1</th>\n",
       "      <td>2012-02-01</td>\n",
       "      <td>0.026991</td>\n",
       "    </tr>\n",
       "    <tr>\n",
       "      <th>2</th>\n",
       "      <td>2012-03-01</td>\n",
       "      <td>0.053202</td>\n",
       "    </tr>\n",
       "    <tr>\n",
       "      <th>3</th>\n",
       "      <td>2012-04-01</td>\n",
       "      <td>0.002448</td>\n",
       "    </tr>\n",
       "    <tr>\n",
       "      <th>4</th>\n",
       "      <td>2012-05-01</td>\n",
       "      <td>0.002449</td>\n",
       "    </tr>\n",
       "    <tr>\n",
       "      <th>5</th>\n",
       "      <td>2012-06-01</td>\n",
       "      <td>0.001956</td>\n",
       "    </tr>\n",
       "    <tr>\n",
       "      <th>6</th>\n",
       "      <td>2012-07-01</td>\n",
       "      <td>0.003324</td>\n",
       "    </tr>\n",
       "    <tr>\n",
       "      <th>7</th>\n",
       "      <td>2012-08-01</td>\n",
       "      <td>0.020770</td>\n",
       "    </tr>\n",
       "    <tr>\n",
       "      <th>8</th>\n",
       "      <td>2012-09-01</td>\n",
       "      <td>0.072419</td>\n",
       "    </tr>\n",
       "    <tr>\n",
       "      <th>9</th>\n",
       "      <td>2012-10-01</td>\n",
       "      <td>0.004228</td>\n",
       "    </tr>\n",
       "    <tr>\n",
       "      <th>10</th>\n",
       "      <td>2012-11-01</td>\n",
       "      <td>0.002466</td>\n",
       "    </tr>\n",
       "    <tr>\n",
       "      <th>11</th>\n",
       "      <td>2012-12-01</td>\n",
       "      <td>0.002466</td>\n",
       "    </tr>\n",
       "    <tr>\n",
       "      <th>12</th>\n",
       "      <td>2013-01-01</td>\n",
       "      <td>0.066779</td>\n",
       "    </tr>\n",
       "    <tr>\n",
       "      <th>13</th>\n",
       "      <td>2013-02-01</td>\n",
       "      <td>0.042375</td>\n",
       "    </tr>\n",
       "    <tr>\n",
       "      <th>14</th>\n",
       "      <td>2013-03-01</td>\n",
       "      <td>0.066101</td>\n",
       "    </tr>\n",
       "    <tr>\n",
       "      <th>15</th>\n",
       "      <td>2013-04-01</td>\n",
       "      <td>0.002448</td>\n",
       "    </tr>\n",
       "    <tr>\n",
       "      <th>16</th>\n",
       "      <td>2013-05-01</td>\n",
       "      <td>0.002449</td>\n",
       "    </tr>\n",
       "    <tr>\n",
       "      <th>17</th>\n",
       "      <td>2013-06-01</td>\n",
       "      <td>0.001393</td>\n",
       "    </tr>\n",
       "    <tr>\n",
       "      <th>18</th>\n",
       "      <td>2013-07-01</td>\n",
       "      <td>0.003686</td>\n",
       "    </tr>\n",
       "    <tr>\n",
       "      <th>19</th>\n",
       "      <td>2013-08-01</td>\n",
       "      <td>0.024530</td>\n",
       "    </tr>\n",
       "    <tr>\n",
       "      <th>20</th>\n",
       "      <td>2013-09-01</td>\n",
       "      <td>0.071403</td>\n",
       "    </tr>\n",
       "    <tr>\n",
       "      <th>21</th>\n",
       "      <td>2013-10-01</td>\n",
       "      <td>0.003535</td>\n",
       "    </tr>\n",
       "    <tr>\n",
       "      <th>22</th>\n",
       "      <td>2013-11-01</td>\n",
       "      <td>0.002466</td>\n",
       "    </tr>\n",
       "    <tr>\n",
       "      <th>23</th>\n",
       "      <td>2013-12-01</td>\n",
       "      <td>0.002466</td>\n",
       "    </tr>\n",
       "    <tr>\n",
       "      <th>24</th>\n",
       "      <td>2014-01-01</td>\n",
       "      <td>0.041262</td>\n",
       "    </tr>\n",
       "    <tr>\n",
       "      <th>25</th>\n",
       "      <td>2014-02-01</td>\n",
       "      <td>0.016568</td>\n",
       "    </tr>\n",
       "    <tr>\n",
       "      <th>26</th>\n",
       "      <td>2014-03-01</td>\n",
       "      <td>0.039191</td>\n",
       "    </tr>\n",
       "    <tr>\n",
       "      <th>27</th>\n",
       "      <td>2014-04-01</td>\n",
       "      <td>0.002448</td>\n",
       "    </tr>\n",
       "    <tr>\n",
       "      <th>28</th>\n",
       "      <td>2014-05-01</td>\n",
       "      <td>0.002449</td>\n",
       "    </tr>\n",
       "    <tr>\n",
       "      <th>29</th>\n",
       "      <td>2014-06-01</td>\n",
       "      <td>0.002033</td>\n",
       "    </tr>\n",
       "    <tr>\n",
       "      <th>30</th>\n",
       "      <td>2014-07-01</td>\n",
       "      <td>0.004315</td>\n",
       "    </tr>\n",
       "    <tr>\n",
       "      <th>31</th>\n",
       "      <td>2014-08-01</td>\n",
       "      <td>0.017859</td>\n",
       "    </tr>\n",
       "    <tr>\n",
       "      <th>32</th>\n",
       "      <td>2014-09-01</td>\n",
       "      <td>0.072379</td>\n",
       "    </tr>\n",
       "    <tr>\n",
       "      <th>33</th>\n",
       "      <td>2014-10-01</td>\n",
       "      <td>0.003637</td>\n",
       "    </tr>\n",
       "    <tr>\n",
       "      <th>34</th>\n",
       "      <td>2014-11-01</td>\n",
       "      <td>0.002466</td>\n",
       "    </tr>\n",
       "    <tr>\n",
       "      <th>35</th>\n",
       "      <td>2014-12-01</td>\n",
       "      <td>0.002473</td>\n",
       "    </tr>\n",
       "    <tr>\n",
       "      <th>36</th>\n",
       "      <td>2015-01-01</td>\n",
       "      <td>0.002542</td>\n",
       "    </tr>\n",
       "    <tr>\n",
       "      <th>37</th>\n",
       "      <td>2015-02-01</td>\n",
       "      <td>0.002449</td>\n",
       "    </tr>\n",
       "    <tr>\n",
       "      <th>38</th>\n",
       "      <td>2015-03-01</td>\n",
       "      <td>0.002449</td>\n",
       "    </tr>\n",
       "    <tr>\n",
       "      <th>39</th>\n",
       "      <td>2015-04-01</td>\n",
       "      <td>0.002448</td>\n",
       "    </tr>\n",
       "    <tr>\n",
       "      <th>40</th>\n",
       "      <td>2015-05-01</td>\n",
       "      <td>0.002449</td>\n",
       "    </tr>\n",
       "    <tr>\n",
       "      <th>41</th>\n",
       "      <td>2015-06-01</td>\n",
       "      <td>0.002449</td>\n",
       "    </tr>\n",
       "    <tr>\n",
       "      <th>42</th>\n",
       "      <td>2015-07-01</td>\n",
       "      <td>0.009663</td>\n",
       "    </tr>\n",
       "    <tr>\n",
       "      <th>43</th>\n",
       "      <td>2015-08-01</td>\n",
       "      <td>0.005252</td>\n",
       "    </tr>\n",
       "    <tr>\n",
       "      <th>44</th>\n",
       "      <td>2015-09-01</td>\n",
       "      <td>0.078355</td>\n",
       "    </tr>\n",
       "    <tr>\n",
       "      <th>45</th>\n",
       "      <td>2015-10-01</td>\n",
       "      <td>0.004951</td>\n",
       "    </tr>\n",
       "    <tr>\n",
       "      <th>46</th>\n",
       "      <td>2015-11-01</td>\n",
       "      <td>0.002466</td>\n",
       "    </tr>\n",
       "    <tr>\n",
       "      <th>47</th>\n",
       "      <td>2015-12-01</td>\n",
       "      <td>0.017637</td>\n",
       "    </tr>\n",
       "    <tr>\n",
       "      <th>48</th>\n",
       "      <td>2016-01-01</td>\n",
       "      <td>0.097663</td>\n",
       "    </tr>\n",
       "    <tr>\n",
       "      <th>49</th>\n",
       "      <td>2016-02-01</td>\n",
       "      <td>0.064201</td>\n",
       "    </tr>\n",
       "    <tr>\n",
       "      <th>50</th>\n",
       "      <td>2016-03-01</td>\n",
       "      <td>0.084771</td>\n",
       "    </tr>\n",
       "    <tr>\n",
       "      <th>51</th>\n",
       "      <td>2016-04-01</td>\n",
       "      <td>0.002448</td>\n",
       "    </tr>\n",
       "    <tr>\n",
       "      <th>52</th>\n",
       "      <td>2016-05-01</td>\n",
       "      <td>0.002448</td>\n",
       "    </tr>\n",
       "    <tr>\n",
       "      <th>53</th>\n",
       "      <td>2016-06-01</td>\n",
       "      <td>0.001461</td>\n",
       "    </tr>\n",
       "    <tr>\n",
       "      <th>54</th>\n",
       "      <td>2016-07-01</td>\n",
       "      <td>0.003310</td>\n",
       "    </tr>\n",
       "    <tr>\n",
       "      <th>55</th>\n",
       "      <td>2016-08-01</td>\n",
       "      <td>0.028451</td>\n",
       "    </tr>\n",
       "    <tr>\n",
       "      <th>56</th>\n",
       "      <td>2016-09-01</td>\n",
       "      <td>0.069271</td>\n",
       "    </tr>\n",
       "    <tr>\n",
       "      <th>57</th>\n",
       "      <td>2016-10-01</td>\n",
       "      <td>0.002897</td>\n",
       "    </tr>\n",
       "    <tr>\n",
       "      <th>58</th>\n",
       "      <td>2016-11-01</td>\n",
       "      <td>0.002448</td>\n",
       "    </tr>\n",
       "    <tr>\n",
       "      <th>59</th>\n",
       "      <td>2016-12-01</td>\n",
       "      <td>0.002448</td>\n",
       "    </tr>\n",
       "  </tbody>\n",
       "</table>\n",
       "</div>"
      ],
      "text/plain": [
       "        bulan     data \n",
       "0  2012-01-01  0.047951\n",
       "1  2012-02-01  0.026991\n",
       "2  2012-03-01  0.053202\n",
       "3  2012-04-01  0.002448\n",
       "4  2012-05-01  0.002449\n",
       "5  2012-06-01  0.001956\n",
       "6  2012-07-01  0.003324\n",
       "7  2012-08-01  0.020770\n",
       "8  2012-09-01  0.072419\n",
       "9  2012-10-01  0.004228\n",
       "10 2012-11-01  0.002466\n",
       "11 2012-12-01  0.002466\n",
       "12 2013-01-01  0.066779\n",
       "13 2013-02-01  0.042375\n",
       "14 2013-03-01  0.066101\n",
       "15 2013-04-01  0.002448\n",
       "16 2013-05-01  0.002449\n",
       "17 2013-06-01  0.001393\n",
       "18 2013-07-01  0.003686\n",
       "19 2013-08-01  0.024530\n",
       "20 2013-09-01  0.071403\n",
       "21 2013-10-01  0.003535\n",
       "22 2013-11-01  0.002466\n",
       "23 2013-12-01  0.002466\n",
       "24 2014-01-01  0.041262\n",
       "25 2014-02-01  0.016568\n",
       "26 2014-03-01  0.039191\n",
       "27 2014-04-01  0.002448\n",
       "28 2014-05-01  0.002449\n",
       "29 2014-06-01  0.002033\n",
       "30 2014-07-01  0.004315\n",
       "31 2014-08-01  0.017859\n",
       "32 2014-09-01  0.072379\n",
       "33 2014-10-01  0.003637\n",
       "34 2014-11-01  0.002466\n",
       "35 2014-12-01  0.002473\n",
       "36 2015-01-01  0.002542\n",
       "37 2015-02-01  0.002449\n",
       "38 2015-03-01  0.002449\n",
       "39 2015-04-01  0.002448\n",
       "40 2015-05-01  0.002449\n",
       "41 2015-06-01  0.002449\n",
       "42 2015-07-01  0.009663\n",
       "43 2015-08-01  0.005252\n",
       "44 2015-09-01  0.078355\n",
       "45 2015-10-01  0.004951\n",
       "46 2015-11-01  0.002466\n",
       "47 2015-12-01  0.017637\n",
       "48 2016-01-01  0.097663\n",
       "49 2016-02-01  0.064201\n",
       "50 2016-03-01  0.084771\n",
       "51 2016-04-01  0.002448\n",
       "52 2016-05-01  0.002448\n",
       "53 2016-06-01  0.001461\n",
       "54 2016-07-01  0.003310\n",
       "55 2016-08-01  0.028451\n",
       "56 2016-09-01  0.069271\n",
       "57 2016-10-01  0.002897\n",
       "58 2016-11-01  0.002448\n",
       "59 2016-12-01  0.002448"
      ]
     },
     "execution_count": 40,
     "metadata": {},
     "output_type": "execute_result"
    }
   ],
   "source": [
    "df"
   ]
  },
  {
   "cell_type": "code",
   "execution_count": 41,
   "metadata": {},
   "outputs": [
    {
     "data": {
      "text/plain": [
       "[<matplotlib.lines.Line2D at 0x281ef195b00>]"
      ]
     },
     "execution_count": 41,
     "metadata": {},
     "output_type": "execute_result"
    },
    {
     "data": {
      "image/png": "[encoded data removed]",
      "text/plain": [
       "<Figure size 1440x360 with 1 Axes>"
      ]
     },
     "metadata": {
      "needs_background": "light"
     },
     "output_type": "display_data"
    }
   ],
   "source": [
    "df = df.set_index(\"bulan\")\n",
    "plt.figure(figsize=(20, 5))\n",
    "plt.plot(df.index,df)"
   ]
  },
  {
   "cell_type": "code",
   "execution_count": 42,
   "metadata": {},
   "outputs": [
    {
     "data": {
      "text/html": [
       "<div>\n",
       "<style scoped>\n",
       "    .dataframe tbody tr th:only-of-type {\n",
       "        vertical-align: middle;\n",
       "    }\n",
       "\n",
       "    .dataframe tbody tr th {\n",
       "        vertical-align: top;\n",
       "    }\n",
       "\n",
       "    .dataframe thead th {\n",
       "        text-align: right;\n",
       "    }\n",
       "</style>\n",
       "<table border=\"1\" class=\"dataframe\">\n",
       "  <thead>\n",
       "    <tr style=\"text-align: right;\">\n",
       "      <th></th>\n",
       "      <th>bulan</th>\n",
       "      <th>data prediksi</th>\n",
       "      <th>data asli</th>\n",
       "    </tr>\n",
       "  </thead>\n",
       "  <tbody>\n",
       "    <tr>\n",
       "      <th>0</th>\n",
       "      <td>2012-01-01</td>\n",
       "      <td>0.002449</td>\n",
       "      <td>5.036144e-02</td>\n",
       "    </tr>\n",
       "    <tr>\n",
       "      <th>1</th>\n",
       "      <td>2012-02-01</td>\n",
       "      <td>0.002449</td>\n",
       "      <td>2.939421e-02</td>\n",
       "    </tr>\n",
       "    <tr>\n",
       "      <th>2</th>\n",
       "      <td>2012-03-01</td>\n",
       "      <td>0.002449</td>\n",
       "      <td>5.561152e-02</td>\n",
       "    </tr>\n",
       "    <tr>\n",
       "      <th>3</th>\n",
       "      <td>2012-04-01</td>\n",
       "      <td>0.002448</td>\n",
       "      <td>0.000000e+00</td>\n",
       "    </tr>\n",
       "    <tr>\n",
       "      <th>4</th>\n",
       "      <td>2012-05-01</td>\n",
       "      <td>0.002449</td>\n",
       "      <td>0.000000e+00</td>\n",
       "    </tr>\n",
       "    <tr>\n",
       "      <th>5</th>\n",
       "      <td>2012-06-01</td>\n",
       "      <td>0.002449</td>\n",
       "      <td>4.985998e-04</td>\n",
       "    </tr>\n",
       "    <tr>\n",
       "      <th>6</th>\n",
       "      <td>2012-07-01</td>\n",
       "      <td>0.002449</td>\n",
       "      <td>4.732139e-03</td>\n",
       "    </tr>\n",
       "    <tr>\n",
       "      <th>7</th>\n",
       "      <td>2012-08-01</td>\n",
       "      <td>0.002449</td>\n",
       "      <td>2.313566e-02</td>\n",
       "    </tr>\n",
       "    <tr>\n",
       "      <th>8</th>\n",
       "      <td>2012-09-01</td>\n",
       "      <td>0.002449</td>\n",
       "      <td>7.482821e-02</td>\n",
       "    </tr>\n",
       "    <tr>\n",
       "      <th>9</th>\n",
       "      <td>2012-10-01</td>\n",
       "      <td>0.002466</td>\n",
       "      <td>1.951756e-03</td>\n",
       "    </tr>\n",
       "    <tr>\n",
       "      <th>10</th>\n",
       "      <td>2012-11-01</td>\n",
       "      <td>0.002466</td>\n",
       "      <td>0.000000e+00</td>\n",
       "    </tr>\n",
       "    <tr>\n",
       "      <th>11</th>\n",
       "      <td>2012-12-01</td>\n",
       "      <td>0.002466</td>\n",
       "      <td>8.443186e-07</td>\n",
       "    </tr>\n",
       "    <tr>\n",
       "      <th>12</th>\n",
       "      <td>2013-01-01</td>\n",
       "      <td>0.002449</td>\n",
       "      <td>6.918903e-02</td>\n",
       "    </tr>\n",
       "    <tr>\n",
       "      <th>13</th>\n",
       "      <td>2013-02-01</td>\n",
       "      <td>0.002449</td>\n",
       "      <td>4.478209e-02</td>\n",
       "    </tr>\n",
       "    <tr>\n",
       "      <th>14</th>\n",
       "      <td>2013-03-01</td>\n",
       "      <td>0.002449</td>\n",
       "      <td>6.851169e-02</td>\n",
       "    </tr>\n",
       "    <tr>\n",
       "      <th>15</th>\n",
       "      <td>2013-04-01</td>\n",
       "      <td>0.002448</td>\n",
       "      <td>0.000000e+00</td>\n",
       "    </tr>\n",
       "    <tr>\n",
       "      <th>16</th>\n",
       "      <td>2013-05-01</td>\n",
       "      <td>0.002449</td>\n",
       "      <td>0.000000e+00</td>\n",
       "    </tr>\n",
       "    <tr>\n",
       "      <th>17</th>\n",
       "      <td>2013-06-01</td>\n",
       "      <td>0.002449</td>\n",
       "      <td>1.527034e-03</td>\n",
       "    </tr>\n",
       "    <tr>\n",
       "      <th>18</th>\n",
       "      <td>2013-07-01</td>\n",
       "      <td>0.002449</td>\n",
       "      <td>5.131007e-03</td>\n",
       "    </tr>\n",
       "    <tr>\n",
       "      <th>19</th>\n",
       "      <td>2013-08-01</td>\n",
       "      <td>0.002449</td>\n",
       "      <td>2.690689e-02</td>\n",
       "    </tr>\n",
       "    <tr>\n",
       "      <th>20</th>\n",
       "      <td>2013-09-01</td>\n",
       "      <td>0.002449</td>\n",
       "      <td>7.381216e-02</td>\n",
       "    </tr>\n",
       "    <tr>\n",
       "      <th>21</th>\n",
       "      <td>2013-10-01</td>\n",
       "      <td>0.002466</td>\n",
       "      <td>1.237466e-03</td>\n",
       "    </tr>\n",
       "    <tr>\n",
       "      <th>22</th>\n",
       "      <td>2013-11-01</td>\n",
       "      <td>0.002466</td>\n",
       "      <td>0.000000e+00</td>\n",
       "    </tr>\n",
       "    <tr>\n",
       "      <th>23</th>\n",
       "      <td>2013-12-01</td>\n",
       "      <td>0.002466</td>\n",
       "      <td>0.000000e+00</td>\n",
       "    </tr>\n",
       "    <tr>\n",
       "      <th>24</th>\n",
       "      <td>2014-01-01</td>\n",
       "      <td>0.002449</td>\n",
       "      <td>4.367229e-02</td>\n",
       "    </tr>\n",
       "    <tr>\n",
       "      <th>25</th>\n",
       "      <td>2014-02-01</td>\n",
       "      <td>0.002449</td>\n",
       "      <td>1.876399e-02</td>\n",
       "    </tr>\n",
       "    <tr>\n",
       "      <th>26</th>\n",
       "      <td>2014-03-01</td>\n",
       "      <td>0.002449</td>\n",
       "      <td>4.160067e-02</td>\n",
       "    </tr>\n",
       "    <tr>\n",
       "      <th>27</th>\n",
       "      <td>2014-04-01</td>\n",
       "      <td>0.002448</td>\n",
       "      <td>0.000000e+00</td>\n",
       "    </tr>\n",
       "    <tr>\n",
       "      <th>28</th>\n",
       "      <td>2014-05-01</td>\n",
       "      <td>0.002449</td>\n",
       "      <td>0.000000e+00</td>\n",
       "    </tr>\n",
       "    <tr>\n",
       "      <th>29</th>\n",
       "      <td>2014-06-01</td>\n",
       "      <td>0.002449</td>\n",
       "      <td>4.231010e-04</td>\n",
       "    </tr>\n",
       "    <tr>\n",
       "      <th>30</th>\n",
       "      <td>2014-07-01</td>\n",
       "      <td>0.002449</td>\n",
       "      <td>6.038710e-03</td>\n",
       "    </tr>\n",
       "    <tr>\n",
       "      <th>31</th>\n",
       "      <td>2014-08-01</td>\n",
       "      <td>0.002449</td>\n",
       "      <td>2.021037e-02</td>\n",
       "    </tr>\n",
       "    <tr>\n",
       "      <th>32</th>\n",
       "      <td>2014-09-01</td>\n",
       "      <td>0.002449</td>\n",
       "      <td>7.478870e-02</td>\n",
       "    </tr>\n",
       "    <tr>\n",
       "      <th>33</th>\n",
       "      <td>2014-10-01</td>\n",
       "      <td>0.002467</td>\n",
       "      <td>1.343593e-03</td>\n",
       "    </tr>\n",
       "    <tr>\n",
       "      <th>34</th>\n",
       "      <td>2014-11-01</td>\n",
       "      <td>0.002466</td>\n",
       "      <td>0.000000e+00</td>\n",
       "    </tr>\n",
       "    <tr>\n",
       "      <th>35</th>\n",
       "      <td>2014-12-01</td>\n",
       "      <td>0.002466</td>\n",
       "      <td>7.588192e-06</td>\n",
       "    </tr>\n",
       "    <tr>\n",
       "      <th>36</th>\n",
       "      <td>2015-01-01</td>\n",
       "      <td>0.002449</td>\n",
       "      <td>9.328075e-05</td>\n",
       "    </tr>\n",
       "    <tr>\n",
       "      <th>37</th>\n",
       "      <td>2015-02-01</td>\n",
       "      <td>0.002449</td>\n",
       "      <td>0.000000e+00</td>\n",
       "    </tr>\n",
       "    <tr>\n",
       "      <th>38</th>\n",
       "      <td>2015-03-01</td>\n",
       "      <td>0.002449</td>\n",
       "      <td>0.000000e+00</td>\n",
       "    </tr>\n",
       "    <tr>\n",
       "      <th>39</th>\n",
       "      <td>2015-04-01</td>\n",
       "      <td>0.002448</td>\n",
       "      <td>0.000000e+00</td>\n",
       "    </tr>\n",
       "    <tr>\n",
       "      <th>40</th>\n",
       "      <td>2015-05-01</td>\n",
       "      <td>0.002449</td>\n",
       "      <td>0.000000e+00</td>\n",
       "    </tr>\n",
       "    <tr>\n",
       "      <th>41</th>\n",
       "      <td>2015-06-01</td>\n",
       "      <td>0.002449</td>\n",
       "      <td>0.000000e+00</td>\n",
       "    </tr>\n",
       "    <tr>\n",
       "      <th>42</th>\n",
       "      <td>2015-07-01</td>\n",
       "      <td>0.002449</td>\n",
       "      <td>1.143431e-02</td>\n",
       "    </tr>\n",
       "    <tr>\n",
       "      <th>43</th>\n",
       "      <td>2015-08-01</td>\n",
       "      <td>0.002449</td>\n",
       "      <td>5.005872e-03</td>\n",
       "    </tr>\n",
       "    <tr>\n",
       "      <th>44</th>\n",
       "      <td>2015-09-01</td>\n",
       "      <td>0.002449</td>\n",
       "      <td>8.076222e-02</td>\n",
       "    </tr>\n",
       "    <tr>\n",
       "      <th>45</th>\n",
       "      <td>2015-10-01</td>\n",
       "      <td>0.002467</td>\n",
       "      <td>2.689389e-03</td>\n",
       "    </tr>\n",
       "    <tr>\n",
       "      <th>46</th>\n",
       "      <td>2015-11-01</td>\n",
       "      <td>0.002466</td>\n",
       "      <td>0.000000e+00</td>\n",
       "    </tr>\n",
       "    <tr>\n",
       "      <th>47</th>\n",
       "      <td>2015-12-01</td>\n",
       "      <td>0.002466</td>\n",
       "      <td>1.959673e-02</td>\n",
       "    </tr>\n",
       "    <tr>\n",
       "      <th>48</th>\n",
       "      <td>2016-01-01</td>\n",
       "      <td>0.002448</td>\n",
       "      <td>1.000722e-01</td>\n",
       "    </tr>\n",
       "    <tr>\n",
       "      <th>49</th>\n",
       "      <td>2016-02-01</td>\n",
       "      <td>0.002448</td>\n",
       "      <td>6.660953e-02</td>\n",
       "    </tr>\n",
       "    <tr>\n",
       "      <th>50</th>\n",
       "      <td>2016-03-01</td>\n",
       "      <td>0.002448</td>\n",
       "      <td>8.718035e-02</td>\n",
       "    </tr>\n",
       "    <tr>\n",
       "      <th>51</th>\n",
       "      <td>2016-04-01</td>\n",
       "      <td>0.002448</td>\n",
       "      <td>0.000000e+00</td>\n",
       "    </tr>\n",
       "    <tr>\n",
       "      <th>52</th>\n",
       "      <td>2016-05-01</td>\n",
       "      <td>0.002448</td>\n",
       "      <td>0.000000e+00</td>\n",
       "    </tr>\n",
       "    <tr>\n",
       "      <th>53</th>\n",
       "      <td>2016-06-01</td>\n",
       "      <td>0.002449</td>\n",
       "      <td>1.225306e-03</td>\n",
       "    </tr>\n",
       "    <tr>\n",
       "      <th>54</th>\n",
       "      <td>2016-07-01</td>\n",
       "      <td>0.002449</td>\n",
       "      <td>4.553074e-03</td>\n",
       "    </tr>\n",
       "    <tr>\n",
       "      <th>55</th>\n",
       "      <td>2016-08-01</td>\n",
       "      <td>0.002449</td>\n",
       "      <td>3.083398e-02</td>\n",
       "    </tr>\n",
       "    <tr>\n",
       "      <th>56</th>\n",
       "      <td>2016-09-01</td>\n",
       "      <td>0.002449</td>\n",
       "      <td>7.168045e-02</td>\n",
       "    </tr>\n",
       "    <tr>\n",
       "      <th>57</th>\n",
       "      <td>2016-10-01</td>\n",
       "      <td>0.002448</td>\n",
       "      <td>5.363363e-04</td>\n",
       "    </tr>\n",
       "    <tr>\n",
       "      <th>58</th>\n",
       "      <td>2016-11-01</td>\n",
       "      <td>0.002448</td>\n",
       "      <td>0.000000e+00</td>\n",
       "    </tr>\n",
       "    <tr>\n",
       "      <th>59</th>\n",
       "      <td>2016-12-01</td>\n",
       "      <td>0.002448</td>\n",
       "      <td>0.000000e+00</td>\n",
       "    </tr>\n",
       "  </tbody>\n",
       "</table>\n",
       "</div>"
      ],
      "text/plain": [
       "        bulan  data prediksi     data asli\n",
       "0  2012-01-01       0.002449  5.036144e-02\n",
       "1  2012-02-01       0.002449  2.939421e-02\n",
       "2  2012-03-01       0.002449  5.561152e-02\n",
       "3  2012-04-01       0.002448  0.000000e+00\n",
       "4  2012-05-01       0.002449  0.000000e+00\n",
       "5  2012-06-01       0.002449  4.985998e-04\n",
       "6  2012-07-01       0.002449  4.732139e-03\n",
       "7  2012-08-01       0.002449  2.313566e-02\n",
       "8  2012-09-01       0.002449  7.482821e-02\n",
       "9  2012-10-01       0.002466  1.951756e-03\n",
       "10 2012-11-01       0.002466  0.000000e+00\n",
       "11 2012-12-01       0.002466  8.443186e-07\n",
       "12 2013-01-01       0.002449  6.918903e-02\n",
       "13 2013-02-01       0.002449  4.478209e-02\n",
       "14 2013-03-01       0.002449  6.851169e-02\n",
       "15 2013-04-01       0.002448  0.000000e+00\n",
       "16 2013-05-01       0.002449  0.000000e+00\n",
       "17 2013-06-01       0.002449  1.527034e-03\n",
       "18 2013-07-01       0.002449  5.131007e-03\n",
       "19 2013-08-01       0.002449  2.690689e-02\n",
       "20 2013-09-01       0.002449  7.381216e-02\n",
       "21 2013-10-01       0.002466  1.237466e-03\n",
       "22 2013-11-01       0.002466  0.000000e+00\n",
       "23 2013-12-01       0.002466  0.000000e+00\n",
       "24 2014-01-01       0.002449  4.367229e-02\n",
       "25 2014-02-01       0.002449  1.876399e-02\n",
       "26 2014-03-01       0.002449  4.160067e-02\n",
       "27 2014-04-01       0.002448  0.000000e+00\n",
       "28 2014-05-01       0.002449  0.000000e+00\n",
       "29 2014-06-01       0.002449  4.231010e-04\n",
       "30 2014-07-01       0.002449  6.038710e-03\n",
       "31 2014-08-01       0.002449  2.021037e-02\n",
       "32 2014-09-01       0.002449  7.478870e-02\n",
       "33 2014-10-01       0.002467  1.343593e-03\n",
       "34 2014-11-01       0.002466  0.000000e+00\n",
       "35 2014-12-01       0.002466  7.588192e-06\n",
       "36 2015-01-01       0.002449  9.328075e-05\n",
       "37 2015-02-01       0.002449  0.000000e+00\n",
       "38 2015-03-01       0.002449  0.000000e+00\n",
       "39 2015-04-01       0.002448  0.000000e+00\n",
       "40 2015-05-01       0.002449  0.000000e+00\n",
       "41 2015-06-01       0.002449  0.000000e+00\n",
       "42 2015-07-01       0.002449  1.143431e-02\n",
       "43 2015-08-01       0.002449  5.005872e-03\n",
       "44 2015-09-01       0.002449  8.076222e-02\n",
       "45 2015-10-01       0.002467  2.689389e-03\n",
       "46 2015-11-01       0.002466  0.000000e+00\n",
       "47 2015-12-01       0.002466  1.959673e-02\n",
       "48 2016-01-01       0.002448  1.000722e-01\n",
       "49 2016-02-01       0.002448  6.660953e-02\n",
       "50 2016-03-01       0.002448  8.718035e-02\n",
       "51 2016-04-01       0.002448  0.000000e+00\n",
       "52 2016-05-01       0.002448  0.000000e+00\n",
       "53 2016-06-01       0.002449  1.225306e-03\n",
       "54 2016-07-01       0.002449  4.553074e-03\n",
       "55 2016-08-01       0.002449  3.083398e-02\n",
       "56 2016-09-01       0.002449  7.168045e-02\n",
       "57 2016-10-01       0.002448  5.363363e-04\n",
       "58 2016-11-01       0.002448  0.000000e+00\n",
       "59 2016-12-01       0.002448  0.000000e+00"
      ]
     },
     "execution_count": 42,
     "metadata": {},
     "output_type": "execute_result"
    }
   ],
   "source": [
    "dict = {'bulan': add_dates, 'data prediksi':Pred_rata, 'data asli':df_asli_rata}\n",
    "df = pd.DataFrame(dict)\n",
    "df\n"
   ]
  },
  {
   "cell_type": "code",
   "execution_count": 43,
   "metadata": {},
   "outputs": [
    {
     "data": {
      "image/png": "[encoded data removed]",
      "text/plain": [
       "<Figure size 1440x360 with 1 Axes>"
      ]
     },
     "metadata": {
      "needs_background": "light"
     },
     "output_type": "display_data"
    }
   ],
   "source": [
    "# df_asli = data_4\n",
    "df = df.set_index(\"bulan\")\n",
    "plt.figure(figsize=(20, 5))\n",
    "plt.plot(df.index, df_asli_rata[-60:], color='b', label=\"observasi\")\n",
    "plt.plot(df.index, Pred_rata[-60:], color='r', label=\"prediksi\")\n",
    "plt.legend(loc='best', fontsize='xx-large')\n",
    "plt.xticks(fontsize=18)\n",
    "plt.yticks(fontsize=16)\n",
    "plt.show()"
   ]
  },
  {
   "cell_type": "code",
   "execution_count": 44,
   "metadata": {},
   "outputs": [
    {
     "data": {
      "image/png": "[encoded data removed]",
      "text/plain": [
       "<Figure size 432x288 with 1 Axes>"
      ]
     },
     "metadata": {
      "needs_background": "light"
     },
     "output_type": "display_data"
    }
   ],
   "source": [
    "# # Time series data\n",
    "\n",
    "# data = mae\n",
    "\n",
    " \n",
    "\n",
    "# # Plot autocorrelation\n",
    "\n",
    "# plt.acorr(data, maxlags=12)\n",
    "\n",
    " \n",
    "\n",
    "# # Add labels to autocorrelation plot\n",
    "\n",
    "# plt.title('Autocorrelation of LSTM')\n",
    "\n",
    "# plt.xlabel('Lag')\n",
    "\n",
    "# plt.ylabel('Autocorrelation')\n",
    "\n",
    " \n",
    "\n",
    "# # Display the autocorrelation plot\n",
    "\n",
    "# plt.show()\n",
    "\n",
    "import statsmodels.tsa.api as smt\n",
    "\n",
    "acf = smt.graphics.plot_acf(mae, lags=12 , alpha=0.05)\n",
    "acf.show()"
   ]
  },
  {
   "cell_type": "code",
   "execution_count": 45,
   "metadata": {},
   "outputs": [
    {
     "data": {
      "image/png": "[encoded data removed]",
      "text/plain": [
       "<Figure size 432x288 with 1 Axes>"
      ]
     },
     "metadata": {
      "needs_background": "light"
     },
     "output_type": "display_data"
    }
   ],
   "source": [
    "pacf = smt.graphics.plot_pacf(mae, lags=12 , alpha=0.05)\n",
    "pacf.show()"
   ]
  },
  {
   "cell_type": "code",
   "execution_count": 46,
   "metadata": {},
   "outputs": [
    {
     "data": {
      "text/plain": [
       "<matplotlib.image.AxesImage at 0x281f250eb00>"
      ]
     },
     "execution_count": 46,
     "metadata": {},
     "output_type": "execute_result"
    },
    {
     "data": {
      "image/png": "[encoded data removed]",
      "text/plain": [
       "<Figure size 432x288 with 1 Axes>"
      ]
     },
     "metadata": {
      "needs_background": "light"
     },
     "output_type": "display_data"
    }
   ],
   "source": [
    "plt.imshow((df_asli[59]-pred_list[59]).reshape(83,114))"
   ]
  },
  {
   "cell_type": "code",
   "execution_count": 47,
   "metadata": {},
   "outputs": [
    {
     "data": {
      "text/plain": [
       "0.020538477584126285"
      ]
     },
     "execution_count": 47,
     "metadata": {},
     "output_type": "execute_result"
    }
   ],
   "source": [
    "sum(mae)/60"
   ]
  },
  {
   "cell_type": "code",
   "execution_count": 48,
   "metadata": {},
   "outputs": [],
   "source": [
    "from skimage import io\n",
    "# io.imsave('NewRaster/201201.tif', pred_list[0].reshape(83,114))"
   ]
  },
  {
   "cell_type": "code",
   "execution_count": 49,
   "metadata": {},
   "outputs": [],
   "source": [
    "pred_list[pred_list==0]=-9999"
   ]
  },
  {
   "cell_type": "code",
   "execution_count": 50,
   "metadata": {},
   "outputs": [
    {
     "data": {
      "text/plain": [
       "'Raster_1/201612.tif'"
      ]
     },
     "execution_count": 50,
     "metadata": {},
     "output_type": "execute_result"
    }
   ],
   "source": [
    "no=0\n",
    "for pred in pred_list:\n",
    "    if(add_dates[no].month<10):\n",
    "        nama_file = 'Raster_1/'+str(add_dates[no].year)+'0'+str(add_dates[no].month)+'.tif'\n",
    "    else:\n",
    "        nama_file = 'Raster_1/'+str(add_dates[no].year)+str(add_dates[no].month)+'.tif'\n",
    "            \n",
    "    io.imsave(nama_file, pred_list[no].reshape(83,114))\n",
    "    no+=1\n",
    "nama_file"
   ]
  },
  {
   "cell_type": "raw",
   "metadata": {},
   "source": []
  },
  {
   "cell_type": "code",
   "execution_count": null,
   "metadata": {},
   "outputs": [],
   "source": []
  },
  {
   "cell_type": "code",
   "execution_count": null,
   "metadata": {},
   "outputs": [],
   "source": []
  },
  {
   "cell_type": "code",
   "execution_count": 51,
   "metadata": {},
   "outputs": [],
   "source": [
    "model.save('LSTM102030DENSE405060_adam_seed1.h5')"
   ]
  },
  {
   "cell_type": "code",
   "execution_count": null,
   "metadata": {},
   "outputs": [],
   "source": []
  }
 ],
 "metadata": {
  "kernelspec": {
   "display_name": "Python 3",
   "language": "python",
   "name": "python3"
  },
  "language_info": {
   "codemirror_mode": {
    "name": "ipython",
    "version": 3
   },
   "file_extension": ".py",
   "mimetype": "text/x-python",
   "name": "python",
   "nbconvert_exporter": "python",
   "pygments_lexer": "ipython3",
   "version": "3.7.3"
  }
 },
 "nbformat": 4,
 "nbformat_minor": 2
}
