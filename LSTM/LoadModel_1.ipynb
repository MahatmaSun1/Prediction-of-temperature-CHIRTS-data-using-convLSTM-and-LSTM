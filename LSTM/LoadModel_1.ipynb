{
 "cells": [
  {
   "cell_type": "code",
   "execution_count": 163,
   "metadata": {},
   "outputs": [],
   "source": [
    "import numpy as np\n",
    "import pandas as pd\n",
    "import matplotlib.pyplot as plt\n",
    "%matplotlib inline\n",
    "from sklearn.preprocessing import MinMaxScaler\n",
    "from keras.preprocessing.sequence import TimeseriesGenerator\n",
    "from keras.models import Sequential\n",
    "from keras.layers import Dense\n",
    "from keras.layers import LSTM\n",
    "from keras.layers import Dropout\n",
    "from keras.models import load_model\n",
    "from tensorflow import keras\n",
    "import warnings\n",
    "import pickle\n",
    "warnings.filterwarnings(\"ignore\")"
   ]
  },
  {
   "cell_type": "code",
   "execution_count": 164,
   "metadata": {},
   "outputs": [],
   "source": [
    "# pickle_in = open(\"../Data_error/error_flatten.pickle\",\"rb\")\n",
    "# data diload sudah dalam bentuk 1D\n",
    "# X = pickle.load(pickle_in)\n",
    "# untuk menampilkan gambar data 1D -> 2D\n",
    "# plt.imshow(X[0].reshape(83,114))"
   ]
  },
  {
   "cell_type": "code",
   "execution_count": 165,
   "metadata": {},
   "outputs": [],
   "source": [
    "# X"
   ]
  },
  {
   "cell_type": "code",
   "execution_count": 166,
   "metadata": {},
   "outputs": [],
   "source": [
    "# np.array(X).shape[0]/12"
   ]
  },
  {
   "cell_type": "code",
   "execution_count": 167,
   "metadata": {},
   "outputs": [],
   "source": [
    "# df = X\n",
    "# data_1 = df[:-48]\n",
    "# data_2 = df[:-36]\n",
    "# data_3 = df[:-24]\n",
    "# data_4 = df[:-12]\n",
    "# data_5 = df\n",
    "# # data tahun 1983-2011\n",
    "# df=df[:-60]"
   ]
  },
  {
   "cell_type": "code",
   "execution_count": 168,
   "metadata": {},
   "outputs": [],
   "source": [
    "# train -> data 1983-2011\n",
    "# train, test = df[-240:], df[-12:]"
   ]
  },
  {
   "cell_type": "code",
   "execution_count": 169,
   "metadata": {},
   "outputs": [],
   "source": [
    "# np.array(train).shape[0]/12"
   ]
  },
  {
   "cell_type": "code",
   "execution_count": 170,
   "metadata": {},
   "outputs": [],
   "source": [
    "# scaler = MinMaxScaler()\n",
    "# scaler.fit(train)\n",
    "# scaler.fit(data_4)\n",
    "# scaler.fit(test)\n",
    "# train = scaler.transform(train)\n",
    "# data_4 = scaler.transform(data_4)\n",
    "# test = scaler.transform(test)"
   ]
  },
  {
   "cell_type": "code",
   "execution_count": 171,
   "metadata": {},
   "outputs": [],
   "source": [
    "# n_input = 12\n",
    "# n_features = 9462\n",
    "# batch_size=12\n",
    "# supervised data\n",
    "# generator = TimeseriesGenerator(train, train, length=n_input, batch_size=batch_size)\n",
    "# validation_sequence = TimeseriesGenerator(test, test, length=n_input, batch_size=batch_size)"
   ]
  },
  {
   "cell_type": "code",
   "execution_count": 172,
   "metadata": {},
   "outputs": [],
   "source": [
    "# Load Model\n",
    "\n",
    "model = keras.models.load_model('LSTM102030DENSE405060_adam_seed1.h5')"
   ]
  },
  {
   "cell_type": "code",
   "execution_count": 173,
   "metadata": {
    "scrolled": true
   },
   "outputs": [
    {
     "data": {
      "text/plain": [
       "array([[[0., 0., 0., ..., 0., 0., 0.],\n",
       "        [0., 0., 0., ..., 0., 0., 0.],\n",
       "        [0., 0., 0., ..., 0., 0., 0.],\n",
       "        ...,\n",
       "        [0., 0., 0., ..., 0., 0., 0.],\n",
       "        [0., 0., 0., ..., 0., 0., 0.],\n",
       "        [0., 0., 0., ..., 0., 0., 0.]]])"
      ]
     },
     "execution_count": 173,
     "metadata": {},
     "output_type": "execute_result"
    }
   ],
   "source": [
    "pred_list = []\n",
    "\n",
    "batch = train[-12:].reshape((1, n_input, n_features))\n",
    "batch"
   ]
  },
  {
   "cell_type": "code",
   "execution_count": 174,
   "metadata": {},
   "outputs": [],
   "source": [
    "for i in range(n_input):   \n",
    "    pred_list.append(model.predict(batch)[0]) \n",
    "    batch = np.append(batch[:,1:,:],[[pred_list[i]]],axis=1)\n",
    "\n",
    "pred_list = scaler.inverse_transform(pred_list)\n",
    "\n",
    "# prediksi = (model.predict(batch)[0])"
   ]
  },
  {
   "cell_type": "code",
   "execution_count": 175,
   "metadata": {},
   "outputs": [
    {
     "data": {
      "text/plain": [
       "<matplotlib.image.AxesImage at 0x273c6c352b0>"
      ]
     },
     "execution_count": 175,
     "metadata": {},
     "output_type": "execute_result"
    },
    {
     "data": {
      "image/png": "[encoded data removed]",
      "text/plain": [
       "<Figure size 432x288 with 1 Axes>"
      ]
     },
     "metadata": {
      "needs_background": "light"
     },
     "output_type": "display_data"
    }
   ],
   "source": [
    "plt.imshow(pred_list[0].reshape(83,114))"
   ]
  },
  {
   "cell_type": "code",
   "execution_count": 176,
   "metadata": {},
   "outputs": [],
   "source": [
    "train = df\n",
    "test = df[-24:]"
   ]
  },
  {
   "cell_type": "code",
   "execution_count": 177,
   "metadata": {},
   "outputs": [],
   "source": [
    "scaler.fit(train)\n",
    "train = scaler.transform(train)\n",
    "scaler.fit(test)\n",
    "test = scaler.transform(test)"
   ]
  },
  {
   "cell_type": "code",
   "execution_count": 178,
   "metadata": {},
   "outputs": [],
   "source": [
    "n_input = 12\n",
    "n_features = 9462\n",
    "# generator = TimeseriesGenerator(train, train, length=n_input, batch_size=12)\n",
    "# validation_sequence = TimeseriesGenerator(test, test, length=n_input, batch_size=12)"
   ]
  },
  {
   "cell_type": "code",
   "execution_count": 179,
   "metadata": {},
   "outputs": [],
   "source": [
    "pred_list = []\n",
    "\n",
    "batch = data_4[-60:-48].reshape((1, n_input, n_features))\n",
    "\n",
    "for i in range(n_input):   \n",
    "    pred_list.append(model.predict(batch)[0]) \n",
    "    batch = np.append(batch[:,1:,:],[[pred_list[i]]],axis=1)\n",
    "    \n",
    "batch1 = data_4[-48:-36].reshape((1, n_input, n_features))\n",
    "\n",
    "for i in range(n_input):   \n",
    "    pred_list.append(model.predict(batch1)[0]) \n",
    "    batch1 = np.append(batch1[:,1:,:],[[pred_list[i]]],axis=1)\n",
    "    \n",
    "batch2 = data_4[-36:-24].reshape((1, n_input, n_features))\n",
    "\n",
    "for i in range(n_input):   \n",
    "    pred_list.append(model.predict(batch2)[0]) \n",
    "    batch2 = np.append(batch2[:,1:,:],[[pred_list[i]]],axis=1)\n",
    "    \n",
    "# data tahun 2014 untuk memprediksi tahun 2015\n",
    "batch3 = data_4[-24:-12].reshape((1, n_input, n_features))\n",
    "\n",
    "for i in range(n_input):   \n",
    "    pred_list.append(model.predict(batch3)[0]) \n",
    "    batch3 = np.append(batch3[:,1:,:],[[pred_list[i]]],axis=1)\n",
    "\n",
    "# data tahun 2015 untuk memprediksi tahun 2016\n",
    "batch4 = data_4[-12:].reshape((1, n_input, n_features))\n",
    "\n",
    "for i in range(n_input):   \n",
    "    pred_list.append(model.predict(batch4)[0]) \n",
    "    batch4 = np.append(batch4[:,1:,:],[[pred_list[i]]],axis=1)"
   ]
  },
  {
   "cell_type": "code",
   "execution_count": 180,
   "metadata": {},
   "outputs": [
    {
     "data": {
      "text/plain": [
       "array([[[2.38657431e-05, 2.40466597e-05, 2.46126219e-05, ...,\n",
       "         2.38037592e-05, 2.43020950e-05, 2.51222846e-05],\n",
       "        [2.38657431e-05, 2.40466597e-05, 2.46126219e-05, ...,\n",
       "         2.38037592e-05, 2.43020950e-05, 2.51222846e-05],\n",
       "        [2.38657431e-05, 2.40466597e-05, 2.46126219e-05, ...,\n",
       "         2.38037592e-05, 2.43020950e-05, 2.51222846e-05],\n",
       "        ...,\n",
       "        [2.44438306e-05, 2.46258878e-05, 2.52049085e-05, ...,\n",
       "         2.43812283e-05, 2.48860306e-05, 2.57276188e-05],\n",
       "        [2.44412695e-05, 2.46233067e-05, 2.52022637e-05, ...,\n",
       "         2.43786253e-05, 2.48833949e-05, 2.57249958e-05],\n",
       "        [2.44213243e-05, 2.46033524e-05, 2.51818437e-05, ...,\n",
       "         2.43587092e-05, 2.48633514e-05, 2.57040756e-05]]])"
      ]
     },
     "execution_count": 180,
     "metadata": {},
     "output_type": "execute_result"
    }
   ],
   "source": [
    "batch"
   ]
  },
  {
   "cell_type": "code",
   "execution_count": 181,
   "metadata": {},
   "outputs": [
    {
     "data": {
      "text/plain": [
       "array([[2.38657431e-05, 2.40466597e-05, 2.46126219e-05, ...,\n",
       "        2.38037592e-05, 2.43020950e-05, 2.51222846e-05],\n",
       "       [2.38657431e-05, 2.40466597e-05, 2.46126219e-05, ...,\n",
       "        2.38037592e-05, 2.43020950e-05, 2.51222846e-05],\n",
       "       [2.38657431e-05, 2.40466597e-05, 2.46126219e-05, ...,\n",
       "        2.38037592e-05, 2.43020950e-05, 2.51222846e-05],\n",
       "       ...,\n",
       "       [2.38313114e-05, 2.40121262e-05, 2.45772990e-05, ...,\n",
       "        2.37693475e-05, 2.42673104e-05, 2.50862067e-05],\n",
       "       [2.38337871e-05, 2.40147820e-05, 2.45800202e-05, ...,\n",
       "        2.37719778e-05, 2.42699261e-05, 2.50889589e-05],\n",
       "       [2.38444736e-05, 2.40253648e-05, 2.45908504e-05, ...,\n",
       "        2.37825207e-05, 2.42806200e-05, 2.51001111e-05]])"
      ]
     },
     "execution_count": 181,
     "metadata": {},
     "output_type": "execute_result"
    }
   ],
   "source": [
    "pred_list = scaler.inverse_transform(pred_list)\n",
    "pred_list"
   ]
  },
  {
   "cell_type": "code",
   "execution_count": 182,
   "metadata": {},
   "outputs": [
    {
     "data": {
      "text/plain": [
       "(60, 9462)"
      ]
     },
     "execution_count": 182,
     "metadata": {},
     "output_type": "execute_result"
    }
   ],
   "source": [
    "pred_list.shape"
   ]
  },
  {
   "cell_type": "code",
   "execution_count": 183,
   "metadata": {},
   "outputs": [
    {
     "data": {
      "text/plain": [
       "<matplotlib.image.AxesImage at 0x273cc6c18d0>"
      ]
     },
     "execution_count": 183,
     "metadata": {},
     "output_type": "execute_result"
    },
    {
     "data": {
      "image/png": "[encoded data removed]",
      "text/plain": [
       "<Figure size 432x288 with 1 Axes>"
      ]
     },
     "metadata": {
      "needs_background": "light"
     },
     "output_type": "display_data"
    }
   ],
   "source": [
    "plt.imshow(pred_list[59].reshape(83,114))"
   ]
  },
  {
   "cell_type": "code",
   "execution_count": 184,
   "metadata": {},
   "outputs": [
    {
     "data": {
      "text/plain": [
       "<matplotlib.image.AxesImage at 0x273c6c91780>"
      ]
     },
     "execution_count": 184,
     "metadata": {},
     "output_type": "execute_result"
    },
    {
     "data": {
      "image/png": "[encoded data removed]",
      "text/plain": [
       "<Figure size 432x288 with 1 Axes>"
      ]
     },
     "metadata": {
      "needs_background": "light"
     },
     "output_type": "display_data"
    }
   ],
   "source": [
    "df_asli = X[-60:]\n",
    "plt.imshow(df_asli[0].reshape(83,114))"
   ]
  },
  {
   "cell_type": "code",
   "execution_count": 185,
   "metadata": {},
   "outputs": [
    {
     "data": {
      "text/plain": [
       "0.10648247520086418"
      ]
     },
     "execution_count": 185,
     "metadata": {},
     "output_type": "execute_result"
    }
   ],
   "source": [
    "max(pred_list[10])"
   ]
  },
  {
   "cell_type": "code",
   "execution_count": 186,
   "metadata": {},
   "outputs": [
    {
     "data": {
      "text/plain": [
       "0.0"
      ]
     },
     "execution_count": 186,
     "metadata": {},
     "output_type": "execute_result"
    }
   ],
   "source": [
    "max(df_asli[10])"
   ]
  },
  {
   "cell_type": "code",
   "execution_count": 187,
   "metadata": {},
   "outputs": [],
   "source": [
    "# SAE untuk semua data\n",
    "pred_list[pred_list<0]=0\n",
    "pred_list_new=[]\n",
    "df_asli_new=[]\n",
    "no=0\n",
    "# df_asli=np.array(df_asli)\n",
    "# for pred in pred_list:\n",
    "#     pred_list_new.append(list(filter(lambda x: x != 0, pred_list[no])))\n",
    "#     df_asli_new.append(list(filter(lambda x: x != 0, df_asli[no])))\n",
    "#     no+=1\n",
    "    \n",
    "pred_list_new=np.array(pred_list_new)\n",
    "df_asli_new=np.array(df_asli_new)\n",
    "\n",
    "# pred_list.shape\n",
    "# np.array(df_asli_new).shape\n",
    "\n",
    "sae=[]\n",
    "no=0\n",
    "\n",
    "for pred1 in pred_list:\n",
    "    sae_ = df_asli[no]-pred1\n",
    "    sae_ = np.abs(sae_)\n",
    "    sae.append(sae_)\n",
    "    no+=1"
   ]
  },
  {
   "cell_type": "code",
   "execution_count": 188,
   "metadata": {},
   "outputs": [
    {
     "data": {
      "text/plain": [
       "[array([2.38657431e-05, 2.40466597e-05, 2.46126219e-05, ...,\n",
       "        2.38037592e-05, 2.43020950e-05, 2.51222846e-05]),\n",
       " array([2.38657431e-05, 2.40466597e-05, 2.46126219e-05, ...,\n",
       "        2.38037592e-05, 2.43020950e-05, 2.51222846e-05]),\n",
       " array([2.38657431e-05, 2.40466597e-05, 2.46126219e-05, ...,\n",
       "        2.38037592e-05, 2.43020950e-05, 2.51222846e-05]),\n",
       " array([2.38331977e-05, 2.40140271e-05, 2.45792453e-05, ...,\n",
       "        2.37712975e-05, 2.42692076e-05, 2.50881694e-05]),\n",
       " array([2.38651064e-05, 2.40459485e-05, 2.46119907e-05, ...,\n",
       "        2.38031007e-05, 2.43014456e-05, 2.51216134e-05]),\n",
       " array([2.38657431e-05, 2.40466597e-05, 2.46126219e-05, ...,\n",
       "        2.38037592e-05, 2.43020950e-05, 2.51222846e-05]),\n",
       " array([2.38657431e-05, 2.40466597e-05, 2.46126219e-05, ...,\n",
       "        2.38037592e-05, 2.43020950e-05, 2.51222846e-05]),\n",
       " array([2.38657431e-05, 2.40466597e-05, 2.46126219e-05, ...,\n",
       "        2.38037592e-05, 2.43020950e-05, 2.51222846e-05]),\n",
       " array([2.38657431e-05, 2.40466597e-05, 2.46126219e-05, ...,\n",
       "        2.38037592e-05, 2.43020950e-05, 2.51222846e-05]),\n",
       " array([2.44438306e-05, 2.46258878e-05, 2.52049085e-05, ...,\n",
       "        2.43812283e-05, 2.48860306e-05, 2.57276188e-05]),\n",
       " array([2.44412695e-05, 2.46233067e-05, 2.52022637e-05, ...,\n",
       "        2.43786253e-05, 2.48833949e-05, 2.57249958e-05]),\n",
       " array([2.44213243e-05, 2.46033524e-05, 2.51818437e-05, ...,\n",
       "        2.43587092e-05, 2.48633514e-05, 2.57040756e-05]),\n",
       " array([2.38657431e-05, 2.40466597e-05, 2.46126219e-05, ...,\n",
       "        2.38037592e-05, 2.43020950e-05, 2.51222846e-05]),\n",
       " array([2.38657431e-05, 2.40466597e-05, 2.46126219e-05, ...,\n",
       "        2.38037592e-05, 2.43020950e-05, 2.51222846e-05]),\n",
       " array([2.38657431e-05, 2.40466597e-05, 2.46126219e-05, ...,\n",
       "        2.38037592e-05, 2.43020950e-05, 2.51222846e-05]),\n",
       " array([2.38262655e-05, 2.40071568e-05, 2.45722385e-05, ...,\n",
       "        2.37644290e-05, 2.42622209e-05, 2.50810153e-05]),\n",
       " array([2.38642424e-05, 2.40451227e-05, 2.46111194e-05, ...,\n",
       "        2.38022385e-05, 2.43006361e-05, 2.51207512e-05]),\n",
       " array([2.38656994e-05, 2.40466361e-05, 2.46125983e-05, ...,\n",
       "        2.38037137e-05, 2.43020731e-05, 2.51222136e-05]),\n",
       " array([2.38657431e-05, 2.40466597e-05, 2.46126219e-05, ...,\n",
       "        2.38037592e-05, 2.43020950e-05, 2.51222846e-05]),\n",
       " array([2.38657431e-05, 2.40466597e-05, 2.46126219e-05, ...,\n",
       "        2.38037592e-05, 2.43020950e-05, 2.51222846e-05]),\n",
       " array([2.38657431e-05, 2.40466597e-05, 2.46126219e-05, ...,\n",
       "        2.38037592e-05, 2.43020950e-05, 2.51222846e-05]),\n",
       " array([2.44435050e-05, 2.46256059e-05, 2.52045484e-05, ...,\n",
       "        2.43809263e-05, 2.48856959e-05, 2.57272750e-05]),\n",
       " array([2.44412458e-05, 2.46233067e-05, 2.52022401e-05, ...,\n",
       "        2.43786035e-05, 2.48833949e-05, 2.57249958e-05]),\n",
       " array([2.44213243e-05, 2.46033524e-05, 2.51818437e-05, ...,\n",
       "        2.43586637e-05, 2.48633514e-05, 2.57040756e-05]),\n",
       " array([2.38657431e-05, 2.40466597e-05, 2.46126219e-05, ...,\n",
       "        2.38037592e-05, 2.43020950e-05, 2.51222846e-05]),\n",
       " array([2.38657431e-05, 2.40466597e-05, 2.46126219e-05, ...,\n",
       "        2.38037592e-05, 2.43020950e-05, 2.51222846e-05]),\n",
       " array([2.38657431e-05, 2.40466597e-05, 2.46126219e-05, ...,\n",
       "        2.38037592e-05, 2.43020950e-05, 2.51222846e-05]),\n",
       " array([2.38272878e-05, 2.40081881e-05, 2.45733409e-05, ...,\n",
       "        2.37654258e-05, 2.42633050e-05, 2.50820922e-05]),\n",
       " array([2.38643097e-05, 2.40452846e-05, 2.46112377e-05, ...,\n",
       "        2.38023076e-05, 2.43007053e-05, 2.51208221e-05]),\n",
       " array([2.38656994e-05, 2.40466361e-05, 2.46126219e-05, ...,\n",
       "        2.38037592e-05, 2.43020731e-05, 2.51222373e-05]),\n",
       " array([2.38657431e-05, 2.40466597e-05, 2.46126219e-05, ...,\n",
       "        2.38037592e-05, 2.43020950e-05, 2.51222846e-05]),\n",
       " array([2.38657431e-05, 2.40466597e-05, 2.46126219e-05, ...,\n",
       "        2.38037592e-05, 2.43020950e-05, 2.51222846e-05]),\n",
       " array([2.38657431e-05, 2.40466597e-05, 2.46126219e-05, ...,\n",
       "        2.38037592e-05, 2.43020950e-05, 2.51222846e-05]),\n",
       " array([2.44499879e-05, 2.46321597e-05, 2.52112295e-05, ...,\n",
       "        2.43873910e-05, 2.48922952e-05, 2.57341471e-05]),\n",
       " array([2.44412695e-05, 2.46233067e-05, 2.52022637e-05, ...,\n",
       "        2.43786253e-05, 2.48833949e-05, 2.57249958e-05]),\n",
       " array([2.44213243e-05, 2.46033524e-05, 2.51818437e-05, ...,\n",
       "        2.43587092e-05, 2.48633514e-05, 2.57040756e-05]),\n",
       " array([2.38657431e-05, 2.40466597e-05, 2.46126219e-05, ...,\n",
       "        2.38037592e-05, 2.43020950e-05, 2.51222846e-05]),\n",
       " array([2.38657431e-05, 2.40466597e-05, 2.46126219e-05, ...,\n",
       "        2.38037592e-05, 2.43020950e-05, 2.51222846e-05]),\n",
       " array([2.38657431e-05, 2.40466597e-05, 2.46126219e-05, ...,\n",
       "        2.38037592e-05, 2.43020950e-05, 2.51222846e-05]),\n",
       " array([2.38259490e-05, 2.40068366e-05, 2.45718875e-05, ...,\n",
       "        2.37641580e-05, 2.42619644e-05, 2.50806333e-05]),\n",
       " array([2.38640841e-05, 2.40449863e-05, 2.46109576e-05, ...,\n",
       "        2.38021694e-05, 2.43004724e-05, 2.51205838e-05]),\n",
       " array([2.38656539e-05, 2.40466361e-05, 2.46125546e-05, ...,\n",
       "        2.38036919e-05, 2.43020731e-05, 2.51222136e-05]),\n",
       " array([2.38657431e-05, 2.40466597e-05, 2.46126219e-05, ...,\n",
       "        2.38037592e-05, 2.43020950e-05, 2.51222846e-05]),\n",
       " array([2.38657431e-05, 2.40466597e-05, 2.46126219e-05, ...,\n",
       "        2.38037592e-05, 2.43020950e-05, 2.51222846e-05]),\n",
       " array([2.38657431e-05, 2.40466597e-05, 2.46126219e-05, ...,\n",
       "        2.38037592e-05, 2.43020950e-05, 2.51222846e-05]),\n",
       " array([2.44489365e-05, 2.46310792e-05, 2.52101981e-05, ...,\n",
       "        2.43863451e-05, 2.48912274e-05, 2.57329939e-05]),\n",
       " array([2.44412222e-05, 2.46232594e-05, 2.52021910e-05, ...,\n",
       "        2.43785798e-05, 2.48833476e-05, 2.57249194e-05]),\n",
       " array([2.44212315e-05, 2.46033069e-05, 2.51817710e-05, ...,\n",
       "        2.43586164e-05, 2.48633023e-05, 2.57040265e-05]),\n",
       " array([2.38305402e-05, 2.40114168e-05, 2.45767369e-05, ...,\n",
       "        2.37688037e-05, 2.42665919e-05, 2.50855355e-05]),\n",
       " array([2.38263128e-05, 2.40072040e-05, 2.45722840e-05, ...,\n",
       "        2.37644745e-05, 2.42623119e-05, 2.50811117e-05]),\n",
       " array([2.38244938e-05, 2.40053487e-05, 2.45704105e-05, ...,\n",
       "        2.37625936e-05, 2.42604838e-05, 2.50791018e-05]),\n",
       " array([2.38253815e-05, 2.40062182e-05, 2.45713236e-05, ...,\n",
       "        2.37635213e-05, 2.42613860e-05, 2.50800349e-05]),\n",
       " array([2.38394932e-05, 2.40203244e-05, 2.45857391e-05, ...,\n",
       "        2.37775985e-05, 2.42756196e-05, 2.50947960e-05]),\n",
       " array([2.38653556e-05, 2.40461541e-05, 2.46122472e-05, ...,\n",
       "        2.38033281e-05, 2.43016784e-05, 2.51219280e-05]),\n",
       " array([2.38657212e-05, 2.40466361e-05, 2.46126219e-05, ...,\n",
       "        2.38037592e-05, 2.43020731e-05, 2.51222627e-05]),\n",
       " array([2.38657431e-05, 2.40466597e-05, 2.46126219e-05, ...,\n",
       "        2.38037592e-05, 2.43020950e-05, 2.51222846e-05]),\n",
       " array([2.38657431e-05, 2.40466597e-05, 2.46126219e-05, ...,\n",
       "        2.38037592e-05, 2.43020950e-05, 2.51222846e-05]),\n",
       " array([2.38313114e-05, 2.40121262e-05, 2.45772990e-05, ...,\n",
       "        2.37693475e-05, 2.42673104e-05, 2.50862067e-05]),\n",
       " array([2.38337871e-05, 2.40147820e-05, 2.45800202e-05, ...,\n",
       "        2.37719778e-05, 2.42699261e-05, 2.50889589e-05]),\n",
       " array([2.38444736e-05, 2.40253648e-05, 2.45908504e-05, ...,\n",
       "        2.37825207e-05, 2.42806200e-05, 2.51001111e-05])]"
      ]
     },
     "execution_count": 188,
     "metadata": {},
     "output_type": "execute_result"
    }
   ],
   "source": [
    "sae"
   ]
  },
  {
   "cell_type": "code",
   "execution_count": 189,
   "metadata": {},
   "outputs": [
    {
     "data": {
      "text/plain": [
       "194.33549203517438"
      ]
     },
     "execution_count": 189,
     "metadata": {},
     "output_type": "execute_result"
    }
   ],
   "source": [
    "sae_ = sum(sae)/60\n",
    "sae_ = np.sum(sae_)\n",
    "sae_"
   ]
  },
  {
   "cell_type": "code",
   "execution_count": 190,
   "metadata": {},
   "outputs": [],
   "source": [
    "# MAE untuk semua data\n",
    "pred_list[pred_list<0]=0\n",
    "pred_list_new=[]\n",
    "df_asli_new=[]\n",
    "no=0\n",
    "predi_list=np.array(pred_list)\n",
    "df_asli=np.array(df_asli)\n",
    "# for pred in pred_list:\n",
    "#     pred_list_new.append(list(filter(lambda x: x != 0, pred_list[no])))\n",
    "#     df_asli_new.append(list(filter(lambda x: x != 0, df_asli[no])))\n",
    "#     no+=1\n",
    "    \n",
    "pred_list_new=np.array(pred_list_new)\n",
    "df_asli_new=np.array(df_asli_new)\n",
    "\n",
    "# pred_list.shape\n",
    "# np.array(df_asli_new).shape\n",
    "\n",
    "mae=[]\n",
    "no=0\n",
    "# for pred1 in pred_list:\n",
    "#     mae_ = df_asli[no]-pred1\n",
    "#     mae_ = np.average(mae_)\n",
    "#     mae.append(mae_)\n",
    "#     no+=1\n",
    "    \n",
    "from sklearn.metrics import mean_absolute_error\n",
    "for pred1 in pred_list:\n",
    "    mae_ = mean_absolute_error(df_asli[no], pred1)\n",
    "    mae.append(mae_)\n",
    "    no+=1"
   ]
  },
  {
   "cell_type": "code",
   "execution_count": 191,
   "metadata": {},
   "outputs": [
    {
     "data": {
      "text/plain": [
       "[0.04795094098521717,\n",
       " 0.02699053684561619,\n",
       " 0.05320167082442785,\n",
       " 0.0024482726563611647,\n",
       " 0.0024492245836636997,\n",
       " 0.001955676474962106,\n",
       " 0.0033239583388098622,\n",
       " 0.020769653768921637,\n",
       " 0.07241897672491164,\n",
       " 0.004227526801103248,\n",
       " 0.0024662495143881777,\n",
       " 0.0024664730496270766,\n",
       " 0.06677853861968912,\n",
       " 0.04237460607012713,\n",
       " 0.06610139522011219,\n",
       " 0.002448068542527308,\n",
       " 0.002449199621069729,\n",
       " 0.0013935547581937703,\n",
       " 0.003685908004299719,\n",
       " 0.02452977074204754,\n",
       " 0.07140269072524467,\n",
       " 0.003534560005842934,\n",
       " 0.0024662492810703786,\n",
       " 0.002465664929195387,\n",
       " 0.041261784446712094,\n",
       " 0.016568363564986494,\n",
       " 0.03919144192344172,\n",
       " 0.0024481001435405223,\n",
       " 0.0024492027924820294,\n",
       " 0.0020327970182281137,\n",
       " 0.004315279857130971,\n",
       " 0.017858866860307493,\n",
       " 0.07237933341207527,\n",
       " 0.0036367899317135623,\n",
       " 0.0024662495143881777,\n",
       " 0.0024731847644899317,\n",
       " 0.0025419599539599574,\n",
       " 0.0024492434519973443,\n",
       " 0.0024492434519973443,\n",
       " 0.002448059050734582,\n",
       " 0.0024491954080213068,\n",
       " 0.0024492413993354944,\n",
       " 0.009663337703300096,\n",
       " 0.0052523080666450166,\n",
       " 0.07835529448130277,\n",
       " 0.0049510173680710895,\n",
       " 0.0024662477887529622,\n",
       " 0.017637390742143984,\n",
       " 0.09766274092855882,\n",
       " 0.06420110774954065,\n",
       " 0.08477100496805064,\n",
       " 0.0024480425780587516,\n",
       " 0.002448461690496186,\n",
       " 0.0014608385199406614,\n",
       " 0.00331016297781133,\n",
       " 0.028451120784531523,\n",
       " 0.06927052474118386,\n",
       " 0.002897089740464995,\n",
       " 0.0024482950557295703,\n",
       " 0.0024486102420795868]"
      ]
     },
     "execution_count": 191,
     "metadata": {},
     "output_type": "execute_result"
    }
   ],
   "source": [
    "mae"
   ]
  },
  {
   "cell_type": "code",
   "execution_count": 192,
   "metadata": {},
   "outputs": [
    {
     "data": {
      "text/plain": [
       "0.020538521669327247"
      ]
     },
     "execution_count": 192,
     "metadata": {},
     "output_type": "execute_result"
    }
   ],
   "source": [
    "sum(mae)/60"
   ]
  },
  {
   "cell_type": "code",
   "execution_count": 132,
   "metadata": {},
   "outputs": [],
   "source": [
    "# pred_list_new\n",
    "\n",
    "Pred_rata= []\n",
    "for i in range(0,60):\n",
    "\tPred_rata.append((pred_list[i].mean()))\n"
   ]
  },
  {
   "cell_type": "code",
   "execution_count": 97,
   "metadata": {},
   "outputs": [],
   "source": [
    "df_asli_rata= []\n",
    "for i in range(0,60):\n",
    "\tdf_asli_rata.append((df_asli[i].mean()))"
   ]
  },
  {
   "cell_type": "code",
   "execution_count": 98,
   "metadata": {},
   "outputs": [
    {
     "data": {
      "text/plain": [
       "[0.0024492434519973443,\n",
       " 0.0024492434519973443,\n",
       " 0.0024492434519973443,\n",
       " 0.0024482726563611647,\n",
       " 0.0024492245836636997,\n",
       " 0.0024492434488794295,\n",
       " 0.0024492434519973443,\n",
       " 0.0024492434519973443,\n",
       " 0.0024492434519973443,\n",
       " 0.00246632455081292,\n",
       " 0.0024662495143881777,\n",
       " 0.0024656652625767213,\n",
       " 0.0024492434519973443,\n",
       " 0.0024492434519973443,\n",
       " 0.0024492434519973443,\n",
       " 0.002448068542527308,\n",
       " 0.002449199621069729,\n",
       " 0.0024492418640245294,\n",
       " 0.0024492434519973443,\n",
       " 0.0024492434519973443,\n",
       " 0.0024492434519973443,\n",
       " 0.0024663162709880233,\n",
       " 0.0024662492810703786,\n",
       " 0.002465664929195387,\n",
       " 0.0024492434519973443,\n",
       " 0.0024492434519973443,\n",
       " 0.0024492434519973443,\n",
       " 0.0024481001435405223,\n",
       " 0.0024492027924820294,\n",
       " 0.0024492426788642143,\n",
       " 0.0024492434519973443,\n",
       " 0.0024492434519973443,\n",
       " 0.0024492434519973443,\n",
       " 0.0024665067647407753,\n",
       " 0.0024662495143881777,\n",
       " 0.0024656652625767213,\n",
       " 0.0024492434519973443,\n",
       " 0.0024492434519973443,\n",
       " 0.0024492434519973443,\n",
       " 0.002448059050734582,\n",
       " 0.0024491954080213068,\n",
       " 0.0024492413993354944,\n",
       " 0.0024492434519973443,\n",
       " 0.0024492434519973443,\n",
       " 0.0024492434519973443,\n",
       " 0.0024664762600525463,\n",
       " 0.0024662477887529622,\n",
       " 0.00246566326126243,\n",
       " 0.002448198289914201,\n",
       " 0.0024480711086708523,\n",
       " 0.0024480158634368194,\n",
       " 0.0024480425780587516,\n",
       " 0.002448461690496186,\n",
       " 0.0024492323501302217,\n",
       " 0.002449242936113641,\n",
       " 0.0024492434519973443,\n",
       " 0.0024492434519973443,\n",
       " 0.002448217350370873,\n",
       " 0.0024482950557295703,\n",
       " 0.0024486102420795868]"
      ]
     },
     "execution_count": 98,
     "metadata": {},
     "output_type": "execute_result"
    }
   ],
   "source": [
    "Pred_rata"
   ]
  },
  {
   "cell_type": "code",
   "execution_count": 99,
   "metadata": {},
   "outputs": [
    {
     "data": {
      "text/plain": [
       "[0.050361443,\n",
       " 0.029394211,\n",
       " 0.055611517,\n",
       " 0.0,\n",
       " 0.0,\n",
       " 0.00049859984,\n",
       " 0.0047321394,\n",
       " 0.023135662,\n",
       " 0.07482821,\n",
       " 0.0019517558,\n",
       " 0.0,\n",
       " 8.443186e-07,\n",
       " 0.069189034,\n",
       " 0.04478209,\n",
       " 0.068511695,\n",
       " 0.0,\n",
       " 0.0,\n",
       " 0.0015270336,\n",
       " 0.005131007,\n",
       " 0.026906889,\n",
       " 0.073812164,\n",
       " 0.0012374661,\n",
       " 0.0,\n",
       " 0.0,\n",
       " 0.04367229,\n",
       " 0.018763991,\n",
       " 0.041600674,\n",
       " 0.0,\n",
       " 0.0,\n",
       " 0.000423101,\n",
       " 0.0060387095,\n",
       " 0.020210369,\n",
       " 0.0747887,\n",
       " 0.0013435925,\n",
       " 0.0,\n",
       " 7.588192e-06,\n",
       " 9.328075e-05,\n",
       " 0.0,\n",
       " 0.0,\n",
       " 0.0,\n",
       " 0.0,\n",
       " 0.0,\n",
       " 0.01143431,\n",
       " 0.0050058723,\n",
       " 0.08076222,\n",
       " 0.0026893893,\n",
       " 0.0,\n",
       " 0.019596733,\n",
       " 0.10007225,\n",
       " 0.06660953,\n",
       " 0.087180346,\n",
       " 0.0,\n",
       " 0.0,\n",
       " 0.0012253057,\n",
       " 0.004553074,\n",
       " 0.030833978,\n",
       " 0.07168045,\n",
       " 0.00053633633,\n",
       " 0.0,\n",
       " 0.0]"
      ]
     },
     "execution_count": 99,
     "metadata": {},
     "output_type": "execute_result"
    }
   ],
   "source": [
    "df_asli_rata\n"
   ]
  },
  {
   "cell_type": "code",
   "execution_count": 100,
   "metadata": {},
   "outputs": [
    {
     "data": {
      "text/plain": [
       "[Timestamp('2012-01-01 00:00:00'),\n",
       " Timestamp('2012-02-01 00:00:00'),\n",
       " Timestamp('2012-03-01 00:00:00'),\n",
       " Timestamp('2012-04-01 00:00:00'),\n",
       " Timestamp('2012-05-01 00:00:00'),\n",
       " Timestamp('2012-06-01 00:00:00'),\n",
       " Timestamp('2012-07-01 00:00:00'),\n",
       " Timestamp('2012-08-01 00:00:00'),\n",
       " Timestamp('2012-09-01 00:00:00'),\n",
       " Timestamp('2012-10-01 00:00:00'),\n",
       " Timestamp('2012-11-01 00:00:00'),\n",
       " Timestamp('2012-12-01 00:00:00'),\n",
       " Timestamp('2013-01-01 00:00:00'),\n",
       " Timestamp('2013-02-01 00:00:00'),\n",
       " Timestamp('2013-03-01 00:00:00'),\n",
       " Timestamp('2013-04-01 00:00:00'),\n",
       " Timestamp('2013-05-01 00:00:00'),\n",
       " Timestamp('2013-06-01 00:00:00'),\n",
       " Timestamp('2013-07-01 00:00:00'),\n",
       " Timestamp('2013-08-01 00:00:00'),\n",
       " Timestamp('2013-09-01 00:00:00'),\n",
       " Timestamp('2013-10-01 00:00:00'),\n",
       " Timestamp('2013-11-01 00:00:00'),\n",
       " Timestamp('2013-12-01 00:00:00'),\n",
       " Timestamp('2014-01-01 00:00:00'),\n",
       " Timestamp('2014-02-01 00:00:00'),\n",
       " Timestamp('2014-03-01 00:00:00'),\n",
       " Timestamp('2014-04-01 00:00:00'),\n",
       " Timestamp('2014-05-01 00:00:00'),\n",
       " Timestamp('2014-06-01 00:00:00'),\n",
       " Timestamp('2014-07-01 00:00:00'),\n",
       " Timestamp('2014-08-01 00:00:00'),\n",
       " Timestamp('2014-09-01 00:00:00'),\n",
       " Timestamp('2014-10-01 00:00:00'),\n",
       " Timestamp('2014-11-01 00:00:00'),\n",
       " Timestamp('2014-12-01 00:00:00'),\n",
       " Timestamp('2015-01-01 00:00:00'),\n",
       " Timestamp('2015-02-01 00:00:00'),\n",
       " Timestamp('2015-03-01 00:00:00'),\n",
       " Timestamp('2015-04-01 00:00:00'),\n",
       " Timestamp('2015-05-01 00:00:00'),\n",
       " Timestamp('2015-06-01 00:00:00'),\n",
       " Timestamp('2015-07-01 00:00:00'),\n",
       " Timestamp('2015-08-01 00:00:00'),\n",
       " Timestamp('2015-09-01 00:00:00'),\n",
       " Timestamp('2015-10-01 00:00:00'),\n",
       " Timestamp('2015-11-01 00:00:00'),\n",
       " Timestamp('2015-12-01 00:00:00'),\n",
       " Timestamp('2016-01-01 00:00:00'),\n",
       " Timestamp('2016-02-01 00:00:00'),\n",
       " Timestamp('2016-03-01 00:00:00'),\n",
       " Timestamp('2016-04-01 00:00:00'),\n",
       " Timestamp('2016-05-01 00:00:00'),\n",
       " Timestamp('2016-06-01 00:00:00'),\n",
       " Timestamp('2016-07-01 00:00:00'),\n",
       " Timestamp('2016-08-01 00:00:00'),\n",
       " Timestamp('2016-09-01 00:00:00'),\n",
       " Timestamp('2016-10-01 00:00:00'),\n",
       " Timestamp('2016-11-01 00:00:00'),\n",
       " Timestamp('2016-12-01 00:00:00')]"
      ]
     },
     "execution_count": 100,
     "metadata": {},
     "output_type": "execute_result"
    }
   ],
   "source": [
    "# membuat index tanggal, agar mempudah dalam proses plotting data\n",
    "awal = \"2012-1\"\n",
    "awal = pd.to_datetime(awal)\n",
    "from pandas.tseries.offsets import DateOffset\n",
    "add_dates = [awal + DateOffset(months=x) for x in range(0,60) ]\n",
    "add_dates"
   ]
  },
  {
   "cell_type": "code",
   "execution_count": 101,
   "metadata": {},
   "outputs": [
    {
     "data": {
      "text/plain": [
       "60"
      ]
     },
     "execution_count": 101,
     "metadata": {},
     "output_type": "execute_result"
    }
   ],
   "source": [
    "len(add_dates)\n"
   ]
  },
  {
   "cell_type": "code",
   "execution_count": 37,
   "metadata": {},
   "outputs": [
    {
     "data": {
      "text/plain": [
       "60"
      ]
     },
     "execution_count": 37,
     "metadata": {},
     "output_type": "execute_result"
    }
   ],
   "source": [
    "len(Pred_rata)\n"
   ]
  },
  {
   "cell_type": "code",
   "execution_count": 38,
   "metadata": {},
   "outputs": [
    {
     "data": {
      "text/plain": [
       "60"
      ]
     },
     "execution_count": 38,
     "metadata": {},
     "output_type": "execute_result"
    }
   ],
   "source": [
    "len(df_asli_rata)"
   ]
  },
  {
   "cell_type": "code",
   "execution_count": 39,
   "metadata": {},
   "outputs": [],
   "source": [
    "dict = {'bulan': add_dates, 'data ':mae}\n",
    "df = pd.DataFrame(dict)"
   ]
  },
  {
   "cell_type": "code",
   "execution_count": 40,
   "metadata": {},
   "outputs": [
    {
     "data": {
      "text/html": [
       "<div>\n",
       "<style scoped>\n",
       "    .dataframe tbody tr th:only-of-type {\n",
       "        vertical-align: middle;\n",
       "    }\n",
       "\n",
       "    .dataframe tbody tr th {\n",
       "        vertical-align: top;\n",
       "    }\n",
       "\n",
       "    .dataframe thead th {\n",
       "        text-align: right;\n",
       "    }\n",
       "</style>\n",
       "<table border=\"1\" class=\"dataframe\">\n",
       "  <thead>\n",
       "    <tr style=\"text-align: right;\">\n",
       "      <th></th>\n",
       "      <th>bulan</th>\n",
       "      <th>data</th>\n",
       "    </tr>\n",
       "  </thead>\n",
       "  <tbody>\n",
       "    <tr>\n",
       "      <th>0</th>\n",
       "      <td>2012-01-01</td>\n",
       "      <td>0.047951</td>\n",
       "    </tr>\n",
       "    <tr>\n",
       "      <th>1</th>\n",
       "      <td>2012-02-01</td>\n",
       "      <td>0.026991</td>\n",
       "    </tr>\n",
       "    <tr>\n",
       "      <th>2</th>\n",
       "      <td>2012-03-01</td>\n",
       "      <td>0.053202</td>\n",
       "    </tr>\n",
       "    <tr>\n",
       "      <th>3</th>\n",
       "      <td>2012-04-01</td>\n",
       "      <td>0.002448</td>\n",
       "    </tr>\n",
       "    <tr>\n",
       "      <th>4</th>\n",
       "      <td>2012-05-01</td>\n",
       "      <td>0.002449</td>\n",
       "    </tr>\n",
       "    <tr>\n",
       "      <th>5</th>\n",
       "      <td>2012-06-01</td>\n",
       "      <td>0.001956</td>\n",
       "    </tr>\n",
       "    <tr>\n",
       "      <th>6</th>\n",
       "      <td>2012-07-01</td>\n",
       "      <td>0.003324</td>\n",
       "    </tr>\n",
       "    <tr>\n",
       "      <th>7</th>\n",
       "      <td>2012-08-01</td>\n",
       "      <td>0.020770</td>\n",
       "    </tr>\n",
       "    <tr>\n",
       "      <th>8</th>\n",
       "      <td>2012-09-01</td>\n",
       "      <td>0.072419</td>\n",
       "    </tr>\n",
       "    <tr>\n",
       "      <th>9</th>\n",
       "      <td>2012-10-01</td>\n",
       "      <td>0.004228</td>\n",
       "    </tr>\n",
       "    <tr>\n",
       "      <th>10</th>\n",
       "      <td>2012-11-01</td>\n",
       "      <td>0.002466</td>\n",
       "    </tr>\n",
       "    <tr>\n",
       "      <th>11</th>\n",
       "      <td>2012-12-01</td>\n",
       "      <td>0.002466</td>\n",
       "    </tr>\n",
       "    <tr>\n",
       "      <th>12</th>\n",
       "      <td>2013-01-01</td>\n",
       "      <td>0.066779</td>\n",
       "    </tr>\n",
       "    <tr>\n",
       "      <th>13</th>\n",
       "      <td>2013-02-01</td>\n",
       "      <td>0.042375</td>\n",
       "    </tr>\n",
       "    <tr>\n",
       "      <th>14</th>\n",
       "      <td>2013-03-01</td>\n",
       "      <td>0.066101</td>\n",
       "    </tr>\n",
       "    <tr>\n",
       "      <th>15</th>\n",
       "      <td>2013-04-01</td>\n",
       "      <td>0.002448</td>\n",
       "    </tr>\n",
       "    <tr>\n",
       "      <th>16</th>\n",
       "      <td>2013-05-01</td>\n",
       "      <td>0.002449</td>\n",
       "    </tr>\n",
       "    <tr>\n",
       "      <th>17</th>\n",
       "      <td>2013-06-01</td>\n",
       "      <td>0.001394</td>\n",
       "    </tr>\n",
       "    <tr>\n",
       "      <th>18</th>\n",
       "      <td>2013-07-01</td>\n",
       "      <td>0.003686</td>\n",
       "    </tr>\n",
       "    <tr>\n",
       "      <th>19</th>\n",
       "      <td>2013-08-01</td>\n",
       "      <td>0.024530</td>\n",
       "    </tr>\n",
       "    <tr>\n",
       "      <th>20</th>\n",
       "      <td>2013-09-01</td>\n",
       "      <td>0.071403</td>\n",
       "    </tr>\n",
       "    <tr>\n",
       "      <th>21</th>\n",
       "      <td>2013-10-01</td>\n",
       "      <td>0.003535</td>\n",
       "    </tr>\n",
       "    <tr>\n",
       "      <th>22</th>\n",
       "      <td>2013-11-01</td>\n",
       "      <td>0.002466</td>\n",
       "    </tr>\n",
       "    <tr>\n",
       "      <th>23</th>\n",
       "      <td>2013-12-01</td>\n",
       "      <td>0.002466</td>\n",
       "    </tr>\n",
       "    <tr>\n",
       "      <th>24</th>\n",
       "      <td>2014-01-01</td>\n",
       "      <td>0.041262</td>\n",
       "    </tr>\n",
       "    <tr>\n",
       "      <th>25</th>\n",
       "      <td>2014-02-01</td>\n",
       "      <td>0.016568</td>\n",
       "    </tr>\n",
       "    <tr>\n",
       "      <th>26</th>\n",
       "      <td>2014-03-01</td>\n",
       "      <td>0.039191</td>\n",
       "    </tr>\n",
       "    <tr>\n",
       "      <th>27</th>\n",
       "      <td>2014-04-01</td>\n",
       "      <td>0.002448</td>\n",
       "    </tr>\n",
       "    <tr>\n",
       "      <th>28</th>\n",
       "      <td>2014-05-01</td>\n",
       "      <td>0.002449</td>\n",
       "    </tr>\n",
       "    <tr>\n",
       "      <th>29</th>\n",
       "      <td>2014-06-01</td>\n",
       "      <td>0.002033</td>\n",
       "    </tr>\n",
       "    <tr>\n",
       "      <th>30</th>\n",
       "      <td>2014-07-01</td>\n",
       "      <td>0.004315</td>\n",
       "    </tr>\n",
       "    <tr>\n",
       "      <th>31</th>\n",
       "      <td>2014-08-01</td>\n",
       "      <td>0.017859</td>\n",
       "    </tr>\n",
       "    <tr>\n",
       "      <th>32</th>\n",
       "      <td>2014-09-01</td>\n",
       "      <td>0.072379</td>\n",
       "    </tr>\n",
       "    <tr>\n",
       "      <th>33</th>\n",
       "      <td>2014-10-01</td>\n",
       "      <td>0.003637</td>\n",
       "    </tr>\n",
       "    <tr>\n",
       "      <th>34</th>\n",
       "      <td>2014-11-01</td>\n",
       "      <td>0.002466</td>\n",
       "    </tr>\n",
       "    <tr>\n",
       "      <th>35</th>\n",
       "      <td>2014-12-01</td>\n",
       "      <td>0.002473</td>\n",
       "    </tr>\n",
       "    <tr>\n",
       "      <th>36</th>\n",
       "      <td>2015-01-01</td>\n",
       "      <td>0.002542</td>\n",
       "    </tr>\n",
       "    <tr>\n",
       "      <th>37</th>\n",
       "      <td>2015-02-01</td>\n",
       "      <td>0.002449</td>\n",
       "    </tr>\n",
       "    <tr>\n",
       "      <th>38</th>\n",
       "      <td>2015-03-01</td>\n",
       "      <td>0.002449</td>\n",
       "    </tr>\n",
       "    <tr>\n",
       "      <th>39</th>\n",
       "      <td>2015-04-01</td>\n",
       "      <td>0.002448</td>\n",
       "    </tr>\n",
       "    <tr>\n",
       "      <th>40</th>\n",
       "      <td>2015-05-01</td>\n",
       "      <td>0.002449</td>\n",
       "    </tr>\n",
       "    <tr>\n",
       "      <th>41</th>\n",
       "      <td>2015-06-01</td>\n",
       "      <td>0.002449</td>\n",
       "    </tr>\n",
       "    <tr>\n",
       "      <th>42</th>\n",
       "      <td>2015-07-01</td>\n",
       "      <td>0.009663</td>\n",
       "    </tr>\n",
       "    <tr>\n",
       "      <th>43</th>\n",
       "      <td>2015-08-01</td>\n",
       "      <td>0.005252</td>\n",
       "    </tr>\n",
       "    <tr>\n",
       "      <th>44</th>\n",
       "      <td>2015-09-01</td>\n",
       "      <td>0.078355</td>\n",
       "    </tr>\n",
       "    <tr>\n",
       "      <th>45</th>\n",
       "      <td>2015-10-01</td>\n",
       "      <td>0.004951</td>\n",
       "    </tr>\n",
       "    <tr>\n",
       "      <th>46</th>\n",
       "      <td>2015-11-01</td>\n",
       "      <td>0.002466</td>\n",
       "    </tr>\n",
       "    <tr>\n",
       "      <th>47</th>\n",
       "      <td>2015-12-01</td>\n",
       "      <td>0.017637</td>\n",
       "    </tr>\n",
       "    <tr>\n",
       "      <th>48</th>\n",
       "      <td>2016-01-01</td>\n",
       "      <td>0.097663</td>\n",
       "    </tr>\n",
       "    <tr>\n",
       "      <th>49</th>\n",
       "      <td>2016-02-01</td>\n",
       "      <td>0.064201</td>\n",
       "    </tr>\n",
       "    <tr>\n",
       "      <th>50</th>\n",
       "      <td>2016-03-01</td>\n",
       "      <td>0.084771</td>\n",
       "    </tr>\n",
       "    <tr>\n",
       "      <th>51</th>\n",
       "      <td>2016-04-01</td>\n",
       "      <td>0.002448</td>\n",
       "    </tr>\n",
       "    <tr>\n",
       "      <th>52</th>\n",
       "      <td>2016-05-01</td>\n",
       "      <td>0.002448</td>\n",
       "    </tr>\n",
       "    <tr>\n",
       "      <th>53</th>\n",
       "      <td>2016-06-01</td>\n",
       "      <td>0.001461</td>\n",
       "    </tr>\n",
       "    <tr>\n",
       "      <th>54</th>\n",
       "      <td>2016-07-01</td>\n",
       "      <td>0.003310</td>\n",
       "    </tr>\n",
       "    <tr>\n",
       "      <th>55</th>\n",
       "      <td>2016-08-01</td>\n",
       "      <td>0.028451</td>\n",
       "    </tr>\n",
       "    <tr>\n",
       "      <th>56</th>\n",
       "      <td>2016-09-01</td>\n",
       "      <td>0.069271</td>\n",
       "    </tr>\n",
       "    <tr>\n",
       "      <th>57</th>\n",
       "      <td>2016-10-01</td>\n",
       "      <td>0.002897</td>\n",
       "    </tr>\n",
       "    <tr>\n",
       "      <th>58</th>\n",
       "      <td>2016-11-01</td>\n",
       "      <td>0.002448</td>\n",
       "    </tr>\n",
       "    <tr>\n",
       "      <th>59</th>\n",
       "      <td>2016-12-01</td>\n",
       "      <td>0.002449</td>\n",
       "    </tr>\n",
       "  </tbody>\n",
       "</table>\n",
       "</div>"
      ],
      "text/plain": [
       "        bulan     data \n",
       "0  2012-01-01  0.047951\n",
       "1  2012-02-01  0.026991\n",
       "2  2012-03-01  0.053202\n",
       "3  2012-04-01  0.002448\n",
       "4  2012-05-01  0.002449\n",
       "5  2012-06-01  0.001956\n",
       "6  2012-07-01  0.003324\n",
       "7  2012-08-01  0.020770\n",
       "8  2012-09-01  0.072419\n",
       "9  2012-10-01  0.004228\n",
       "10 2012-11-01  0.002466\n",
       "11 2012-12-01  0.002466\n",
       "12 2013-01-01  0.066779\n",
       "13 2013-02-01  0.042375\n",
       "14 2013-03-01  0.066101\n",
       "15 2013-04-01  0.002448\n",
       "16 2013-05-01  0.002449\n",
       "17 2013-06-01  0.001394\n",
       "18 2013-07-01  0.003686\n",
       "19 2013-08-01  0.024530\n",
       "20 2013-09-01  0.071403\n",
       "21 2013-10-01  0.003535\n",
       "22 2013-11-01  0.002466\n",
       "23 2013-12-01  0.002466\n",
       "24 2014-01-01  0.041262\n",
       "25 2014-02-01  0.016568\n",
       "26 2014-03-01  0.039191\n",
       "27 2014-04-01  0.002448\n",
       "28 2014-05-01  0.002449\n",
       "29 2014-06-01  0.002033\n",
       "30 2014-07-01  0.004315\n",
       "31 2014-08-01  0.017859\n",
       "32 2014-09-01  0.072379\n",
       "33 2014-10-01  0.003637\n",
       "34 2014-11-01  0.002466\n",
       "35 2014-12-01  0.002473\n",
       "36 2015-01-01  0.002542\n",
       "37 2015-02-01  0.002449\n",
       "38 2015-03-01  0.002449\n",
       "39 2015-04-01  0.002448\n",
       "40 2015-05-01  0.002449\n",
       "41 2015-06-01  0.002449\n",
       "42 2015-07-01  0.009663\n",
       "43 2015-08-01  0.005252\n",
       "44 2015-09-01  0.078355\n",
       "45 2015-10-01  0.004951\n",
       "46 2015-11-01  0.002466\n",
       "47 2015-12-01  0.017637\n",
       "48 2016-01-01  0.097663\n",
       "49 2016-02-01  0.064201\n",
       "50 2016-03-01  0.084771\n",
       "51 2016-04-01  0.002448\n",
       "52 2016-05-01  0.002448\n",
       "53 2016-06-01  0.001461\n",
       "54 2016-07-01  0.003310\n",
       "55 2016-08-01  0.028451\n",
       "56 2016-09-01  0.069271\n",
       "57 2016-10-01  0.002897\n",
       "58 2016-11-01  0.002448\n",
       "59 2016-12-01  0.002449"
      ]
     },
     "execution_count": 40,
     "metadata": {},
     "output_type": "execute_result"
    }
   ],
   "source": [
    "df"
   ]
  },
  {
   "cell_type": "code",
   "execution_count": 41,
   "metadata": {},
   "outputs": [
    {
     "data": {
      "text/plain": [
       "[<matplotlib.lines.Line2D at 0x273b6c85978>]"
      ]
     },
     "execution_count": 41,
     "metadata": {},
     "output_type": "execute_result"
    },
    {
     "data": {
      "image/png": "[encoded data removed]",
      "text/plain": [
       "<Figure size 1440x360 with 1 Axes>"
      ]
     },
     "metadata": {
      "needs_background": "light"
     },
     "output_type": "display_data"
    }
   ],
   "source": [
    "df = df.set_index(\"bulan\")\n",
    "plt.figure(figsize=(20, 5))\n",
    "plt.plot(df.index,df)"
   ]
  },
  {
   "cell_type": "code",
   "execution_count": 42,
   "metadata": {},
   "outputs": [
    {
     "data": {
      "text/html": [
       "<div>\n",
       "<style scoped>\n",
       "    .dataframe tbody tr th:only-of-type {\n",
       "        vertical-align: middle;\n",
       "    }\n",
       "\n",
       "    .dataframe tbody tr th {\n",
       "        vertical-align: top;\n",
       "    }\n",
       "\n",
       "    .dataframe thead th {\n",
       "        text-align: right;\n",
       "    }\n",
       "</style>\n",
       "<table border=\"1\" class=\"dataframe\">\n",
       "  <thead>\n",
       "    <tr style=\"text-align: right;\">\n",
       "      <th></th>\n",
       "      <th>bulan</th>\n",
       "      <th>data prediksi</th>\n",
       "      <th>data asli</th>\n",
       "    </tr>\n",
       "  </thead>\n",
       "  <tbody>\n",
       "    <tr>\n",
       "      <th>0</th>\n",
       "      <td>2012-01-01</td>\n",
       "      <td>0.002449</td>\n",
       "      <td>5.036144e-02</td>\n",
       "    </tr>\n",
       "    <tr>\n",
       "      <th>1</th>\n",
       "      <td>2012-02-01</td>\n",
       "      <td>0.002449</td>\n",
       "      <td>2.939421e-02</td>\n",
       "    </tr>\n",
       "    <tr>\n",
       "      <th>2</th>\n",
       "      <td>2012-03-01</td>\n",
       "      <td>0.002449</td>\n",
       "      <td>5.561152e-02</td>\n",
       "    </tr>\n",
       "    <tr>\n",
       "      <th>3</th>\n",
       "      <td>2012-04-01</td>\n",
       "      <td>0.002448</td>\n",
       "      <td>0.000000e+00</td>\n",
       "    </tr>\n",
       "    <tr>\n",
       "      <th>4</th>\n",
       "      <td>2012-05-01</td>\n",
       "      <td>0.002449</td>\n",
       "      <td>0.000000e+00</td>\n",
       "    </tr>\n",
       "    <tr>\n",
       "      <th>5</th>\n",
       "      <td>2012-06-01</td>\n",
       "      <td>0.002449</td>\n",
       "      <td>4.985998e-04</td>\n",
       "    </tr>\n",
       "    <tr>\n",
       "      <th>6</th>\n",
       "      <td>2012-07-01</td>\n",
       "      <td>0.002449</td>\n",
       "      <td>4.732139e-03</td>\n",
       "    </tr>\n",
       "    <tr>\n",
       "      <th>7</th>\n",
       "      <td>2012-08-01</td>\n",
       "      <td>0.002449</td>\n",
       "      <td>2.313566e-02</td>\n",
       "    </tr>\n",
       "    <tr>\n",
       "      <th>8</th>\n",
       "      <td>2012-09-01</td>\n",
       "      <td>0.002449</td>\n",
       "      <td>7.482821e-02</td>\n",
       "    </tr>\n",
       "    <tr>\n",
       "      <th>9</th>\n",
       "      <td>2012-10-01</td>\n",
       "      <td>0.002466</td>\n",
       "      <td>1.951756e-03</td>\n",
       "    </tr>\n",
       "    <tr>\n",
       "      <th>10</th>\n",
       "      <td>2012-11-01</td>\n",
       "      <td>0.002466</td>\n",
       "      <td>0.000000e+00</td>\n",
       "    </tr>\n",
       "    <tr>\n",
       "      <th>11</th>\n",
       "      <td>2012-12-01</td>\n",
       "      <td>0.002466</td>\n",
       "      <td>8.443186e-07</td>\n",
       "    </tr>\n",
       "    <tr>\n",
       "      <th>12</th>\n",
       "      <td>2013-01-01</td>\n",
       "      <td>0.002449</td>\n",
       "      <td>6.918903e-02</td>\n",
       "    </tr>\n",
       "    <tr>\n",
       "      <th>13</th>\n",
       "      <td>2013-02-01</td>\n",
       "      <td>0.002449</td>\n",
       "      <td>4.478209e-02</td>\n",
       "    </tr>\n",
       "    <tr>\n",
       "      <th>14</th>\n",
       "      <td>2013-03-01</td>\n",
       "      <td>0.002449</td>\n",
       "      <td>6.851169e-02</td>\n",
       "    </tr>\n",
       "    <tr>\n",
       "      <th>15</th>\n",
       "      <td>2013-04-01</td>\n",
       "      <td>0.002448</td>\n",
       "      <td>0.000000e+00</td>\n",
       "    </tr>\n",
       "    <tr>\n",
       "      <th>16</th>\n",
       "      <td>2013-05-01</td>\n",
       "      <td>0.002449</td>\n",
       "      <td>0.000000e+00</td>\n",
       "    </tr>\n",
       "    <tr>\n",
       "      <th>17</th>\n",
       "      <td>2013-06-01</td>\n",
       "      <td>0.002449</td>\n",
       "      <td>1.527034e-03</td>\n",
       "    </tr>\n",
       "    <tr>\n",
       "      <th>18</th>\n",
       "      <td>2013-07-01</td>\n",
       "      <td>0.002449</td>\n",
       "      <td>5.131007e-03</td>\n",
       "    </tr>\n",
       "    <tr>\n",
       "      <th>19</th>\n",
       "      <td>2013-08-01</td>\n",
       "      <td>0.002449</td>\n",
       "      <td>2.690689e-02</td>\n",
       "    </tr>\n",
       "    <tr>\n",
       "      <th>20</th>\n",
       "      <td>2013-09-01</td>\n",
       "      <td>0.002449</td>\n",
       "      <td>7.381216e-02</td>\n",
       "    </tr>\n",
       "    <tr>\n",
       "      <th>21</th>\n",
       "      <td>2013-10-01</td>\n",
       "      <td>0.002466</td>\n",
       "      <td>1.237466e-03</td>\n",
       "    </tr>\n",
       "    <tr>\n",
       "      <th>22</th>\n",
       "      <td>2013-11-01</td>\n",
       "      <td>0.002466</td>\n",
       "      <td>0.000000e+00</td>\n",
       "    </tr>\n",
       "    <tr>\n",
       "      <th>23</th>\n",
       "      <td>2013-12-01</td>\n",
       "      <td>0.002466</td>\n",
       "      <td>0.000000e+00</td>\n",
       "    </tr>\n",
       "    <tr>\n",
       "      <th>24</th>\n",
       "      <td>2014-01-01</td>\n",
       "      <td>0.002449</td>\n",
       "      <td>4.367229e-02</td>\n",
       "    </tr>\n",
       "    <tr>\n",
       "      <th>25</th>\n",
       "      <td>2014-02-01</td>\n",
       "      <td>0.002449</td>\n",
       "      <td>1.876399e-02</td>\n",
       "    </tr>\n",
       "    <tr>\n",
       "      <th>26</th>\n",
       "      <td>2014-03-01</td>\n",
       "      <td>0.002449</td>\n",
       "      <td>4.160067e-02</td>\n",
       "    </tr>\n",
       "    <tr>\n",
       "      <th>27</th>\n",
       "      <td>2014-04-01</td>\n",
       "      <td>0.002448</td>\n",
       "      <td>0.000000e+00</td>\n",
       "    </tr>\n",
       "    <tr>\n",
       "      <th>28</th>\n",
       "      <td>2014-05-01</td>\n",
       "      <td>0.002449</td>\n",
       "      <td>0.000000e+00</td>\n",
       "    </tr>\n",
       "    <tr>\n",
       "      <th>29</th>\n",
       "      <td>2014-06-01</td>\n",
       "      <td>0.002449</td>\n",
       "      <td>4.231010e-04</td>\n",
       "    </tr>\n",
       "    <tr>\n",
       "      <th>30</th>\n",
       "      <td>2014-07-01</td>\n",
       "      <td>0.002449</td>\n",
       "      <td>6.038710e-03</td>\n",
       "    </tr>\n",
       "    <tr>\n",
       "      <th>31</th>\n",
       "      <td>2014-08-01</td>\n",
       "      <td>0.002449</td>\n",
       "      <td>2.021037e-02</td>\n",
       "    </tr>\n",
       "    <tr>\n",
       "      <th>32</th>\n",
       "      <td>2014-09-01</td>\n",
       "      <td>0.002449</td>\n",
       "      <td>7.478870e-02</td>\n",
       "    </tr>\n",
       "    <tr>\n",
       "      <th>33</th>\n",
       "      <td>2014-10-01</td>\n",
       "      <td>0.002467</td>\n",
       "      <td>1.343593e-03</td>\n",
       "    </tr>\n",
       "    <tr>\n",
       "      <th>34</th>\n",
       "      <td>2014-11-01</td>\n",
       "      <td>0.002466</td>\n",
       "      <td>0.000000e+00</td>\n",
       "    </tr>\n",
       "    <tr>\n",
       "      <th>35</th>\n",
       "      <td>2014-12-01</td>\n",
       "      <td>0.002466</td>\n",
       "      <td>7.588192e-06</td>\n",
       "    </tr>\n",
       "    <tr>\n",
       "      <th>36</th>\n",
       "      <td>2015-01-01</td>\n",
       "      <td>0.002449</td>\n",
       "      <td>9.328075e-05</td>\n",
       "    </tr>\n",
       "    <tr>\n",
       "      <th>37</th>\n",
       "      <td>2015-02-01</td>\n",
       "      <td>0.002449</td>\n",
       "      <td>0.000000e+00</td>\n",
       "    </tr>\n",
       "    <tr>\n",
       "      <th>38</th>\n",
       "      <td>2015-03-01</td>\n",
       "      <td>0.002449</td>\n",
       "      <td>0.000000e+00</td>\n",
       "    </tr>\n",
       "    <tr>\n",
       "      <th>39</th>\n",
       "      <td>2015-04-01</td>\n",
       "      <td>0.002448</td>\n",
       "      <td>0.000000e+00</td>\n",
       "    </tr>\n",
       "    <tr>\n",
       "      <th>40</th>\n",
       "      <td>2015-05-01</td>\n",
       "      <td>0.002449</td>\n",
       "      <td>0.000000e+00</td>\n",
       "    </tr>\n",
       "    <tr>\n",
       "      <th>41</th>\n",
       "      <td>2015-06-01</td>\n",
       "      <td>0.002449</td>\n",
       "      <td>0.000000e+00</td>\n",
       "    </tr>\n",
       "    <tr>\n",
       "      <th>42</th>\n",
       "      <td>2015-07-01</td>\n",
       "      <td>0.002449</td>\n",
       "      <td>1.143431e-02</td>\n",
       "    </tr>\n",
       "    <tr>\n",
       "      <th>43</th>\n",
       "      <td>2015-08-01</td>\n",
       "      <td>0.002449</td>\n",
       "      <td>5.005872e-03</td>\n",
       "    </tr>\n",
       "    <tr>\n",
       "      <th>44</th>\n",
       "      <td>2015-09-01</td>\n",
       "      <td>0.002449</td>\n",
       "      <td>8.076222e-02</td>\n",
       "    </tr>\n",
       "    <tr>\n",
       "      <th>45</th>\n",
       "      <td>2015-10-01</td>\n",
       "      <td>0.002466</td>\n",
       "      <td>2.689389e-03</td>\n",
       "    </tr>\n",
       "    <tr>\n",
       "      <th>46</th>\n",
       "      <td>2015-11-01</td>\n",
       "      <td>0.002466</td>\n",
       "      <td>0.000000e+00</td>\n",
       "    </tr>\n",
       "    <tr>\n",
       "      <th>47</th>\n",
       "      <td>2015-12-01</td>\n",
       "      <td>0.002466</td>\n",
       "      <td>1.959673e-02</td>\n",
       "    </tr>\n",
       "    <tr>\n",
       "      <th>48</th>\n",
       "      <td>2016-01-01</td>\n",
       "      <td>0.002448</td>\n",
       "      <td>1.000722e-01</td>\n",
       "    </tr>\n",
       "    <tr>\n",
       "      <th>49</th>\n",
       "      <td>2016-02-01</td>\n",
       "      <td>0.002448</td>\n",
       "      <td>6.660953e-02</td>\n",
       "    </tr>\n",
       "    <tr>\n",
       "      <th>50</th>\n",
       "      <td>2016-03-01</td>\n",
       "      <td>0.002448</td>\n",
       "      <td>8.718035e-02</td>\n",
       "    </tr>\n",
       "    <tr>\n",
       "      <th>51</th>\n",
       "      <td>2016-04-01</td>\n",
       "      <td>0.002448</td>\n",
       "      <td>0.000000e+00</td>\n",
       "    </tr>\n",
       "    <tr>\n",
       "      <th>52</th>\n",
       "      <td>2016-05-01</td>\n",
       "      <td>0.002448</td>\n",
       "      <td>0.000000e+00</td>\n",
       "    </tr>\n",
       "    <tr>\n",
       "      <th>53</th>\n",
       "      <td>2016-06-01</td>\n",
       "      <td>0.002449</td>\n",
       "      <td>1.225306e-03</td>\n",
       "    </tr>\n",
       "    <tr>\n",
       "      <th>54</th>\n",
       "      <td>2016-07-01</td>\n",
       "      <td>0.002449</td>\n",
       "      <td>4.553074e-03</td>\n",
       "    </tr>\n",
       "    <tr>\n",
       "      <th>55</th>\n",
       "      <td>2016-08-01</td>\n",
       "      <td>0.002449</td>\n",
       "      <td>3.083398e-02</td>\n",
       "    </tr>\n",
       "    <tr>\n",
       "      <th>56</th>\n",
       "      <td>2016-09-01</td>\n",
       "      <td>0.002449</td>\n",
       "      <td>7.168045e-02</td>\n",
       "    </tr>\n",
       "    <tr>\n",
       "      <th>57</th>\n",
       "      <td>2016-10-01</td>\n",
       "      <td>0.002448</td>\n",
       "      <td>5.363363e-04</td>\n",
       "    </tr>\n",
       "    <tr>\n",
       "      <th>58</th>\n",
       "      <td>2016-11-01</td>\n",
       "      <td>0.002448</td>\n",
       "      <td>0.000000e+00</td>\n",
       "    </tr>\n",
       "    <tr>\n",
       "      <th>59</th>\n",
       "      <td>2016-12-01</td>\n",
       "      <td>0.002449</td>\n",
       "      <td>0.000000e+00</td>\n",
       "    </tr>\n",
       "  </tbody>\n",
       "</table>\n",
       "</div>"
      ],
      "text/plain": [
       "        bulan  data prediksi     data asli\n",
       "0  2012-01-01       0.002449  5.036144e-02\n",
       "1  2012-02-01       0.002449  2.939421e-02\n",
       "2  2012-03-01       0.002449  5.561152e-02\n",
       "3  2012-04-01       0.002448  0.000000e+00\n",
       "4  2012-05-01       0.002449  0.000000e+00\n",
       "5  2012-06-01       0.002449  4.985998e-04\n",
       "6  2012-07-01       0.002449  4.732139e-03\n",
       "7  2012-08-01       0.002449  2.313566e-02\n",
       "8  2012-09-01       0.002449  7.482821e-02\n",
       "9  2012-10-01       0.002466  1.951756e-03\n",
       "10 2012-11-01       0.002466  0.000000e+00\n",
       "11 2012-12-01       0.002466  8.443186e-07\n",
       "12 2013-01-01       0.002449  6.918903e-02\n",
       "13 2013-02-01       0.002449  4.478209e-02\n",
       "14 2013-03-01       0.002449  6.851169e-02\n",
       "15 2013-04-01       0.002448  0.000000e+00\n",
       "16 2013-05-01       0.002449  0.000000e+00\n",
       "17 2013-06-01       0.002449  1.527034e-03\n",
       "18 2013-07-01       0.002449  5.131007e-03\n",
       "19 2013-08-01       0.002449  2.690689e-02\n",
       "20 2013-09-01       0.002449  7.381216e-02\n",
       "21 2013-10-01       0.002466  1.237466e-03\n",
       "22 2013-11-01       0.002466  0.000000e+00\n",
       "23 2013-12-01       0.002466  0.000000e+00\n",
       "24 2014-01-01       0.002449  4.367229e-02\n",
       "25 2014-02-01       0.002449  1.876399e-02\n",
       "26 2014-03-01       0.002449  4.160067e-02\n",
       "27 2014-04-01       0.002448  0.000000e+00\n",
       "28 2014-05-01       0.002449  0.000000e+00\n",
       "29 2014-06-01       0.002449  4.231010e-04\n",
       "30 2014-07-01       0.002449  6.038710e-03\n",
       "31 2014-08-01       0.002449  2.021037e-02\n",
       "32 2014-09-01       0.002449  7.478870e-02\n",
       "33 2014-10-01       0.002467  1.343593e-03\n",
       "34 2014-11-01       0.002466  0.000000e+00\n",
       "35 2014-12-01       0.002466  7.588192e-06\n",
       "36 2015-01-01       0.002449  9.328075e-05\n",
       "37 2015-02-01       0.002449  0.000000e+00\n",
       "38 2015-03-01       0.002449  0.000000e+00\n",
       "39 2015-04-01       0.002448  0.000000e+00\n",
       "40 2015-05-01       0.002449  0.000000e+00\n",
       "41 2015-06-01       0.002449  0.000000e+00\n",
       "42 2015-07-01       0.002449  1.143431e-02\n",
       "43 2015-08-01       0.002449  5.005872e-03\n",
       "44 2015-09-01       0.002449  8.076222e-02\n",
       "45 2015-10-01       0.002466  2.689389e-03\n",
       "46 2015-11-01       0.002466  0.000000e+00\n",
       "47 2015-12-01       0.002466  1.959673e-02\n",
       "48 2016-01-01       0.002448  1.000722e-01\n",
       "49 2016-02-01       0.002448  6.660953e-02\n",
       "50 2016-03-01       0.002448  8.718035e-02\n",
       "51 2016-04-01       0.002448  0.000000e+00\n",
       "52 2016-05-01       0.002448  0.000000e+00\n",
       "53 2016-06-01       0.002449  1.225306e-03\n",
       "54 2016-07-01       0.002449  4.553074e-03\n",
       "55 2016-08-01       0.002449  3.083398e-02\n",
       "56 2016-09-01       0.002449  7.168045e-02\n",
       "57 2016-10-01       0.002448  5.363363e-04\n",
       "58 2016-11-01       0.002448  0.000000e+00\n",
       "59 2016-12-01       0.002449  0.000000e+00"
      ]
     },
     "execution_count": 42,
     "metadata": {},
     "output_type": "execute_result"
    }
   ],
   "source": [
    "dict = {'bulan': add_dates, 'data prediksi':Pred_rata, 'data asli':df_asli_rata}\n",
    "df = pd.DataFrame(dict)\n",
    "df\n"
   ]
  },
  {
   "cell_type": "code",
   "execution_count": 43,
   "metadata": {},
   "outputs": [
    {
     "data": {
      "image/png": "[encoded data removed]",
      "text/plain": [
       "<Figure size 1440x360 with 1 Axes>"
      ]
     },
     "metadata": {
      "needs_background": "light"
     },
     "output_type": "display_data"
    }
   ],
   "source": [
    "# df_asli = data_4\n",
    "df = df.set_index(\"bulan\")\n",
    "plt.figure(figsize=(20, 5))\n",
    "plt.plot(df.index, df_asli_rata[-60:], color='b', label=\"observasi\")\n",
    "plt.plot(df.index, Pred_rata[-60:], color='r', label=\"prediksi\")\n",
    "plt.legend(loc='best', fontsize='xx-large')\n",
    "plt.xticks(fontsize=18)\n",
    "plt.yticks(fontsize=16)\n",
    "plt.show()"
   ]
  },
  {
   "cell_type": "code",
   "execution_count": 44,
   "metadata": {},
   "outputs": [
    {
     "data": {
      "image/png": "[encoded data removed]",
      "text/plain": [
       "<Figure size 432x288 with 1 Axes>"
      ]
     },
     "metadata": {
      "needs_background": "light"
     },
     "output_type": "display_data"
    }
   ],
   "source": [
    "# # Time series data\n",
    "\n",
    "# data = mae\n",
    "\n",
    " \n",
    "\n",
    "# # Plot autocorrelation\n",
    "\n",
    "# plt.acorr(data, maxlags=12)\n",
    "\n",
    " \n",
    "\n",
    "# # Add labels to autocorrelation plot\n",
    "\n",
    "# plt.title('Autocorrelation of LSTM')\n",
    "\n",
    "# plt.xlabel('Lag')\n",
    "\n",
    "# plt.ylabel('Autocorrelation')\n",
    "\n",
    " \n",
    "\n",
    "# # Display the autocorrelation plot\n",
    "\n",
    "# plt.show()\n",
    "\n",
    "import statsmodels.tsa.api as smt\n",
    "\n",
    "acf = smt.graphics.plot_acf(mae, lags=12 , alpha=0.05)\n",
    "acf.show()"
   ]
  },
  {
   "cell_type": "code",
   "execution_count": 45,
   "metadata": {},
   "outputs": [
    {
     "data": {
      "image/png": "[encoded data removed]",
      "text/plain": [
       "<Figure size 432x288 with 1 Axes>"
      ]
     },
     "metadata": {
      "needs_background": "light"
     },
     "output_type": "display_data"
    }
   ],
   "source": [
    "pacf = smt.graphics.plot_pacf(mae, lags=12 , alpha=0.05)\n",
    "pacf.show()"
   ]
  },
  {
   "cell_type": "code",
   "execution_count": 46,
   "metadata": {},
   "outputs": [
    {
     "data": {
      "text/plain": [
       "<matplotlib.image.AxesImage at 0x273b2373c88>"
      ]
     },
     "execution_count": 46,
     "metadata": {},
     "output_type": "execute_result"
    },
    {
     "data": {
      "image/png": "[encoded data removed]",
      "text/plain": [
       "<Figure size 432x288 with 1 Axes>"
      ]
     },
     "metadata": {
      "needs_background": "light"
     },
     "output_type": "display_data"
    }
   ],
   "source": [
    "plt.imshow((df_asli[59]-pred_list[59]).reshape(83,114))"
   ]
  },
  {
   "cell_type": "code",
   "execution_count": 47,
   "metadata": {},
   "outputs": [],
   "source": [
    "from skimage import io\n",
    "# io.imsave('NewRaster/201201.tif', pred_list[0].reshape(83,114))"
   ]
  },
  {
   "cell_type": "code",
   "execution_count": 48,
   "metadata": {},
   "outputs": [],
   "source": [
    "pred_list[pred_list==0]=-9999"
   ]
  },
  {
   "cell_type": "code",
   "execution_count": 112,
   "metadata": {},
   "outputs": [
    {
     "data": {
      "text/plain": [
       "'Raster_1/201612.tif'"
      ]
     },
     "execution_count": 112,
     "metadata": {},
     "output_type": "execute_result"
    }
   ],
   "source": [
    "no=0\n",
    "for pred in pred_list:\n",
    "    if(add_dates[no].month<10):\n",
    "        nama_file = 'Raster_1/'+str(add_dates[no].year)+'0'+str(add_dates[no].month)+'.tif'\n",
    "    else:\n",
    "        nama_file = 'Raster_1/'+str(add_dates[no].year)+str(add_dates[no].month)+'.tif'\n",
    "            \n",
    "    io.imsave(nama_file, pred_list[no].reshape(83,114))\n",
    "    no+=1\n",
    "nama_file"
   ]
  },
  {
   "cell_type": "raw",
   "metadata": {},
   "source": []
  },
  {
   "cell_type": "code",
   "execution_count": null,
   "metadata": {},
   "outputs": [],
   "source": []
  },
  {
   "cell_type": "code",
   "execution_count": null,
   "metadata": {},
   "outputs": [],
   "source": []
  },
  {
   "cell_type": "code",
   "execution_count": 113,
   "metadata": {},
   "outputs": [],
   "source": [
    "model.save('LSTM102030DENSE405060_adam_seed1.h5')"
   ]
  },
  {
   "cell_type": "code",
   "execution_count": null,
   "metadata": {},
   "outputs": [],
   "source": []
  }
 ],
 "metadata": {
  "kernelspec": {
   "display_name": "Python 3",
   "language": "python",
   "name": "python3"
  },
  "language_info": {
   "codemirror_mode": {
    "name": "ipython",
    "version": 3
   },
   "file_extension": ".py",
   "mimetype": "text/x-python",
   "name": "python",
   "nbconvert_exporter": "python",
   "pygments_lexer": "ipython3",
   "version": "3.7.3"
  }
 },
 "nbformat": 4,
 "nbformat_minor": 2
}
