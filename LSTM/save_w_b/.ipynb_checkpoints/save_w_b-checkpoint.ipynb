{
 "cells": [
  {
   "cell_type": "code",
   "execution_count": 1,
   "metadata": {},
   "outputs": [
    {
     "name": "stderr",
     "output_type": "stream",
     "text": [
      "Using TensorFlow backend.\n"
     ]
    }
   ],
   "source": [
    "import numpy as np\n",
    "import pandas as pd\n",
    "import matplotlib.pyplot as plt\n",
    "%matplotlib inline\n",
    "from sklearn.preprocessing import MinMaxScaler\n",
    "from tensorflow.keras.preprocessing.sequence import TimeseriesGenerator\n",
    "from tensorflow.keras.models import Sequential\n",
    "from tensorflow.keras.layers import Dense\n",
    "from tensorflow.keras.layers import LSTM\n",
    "from tensorflow.keras.layers import Dropout, Embedding, TimeDistributed\n",
    "from keras.initializers import RandomNormal\n",
    "# from keras.layers import Conv1D, MaxPooling2D\n",
    "import warnings\n",
    "import pickle\n",
    "warnings.filterwarnings(\"ignore\")\n",
    "\n",
    "seed_value= 0\n",
    "import os\n",
    "os.environ['PYTHONHASHSEED']=str(seed_value)\n",
    "import random\n",
    "random.seed(seed_value)\n",
    "\n",
    "# 3. Set `numpy` pseudo-random generator at a fixed value\n",
    "import numpy as np\n",
    "np.random.seed(seed_value)\n",
    "np.random.seed(1)\n",
    "\n",
    "# 4. Set the `tensorflow` pseudo-random generator at a fixed value\n",
    "import tensorflow as tf\n",
    "tf.random.set_seed(seed_value)"
   ]
  },
  {
   "cell_type": "code",
   "execution_count": 2,
   "metadata": {},
   "outputs": [
    {
     "data": {
      "text/plain": [
       "<matplotlib.image.AxesImage at 0x2245d444f60>"
      ]
     },
     "execution_count": 2,
     "metadata": {},
     "output_type": "execute_result"
    },
    {
     "data": {
      "image/png": "[encoded data removed]",
      "text/plain": [
       "<Figure size 432x288 with 1 Axes>"
      ]
     },
     "metadata": {
      "needs_background": "light"
     },
     "output_type": "display_data"
    }
   ],
   "source": [
    "pickle_in = open(\"../../Data_error/error_flatten.pickle\",\"rb\")\n",
    "# data diload sudah dalam bentuk 1D\n",
    "X = pickle.load(pickle_in)\n",
    "# untuk menampilkan gambar data 1D -> 2D\n",
    "plt.imshow(X[0].reshape(83,114))"
   ]
  },
  {
   "cell_type": "code",
   "execution_count": 3,
   "metadata": {},
   "outputs": [
    {
     "data": {
      "text/plain": [
       "(396, 9462)"
      ]
     },
     "execution_count": 3,
     "metadata": {},
     "output_type": "execute_result"
    }
   ],
   "source": [
    "np.array(X).shape"
   ]
  },
  {
   "cell_type": "code",
   "execution_count": 4,
   "metadata": {},
   "outputs": [],
   "source": [
    "df = X\n",
    "data_1 = df[:-48]\n",
    "data_2 = df[:-36]\n",
    "data_3 = df[:-24]\n",
    "data_4 = df[:-12]\n",
    "data_5 = df\n",
    "# data tahun 1983-2011\n",
    "df=df[:-60]"
   ]
  },
  {
   "cell_type": "code",
   "execution_count": 5,
   "metadata": {},
   "outputs": [
    {
     "data": {
      "text/plain": [
       "[array([0., 0., 0., ..., 0., 0., 0.], dtype=float32),\n",
       " array([0., 0., 0., ..., 0., 0., 0.], dtype=float32),\n",
       " array([0., 0., 0., ..., 0., 0., 0.], dtype=float32),\n",
       " array([0., 0., 0., ..., 0., 0., 0.], dtype=float32),\n",
       " array([0., 0., 0., ..., 0., 0., 0.], dtype=float32),\n",
       " array([0., 0., 0., ..., 0., 0., 0.], dtype=float32),\n",
       " array([0., 0., 0., ..., 0., 0., 0.], dtype=float32),\n",
       " array([0., 0., 0., ..., 0., 0., 0.], dtype=float32),\n",
       " array([0., 0., 0., ..., 0., 0., 0.], dtype=float32),\n",
       " array([0., 0., 0., ..., 0., 0., 0.], dtype=float32),\n",
       " array([0., 0., 0., ..., 0., 0., 0.], dtype=float32),\n",
       " array([0., 0., 0., ..., 0., 0., 0.], dtype=float32),\n",
       " array([0., 0., 0., ..., 0., 0., 0.], dtype=float32),\n",
       " array([0., 0., 0., ..., 0., 0., 0.], dtype=float32),\n",
       " array([0., 0., 0., ..., 0., 0., 0.], dtype=float32),\n",
       " array([0., 0., 0., ..., 0., 0., 0.], dtype=float32),\n",
       " array([0., 0., 0., ..., 0., 0., 0.], dtype=float32),\n",
       " array([0., 0., 0., ..., 0., 0., 0.], dtype=float32),\n",
       " array([0., 0., 0., ..., 0., 0., 0.], dtype=float32),\n",
       " array([0., 0., 0., ..., 0., 0., 0.], dtype=float32),\n",
       " array([0., 0., 0., ..., 0., 0., 0.], dtype=float32),\n",
       " array([0., 0., 0., ..., 0., 0., 0.], dtype=float32),\n",
       " array([0., 0., 0., ..., 0., 0., 0.], dtype=float32),\n",
       " array([0., 0., 0., ..., 0., 0., 0.], dtype=float32),\n",
       " array([0., 0., 0., ..., 0., 0., 0.], dtype=float32),\n",
       " array([0., 0., 0., ..., 0., 0., 0.], dtype=float32),\n",
       " array([0., 0., 0., ..., 0., 0., 0.], dtype=float32),\n",
       " array([0., 0., 0., ..., 0., 0., 0.], dtype=float32),\n",
       " array([0., 0., 0., ..., 0., 0., 0.], dtype=float32),\n",
       " array([0., 0., 0., ..., 0., 0., 0.], dtype=float32),\n",
       " array([0., 0., 0., ..., 0., 0., 0.], dtype=float32),\n",
       " array([0., 0., 0., ..., 0., 0., 0.], dtype=float32),\n",
       " array([0., 0., 0., ..., 0., 0., 0.], dtype=float32),\n",
       " array([0., 0., 0., ..., 0., 0., 0.], dtype=float32),\n",
       " array([0., 0., 0., ..., 0., 0., 0.], dtype=float32),\n",
       " array([0., 0., 0., ..., 0., 0., 0.], dtype=float32),\n",
       " array([0., 0., 0., ..., 0., 0., 0.], dtype=float32),\n",
       " array([0., 0., 0., ..., 0., 0., 0.], dtype=float32),\n",
       " array([0., 0., 0., ..., 0., 0., 0.], dtype=float32),\n",
       " array([0., 0., 0., ..., 0., 0., 0.], dtype=float32),\n",
       " array([0., 0., 0., ..., 0., 0., 0.], dtype=float32),\n",
       " array([0., 0., 0., ..., 0., 0., 0.], dtype=float32),\n",
       " array([0., 0., 0., ..., 0., 0., 0.], dtype=float32),\n",
       " array([0., 0., 0., ..., 0., 0., 0.], dtype=float32),\n",
       " array([0., 0., 0., ..., 0., 0., 0.], dtype=float32),\n",
       " array([0., 0., 0., ..., 0., 0., 0.], dtype=float32),\n",
       " array([0., 0., 0., ..., 0., 0., 0.], dtype=float32),\n",
       " array([0., 0., 0., ..., 0., 0., 0.], dtype=float32),\n",
       " array([0., 0., 0., ..., 0., 0., 0.], dtype=float32),\n",
       " array([0., 0., 0., ..., 0., 0., 0.], dtype=float32),\n",
       " array([0., 0., 0., ..., 0., 0., 0.], dtype=float32),\n",
       " array([0., 0., 0., ..., 0., 0., 0.], dtype=float32),\n",
       " array([0., 0., 0., ..., 0., 0., 0.], dtype=float32),\n",
       " array([0., 0., 0., ..., 0., 0., 0.], dtype=float32),\n",
       " array([0., 0., 0., ..., 0., 0., 0.], dtype=float32),\n",
       " array([0., 0., 0., ..., 0., 0., 0.], dtype=float32),\n",
       " array([0., 0., 0., ..., 0., 0., 0.], dtype=float32),\n",
       " array([0., 0., 0., ..., 0., 0., 0.], dtype=float32),\n",
       " array([0., 0., 0., ..., 0., 0., 0.], dtype=float32),\n",
       " array([0., 0., 0., ..., 0., 0., 0.], dtype=float32),\n",
       " array([0., 0., 0., ..., 0., 0., 0.], dtype=float32),\n",
       " array([0., 0., 0., ..., 0., 0., 0.], dtype=float32),\n",
       " array([0., 0., 0., ..., 0., 0., 0.], dtype=float32),\n",
       " array([0., 0., 0., ..., 0., 0., 0.], dtype=float32),\n",
       " array([0., 0., 0., ..., 0., 0., 0.], dtype=float32),\n",
       " array([0., 0., 0., ..., 0., 0., 0.], dtype=float32),\n",
       " array([0., 0., 0., ..., 0., 0., 0.], dtype=float32),\n",
       " array([0., 0., 0., ..., 0., 0., 0.], dtype=float32),\n",
       " array([0., 0., 0., ..., 0., 0., 0.], dtype=float32),\n",
       " array([0., 0., 0., ..., 0., 0., 0.], dtype=float32),\n",
       " array([0., 0., 0., ..., 0., 0., 0.], dtype=float32),\n",
       " array([0., 0., 0., ..., 0., 0., 0.], dtype=float32),\n",
       " array([0., 0., 0., ..., 0., 0., 0.], dtype=float32),\n",
       " array([0., 0., 0., ..., 0., 0., 0.], dtype=float32),\n",
       " array([0., 0., 0., ..., 0., 0., 0.], dtype=float32),\n",
       " array([0., 0., 0., ..., 0., 0., 0.], dtype=float32),\n",
       " array([0., 0., 0., ..., 0., 0., 0.], dtype=float32),\n",
       " array([0., 0., 0., ..., 0., 0., 0.], dtype=float32),\n",
       " array([0., 0., 0., ..., 0., 0., 0.], dtype=float32),\n",
       " array([0., 0., 0., ..., 0., 0., 0.], dtype=float32),\n",
       " array([0., 0., 0., ..., 0., 0., 0.], dtype=float32),\n",
       " array([0., 0., 0., ..., 0., 0., 0.], dtype=float32),\n",
       " array([0., 0., 0., ..., 0., 0., 0.], dtype=float32),\n",
       " array([0., 0., 0., ..., 0., 0., 0.], dtype=float32),\n",
       " array([0., 0., 0., ..., 0., 0., 0.], dtype=float32),\n",
       " array([0., 0., 0., ..., 0., 0., 0.], dtype=float32),\n",
       " array([0., 0., 0., ..., 0., 0., 0.], dtype=float32),\n",
       " array([0., 0., 0., ..., 0., 0., 0.], dtype=float32),\n",
       " array([0., 0., 0., ..., 0., 0., 0.], dtype=float32),\n",
       " array([0., 0., 0., ..., 0., 0., 0.], dtype=float32),\n",
       " array([0., 0., 0., ..., 0., 0., 0.], dtype=float32),\n",
       " array([0., 0., 0., ..., 0., 0., 0.], dtype=float32),\n",
       " array([0., 0., 0., ..., 0., 0., 0.], dtype=float32),\n",
       " array([0., 0., 0., ..., 0., 0., 0.], dtype=float32),\n",
       " array([0., 0., 0., ..., 0., 0., 0.], dtype=float32),\n",
       " array([0., 0., 0., ..., 0., 0., 0.], dtype=float32),\n",
       " array([0., 0., 0., ..., 0., 0., 0.], dtype=float32),\n",
       " array([0., 0., 0., ..., 0., 0., 0.], dtype=float32),\n",
       " array([0., 0., 0., ..., 0., 0., 0.], dtype=float32),\n",
       " array([0., 0., 0., ..., 0., 0., 0.], dtype=float32),\n",
       " array([0., 0., 0., ..., 0., 0., 0.], dtype=float32),\n",
       " array([0., 0., 0., ..., 0., 0., 0.], dtype=float32),\n",
       " array([0., 0., 0., ..., 0., 0., 0.], dtype=float32),\n",
       " array([0., 0., 0., ..., 0., 0., 0.], dtype=float32),\n",
       " array([0., 0., 0., ..., 0., 0., 0.], dtype=float32),\n",
       " array([0., 0., 0., ..., 0., 0., 0.], dtype=float32),\n",
       " array([0., 0., 0., ..., 0., 0., 0.], dtype=float32),\n",
       " array([0., 0., 0., ..., 0., 0., 0.], dtype=float32),\n",
       " array([0., 0., 0., ..., 0., 0., 0.], dtype=float32),\n",
       " array([0., 0., 0., ..., 0., 0., 0.], dtype=float32),\n",
       " array([0., 0., 0., ..., 0., 0., 0.], dtype=float32),\n",
       " array([0., 0., 0., ..., 0., 0., 0.], dtype=float32),\n",
       " array([0., 0., 0., ..., 0., 0., 0.], dtype=float32),\n",
       " array([0., 0., 0., ..., 0., 0., 0.], dtype=float32),\n",
       " array([0., 0., 0., ..., 0., 0., 0.], dtype=float32),\n",
       " array([0., 0., 0., ..., 0., 0., 0.], dtype=float32),\n",
       " array([0., 0., 0., ..., 0., 0., 0.], dtype=float32),\n",
       " array([0., 0., 0., ..., 0., 0., 0.], dtype=float32),\n",
       " array([0., 0., 0., ..., 0., 0., 0.], dtype=float32),\n",
       " array([0., 0., 0., ..., 0., 0., 0.], dtype=float32),\n",
       " array([0., 0., 0., ..., 0., 0., 0.], dtype=float32),\n",
       " array([0., 0., 0., ..., 0., 0., 0.], dtype=float32),\n",
       " array([0., 0., 0., ..., 0., 0., 0.], dtype=float32),\n",
       " array([0., 0., 0., ..., 0., 0., 0.], dtype=float32),\n",
       " array([0., 0., 0., ..., 0., 0., 0.], dtype=float32),\n",
       " array([0., 0., 0., ..., 0., 0., 0.], dtype=float32),\n",
       " array([0., 0., 0., ..., 0., 0., 0.], dtype=float32),\n",
       " array([0., 0., 0., ..., 0., 0., 0.], dtype=float32),\n",
       " array([0., 0., 0., ..., 0., 0., 0.], dtype=float32),\n",
       " array([0., 0., 0., ..., 0., 0., 0.], dtype=float32),\n",
       " array([0., 0., 0., ..., 0., 0., 0.], dtype=float32),\n",
       " array([0., 0., 0., ..., 0., 0., 0.], dtype=float32),\n",
       " array([0., 0., 0., ..., 0., 0., 0.], dtype=float32),\n",
       " array([0., 0., 0., ..., 0., 0., 0.], dtype=float32),\n",
       " array([0., 0., 0., ..., 0., 0., 0.], dtype=float32),\n",
       " array([0., 0., 0., ..., 0., 0., 0.], dtype=float32),\n",
       " array([0., 0., 0., ..., 0., 0., 0.], dtype=float32),\n",
       " array([0., 0., 0., ..., 0., 0., 0.], dtype=float32),\n",
       " array([0., 0., 0., ..., 0., 0., 0.], dtype=float32),\n",
       " array([0., 0., 0., ..., 0., 0., 0.], dtype=float32),\n",
       " array([0., 0., 0., ..., 0., 0., 0.], dtype=float32),\n",
       " array([0., 0., 0., ..., 0., 0., 0.], dtype=float32),\n",
       " array([0., 0., 0., ..., 0., 0., 0.], dtype=float32),\n",
       " array([0., 0., 0., ..., 0., 0., 0.], dtype=float32),\n",
       " array([0., 0., 0., ..., 0., 0., 0.], dtype=float32),\n",
       " array([0., 0., 0., ..., 0., 0., 0.], dtype=float32),\n",
       " array([0., 0., 0., ..., 0., 0., 0.], dtype=float32),\n",
       " array([0., 0., 0., ..., 0., 0., 0.], dtype=float32),\n",
       " array([0., 0., 0., ..., 0., 0., 0.], dtype=float32),\n",
       " array([0., 0., 0., ..., 0., 0., 0.], dtype=float32),\n",
       " array([0., 0., 0., ..., 0., 0., 0.], dtype=float32),\n",
       " array([0., 0., 0., ..., 0., 0., 0.], dtype=float32),\n",
       " array([0., 0., 0., ..., 0., 0., 0.], dtype=float32),\n",
       " array([0., 0., 0., ..., 0., 0., 0.], dtype=float32),\n",
       " array([0., 0., 0., ..., 0., 0., 0.], dtype=float32),\n",
       " array([0., 0., 0., ..., 0., 0., 0.], dtype=float32),\n",
       " array([0., 0., 0., ..., 0., 0., 0.], dtype=float32),\n",
       " array([0., 0., 0., ..., 0., 0., 0.], dtype=float32),\n",
       " array([0., 0., 0., ..., 0., 0., 0.], dtype=float32),\n",
       " array([0., 0., 0., ..., 0., 0., 0.], dtype=float32),\n",
       " array([0., 0., 0., ..., 0., 0., 0.], dtype=float32),\n",
       " array([0., 0., 0., ..., 0., 0., 0.], dtype=float32),\n",
       " array([0., 0., 0., ..., 0., 0., 0.], dtype=float32),\n",
       " array([0., 0., 0., ..., 0., 0., 0.], dtype=float32),\n",
       " array([0., 0., 0., ..., 0., 0., 0.], dtype=float32),\n",
       " array([0., 0., 0., ..., 0., 0., 0.], dtype=float32),\n",
       " array([0., 0., 0., ..., 0., 0., 0.], dtype=float32),\n",
       " array([0., 0., 0., ..., 0., 0., 0.], dtype=float32),\n",
       " array([0., 0., 0., ..., 0., 0., 0.], dtype=float32),\n",
       " array([0., 0., 0., ..., 0., 0., 0.], dtype=float32),\n",
       " array([0., 0., 0., ..., 0., 0., 0.], dtype=float32),\n",
       " array([0., 0., 0., ..., 0., 0., 0.], dtype=float32),\n",
       " array([0., 0., 0., ..., 0., 0., 0.], dtype=float32),\n",
       " array([0., 0., 0., ..., 0., 0., 0.], dtype=float32),\n",
       " array([0., 0., 0., ..., 0., 0., 0.], dtype=float32),\n",
       " array([0., 0., 0., ..., 0., 0., 0.], dtype=float32),\n",
       " array([0., 0., 0., ..., 0., 0., 0.], dtype=float32),\n",
       " array([0., 0., 0., ..., 0., 0., 0.], dtype=float32),\n",
       " array([0., 0., 0., ..., 0., 0., 0.], dtype=float32),\n",
       " array([0., 0., 0., ..., 0., 0., 0.], dtype=float32),\n",
       " array([0., 0., 0., ..., 0., 0., 0.], dtype=float32),\n",
       " array([0., 0., 0., ..., 0., 0., 0.], dtype=float32),\n",
       " array([0., 0., 0., ..., 0., 0., 0.], dtype=float32),\n",
       " array([0., 0., 0., ..., 0., 0., 0.], dtype=float32),\n",
       " array([0., 0., 0., ..., 0., 0., 0.], dtype=float32),\n",
       " array([0., 0., 0., ..., 0., 0., 0.], dtype=float32),\n",
       " array([0., 0., 0., ..., 0., 0., 0.], dtype=float32),\n",
       " array([0., 0., 0., ..., 0., 0., 0.], dtype=float32),\n",
       " array([0., 0., 0., ..., 0., 0., 0.], dtype=float32),\n",
       " array([0., 0., 0., ..., 0., 0., 0.], dtype=float32),\n",
       " array([0., 0., 0., ..., 0., 0., 0.], dtype=float32),\n",
       " array([0., 0., 0., ..., 0., 0., 0.], dtype=float32),\n",
       " array([0., 0., 0., ..., 0., 0., 0.], dtype=float32),\n",
       " array([0., 0., 0., ..., 0., 0., 0.], dtype=float32),\n",
       " array([0., 0., 0., ..., 0., 0., 0.], dtype=float32),\n",
       " array([0., 0., 0., ..., 0., 0., 0.], dtype=float32),\n",
       " array([0., 0., 0., ..., 0., 0., 0.], dtype=float32),\n",
       " array([0., 0., 0., ..., 0., 0., 0.], dtype=float32),\n",
       " array([0., 0., 0., ..., 0., 0., 0.], dtype=float32),\n",
       " array([0., 0., 0., ..., 0., 0., 0.], dtype=float32),\n",
       " array([0., 0., 0., ..., 0., 0., 0.], dtype=float32),\n",
       " array([0., 0., 0., ..., 0., 0., 0.], dtype=float32),\n",
       " array([0., 0., 0., ..., 0., 0., 0.], dtype=float32),\n",
       " array([0., 0., 0., ..., 0., 0., 0.], dtype=float32),\n",
       " array([0., 0., 0., ..., 0., 0., 0.], dtype=float32),\n",
       " array([0., 0., 0., ..., 0., 0., 0.], dtype=float32),\n",
       " array([0., 0., 0., ..., 0., 0., 0.], dtype=float32),\n",
       " array([0., 0., 0., ..., 0., 0., 0.], dtype=float32),\n",
       " array([0., 0., 0., ..., 0., 0., 0.], dtype=float32),\n",
       " array([0., 0., 0., ..., 0., 0., 0.], dtype=float32),\n",
       " array([0., 0., 0., ..., 0., 0., 0.], dtype=float32),\n",
       " array([0., 0., 0., ..., 0., 0., 0.], dtype=float32),\n",
       " array([0., 0., 0., ..., 0., 0., 0.], dtype=float32),\n",
       " array([0., 0., 0., ..., 0., 0., 0.], dtype=float32),\n",
       " array([0., 0., 0., ..., 0., 0., 0.], dtype=float32),\n",
       " array([0., 0., 0., ..., 0., 0., 0.], dtype=float32),\n",
       " array([0., 0., 0., ..., 0., 0., 0.], dtype=float32),\n",
       " array([0., 0., 0., ..., 0., 0., 0.], dtype=float32),\n",
       " array([0., 0., 0., ..., 0., 0., 0.], dtype=float32),\n",
       " array([0., 0., 0., ..., 0., 0., 0.], dtype=float32),\n",
       " array([0., 0., 0., ..., 0., 0., 0.], dtype=float32),\n",
       " array([0., 0., 0., ..., 0., 0., 0.], dtype=float32),\n",
       " array([0., 0., 0., ..., 0., 0., 0.], dtype=float32),\n",
       " array([0., 0., 0., ..., 0., 0., 0.], dtype=float32),\n",
       " array([0., 0., 0., ..., 0., 0., 0.], dtype=float32),\n",
       " array([0., 0., 0., ..., 0., 0., 0.], dtype=float32),\n",
       " array([0., 0., 0., ..., 0., 0., 0.], dtype=float32),\n",
       " array([0., 0., 0., ..., 0., 0., 0.], dtype=float32),\n",
       " array([0., 0., 0., ..., 0., 0., 0.], dtype=float32),\n",
       " array([0., 0., 0., ..., 0., 0., 0.], dtype=float32),\n",
       " array([0., 0., 0., ..., 0., 0., 0.], dtype=float32),\n",
       " array([0., 0., 0., ..., 0., 0., 0.], dtype=float32),\n",
       " array([0., 0., 0., ..., 0., 0., 0.], dtype=float32),\n",
       " array([0., 0., 0., ..., 0., 0., 0.], dtype=float32),\n",
       " array([0., 0., 0., ..., 0., 0., 0.], dtype=float32),\n",
       " array([0., 0., 0., ..., 0., 0., 0.], dtype=float32),\n",
       " array([0., 0., 0., ..., 0., 0., 0.], dtype=float32),\n",
       " array([0., 0., 0., ..., 0., 0., 0.], dtype=float32),\n",
       " array([0., 0., 0., ..., 0., 0., 0.], dtype=float32),\n",
       " array([0., 0., 0., ..., 0., 0., 0.], dtype=float32),\n",
       " array([0., 0., 0., ..., 0., 0., 0.], dtype=float32),\n",
       " array([0., 0., 0., ..., 0., 0., 0.], dtype=float32),\n",
       " array([0., 0., 0., ..., 0., 0., 0.], dtype=float32),\n",
       " array([0., 0., 0., ..., 0., 0., 0.], dtype=float32),\n",
       " array([0., 0., 0., ..., 0., 0., 0.], dtype=float32),\n",
       " array([0., 0., 0., ..., 0., 0., 0.], dtype=float32),\n",
       " array([0., 0., 0., ..., 0., 0., 0.], dtype=float32),\n",
       " array([0., 0., 0., ..., 0., 0., 0.], dtype=float32),\n",
       " array([0., 0., 0., ..., 0., 0., 0.], dtype=float32),\n",
       " array([0., 0., 0., ..., 0., 0., 0.], dtype=float32),\n",
       " array([0., 0., 0., ..., 0., 0., 0.], dtype=float32),\n",
       " array([0., 0., 0., ..., 0., 0., 0.], dtype=float32),\n",
       " array([0., 0., 0., ..., 0., 0., 0.], dtype=float32),\n",
       " array([0., 0., 0., ..., 0., 0., 0.], dtype=float32),\n",
       " array([0., 0., 0., ..., 0., 0., 0.], dtype=float32),\n",
       " array([0., 0., 0., ..., 0., 0., 0.], dtype=float32),\n",
       " array([0., 0., 0., ..., 0., 0., 0.], dtype=float32),\n",
       " array([0., 0., 0., ..., 0., 0., 0.], dtype=float32),\n",
       " array([0., 0., 0., ..., 0., 0., 0.], dtype=float32),\n",
       " array([0., 0., 0., ..., 0., 0., 0.], dtype=float32),\n",
       " array([0., 0., 0., ..., 0., 0., 0.], dtype=float32),\n",
       " array([0., 0., 0., ..., 0., 0., 0.], dtype=float32),\n",
       " array([0., 0., 0., ..., 0., 0., 0.], dtype=float32),\n",
       " array([0., 0., 0., ..., 0., 0., 0.], dtype=float32),\n",
       " array([0., 0., 0., ..., 0., 0., 0.], dtype=float32),\n",
       " array([0., 0., 0., ..., 0., 0., 0.], dtype=float32),\n",
       " array([0., 0., 0., ..., 0., 0., 0.], dtype=float32),\n",
       " array([0., 0., 0., ..., 0., 0., 0.], dtype=float32),\n",
       " array([0., 0., 0., ..., 0., 0., 0.], dtype=float32),\n",
       " array([0., 0., 0., ..., 0., 0., 0.], dtype=float32),\n",
       " array([0., 0., 0., ..., 0., 0., 0.], dtype=float32),\n",
       " array([0., 0., 0., ..., 0., 0., 0.], dtype=float32),\n",
       " array([0., 0., 0., ..., 0., 0., 0.], dtype=float32),\n",
       " array([0., 0., 0., ..., 0., 0., 0.], dtype=float32),\n",
       " array([0., 0., 0., ..., 0., 0., 0.], dtype=float32),\n",
       " array([0., 0., 0., ..., 0., 0., 0.], dtype=float32),\n",
       " array([0., 0., 0., ..., 0., 0., 0.], dtype=float32),\n",
       " array([0., 0., 0., ..., 0., 0., 0.], dtype=float32),\n",
       " array([0., 0., 0., ..., 0., 0., 0.], dtype=float32),\n",
       " array([0., 0., 0., ..., 0., 0., 0.], dtype=float32),\n",
       " array([0., 0., 0., ..., 0., 0., 0.], dtype=float32),\n",
       " array([0., 0., 0., ..., 0., 0., 0.], dtype=float32),\n",
       " array([0., 0., 0., ..., 0., 0., 0.], dtype=float32),\n",
       " array([0., 0., 0., ..., 0., 0., 0.], dtype=float32),\n",
       " array([0., 0., 0., ..., 0., 0., 0.], dtype=float32),\n",
       " array([0., 0., 0., ..., 0., 0., 0.], dtype=float32),\n",
       " array([0., 0., 0., ..., 0., 0., 0.], dtype=float32),\n",
       " array([0., 0., 0., ..., 0., 0., 0.], dtype=float32),\n",
       " array([0., 0., 0., ..., 0., 0., 0.], dtype=float32),\n",
       " array([0., 0., 0., ..., 0., 0., 0.], dtype=float32),\n",
       " array([0., 0., 0., ..., 0., 0., 0.], dtype=float32),\n",
       " array([0., 0., 0., ..., 0., 0., 0.], dtype=float32),\n",
       " array([0., 0., 0., ..., 0., 0., 0.], dtype=float32),\n",
       " array([0., 0., 0., ..., 0., 0., 0.], dtype=float32),\n",
       " array([0., 0., 0., ..., 0., 0., 0.], dtype=float32),\n",
       " array([0., 0., 0., ..., 0., 0., 0.], dtype=float32),\n",
       " array([0., 0., 0., ..., 0., 0., 0.], dtype=float32),\n",
       " array([0., 0., 0., ..., 0., 0., 0.], dtype=float32),\n",
       " array([0., 0., 0., ..., 0., 0., 0.], dtype=float32),\n",
       " array([0., 0., 0., ..., 0., 0., 0.], dtype=float32),\n",
       " array([0., 0., 0., ..., 0., 0., 0.], dtype=float32),\n",
       " array([0., 0., 0., ..., 0., 0., 0.], dtype=float32),\n",
       " array([0., 0., 0., ..., 0., 0., 0.], dtype=float32),\n",
       " array([0., 0., 0., ..., 0., 0., 0.], dtype=float32),\n",
       " array([0., 0., 0., ..., 0., 0., 0.], dtype=float32),\n",
       " array([0., 0., 0., ..., 0., 0., 0.], dtype=float32),\n",
       " array([0., 0., 0., ..., 0., 0., 0.], dtype=float32),\n",
       " array([0., 0., 0., ..., 0., 0., 0.], dtype=float32),\n",
       " array([0., 0., 0., ..., 0., 0., 0.], dtype=float32),\n",
       " array([0., 0., 0., ..., 0., 0., 0.], dtype=float32),\n",
       " array([0., 0., 0., ..., 0., 0., 0.], dtype=float32),\n",
       " array([0., 0., 0., ..., 0., 0., 0.], dtype=float32),\n",
       " array([0., 0., 0., ..., 0., 0., 0.], dtype=float32),\n",
       " array([0., 0., 0., ..., 0., 0., 0.], dtype=float32),\n",
       " array([0., 0., 0., ..., 0., 0., 0.], dtype=float32),\n",
       " array([0., 0., 0., ..., 0., 0., 0.], dtype=float32),\n",
       " array([0., 0., 0., ..., 0., 0., 0.], dtype=float32),\n",
       " array([0., 0., 0., ..., 0., 0., 0.], dtype=float32),\n",
       " array([0., 0., 0., ..., 0., 0., 0.], dtype=float32),\n",
       " array([0., 0., 0., ..., 0., 0., 0.], dtype=float32),\n",
       " array([0., 0., 0., ..., 0., 0., 0.], dtype=float32),\n",
       " array([0., 0., 0., ..., 0., 0., 0.], dtype=float32),\n",
       " array([0., 0., 0., ..., 0., 0., 0.], dtype=float32),\n",
       " array([0., 0., 0., ..., 0., 0., 0.], dtype=float32),\n",
       " array([0., 0., 0., ..., 0., 0., 0.], dtype=float32),\n",
       " array([0., 0., 0., ..., 0., 0., 0.], dtype=float32),\n",
       " array([0., 0., 0., ..., 0., 0., 0.], dtype=float32),\n",
       " array([0., 0., 0., ..., 0., 0., 0.], dtype=float32),\n",
       " array([0., 0., 0., ..., 0., 0., 0.], dtype=float32),\n",
       " array([0., 0., 0., ..., 0., 0., 0.], dtype=float32),\n",
       " array([0., 0., 0., ..., 0., 0., 0.], dtype=float32),\n",
       " array([0., 0., 0., ..., 0., 0., 0.], dtype=float32),\n",
       " array([0., 0., 0., ..., 0., 0., 0.], dtype=float32),\n",
       " array([0., 0., 0., ..., 0., 0., 0.], dtype=float32),\n",
       " array([0., 0., 0., ..., 0., 0., 0.], dtype=float32),\n",
       " array([0., 0., 0., ..., 0., 0., 0.], dtype=float32)]"
      ]
     },
     "execution_count": 5,
     "metadata": {},
     "output_type": "execute_result"
    }
   ],
   "source": [
    "df"
   ]
  },
  {
   "cell_type": "code",
   "execution_count": 6,
   "metadata": {},
   "outputs": [],
   "source": [
    "# train -> data 1983-2011\n",
    "train, test = df, df[-24:]"
   ]
  },
  {
   "cell_type": "code",
   "execution_count": 7,
   "metadata": {},
   "outputs": [
    {
     "data": {
      "text/plain": [
       "28.0"
      ]
     },
     "execution_count": 7,
     "metadata": {},
     "output_type": "execute_result"
    }
   ],
   "source": [
    "np.array(train).shape[0]/12"
   ]
  },
  {
   "cell_type": "code",
   "execution_count": 8,
   "metadata": {},
   "outputs": [],
   "source": [
    "scaler = MinMaxScaler()\n",
    "scaler.fit(train)\n",
    "scaler.fit(data_4)\n",
    "scaler.fit(test)\n",
    "train = scaler.transform(train)\n",
    "data_4 = scaler.transform(data_4)\n",
    "test = scaler.transform(test)"
   ]
  },
  {
   "cell_type": "code",
   "execution_count": 9,
   "metadata": {},
   "outputs": [],
   "source": [
    "n_input = 12\n",
    "n_features = 9462\n",
    "batch_size=12\n",
    "# supervised data\n",
    "generator = TimeseriesGenerator(train, train, length=n_input, batch_size=batch_size)\n",
    "validation_sequence = TimeseriesGenerator(test, test, length=n_input, batch_size=batch_size)"
   ]
  },
  {
   "cell_type": "code",
   "execution_count": 10,
   "metadata": {},
   "outputs": [
    {
     "name": "stdout",
     "output_type": "stream",
     "text": [
      "WARNING:tensorflow:From c:\\users\\komputer3\\miniconda3\\envs\\cpu\\lib\\site-packages\\tensorflow_core\\python\\compat\\v2_compat.py:88: disable_resource_variables (from tensorflow.python.ops.variable_scope) is deprecated and will be removed in a future version.\n",
      "Instructions for updating:\n",
      "non-resource variables are not supported in the long term\n",
      "WARNING:tensorflow:From c:\\users\\komputer3\\miniconda3\\envs\\cpu\\lib\\site-packages\\tensorflow_core\\python\\ops\\resource_variable_ops.py:1635: calling BaseResourceVariable.__init__ (from tensorflow.python.ops.resource_variable_ops) with constraint is deprecated and will be removed in a future version.\n",
      "Instructions for updating:\n",
      "If using Keras pass *_constraint arguments to layers.\n"
     ]
    }
   ],
   "source": [
    "import tensorflow.compat.v1 as tf\n",
    "tf.disable_v2_behavior()\n",
    "model = Sequential()\n",
    "model.add(LSTM(10, activation='relu', kernel_initializer=RandomNormal(mean=0.0, stddev=0.05, seed=1), unit_forget_bias='zeros', input_shape=(n_input, n_features), return_sequences=True))\n",
    "model.add(LSTM(20, activation='relu', kernel_initializer=RandomNormal(mean=0.0, stddev=0.05, seed=1), unit_forget_bias='zeros', return_sequences=True))\n",
    "model.add(Dropout(0.2))\n",
    "model.add(LSTM(30, activation='relu', kernel_initializer=RandomNormal(mean=0.0, stddev=0.05, seed=1), unit_forget_bias='zeros', return_sequences=False))\n",
    "model.add(Dropout(0.2))\n",
    "model.add(Dense(40, activation='sigmoid', kernel_initializer=RandomNormal(mean=0.0, stddev=0.05, seed=1)))\n",
    "model.add(Dropout(0.2))\n",
    "model.add(Dense(50, activation='sigmoid', kernel_initializer=RandomNormal(mean=0.0, stddev=0.05, seed=1)))\n",
    "model.add(Dropout(0.2))\n",
    "model.add(Dense(60, activation='sigmoid', kernel_initializer=RandomNormal(mean=0.0, stddev=0.05, seed=1)))\n",
    "model.add(Dropout(0.2))\n",
    "model.add(Dense(n_features, activation='sigmoid', kernel_initializer=RandomNormal(mean=0.0, stddev=0.05, seed=1)))\n",
    "model.compile(optimizer='adam', loss='mae', metrics=['mae'])"
   ]
  },
  {
   "cell_type": "code",
   "execution_count": 11,
   "metadata": {},
   "outputs": [
    {
     "name": "stdout",
     "output_type": "stream",
     "text": [
      "Model: \"sequential\"\n",
      "_________________________________________________________________\n",
      "Layer (type)                 Output Shape              Param #   \n",
      "=================================================================\n",
      "lstm (LSTM)                  (None, 12, 10)            378920    \n",
      "_________________________________________________________________\n",
      "lstm_1 (LSTM)                (None, 12, 20)            2480      \n",
      "_________________________________________________________________\n",
      "dropout (Dropout)            (None, 12, 20)            0         \n",
      "_________________________________________________________________\n",
      "lstm_2 (LSTM)                (None, 30)                6120      \n",
      "_________________________________________________________________\n",
      "dropout_1 (Dropout)          (None, 30)                0         \n",
      "_________________________________________________________________\n",
      "dense (Dense)                (None, 40)                1240      \n",
      "_________________________________________________________________\n",
      "dropout_2 (Dropout)          (None, 40)                0         \n",
      "_________________________________________________________________\n",
      "dense_1 (Dense)              (None, 50)                2050      \n",
      "_________________________________________________________________\n",
      "dropout_3 (Dropout)          (None, 50)                0         \n",
      "_________________________________________________________________\n",
      "dense_2 (Dense)              (None, 60)                3060      \n",
      "_________________________________________________________________\n",
      "dropout_4 (Dropout)          (None, 60)                0         \n",
      "_________________________________________________________________\n",
      "dense_3 (Dense)              (None, 9462)              577182    \n",
      "=================================================================\n",
      "Total params: 971,052\n",
      "Trainable params: 971,052\n",
      "Non-trainable params: 0\n",
      "_________________________________________________________________\n"
     ]
    }
   ],
   "source": [
    "model.summary()"
   ]
  },
  {
   "cell_type": "code",
   "execution_count": 12,
   "metadata": {},
   "outputs": [
    {
     "name": "stdout",
     "output_type": "stream",
     "text": [
      "WARNING:tensorflow:From <ipython-input-12-b4e8c6171940>:1: Model.fit_generator (from tensorflow.python.keras.engine.training) is deprecated and will be removed in a future version.\n",
      "Instructions for updating:\n",
      "Please use Model.fit, which supports generators.\n",
      "Epoch 1/90\n",
      "27/27 [==============================] - 2s 74ms/step - loss: 0.3834 - mean_absolute_error: 0.3834\n",
      "Epoch 2/90\n",
      "27/27 [==============================] - 1s 29ms/step - loss: 0.1710 - mean_absolute_error: 0.1710\n",
      "Epoch 3/90\n",
      "27/27 [==============================] - 1s 29ms/step - loss: 0.0768 - mean_absolute_error: 0.0768\n",
      "Epoch 4/90\n",
      "27/27 [==============================] - 1s 29ms/step - loss: 0.0595 - mean_absolute_error: 0.0595\n",
      "Epoch 5/90\n",
      "27/27 [==============================] - 1s 28ms/step - loss: 0.0529 - mean_absolute_error: 0.0529\n",
      "Epoch 6/90\n",
      "27/27 [==============================] - 1s 28ms/step - loss: 0.0498 - mean_absolute_error: 0.0498\n",
      "Epoch 7/90\n",
      "27/27 [==============================] - 1s 29ms/step - loss: 0.0475 - mean_absolute_error: 0.0475\n",
      "Epoch 8/90\n",
      "27/27 [==============================] - 1s 29ms/step - loss: 0.0465 - mean_absolute_error: 0.0465\n",
      "Epoch 9/90\n",
      "27/27 [==============================] - 1s 29ms/step - loss: 0.0453 - mean_absolute_error: 0.0453\n",
      "Epoch 10/90\n",
      "27/27 [==============================] - 1s 28ms/step - loss: 0.0445 - mean_absolute_error: 0.0445\n",
      "Epoch 11/90\n",
      "27/27 [==============================] - 1s 28ms/step - loss: 0.0439 - mean_absolute_error: 0.0439\n",
      "Epoch 12/90\n",
      "27/27 [==============================] - 1s 29ms/step - loss: 0.0434 - mean_absolute_error: 0.0434\n",
      "Epoch 13/90\n",
      "27/27 [==============================] - 1s 28ms/step - loss: 0.0430 - mean_absolute_error: 0.0430\n",
      "Epoch 14/90\n",
      "27/27 [==============================] - 1s 28ms/step - loss: 0.0427 - mean_absolute_error: 0.0427\n",
      "Epoch 15/90\n",
      "27/27 [==============================] - 1s 29ms/step - loss: 0.0425 - mean_absolute_error: 0.0425\n",
      "Epoch 16/90\n",
      "27/27 [==============================] - 1s 28ms/step - loss: 0.0423 - mean_absolute_error: 0.0423\n",
      "Epoch 17/90\n",
      "27/27 [==============================] - 1s 28ms/step - loss: 0.0419 - mean_absolute_error: 0.0419\n",
      "Epoch 18/90\n",
      "27/27 [==============================] - 1s 28ms/step - loss: 0.0419 - mean_absolute_error: 0.0419\n",
      "Epoch 19/90\n",
      "27/27 [==============================] - 1s 28ms/step - loss: 0.0416 - mean_absolute_error: 0.0416\n",
      "Epoch 20/90\n",
      "27/27 [==============================] - 1s 28ms/step - loss: 0.0415 - mean_absolute_error: 0.0415\n",
      "Epoch 21/90\n",
      "27/27 [==============================] - 1s 28ms/step - loss: 0.0414 - mean_absolute_error: 0.0414\n",
      "Epoch 22/90\n",
      "27/27 [==============================] - 1s 28ms/step - loss: 0.0414 - mean_absolute_error: 0.0414\n",
      "Epoch 23/90\n",
      "27/27 [==============================] - 1s 28ms/step - loss: 0.0414 - mean_absolute_error: 0.0414\n",
      "Epoch 24/90\n",
      "27/27 [==============================] - 1s 28ms/step - loss: 0.0412 - mean_absolute_error: 0.0412\n",
      "Epoch 25/90\n",
      "27/27 [==============================] - 1s 28ms/step - loss: 0.0410 - mean_absolute_error: 0.0410\n",
      "Epoch 26/90\n",
      "27/27 [==============================] - 1s 28ms/step - loss: 0.0411 - mean_absolute_error: 0.0411\n",
      "Epoch 27/90\n",
      "27/27 [==============================] - 1s 28ms/step - loss: 0.0409 - mean_absolute_error: 0.0409\n",
      "Epoch 28/90\n",
      "27/27 [==============================] - 1s 28ms/step - loss: 0.0409 - mean_absolute_error: 0.0409\n",
      "Epoch 29/90\n",
      "27/27 [==============================] - 1s 28ms/step - loss: 0.0409 - mean_absolute_error: 0.0409\n",
      "Epoch 30/90\n",
      "27/27 [==============================] - 1s 28ms/step - loss: 0.0408 - mean_absolute_error: 0.0408\n",
      "Epoch 31/90\n",
      "27/27 [==============================] - 1s 28ms/step - loss: 0.0407 - mean_absolute_error: 0.0407\n",
      "Epoch 32/90\n",
      "27/27 [==============================] - 1s 28ms/step - loss: 0.0407 - mean_absolute_error: 0.0407\n",
      "Epoch 33/90\n",
      "27/27 [==============================] - 1s 28ms/step - loss: 0.0408 - mean_absolute_error: 0.0408\n",
      "Epoch 34/90\n",
      "27/27 [==============================] - 1s 28ms/step - loss: 0.0407 - mean_absolute_error: 0.0407\n",
      "Epoch 35/90\n",
      "27/27 [==============================] - 1s 28ms/step - loss: 0.0407 - mean_absolute_error: 0.0407\n",
      "Epoch 36/90\n",
      "27/27 [==============================] - 1s 28ms/step - loss: 0.0406 - mean_absolute_error: 0.0406\n",
      "Epoch 37/90\n",
      "27/27 [==============================] - 1s 28ms/step - loss: 0.0406 - mean_absolute_error: 0.0406\n",
      "Epoch 38/90\n",
      "27/27 [==============================] - 1s 28ms/step - loss: 0.0406 - mean_absolute_error: 0.0406\n",
      "Epoch 39/90\n",
      "27/27 [==============================] - 1s 28ms/step - loss: 0.0406 - mean_absolute_error: 0.0406\n",
      "Epoch 40/90\n",
      "27/27 [==============================] - 1s 28ms/step - loss: 0.0406 - mean_absolute_error: 0.0406\n",
      "Epoch 41/90\n",
      "27/27 [==============================] - 1s 28ms/step - loss: 0.0405 - mean_absolute_error: 0.0405\n",
      "Epoch 42/90\n",
      "27/27 [==============================] - 1s 28ms/step - loss: 0.0404 - mean_absolute_error: 0.0404\n",
      "Epoch 43/90\n",
      "27/27 [==============================] - 1s 28ms/step - loss: 0.0405 - mean_absolute_error: 0.0405\n",
      "Epoch 44/90\n",
      "27/27 [==============================] - 1s 28ms/step - loss: 0.0406 - mean_absolute_error: 0.0406\n",
      "Epoch 45/90\n",
      "27/27 [==============================] - 1s 28ms/step - loss: 0.0405 - mean_absolute_error: 0.0405\n",
      "Epoch 46/90\n",
      "27/27 [==============================] - 1s 28ms/step - loss: 0.0405 - mean_absolute_error: 0.0405\n",
      "Epoch 47/90\n",
      "27/27 [==============================] - 1s 28ms/step - loss: 0.0404 - mean_absolute_error: 0.0404\n",
      "Epoch 48/90\n",
      "27/27 [==============================] - 1s 28ms/step - loss: 0.0405 - mean_absolute_error: 0.0405\n",
      "Epoch 49/90\n",
      "27/27 [==============================] - 1s 28ms/step - loss: 0.0405 - mean_absolute_error: 0.0405\n",
      "Epoch 50/90\n",
      "27/27 [==============================] - 1s 28ms/step - loss: 0.0404 - mean_absolute_error: 0.0404\n",
      "Epoch 51/90\n",
      "27/27 [==============================] - 1s 28ms/step - loss: 0.0404 - mean_absolute_error: 0.0404\n",
      "Epoch 52/90\n",
      "27/27 [==============================] - 1s 28ms/step - loss: 0.0404 - mean_absolute_error: 0.0404\n",
      "Epoch 53/90\n",
      "27/27 [==============================] - 1s 28ms/step - loss: 0.0405 - mean_absolute_error: 0.0405\n",
      "Epoch 54/90\n",
      "27/27 [==============================] - 1s 28ms/step - loss: 0.0403 - mean_absolute_error: 0.0403\n",
      "Epoch 55/90\n",
      "27/27 [==============================] - 1s 28ms/step - loss: 0.0404 - mean_absolute_error: 0.0404\n",
      "Epoch 56/90\n",
      "27/27 [==============================] - 1s 29ms/step - loss: 0.0403 - mean_absolute_error: 0.0403\n",
      "Epoch 57/90\n",
      "27/27 [==============================] - 1s 28ms/step - loss: 0.0404 - mean_absolute_error: 0.0404\n",
      "Epoch 58/90\n",
      "27/27 [==============================] - 1s 28ms/step - loss: 0.0403 - mean_absolute_error: 0.0403\n",
      "Epoch 59/90\n",
      "27/27 [==============================] - 1s 29ms/step - loss: 0.0403 - mean_absolute_error: 0.0403\n",
      "Epoch 60/90\n",
      "27/27 [==============================] - 1s 29ms/step - loss: 0.0403 - mean_absolute_error: 0.0403\n",
      "Epoch 61/90\n",
      "27/27 [==============================] - 1s 28ms/step - loss: 0.0403 - mean_absolute_error: 0.0403\n",
      "Epoch 62/90\n",
      "27/27 [==============================] - 1s 29ms/step - loss: 0.0403 - mean_absolute_error: 0.0403\n",
      "Epoch 63/90\n",
      "27/27 [==============================] - 1s 29ms/step - loss: 0.0403 - mean_absolute_error: 0.0403\n",
      "Epoch 64/90\n",
      "27/27 [==============================] - 1s 28ms/step - loss: 0.0402 - mean_absolute_error: 0.0402\n",
      "Epoch 65/90\n",
      "27/27 [==============================] - 1s 28ms/step - loss: 0.0402 - mean_absolute_error: 0.0402\n",
      "Epoch 66/90\n",
      "27/27 [==============================] - 1s 28ms/step - loss: 0.0402 - mean_absolute_error: 0.0402\n",
      "Epoch 67/90\n",
      "27/27 [==============================] - 1s 29ms/step - loss: 0.0402 - mean_absolute_error: 0.0402\n",
      "Epoch 68/90\n",
      "27/27 [==============================] - 1s 28ms/step - loss: 0.0402 - mean_absolute_error: 0.0402\n",
      "Epoch 69/90\n",
      "27/27 [==============================] - 1s 29ms/step - loss: 0.0402 - mean_absolute_error: 0.0402\n",
      "Epoch 70/90\n",
      "27/27 [==============================] - 1s 28ms/step - loss: 0.0403 - mean_absolute_error: 0.0403\n",
      "Epoch 71/90\n",
      "27/27 [==============================] - 1s 29ms/step - loss: 0.0403 - mean_absolute_error: 0.0403\n",
      "Epoch 72/90\n"
     ]
    },
    {
     "name": "stdout",
     "output_type": "stream",
     "text": [
      "27/27 [==============================] - 1s 29ms/step - loss: 0.0402 - mean_absolute_error: 0.0402\n",
      "Epoch 73/90\n",
      "27/27 [==============================] - 1s 29ms/step - loss: 0.0402 - mean_absolute_error: 0.0402\n",
      "Epoch 74/90\n",
      "27/27 [==============================] - 1s 29ms/step - loss: 0.0402 - mean_absolute_error: 0.0402\n",
      "Epoch 75/90\n",
      "27/27 [==============================] - 1s 28ms/step - loss: 0.0402 - mean_absolute_error: 0.0402\n",
      "Epoch 76/90\n",
      "27/27 [==============================] - 1s 29ms/step - loss: 0.0401 - mean_absolute_error: 0.0401\n",
      "Epoch 77/90\n",
      "27/27 [==============================] - 1s 29ms/step - loss: 0.0402 - mean_absolute_error: 0.0402\n",
      "Epoch 78/90\n",
      "27/27 [==============================] - 1s 28ms/step - loss: 0.0402 - mean_absolute_error: 0.0402\n",
      "Epoch 79/90\n",
      "27/27 [==============================] - 1s 29ms/step - loss: 0.0402 - mean_absolute_error: 0.0402\n",
      "Epoch 80/90\n",
      "27/27 [==============================] - 1s 29ms/step - loss: 0.0402 - mean_absolute_error: 0.0402\n",
      "Epoch 81/90\n",
      "27/27 [==============================] - 1s 29ms/step - loss: 0.0402 - mean_absolute_error: 0.0402\n",
      "Epoch 82/90\n",
      "27/27 [==============================] - 1s 28ms/step - loss: 0.0402 - mean_absolute_error: 0.0402\n",
      "Epoch 83/90\n",
      "27/27 [==============================] - 1s 28ms/step - loss: 0.0402 - mean_absolute_error: 0.0402\n",
      "Epoch 84/90\n",
      "27/27 [==============================] - 1s 28ms/step - loss: 0.0401 - mean_absolute_error: 0.0401\n",
      "Epoch 85/90\n",
      "27/27 [==============================] - 1s 28ms/step - loss: 0.0401 - mean_absolute_error: 0.0401\n",
      "Epoch 86/90\n",
      "27/27 [==============================] - 1s 28ms/step - loss: 0.0402 - mean_absolute_error: 0.0402\n",
      "Epoch 87/90\n",
      "27/27 [==============================] - 1s 29ms/step - loss: 0.0402 - mean_absolute_error: 0.0402\n",
      "Epoch 88/90\n",
      "27/27 [==============================] - 1s 28ms/step - loss: 0.0402 - mean_absolute_error: 0.0402\n",
      "Epoch 89/90\n",
      "27/27 [==============================] - 1s 28ms/step - loss: 0.0401 - mean_absolute_error: 0.0401\n",
      "Epoch 90/90\n",
      "27/27 [==============================] - 1s 29ms/step - loss: 0.0401 - mean_absolute_error: 0.0401\n"
     ]
    },
    {
     "data": {
      "text/plain": [
       "<tensorflow.python.keras.callbacks.History at 0x2245d4e7b38>"
      ]
     },
     "execution_count": 12,
     "metadata": {},
     "output_type": "execute_result"
    }
   ],
   "source": [
    "model.fit_generator(generator,epochs=90)"
   ]
  },
  {
   "cell_type": "code",
   "execution_count": 13,
   "metadata": {},
   "outputs": [
    {
     "name": "stdout",
     "output_type": "stream",
     "text": [
      "WARNING:tensorflow:From <ipython-input-13-0a18d8e396d2>:1: Model.evaluate_generator (from tensorflow.python.keras.engine.training) is deprecated and will be removed in a future version.\n",
      "Instructions for updating:\n",
      "Please use Model.evaluate, which supports generators.\n"
     ]
    },
    {
     "data": {
      "text/plain": [
       "[0.04395822808146477, 0.043958228]"
      ]
     },
     "execution_count": 13,
     "metadata": {},
     "output_type": "execute_result"
    }
   ],
   "source": [
    "model.evaluate_generator(validation_sequence)"
   ]
  },
  {
   "cell_type": "code",
   "execution_count": 14,
   "metadata": {
    "scrolled": true
   },
   "outputs": [
    {
     "data": {
      "text/plain": [
       "array([[[0., 0., 0., ..., 0., 0., 0.],\n",
       "        [0., 0., 0., ..., 0., 0., 0.],\n",
       "        [0., 0., 0., ..., 0., 0., 0.],\n",
       "        ...,\n",
       "        [0., 0., 0., ..., 0., 0., 0.],\n",
       "        [0., 0., 0., ..., 0., 0., 0.],\n",
       "        [0., 0., 0., ..., 0., 0., 0.]]])"
      ]
     },
     "execution_count": 14,
     "metadata": {},
     "output_type": "execute_result"
    }
   ],
   "source": [
    "pred_list = []\n",
    "\n",
    "batch = train[-12:].reshape((1, n_input, n_features))\n",
    "batch"
   ]
  },
  {
   "cell_type": "code",
   "execution_count": 15,
   "metadata": {},
   "outputs": [],
   "source": [
    "for i in range(n_input):   \n",
    "    pred_list.append(model.predict(batch)[0]) \n",
    "    batch = np.append(batch[:,1:,:],[[pred_list[i]]],axis=1)\n",
    "\n",
    "pred_list = scaler.inverse_transform(pred_list)\n",
    "\n",
    "# prediksi = (model.predict(batch)[0])"
   ]
  },
  {
   "cell_type": "code",
   "execution_count": 16,
   "metadata": {},
   "outputs": [
    {
     "data": {
      "text/plain": [
       "<matplotlib.image.AxesImage at 0x22460eb8630>"
      ]
     },
     "execution_count": 16,
     "metadata": {},
     "output_type": "execute_result"
    },
    {
     "data": {
      "image/png": "[encoded data removed]",
      "text/plain": [
       "<Figure size 432x288 with 1 Axes>"
      ]
     },
     "metadata": {
      "needs_background": "light"
     },
     "output_type": "display_data"
    }
   ],
   "source": [
    "plt.imshow(pred_list[0].reshape(83,114))"
   ]
  },
  {
   "cell_type": "code",
   "execution_count": 17,
   "metadata": {},
   "outputs": [],
   "source": [
    "train = df\n",
    "test = df[-24:]"
   ]
  },
  {
   "cell_type": "code",
   "execution_count": 18,
   "metadata": {},
   "outputs": [],
   "source": [
    "scaler.fit(train)\n",
    "train = scaler.transform(train)\n",
    "scaler.fit(test)\n",
    "test = scaler.transform(test)"
   ]
  },
  {
   "cell_type": "code",
   "execution_count": 19,
   "metadata": {},
   "outputs": [],
   "source": [
    "n_input = 12\n",
    "n_features = 9462\n",
    "generator = TimeseriesGenerator(train, train, length=n_input, batch_size=12)\n",
    "validation_sequence = TimeseriesGenerator(test, test, length=n_input, batch_size=12)"
   ]
  },
  {
   "cell_type": "code",
   "execution_count": 20,
   "metadata": {
    "scrolled": false
   },
   "outputs": [
    {
     "name": "stdout",
     "output_type": "stream",
     "text": [
      "Epoch 1/90\n",
      "27/27 [==============================] - 1s 30ms/step - loss: 0.0206 - mean_absolute_error: 0.0206\n",
      "Epoch 2/90\n",
      "27/27 [==============================] - 1s 28ms/step - loss: 0.0206 - mean_absolute_error: 0.0206\n",
      "Epoch 3/90\n",
      "27/27 [==============================] - 1s 29ms/step - loss: 0.0206 - mean_absolute_error: 0.0206\n",
      "Epoch 4/90\n",
      "27/27 [==============================] - 1s 28ms/step - loss: 0.0206 - mean_absolute_error: 0.0206\n",
      "Epoch 5/90\n",
      "27/27 [==============================] - 1s 28ms/step - loss: 0.0206 - mean_absolute_error: 0.0206\n",
      "Epoch 6/90\n",
      "27/27 [==============================] - 1s 29ms/step - loss: 0.0206 - mean_absolute_error: 0.0206\n",
      "Epoch 7/90\n",
      "27/27 [==============================] - 1s 28ms/step - loss: 0.0206 - mean_absolute_error: 0.0206\n",
      "Epoch 8/90\n",
      "27/27 [==============================] - 1s 29ms/step - loss: 0.0206 - mean_absolute_error: 0.0206\n",
      "Epoch 9/90\n",
      "27/27 [==============================] - 1s 28ms/step - loss: 0.0206 - mean_absolute_error: 0.0206\n",
      "Epoch 10/90\n",
      "27/27 [==============================] - 1s 28ms/step - loss: 0.0206 - mean_absolute_error: 0.0206\n",
      "Epoch 11/90\n",
      "27/27 [==============================] - 1s 28ms/step - loss: 0.0206 - mean_absolute_error: 0.0206\n",
      "Epoch 12/90\n",
      "27/27 [==============================] - 1s 28ms/step - loss: 0.0205 - mean_absolute_error: 0.0205\n",
      "Epoch 13/90\n",
      "27/27 [==============================] - 1s 29ms/step - loss: 0.0206 - mean_absolute_error: 0.0206\n",
      "Epoch 14/90\n",
      "27/27 [==============================] - 1s 28ms/step - loss: 0.0206 - mean_absolute_error: 0.0206\n",
      "Epoch 15/90\n",
      "27/27 [==============================] - 1s 28ms/step - loss: 0.0206 - mean_absolute_error: 0.0206\n",
      "Epoch 16/90\n",
      "27/27 [==============================] - 1s 28ms/step - loss: 0.0206 - mean_absolute_error: 0.0206\n",
      "Epoch 17/90\n",
      "27/27 [==============================] - 1s 28ms/step - loss: 0.0206 - mean_absolute_error: 0.0206\n",
      "Epoch 18/90\n",
      "27/27 [==============================] - 1s 28ms/step - loss: 0.0206 - mean_absolute_error: 0.0206\n",
      "Epoch 19/90\n",
      "27/27 [==============================] - 1s 28ms/step - loss: 0.0205 - mean_absolute_error: 0.0205\n",
      "Epoch 20/90\n",
      "27/27 [==============================] - 1s 28ms/step - loss: 0.0206 - mean_absolute_error: 0.0206\n",
      "Epoch 21/90\n",
      "27/27 [==============================] - 1s 28ms/step - loss: 0.0206 - mean_absolute_error: 0.0206\n",
      "Epoch 22/90\n",
      "27/27 [==============================] - 1s 28ms/step - loss: 0.0205 - mean_absolute_error: 0.0205\n",
      "Epoch 23/90\n",
      "27/27 [==============================] - 1s 28ms/step - loss: 0.0205 - mean_absolute_error: 0.0205\n",
      "Epoch 24/90\n",
      "27/27 [==============================] - 1s 28ms/step - loss: 0.0206 - mean_absolute_error: 0.0206\n",
      "Epoch 25/90\n",
      "27/27 [==============================] - 1s 29ms/step - loss: 0.0205 - mean_absolute_error: 0.0205\n",
      "Epoch 26/90\n",
      "27/27 [==============================] - 1s 28ms/step - loss: 0.0206 - mean_absolute_error: 0.0206\n",
      "Epoch 27/90\n",
      "27/27 [==============================] - 1s 28ms/step - loss: 0.0206 - mean_absolute_error: 0.0206\n",
      "Epoch 28/90\n",
      "27/27 [==============================] - 1s 28ms/step - loss: 0.0206 - mean_absolute_error: 0.0206\n",
      "Epoch 29/90\n",
      "27/27 [==============================] - 1s 28ms/step - loss: 0.0205 - mean_absolute_error: 0.0205\n",
      "Epoch 30/90\n",
      "27/27 [==============================] - 1s 28ms/step - loss: 0.0205 - mean_absolute_error: 0.0205\n",
      "Epoch 31/90\n",
      "27/27 [==============================] - 1s 28ms/step - loss: 0.0206 - mean_absolute_error: 0.0206\n",
      "Epoch 32/90\n",
      "27/27 [==============================] - 1s 28ms/step - loss: 0.0205 - mean_absolute_error: 0.0205\n",
      "Epoch 33/90\n",
      "27/27 [==============================] - 1s 28ms/step - loss: 0.0206 - mean_absolute_error: 0.0206\n",
      "Epoch 34/90\n",
      "27/27 [==============================] - 1s 28ms/step - loss: 0.0205 - mean_absolute_error: 0.0205\n",
      "Epoch 35/90\n",
      "27/27 [==============================] - 1s 28ms/step - loss: 0.0205 - mean_absolute_error: 0.0205\n",
      "Epoch 36/90\n",
      "27/27 [==============================] - 1s 28ms/step - loss: 0.0205 - mean_absolute_error: 0.0205\n",
      "Epoch 37/90\n",
      "27/27 [==============================] - 1s 28ms/step - loss: 0.0205 - mean_absolute_error: 0.0205\n",
      "Epoch 38/90\n",
      "27/27 [==============================] - 1s 28ms/step - loss: 0.0205 - mean_absolute_error: 0.0205\n",
      "Epoch 39/90\n",
      "27/27 [==============================] - 1s 28ms/step - loss: 0.0205 - mean_absolute_error: 0.0205\n",
      "Epoch 40/90\n",
      "27/27 [==============================] - 1s 28ms/step - loss: 0.0205 - mean_absolute_error: 0.0205\n",
      "Epoch 41/90\n",
      "27/27 [==============================] - 1s 28ms/step - loss: 0.0206 - mean_absolute_error: 0.0206\n",
      "Epoch 42/90\n",
      "27/27 [==============================] - 1s 29ms/step - loss: 0.0205 - mean_absolute_error: 0.0205\n",
      "Epoch 43/90\n",
      "27/27 [==============================] - 1s 28ms/step - loss: 0.0206 - mean_absolute_error: 0.0206\n",
      "Epoch 44/90\n",
      "27/27 [==============================] - 1s 28ms/step - loss: 0.0205 - mean_absolute_error: 0.0205\n",
      "Epoch 45/90\n",
      "27/27 [==============================] - 1s 28ms/step - loss: 0.0205 - mean_absolute_error: 0.0205\n",
      "Epoch 46/90\n",
      "27/27 [==============================] - 1s 28ms/step - loss: 0.0205 - mean_absolute_error: 0.0205\n",
      "Epoch 47/90\n",
      "27/27 [==============================] - 1s 28ms/step - loss: 0.0206 - mean_absolute_error: 0.0206\n",
      "Epoch 48/90\n",
      "27/27 [==============================] - 1s 28ms/step - loss: 0.0205 - mean_absolute_error: 0.0205\n",
      "Epoch 49/90\n",
      "27/27 [==============================] - 1s 28ms/step - loss: 0.0206 - mean_absolute_error: 0.0206\n",
      "Epoch 50/90\n",
      "27/27 [==============================] - 1s 28ms/step - loss: 0.0205 - mean_absolute_error: 0.0205\n",
      "Epoch 51/90\n",
      "27/27 [==============================] - 1s 28ms/step - loss: 0.0204 - mean_absolute_error: 0.0204\n",
      "Epoch 52/90\n",
      "27/27 [==============================] - 1s 28ms/step - loss: 0.0205 - mean_absolute_error: 0.0205\n",
      "Epoch 53/90\n",
      "27/27 [==============================] - 1s 28ms/step - loss: 0.0205 - mean_absolute_error: 0.0205\n",
      "Epoch 54/90\n",
      "27/27 [==============================] - 1s 28ms/step - loss: 0.0206 - mean_absolute_error: 0.0206\n",
      "Epoch 55/90\n",
      "27/27 [==============================] - 1s 28ms/step - loss: 0.0206 - mean_absolute_error: 0.0206\n",
      "Epoch 56/90\n",
      "27/27 [==============================] - 1s 29ms/step - loss: 0.0205 - mean_absolute_error: 0.0205\n",
      "Epoch 57/90\n",
      "27/27 [==============================] - 1s 28ms/step - loss: 0.0205 - mean_absolute_error: 0.0205\n",
      "Epoch 58/90\n",
      "27/27 [==============================] - 1s 28ms/step - loss: 0.0205 - mean_absolute_error: 0.0205\n",
      "Epoch 59/90\n",
      "27/27 [==============================] - 1s 28ms/step - loss: 0.0205 - mean_absolute_error: 0.0205\n",
      "Epoch 60/90\n",
      "27/27 [==============================] - 1s 28ms/step - loss: 0.0205 - mean_absolute_error: 0.0205\n",
      "Epoch 61/90\n",
      "27/27 [==============================] - 1s 28ms/step - loss: 0.0205 - mean_absolute_error: 0.0205\n",
      "Epoch 62/90\n",
      "27/27 [==============================] - 1s 27ms/step - loss: 0.0205 - mean_absolute_error: 0.0205\n",
      "Epoch 63/90\n",
      "27/27 [==============================] - 1s 28ms/step - loss: 0.0205 - mean_absolute_error: 0.0205\n",
      "Epoch 64/90\n",
      "27/27 [==============================] - 1s 28ms/step - loss: 0.0205 - mean_absolute_error: 0.0205\n",
      "Epoch 65/90\n",
      "27/27 [==============================] - 1s 29ms/step - loss: 0.0206 - mean_absolute_error: 0.0206\n",
      "Epoch 66/90\n",
      "27/27 [==============================] - 1s 28ms/step - loss: 0.0205 - mean_absolute_error: 0.0205\n",
      "Epoch 67/90\n",
      "27/27 [==============================] - 1s 28ms/step - loss: 0.0205 - mean_absolute_error: 0.0205\n",
      "Epoch 68/90\n",
      "27/27 [==============================] - 1s 27ms/step - loss: 0.0205 - mean_absolute_error: 0.0205\n",
      "Epoch 69/90\n",
      "27/27 [==============================] - 1s 30ms/step - loss: 0.0205 - mean_absolute_error: 0.0205\n",
      "Epoch 70/90\n",
      "27/27 [==============================] - 1s 28ms/step - loss: 0.0205 - mean_absolute_error: 0.0205\n",
      "Epoch 71/90\n",
      "27/27 [==============================] - 1s 27ms/step - loss: 0.0205 - mean_absolute_error: 0.0205\n",
      "Epoch 72/90\n",
      "27/27 [==============================] - 1s 28ms/step - loss: 0.0205 - mean_absolute_error: 0.0205\n",
      "Epoch 73/90\n",
      "27/27 [==============================] - 1s 28ms/step - loss: 0.0205 - mean_absolute_error: 0.0205\n",
      "Epoch 74/90\n"
     ]
    },
    {
     "name": "stdout",
     "output_type": "stream",
     "text": [
      "27/27 [==============================] - 1s 28ms/step - loss: 0.0205 - mean_absolute_error: 0.0205\n",
      "Epoch 75/90\n",
      "27/27 [==============================] - 1s 28ms/step - loss: 0.0205 - mean_absolute_error: 0.0205\n",
      "Epoch 76/90\n",
      "27/27 [==============================] - 1s 28ms/step - loss: 0.0206 - mean_absolute_error: 0.0206\n",
      "Epoch 77/90\n",
      "27/27 [==============================] - 1s 28ms/step - loss: 0.0205 - mean_absolute_error: 0.0205\n",
      "Epoch 78/90\n",
      "27/27 [==============================] - 1s 28ms/step - loss: 0.0205 - mean_absolute_error: 0.0205\n",
      "Epoch 79/90\n",
      "27/27 [==============================] - 1s 28ms/step - loss: 0.0205 - mean_absolute_error: 0.0205\n",
      "Epoch 80/90\n",
      "27/27 [==============================] - 1s 28ms/step - loss: 0.0205 - mean_absolute_error: 0.0205\n",
      "Epoch 81/90\n",
      "27/27 [==============================] - 1s 29ms/step - loss: 0.0205 - mean_absolute_error: 0.0205\n",
      "Epoch 82/90\n",
      "27/27 [==============================] - 1s 28ms/step - loss: 0.0205 - mean_absolute_error: 0.0205\n",
      "Epoch 83/90\n",
      "27/27 [==============================] - 1s 28ms/step - loss: 0.0205 - mean_absolute_error: 0.0205\n",
      "Epoch 84/90\n",
      "27/27 [==============================] - 1s 28ms/step - loss: 0.0205 - mean_absolute_error: 0.0205\n",
      "Epoch 85/90\n",
      "27/27 [==============================] - 1s 27ms/step - loss: 0.0205 - mean_absolute_error: 0.0205\n",
      "Epoch 86/90\n",
      "27/27 [==============================] - 1s 28ms/step - loss: 0.0206 - mean_absolute_error: 0.0206\n",
      "Epoch 87/90\n",
      "27/27 [==============================] - 1s 27ms/step - loss: 0.0205 - mean_absolute_error: 0.0205\n",
      "Epoch 88/90\n",
      "27/27 [==============================] - 1s 28ms/step - loss: 0.0205 - mean_absolute_error: 0.0205\n",
      "Epoch 89/90\n",
      "27/27 [==============================] - 1s 28ms/step - loss: 0.0205 - mean_absolute_error: 0.0205\n",
      "Epoch 90/90\n",
      "27/27 [==============================] - 1s 28ms/step - loss: 0.0205 - mean_absolute_error: 0.0205\n"
     ]
    },
    {
     "data": {
      "text/plain": [
       "<tensorflow.python.keras.callbacks.History at 0x22460efca90>"
      ]
     },
     "execution_count": 20,
     "metadata": {},
     "output_type": "execute_result"
    }
   ],
   "source": [
    "model.fit_generator(generator,epochs=90)"
   ]
  },
  {
   "cell_type": "code",
   "execution_count": 21,
   "metadata": {},
   "outputs": [
    {
     "data": {
      "text/plain": [
       "[0.0440036840736866, 0.044003684]"
      ]
     },
     "execution_count": 21,
     "metadata": {},
     "output_type": "execute_result"
    }
   ],
   "source": [
    "model.evaluate_generator(validation_sequence)"
   ]
  },
  {
   "cell_type": "code",
   "execution_count": 22,
   "metadata": {},
   "outputs": [],
   "source": [
    "pred_list = []\n",
    "\n",
    "batch = data_4[-60:-48].reshape((1, n_input, n_features))\n",
    "\n",
    "for i in range(n_input):   \n",
    "    pred_list.append(model.predict(batch)[0]) \n",
    "    batch = np.append(batch[:,1:,:],[[pred_list[i]]],axis=1)\n",
    "    \n",
    "batch1 = data_4[-48:-36].reshape((1, n_input, n_features))\n",
    "\n",
    "for i in range(n_input):   \n",
    "    pred_list.append(model.predict(batch1)[0]) \n",
    "    batch1 = np.append(batch1[:,1:,:],[[pred_list[i]]],axis=1)\n",
    "    \n",
    "batch2 = data_4[-36:-24].reshape((1, n_input, n_features))\n",
    "\n",
    "for i in range(n_input):   \n",
    "    pred_list.append(model.predict(batch2)[0]) \n",
    "    batch2 = np.append(batch2[:,1:,:],[[pred_list[i]]],axis=1)\n",
    "    \n",
    "# data tahun 2014 untuk memprediksi tahun 2015\n",
    "batch3 = data_4[-24:-12].reshape((1, n_input, n_features))\n",
    "\n",
    "for i in range(n_input):   \n",
    "    pred_list.append(model.predict(batch3)[0]) \n",
    "    batch3 = np.append(batch3[:,1:,:],[[pred_list[i]]],axis=1)\n",
    "\n",
    "# data tahun 2015 untuk memprediksi tahun 2016\n",
    "batch4 = data_4[-12:].reshape((1, n_input, n_features))\n",
    "\n",
    "for i in range(n_input):   \n",
    "    pred_list.append(model.predict(batch4)[0]) \n",
    "    batch4 = np.append(batch4[:,1:,:],[[pred_list[i]]],axis=1)"
   ]
  },
  {
   "cell_type": "code",
   "execution_count": 23,
   "metadata": {},
   "outputs": [
    {
     "data": {
      "text/plain": [
       "array([[[2.40870086e-05, 2.42466758e-05, 2.49240311e-05, ...,\n",
       "         2.40498484e-05, 2.45768078e-05, 2.53918570e-05],\n",
       "        [2.40870086e-05, 2.42466758e-05, 2.49240311e-05, ...,\n",
       "         2.40498484e-05, 2.45768078e-05, 2.53918570e-05],\n",
       "        [2.40870086e-05, 2.42466758e-05, 2.49240311e-05, ...,\n",
       "         2.40498484e-05, 2.45768078e-05, 2.53918570e-05],\n",
       "        ...,\n",
       "        [2.46991294e-05, 2.48616689e-05, 2.55530595e-05, ...,\n",
       "         2.46615400e-05, 2.51964011e-05, 2.60338093e-05],\n",
       "        [2.46925101e-05, 2.48550550e-05, 2.55462601e-05, ...,\n",
       "         2.46549789e-05, 2.51898164e-05, 2.60268844e-05],\n",
       "        [2.46662912e-05, 2.48286397e-05, 2.55193281e-05, ...,\n",
       "         2.46288237e-05, 2.51632136e-05, 2.59993740e-05]]])"
      ]
     },
     "execution_count": 23,
     "metadata": {},
     "output_type": "execute_result"
    }
   ],
   "source": [
    "batch"
   ]
  },
  {
   "cell_type": "code",
   "execution_count": 24,
   "metadata": {},
   "outputs": [
    {
     "data": {
      "text/plain": [
       "array([[2.40870086e-05, 2.42466758e-05, 2.49240311e-05, ...,\n",
       "        2.40498484e-05, 2.45768078e-05, 2.53918570e-05],\n",
       "       [2.40870086e-05, 2.42466758e-05, 2.49240311e-05, ...,\n",
       "        2.40498484e-05, 2.45768078e-05, 2.53918570e-05],\n",
       "       [2.40870086e-05, 2.42466758e-05, 2.49240311e-05, ...,\n",
       "        2.40498484e-05, 2.45768078e-05, 2.53918570e-05],\n",
       "       ...,\n",
       "       [2.40876288e-05, 2.42473470e-05, 2.49245768e-05, ...,\n",
       "        2.40503523e-05, 2.45773936e-05, 2.53924391e-05],\n",
       "       [2.40873305e-05, 2.42468595e-05, 2.49241712e-05, ...,\n",
       "        2.40500758e-05, 2.45770425e-05, 2.53920516e-05],\n",
       "       [2.40870304e-05, 2.42466758e-05, 2.49240311e-05, ...,\n",
       "        2.40498484e-05, 2.45768315e-05, 2.53918570e-05]])"
      ]
     },
     "execution_count": 24,
     "metadata": {},
     "output_type": "execute_result"
    }
   ],
   "source": [
    "pred_list = scaler.inverse_transform(pred_list)\n",
    "pred_list"
   ]
  },
  {
   "cell_type": "code",
   "execution_count": 67,
   "metadata": {},
   "outputs": [
    {
     "name": "stdout",
     "output_type": "stream",
     "text": [
      "Epoch 0 / 2\n",
      "Input\n"
     ]
    },
    {
     "ename": "AttributeError",
     "evalue": "'LSTM' object has no attribute 'b_i'",
     "output_type": "error",
     "traceback": [
      "\u001b[1;31m---------------------------------------------------------------------------\u001b[0m",
      "\u001b[1;31mAttributeError\u001b[0m                            Traceback (most recent call last)",
      "\u001b[1;32m<ipython-input-67-21fadd1e48e4>\u001b[0m in \u001b[0;36m<module>\u001b[1;34m\u001b[0m\n\u001b[0;32m     10\u001b[0m \u001b[1;33m\u001b[0m\u001b[0m\n\u001b[0;32m     11\u001b[0m             \u001b[0mprint\u001b[0m\u001b[1;33m(\u001b[0m\u001b[1;34m'Input'\u001b[0m\u001b[1;33m)\u001b[0m\u001b[1;33m\u001b[0m\u001b[1;33m\u001b[0m\u001b[0m\n\u001b[1;32m---> 12\u001b[1;33m             \u001b[0mprint\u001b[0m\u001b[1;33m(\u001b[0m\u001b[1;34m'b_i = {}'\u001b[0m\u001b[1;33m.\u001b[0m\u001b[0mformat\u001b[0m\u001b[1;33m(\u001b[0m\u001b[0mK\u001b[0m\u001b[1;33m.\u001b[0m\u001b[0mget_value\u001b[0m\u001b[1;33m(\u001b[0m\u001b[0mlayer\u001b[0m\u001b[1;33m.\u001b[0m\u001b[0mb_i\u001b[0m\u001b[1;33m)\u001b[0m\u001b[1;33m)\u001b[0m\u001b[1;33m)\u001b[0m\u001b[1;33m\u001b[0m\u001b[1;33m\u001b[0m\u001b[0m\n\u001b[0m\u001b[0;32m     13\u001b[0m             \u001b[0mprint\u001b[0m\u001b[1;33m(\u001b[0m\u001b[1;34m'W_i = {}'\u001b[0m\u001b[1;33m.\u001b[0m\u001b[0mformat\u001b[0m\u001b[1;33m(\u001b[0m\u001b[0mK\u001b[0m\u001b[1;33m.\u001b[0m\u001b[0mget_value\u001b[0m\u001b[1;33m(\u001b[0m\u001b[0mlayer\u001b[0m\u001b[1;33m.\u001b[0m\u001b[0mW_i\u001b[0m\u001b[1;33m)\u001b[0m\u001b[1;33m)\u001b[0m\u001b[1;33m)\u001b[0m\u001b[1;33m\u001b[0m\u001b[1;33m\u001b[0m\u001b[0m\n\u001b[0;32m     14\u001b[0m             \u001b[0mprint\u001b[0m\u001b[1;33m(\u001b[0m\u001b[1;34m'U_i = {}'\u001b[0m\u001b[1;33m.\u001b[0m\u001b[0mformat\u001b[0m\u001b[1;33m(\u001b[0m\u001b[0mK\u001b[0m\u001b[1;33m.\u001b[0m\u001b[0mget_value\u001b[0m\u001b[1;33m(\u001b[0m\u001b[0mlayer\u001b[0m\u001b[1;33m.\u001b[0m\u001b[0mU_i\u001b[0m\u001b[1;33m)\u001b[0m\u001b[1;33m)\u001b[0m\u001b[1;33m)\u001b[0m\u001b[1;33m\u001b[0m\u001b[1;33m\u001b[0m\u001b[0m\n",
      "\u001b[1;31mAttributeError\u001b[0m: 'LSTM' object has no attribute 'b_i'"
     ]
    }
   ],
   "source": [
    "epochs = 2\n",
    "for i in range(epochs):\n",
    "    print('Epoch', i, '/', epochs)\n",
    "#     model.fit_generator(generator,epochs=90)\n",
    "\n",
    "    for layer in model.layers:\n",
    "        if 'LSTM' in str(layer):\n",
    "#             print('states[0] = {}'.format(K.get_value(layer.states[0])))\n",
    "#             print('states[1] = {}'.format(K.get_value(layer.states[1])))\n",
    "\n",
    "            print('Input')\n",
    "            print('b_i = {}'.format(K.get_value(layer.b_i)))\n",
    "            print('W_i = {}'.format(K.get_value(layer.W_i)))\n",
    "            print('U_i = {}'.format(K.get_value(layer.U_i)))\n",
    "\n",
    "            print('Forget')\n",
    "            print('b_f = {}'.format(K.get_value(layer.b_f)))\n",
    "            print('W_f = {}'.format(K.get_value(layer.W_f)))\n",
    "            print('U_f = {}'.format(K.get_value(layer.U_f)))\n",
    "\n",
    "            print('Cell')\n",
    "            print('b_c = {}'.format(K.get_value(layer.b_c)))\n",
    "            print('W_c = {}'.format(K.get_value(layer.W_c)))\n",
    "            print('U_c = {}'.format(K.get_value(layer.U_c)))\n",
    "\n",
    "            print('Output')\n",
    "            print('b_o = {}'.format(K.get_value(layer.b_o)))\n",
    "            print('W_o = {}'.format(K.get_value(layer.W_o)))\n",
    "            print('U_o = {}'.format(K.get_value(layer.U_o)))\n",
    "\n",
    "    # output of the first batch value of the batch after the first fit().\n",
    "    first_batch_element = np.expand_dims(cos[0], axis=1)  # (1, 1) to (1, 1, 1)\n",
    "    print('output = {}'.format(get_LSTM_output([first_batch_element])[0].flatten()))\n",
    "\n",
    "    model.reset_states()\n",
    "\n",
    "print('Predicting')\n",
    "predicted_output = model.predict(cos, batch_size=batch_size)\n",
    "\n",
    "print('Ploting Results')\n",
    "plt.subplot(2, 1, 1)\n",
    "plt.plot(expected_output)\n",
    "plt.title('Expected')\n",
    "plt.subplot(2, 1, 2)\n",
    "plt.plot(predicted_output)\n",
    "plt.title('Predicted')\n",
    "plt.show()"
   ]
  },
  {
   "cell_type": "code",
   "execution_count": 82,
   "metadata": {},
   "outputs": [],
   "source": [
    "def bobot(nlayer):\n",
    "    units = int(int(model.layers[nlayer-1].trainable_weights[0].shape[1])/4)\n",
    "    W = model.layers[0].get_weights()[0]\n",
    "    U = model.layers[0].get_weights()[1]\n",
    "    b = model.layers[0].get_weights()[2]\n",
    "\n",
    "    W_i = W[:, :units]\n",
    "    savetxt('Layer'+nlayer+'W_i.csv', W_i, delimiter=',')\n",
    "    W_f = W[:, units: units * 2]\n",
    "    savetxt('Layer'+nlayer+'W_f.csv', W_f, delimiter=',')\n",
    "    W_c = W[:, units * 2: units * 3]\n",
    "    savetxt('Layer'+nlayer+'W_c.csv', W_c, delimiter=',')\n",
    "    W_o = W[:, units * 3:]\n",
    "    savetxt('Layer'+nlayer+'W_o.csv', W_o, delimiter=',')\n",
    "\n",
    "    U_i = U[:, :units]\n",
    "    savetxt('Layer'+nlayer+'U_i.csv', U_i, delimiter=',')\n",
    "    U_f = U[:, units: units * 2]\n",
    "    savetxt('Layer'+nlayer+'U_f.csv', U_f, delimiter=',')\n",
    "    U_c = U[:, units * 2: units * 3]\n",
    "    savetxt('Layer'+nlayer+'U_c.csv', U_c, delimiter=',')\n",
    "    U_o = U[:, units * 3:]\n",
    "    savetxt('Layer'+nlayer+'U_o.csv', U_o, delimiter=',')\n",
    "\n",
    "    b_i = b[:units]\n",
    "    savetxt('Layer'+nlayer+'b_i.csv', b_i, delimiter=',')\n",
    "    b_f = b[units: units * 2]\n",
    "    savetxt('Layer'+nlayer+'b_f.csv', b_f, delimiter=',')\n",
    "    b_c = b[units * 2: units * 3]\n",
    "    savetxt('Layer'+nlayer+'b_c.csv', b_c, delimiter=',')\n",
    "    b_o = b[units * 3:]\n",
    "    savetxt('Layer'+nlayer+'b_o.csv', b_o, delimiter=',')"
   ]
  },
  {
   "cell_type": "code",
   "execution_count": 109,
   "metadata": {},
   "outputs": [
    {
     "data": {
      "text/plain": [
       "10.0"
      ]
     },
     "execution_count": 109,
     "metadata": {},
     "output_type": "execute_result"
    }
   ],
   "source": [
    "int(model.layers[0].trainable_weights[0].shape[1])/4"
   ]
  },
  {
   "cell_type": "code",
   "execution_count": 45,
   "metadata": {},
   "outputs": [
    {
     "data": {
      "text/plain": [
       "[<tf.Tensor 'lstm/transpose_1:0' shape=(?, 12, 10) dtype=float32>,\n",
       " <tf.Tensor 'lstm_1/transpose_1:0' shape=(?, 12, 20) dtype=float32>,\n",
       " <tf.Tensor 'dropout/cond/Merge:0' shape=(?, 12, 20) dtype=float32>,\n",
       " <tf.Tensor 'lstm_2/strided_slice_3:0' shape=(?, 30) dtype=float32>,\n",
       " <tf.Tensor 'dropout_1/cond/Merge:0' shape=(?, 30) dtype=float32>,\n",
       " <tf.Tensor 'dense/Sigmoid:0' shape=(?, 40) dtype=float32>,\n",
       " <tf.Tensor 'dropout_2/cond/Merge:0' shape=(?, 40) dtype=float32>,\n",
       " <tf.Tensor 'dense_1/Sigmoid:0' shape=(?, 50) dtype=float32>,\n",
       " <tf.Tensor 'dropout_3/cond/Merge:0' shape=(?, 50) dtype=float32>,\n",
       " <tf.Tensor 'dense_2/Sigmoid:0' shape=(?, 60) dtype=float32>,\n",
       " <tf.Tensor 'dropout_4/cond/Merge:0' shape=(?, 60) dtype=float32>,\n",
       " <tf.Tensor 'dense_3/Sigmoid:0' shape=(?, 9462) dtype=float32>]"
      ]
     },
     "execution_count": 45,
     "metadata": {},
     "output_type": "execute_result"
    }
   ],
   "source": [
    "outputs = [layer.output for layer in model.layers] \n",
    "outputs"
   ]
  },
  {
   "cell_type": "code",
   "execution_count": 58,
   "metadata": {},
   "outputs": [
    {
     "name": "stdout",
     "output_type": "stream",
     "text": [
      "No units:  10\n"
     ]
    }
   ],
   "source": [
    "print(\"No units: \", units)"
   ]
  },
  {
   "cell_type": "code",
   "execution_count": 27,
   "metadata": {},
   "outputs": [
    {
     "data": {
      "text/plain": [
       "array([[-0.04056591,  0.07422994,  0.00326647, ..., -0.10614648,\n",
       "        -0.03614486, -0.00281352],\n",
       "       [ 0.06646907, -0.05866835,  0.00157723, ..., -0.09030329,\n",
       "         0.00624498, -0.03853271],\n",
       "       [-0.06579509,  0.01876621,  0.00887792, ...,  0.0258168 ,\n",
       "         0.07404733,  0.0052201 ],\n",
       "       ...,\n",
       "       [-0.01432676, -0.01135174,  0.07500387, ...,  0.10511567,\n",
       "        -0.10522427,  0.02629794],\n",
       "       [ 0.00534822,  0.0090141 , -0.0639431 , ..., -0.06070308,\n",
       "         0.03917052,  0.000944  ],\n",
       "       [-0.03991544,  0.01540577,  0.08580473, ..., -0.01568624,\n",
       "         0.07683261, -0.00365295]], dtype=float32)"
      ]
     },
     "execution_count": 27,
     "metadata": {},
     "output_type": "execute_result"
    }
   ],
   "source": [
    "W_i"
   ]
  },
  {
   "cell_type": "code",
   "execution_count": 28,
   "metadata": {},
   "outputs": [],
   "source": [
    "from numpy import savetxt\n",
    "savetxt('W_i.csv', W_i, delimiter=',')"
   ]
  },
  {
   "cell_type": "code",
   "execution_count": 42,
   "metadata": {},
   "outputs": [
    {
     "data": {
      "text/plain": [
       "<_io.TextIOWrapper name='W_i.csv' mode='w+' encoding='cp1252'>"
      ]
     },
     "execution_count": 42,
     "metadata": {},
     "output_type": "execute_result"
    }
   ],
   "source": [
    "f= open(\"W_i.csv\",\"w+\")\n",
    "f"
   ]
  },
  {
   "cell_type": "code",
   "execution_count": 43,
   "metadata": {},
   "outputs": [],
   "source": [
    "savetxt('W_f.csv', W_f, delimiter=',')"
   ]
  },
  {
   "cell_type": "code",
   "execution_count": 45,
   "metadata": {},
   "outputs": [],
   "source": [
    "savetxt('W_c.csv', W_i, delimiter=',')"
   ]
  },
  {
   "cell_type": "code",
   "execution_count": 46,
   "metadata": {},
   "outputs": [],
   "source": [
    "savetxt('W_o.csv', W_o, delimiter=',')"
   ]
  },
  {
   "cell_type": "code",
   "execution_count": 47,
   "metadata": {},
   "outputs": [],
   "source": [
    "savetxt('U_i.csv', U_i, delimiter=',')"
   ]
  },
  {
   "cell_type": "code",
   "execution_count": 48,
   "metadata": {},
   "outputs": [],
   "source": [
    "savetxt('U_f.csv', U_f, delimiter=',')"
   ]
  },
  {
   "cell_type": "code",
   "execution_count": 49,
   "metadata": {},
   "outputs": [],
   "source": [
    "savetxt('U_c.csv', U_c, delimiter=',')"
   ]
  },
  {
   "cell_type": "code",
   "execution_count": 50,
   "metadata": {},
   "outputs": [],
   "source": [
    "savetxt('U_o.csv', U_o, delimiter=',')"
   ]
  },
  {
   "cell_type": "code",
   "execution_count": 51,
   "metadata": {},
   "outputs": [],
   "source": [
    "savetxt('b_i.csv', b_i, delimiter=',')"
   ]
  },
  {
   "cell_type": "code",
   "execution_count": 52,
   "metadata": {},
   "outputs": [],
   "source": [
    "savetxt('b_f.csv', b_f, delimiter=',')"
   ]
  },
  {
   "cell_type": "code",
   "execution_count": 53,
   "metadata": {},
   "outputs": [],
   "source": [
    "savetxt('b_c.csv', b_o, delimiter=',')"
   ]
  },
  {
   "cell_type": "code",
   "execution_count": 54,
   "metadata": {},
   "outputs": [],
   "source": [
    "savetxt('b_o.csv', b_o, delimiter=',')"
   ]
  },
  {
   "cell_type": "code",
   "execution_count": null,
   "metadata": {},
   "outputs": [],
   "source": []
  }
 ],
 "metadata": {
  "kernelspec": {
   "display_name": "Python 3",
   "language": "python",
   "name": "python3"
  },
  "language_info": {
   "codemirror_mode": {
    "name": "ipython",
    "version": 3
   },
   "file_extension": ".py",
   "mimetype": "text/x-python",
   "name": "python",
   "nbconvert_exporter": "python",
   "pygments_lexer": "ipython3",
   "version": "3.7.3"
  }
 },
 "nbformat": 4,
 "nbformat_minor": 2
}
