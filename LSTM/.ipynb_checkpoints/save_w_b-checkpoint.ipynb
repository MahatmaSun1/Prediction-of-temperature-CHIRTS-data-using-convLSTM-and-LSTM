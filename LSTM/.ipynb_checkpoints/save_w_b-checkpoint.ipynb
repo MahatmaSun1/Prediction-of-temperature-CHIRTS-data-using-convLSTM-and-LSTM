{
 "cells": [
  {
   "cell_type": "code",
   "execution_count": 15,
   "metadata": {},
   "outputs": [],
   "source": [
    "import numpy as np\n",
    "import pandas as pd\n",
    "import matplotlib.pyplot as plt\n",
    "%matplotlib inline\n",
    "from sklearn.preprocessing import MinMaxScaler\n",
    "from tensorflow.keras.preprocessing.sequence import TimeseriesGenerator\n",
    "from tensorflow.keras.models import Sequential\n",
    "from tensorflow.keras.layers import Dense\n",
    "from tensorflow.keras.layers import LSTM\n",
    "from tensorflow.keras.layers import Dropout, Embedding, TimeDistributed\n",
    "from keras.initializers import RandomNormal\n",
    "# from keras.layers import Conv1D, MaxPooling2D\n",
    "import warnings\n",
    "import pickle\n",
    "warnings.filterwarnings(\"ignore\")"
   ]
  },
  {
   "cell_type": "code",
   "execution_count": 17,
   "metadata": {},
   "outputs": [
    {
     "data": {
      "text/plain": [
       "<matplotlib.image.AxesImage at 0x132328f0438>"
      ]
     },
     "execution_count": 17,
     "metadata": {},
     "output_type": "execute_result"
    },
    {
     "data": {
      "image/png": "[encoded data removed]",
      "text/plain": [
       "<Figure size 432x288 with 1 Axes>"
      ]
     },
     "metadata": {
      "needs_background": "light"
     },
     "output_type": "display_data"
    }
   ],
   "source": [
    "pickle_in = open(\"../Data_error/error_flatten.pickle\",\"rb\")\n",
    "# data diload sudah dalam bentuk 1D\n",
    "X = pickle.load(pickle_in)\n",
    "# untuk menampilkan gambar data 1D -> 2D\n",
    "plt.imshow(X[0].reshape(83,114))"
   ]
  },
  {
   "cell_type": "code",
   "execution_count": 19,
   "metadata": {},
   "outputs": [
    {
     "data": {
      "text/plain": [
       "(396, 9462)"
      ]
     },
     "execution_count": 19,
     "metadata": {},
     "output_type": "execute_result"
    }
   ],
   "source": [
    "np.array(X).shape"
   ]
  },
  {
   "cell_type": "code",
   "execution_count": 21,
   "metadata": {},
   "outputs": [],
   "source": [
    "df = X\n",
    "data_1 = df[:-48]\n",
    "data_2 = df[:-36]\n",
    "data_3 = df[:-24]\n",
    "data_4 = df[:-12]\n",
    "data_5 = df\n",
    "# data tahun 1983-2011\n",
    "df=df[:-60]"
   ]
  },
  {
   "cell_type": "code",
   "execution_count": 23,
   "metadata": {},
   "outputs": [],
   "source": [
    "# train -> data 1983-2011\n",
    "train, test = df, df[-24:]"
   ]
  },
  {
   "cell_type": "code",
   "execution_count": 25,
   "metadata": {},
   "outputs": [
    {
     "data": {
      "text/plain": [
       "28.0"
      ]
     },
     "execution_count": 25,
     "metadata": {},
     "output_type": "execute_result"
    }
   ],
   "source": [
    "np.array(train).shape[0]/12"
   ]
  },
  {
   "cell_type": "code",
   "execution_count": 27,
   "metadata": {},
   "outputs": [],
   "source": [
    "scaler = MinMaxScaler()\n",
    "scaler.fit(train)\n",
    "scaler.fit(data_4)\n",
    "scaler.fit(test)\n",
    "train = scaler.transform(train)\n",
    "data_4 = scaler.transform(data_4)\n",
    "test = scaler.transform(test)"
   ]
  },
  {
   "cell_type": "code",
   "execution_count": 29,
   "metadata": {},
   "outputs": [],
   "source": [
    "n_input = 12\n",
    "n_features = 9462\n",
    "batch_size=12\n",
    "# supervised data\n",
    "generator = TimeseriesGenerator(train, train, length=n_input, batch_size=batch_size)\n",
    "validation_sequence = TimeseriesGenerator(test, test, length=n_input, batch_size=batch_size)"
   ]
  },
  {
   "cell_type": "code",
   "execution_count": 31,
   "metadata": {},
   "outputs": [],
   "source": [
    "import tensorflow.compat.v1 as tf\n",
    "tf.disable_v2_behavior()\n",
    "model = Sequential()\n",
    "model.add(LSTM(10, activation='relu', kernel_initializer=RandomNormal(mean=0.0, stddev=0.05, seed=1), unit_forget_bias='zeros', input_shape=(n_input, n_features), return_sequences=True))\n",
    "model.add(LSTM(20, activation='relu', kernel_initializer=RandomNormal(mean=0.0, stddev=0.05, seed=1), unit_forget_bias='zeros', return_sequences=True))\n",
    "model.add(Dropout(0.2))\n",
    "model.add(LSTM(30, activation='relu', kernel_initializer=RandomNormal(mean=0.0, stddev=0.05, seed=1), unit_forget_bias='zeros', return_sequences=False))\n",
    "model.add(Dropout(0.2))\n",
    "model.add(Dense(40, activation='sigmoid', kernel_initializer=RandomNormal(mean=0.0, stddev=0.05, seed=1)))\n",
    "model.add(Dropout(0.2))\n",
    "model.add(Dense(50, activation='sigmoid', kernel_initializer=RandomNormal(mean=0.0, stddev=0.05, seed=1)))\n",
    "model.add(Dropout(0.2))\n",
    "model.add(Dense(60, activation='sigmoid', kernel_initializer=RandomNormal(mean=0.0, stddev=0.05, seed=1)))\n",
    "model.add(Dropout(0.2))\n",
    "model.add(Dense(n_features, activation='sigmoid', kernel_initializer=RandomNormal(mean=0.0, stddev=0.05, seed=1)))\n",
    "model.compile(optimizer='adam', loss='mae', metrics=['mae'])"
   ]
  },
  {
   "cell_type": "code",
   "execution_count": 33,
   "metadata": {},
   "outputs": [
    {
     "name": "stdout",
     "output_type": "stream",
     "text": [
      "Model: \"sequential_1\"\n",
      "_________________________________________________________________\n",
      "Layer (type)                 Output Shape              Param #   \n",
      "=================================================================\n",
      "lstm_3 (LSTM)                (None, 12, 10)            378920    \n",
      "_________________________________________________________________\n",
      "lstm_4 (LSTM)                (None, 12, 20)            2480      \n",
      "_________________________________________________________________\n",
      "dropout_5 (Dropout)          (None, 12, 20)            0         \n",
      "_________________________________________________________________\n",
      "lstm_5 (LSTM)                (None, 30)                6120      \n",
      "_________________________________________________________________\n",
      "dropout_6 (Dropout)          (None, 30)                0         \n",
      "_________________________________________________________________\n",
      "dense_4 (Dense)              (None, 40)                1240      \n",
      "_________________________________________________________________\n",
      "dropout_7 (Dropout)          (None, 40)                0         \n",
      "_________________________________________________________________\n",
      "dense_5 (Dense)              (None, 50)                2050      \n",
      "_________________________________________________________________\n",
      "dropout_8 (Dropout)          (None, 50)                0         \n",
      "_________________________________________________________________\n",
      "dense_6 (Dense)              (None, 60)                3060      \n",
      "_________________________________________________________________\n",
      "dropout_9 (Dropout)          (None, 60)                0         \n",
      "_________________________________________________________________\n",
      "dense_7 (Dense)              (None, 9462)              577182    \n",
      "=================================================================\n",
      "Total params: 971,052\n",
      "Trainable params: 971,052\n",
      "Non-trainable params: 0\n",
      "_________________________________________________________________\n"
     ]
    }
   ],
   "source": [
    "model.summary()"
   ]
  },
  {
   "cell_type": "code",
   "execution_count": 34,
   "metadata": {},
   "outputs": [
    {
     "name": "stdout",
     "output_type": "stream",
     "text": [
      "Epoch 1/90\n",
      "27/27 [==============================] - 2s 73ms/step - loss: 0.3843 - mean_absolute_error: 0.3843\n",
      "Epoch 2/90\n",
      "27/27 [==============================] - 1s 27ms/step - loss: 0.1710 - mean_absolute_error: 0.1710\n",
      "Epoch 3/90\n",
      "27/27 [==============================] - 1s 27ms/step - loss: 0.0776 - mean_absolute_error: 0.0776\n",
      "Epoch 4/90\n",
      "27/27 [==============================] - 1s 28ms/step - loss: 0.0596 - mean_absolute_error: 0.0596\n",
      "Epoch 5/90\n",
      "27/27 [==============================] - 1s 28ms/step - loss: 0.0529 - mean_absolute_error: 0.0529\n",
      "Epoch 6/90\n",
      "27/27 [==============================] - 1s 29ms/step - loss: 0.0499 - mean_absolute_error: 0.0499\n",
      "Epoch 7/90\n",
      "27/27 [==============================] - 1s 28ms/step - loss: 0.0475 - mean_absolute_error: 0.0475\n",
      "Epoch 8/90\n",
      "27/27 [==============================] - 1s 28ms/step - loss: 0.0462 - mean_absolute_error: 0.0462\n",
      "Epoch 9/90\n",
      "27/27 [==============================] - 1s 27ms/step - loss: 0.0451 - mean_absolute_error: 0.0451\n",
      "Epoch 10/90\n",
      "27/27 [==============================] - 1s 28ms/step - loss: 0.0446 - mean_absolute_error: 0.0446\n",
      "Epoch 11/90\n",
      "27/27 [==============================] - 1s 28ms/step - loss: 0.0438 - mean_absolute_error: 0.0438\n",
      "Epoch 12/90\n",
      "27/27 [==============================] - 1s 27ms/step - loss: 0.0435 - mean_absolute_error: 0.0435\n",
      "Epoch 13/90\n",
      "27/27 [==============================] - 1s 27ms/step - loss: 0.0430 - mean_absolute_error: 0.0430\n",
      "Epoch 14/90\n",
      "27/27 [==============================] - 1s 27ms/step - loss: 0.0428 - mean_absolute_error: 0.0428\n",
      "Epoch 15/90\n",
      "27/27 [==============================] - 1s 28ms/step - loss: 0.0425 - mean_absolute_error: 0.0425\n",
      "Epoch 16/90\n",
      "27/27 [==============================] - 1s 28ms/step - loss: 0.0424 - mean_absolute_error: 0.0424\n",
      "Epoch 17/90\n",
      "27/27 [==============================] - 1s 28ms/step - loss: 0.0420 - mean_absolute_error: 0.0420\n",
      "Epoch 18/90\n",
      "27/27 [==============================] - 1s 28ms/step - loss: 0.0419 - mean_absolute_error: 0.0419\n",
      "Epoch 19/90\n",
      "27/27 [==============================] - 1s 27ms/step - loss: 0.0416 - mean_absolute_error: 0.0416\n",
      "Epoch 20/90\n",
      "27/27 [==============================] - 1s 28ms/step - loss: 0.0415 - mean_absolute_error: 0.0415\n",
      "Epoch 21/90\n",
      "27/27 [==============================] - 1s 27ms/step - loss: 0.0415 - mean_absolute_error: 0.0415\n",
      "Epoch 22/90\n",
      "27/27 [==============================] - 1s 28ms/step - loss: 0.0415 - mean_absolute_error: 0.0415\n",
      "Epoch 23/90\n",
      "27/27 [==============================] - 1s 27ms/step - loss: 0.0413 - mean_absolute_error: 0.0413\n",
      "Epoch 24/90\n",
      "27/27 [==============================] - 1s 28ms/step - loss: 0.0413 - mean_absolute_error: 0.0413\n",
      "Epoch 25/90\n",
      "27/27 [==============================] - 1s 27ms/step - loss: 0.0412 - mean_absolute_error: 0.0412\n",
      "Epoch 26/90\n",
      "27/27 [==============================] - 1s 28ms/step - loss: 0.0410 - mean_absolute_error: 0.0410\n",
      "Epoch 27/90\n",
      "27/27 [==============================] - 1s 28ms/step - loss: 0.0409 - mean_absolute_error: 0.0409\n",
      "Epoch 28/90\n",
      "27/27 [==============================] - 1s 27ms/step - loss: 0.0409 - mean_absolute_error: 0.0409\n",
      "Epoch 29/90\n",
      "27/27 [==============================] - 1s 28ms/step - loss: 0.0408 - mean_absolute_error: 0.0408\n",
      "Epoch 30/90\n",
      "27/27 [==============================] - 1s 29ms/step - loss: 0.0408 - mean_absolute_error: 0.0408\n",
      "Epoch 31/90\n",
      "27/27 [==============================] - 1s 28ms/step - loss: 0.0408 - mean_absolute_error: 0.0408\n",
      "Epoch 32/90\n",
      "27/27 [==============================] - 1s 28ms/step - loss: 0.0407 - mean_absolute_error: 0.0407\n",
      "Epoch 33/90\n",
      "27/27 [==============================] - 1s 27ms/step - loss: 0.0408 - mean_absolute_error: 0.0408\n",
      "Epoch 34/90\n",
      "27/27 [==============================] - 1s 27ms/step - loss: 0.0407 - mean_absolute_error: 0.0407\n",
      "Epoch 35/90\n",
      "27/27 [==============================] - 1s 28ms/step - loss: 0.0406 - mean_absolute_error: 0.0406\n",
      "Epoch 36/90\n",
      "27/27 [==============================] - 1s 27ms/step - loss: 0.0406 - mean_absolute_error: 0.0406\n",
      "Epoch 37/90\n",
      "27/27 [==============================] - 1s 27ms/step - loss: 0.0406 - mean_absolute_error: 0.0406\n",
      "Epoch 38/90\n",
      "27/27 [==============================] - 1s 28ms/step - loss: 0.0406 - mean_absolute_error: 0.0406\n",
      "Epoch 39/90\n",
      "27/27 [==============================] - 1s 27ms/step - loss: 0.0406 - mean_absolute_error: 0.0406\n",
      "Epoch 40/90\n",
      "27/27 [==============================] - 1s 28ms/step - loss: 0.0406 - mean_absolute_error: 0.0406\n",
      "Epoch 41/90\n",
      "27/27 [==============================] - 1s 28ms/step - loss: 0.0406 - mean_absolute_error: 0.0406\n",
      "Epoch 42/90\n",
      "27/27 [==============================] - 1s 27ms/step - loss: 0.0406 - mean_absolute_error: 0.0406\n",
      "Epoch 43/90\n",
      "27/27 [==============================] - 1s 28ms/step - loss: 0.0405 - mean_absolute_error: 0.0405\n",
      "Epoch 44/90\n",
      "27/27 [==============================] - 1s 28ms/step - loss: 0.0405 - mean_absolute_error: 0.0405\n",
      "Epoch 45/90\n",
      "27/27 [==============================] - 1s 27ms/step - loss: 0.0405 - mean_absolute_error: 0.0405\n",
      "Epoch 46/90\n",
      "27/27 [==============================] - 1s 28ms/step - loss: 0.0404 - mean_absolute_error: 0.0404\n",
      "Epoch 47/90\n",
      "27/27 [==============================] - 1s 28ms/step - loss: 0.0403 - mean_absolute_error: 0.0403\n",
      "Epoch 48/90\n",
      "27/27 [==============================] - 1s 27ms/step - loss: 0.0404 - mean_absolute_error: 0.0404\n",
      "Epoch 49/90\n",
      "27/27 [==============================] - 1s 27ms/step - loss: 0.0403 - mean_absolute_error: 0.0403\n",
      "Epoch 50/90\n",
      "27/27 [==============================] - 1s 28ms/step - loss: 0.0403 - mean_absolute_error: 0.0403\n",
      "Epoch 51/90\n",
      "27/27 [==============================] - 1s 28ms/step - loss: 0.0404 - mean_absolute_error: 0.0404\n",
      "Epoch 52/90\n",
      "27/27 [==============================] - 1s 28ms/step - loss: 0.0403 - mean_absolute_error: 0.0403\n",
      "Epoch 53/90\n",
      "27/27 [==============================] - 1s 27ms/step - loss: 0.0403 - mean_absolute_error: 0.0403\n",
      "Epoch 54/90\n",
      "27/27 [==============================] - 1s 28ms/step - loss: 0.0404 - mean_absolute_error: 0.0404\n",
      "Epoch 55/90\n",
      "27/27 [==============================] - 1s 28ms/step - loss: 0.0403 - mean_absolute_error: 0.0403\n",
      "Epoch 56/90\n",
      "27/27 [==============================] - 1s 28ms/step - loss: 0.0404 - mean_absolute_error: 0.0404\n",
      "Epoch 57/90\n",
      "27/27 [==============================] - 1s 27ms/step - loss: 0.0403 - mean_absolute_error: 0.0403\n",
      "Epoch 58/90\n",
      "27/27 [==============================] - 1s 28ms/step - loss: 0.0403 - mean_absolute_error: 0.0403\n",
      "Epoch 59/90\n",
      "27/27 [==============================] - 1s 27ms/step - loss: 0.0402 - mean_absolute_error: 0.0402\n",
      "Epoch 60/90\n",
      "27/27 [==============================] - 1s 28ms/step - loss: 0.0403 - mean_absolute_error: 0.0403\n",
      "Epoch 61/90\n",
      "27/27 [==============================] - 1s 28ms/step - loss: 0.0402 - mean_absolute_error: 0.0402\n",
      "Epoch 62/90\n",
      "27/27 [==============================] - 1s 28ms/step - loss: 0.0404 - mean_absolute_error: 0.0404\n",
      "Epoch 63/90\n",
      "27/27 [==============================] - 1s 27ms/step - loss: 0.0403 - mean_absolute_error: 0.0403\n",
      "Epoch 64/90\n",
      "27/27 [==============================] - 1s 28ms/step - loss: 0.0402 - mean_absolute_error: 0.0402\n",
      "Epoch 65/90\n",
      "27/27 [==============================] - 1s 27ms/step - loss: 0.0403 - mean_absolute_error: 0.0403\n",
      "Epoch 66/90\n",
      "27/27 [==============================] - 1s 27ms/step - loss: 0.0403 - mean_absolute_error: 0.0403\n",
      "Epoch 67/90\n",
      "27/27 [==============================] - 1s 27ms/step - loss: 0.0403 - mean_absolute_error: 0.0403\n",
      "Epoch 68/90\n",
      "27/27 [==============================] - 1s 28ms/step - loss: 0.0403 - mean_absolute_error: 0.0403\n",
      "Epoch 69/90\n",
      "27/27 [==============================] - 1s 28ms/step - loss: 0.0402 - mean_absolute_error: 0.0402\n",
      "Epoch 70/90\n",
      "27/27 [==============================] - 1s 27ms/step - loss: 0.0402 - mean_absolute_error: 0.0402\n",
      "Epoch 71/90\n",
      "27/27 [==============================] - 1s 28ms/step - loss: 0.0402 - mean_absolute_error: 0.0402\n",
      "Epoch 72/90\n",
      "27/27 [==============================] - 1s 28ms/step - loss: 0.0402 - mean_absolute_error: 0.0402\n",
      "Epoch 73/90\n",
      "27/27 [==============================] - 1s 27ms/step - loss: 0.0403 - mean_absolute_error: 0.0403\n",
      "Epoch 74/90\n"
     ]
    },
    {
     "name": "stdout",
     "output_type": "stream",
     "text": [
      "27/27 [==============================] - 1s 27ms/step - loss: 0.0402 - mean_absolute_error: 0.0402\n",
      "Epoch 75/90\n",
      "27/27 [==============================] - 1s 28ms/step - loss: 0.0402 - mean_absolute_error: 0.0402\n",
      "Epoch 76/90\n",
      "27/27 [==============================] - 1s 28ms/step - loss: 0.0401 - mean_absolute_error: 0.0401\n",
      "Epoch 77/90\n",
      "27/27 [==============================] - 1s 28ms/step - loss: 0.0402 - mean_absolute_error: 0.0402\n",
      "Epoch 78/90\n",
      "27/27 [==============================] - 1s 27ms/step - loss: 0.0402 - mean_absolute_error: 0.0402\n",
      "Epoch 79/90\n",
      "27/27 [==============================] - 1s 28ms/step - loss: 0.0402 - mean_absolute_error: 0.0402\n",
      "Epoch 80/90\n",
      "27/27 [==============================] - 1s 27ms/step - loss: 0.0403 - mean_absolute_error: 0.0403\n",
      "Epoch 81/90\n",
      "27/27 [==============================] - 1s 28ms/step - loss: 0.0402 - mean_absolute_error: 0.0402\n",
      "Epoch 82/90\n",
      "27/27 [==============================] - 1s 28ms/step - loss: 0.0402 - mean_absolute_error: 0.0402\n",
      "Epoch 83/90\n",
      "27/27 [==============================] - 1s 28ms/step - loss: 0.0402 - mean_absolute_error: 0.0402\n",
      "Epoch 84/90\n",
      "27/27 [==============================] - 1s 27ms/step - loss: 0.0402 - mean_absolute_error: 0.0402\n",
      "Epoch 85/90\n",
      "27/27 [==============================] - 1s 27ms/step - loss: 0.0402 - mean_absolute_error: 0.0402\n",
      "Epoch 86/90\n",
      "27/27 [==============================] - 1s 27ms/step - loss: 0.0402 - mean_absolute_error: 0.0402\n",
      "Epoch 87/90\n",
      "27/27 [==============================] - 1s 27ms/step - loss: 0.0402 - mean_absolute_error: 0.0402\n",
      "Epoch 88/90\n",
      "27/27 [==============================] - 1s 27ms/step - loss: 0.0402 - mean_absolute_error: 0.0402\n",
      "Epoch 89/90\n",
      "27/27 [==============================] - 1s 28ms/step - loss: 0.0402 - mean_absolute_error: 0.0402\n",
      "Epoch 90/90\n",
      "27/27 [==============================] - 1s 27ms/step - loss: 0.0402 - mean_absolute_error: 0.0402\n"
     ]
    },
    {
     "data": {
      "text/plain": [
       "<tensorflow.python.keras.callbacks.History at 0x13232926fd0>"
      ]
     },
     "execution_count": 34,
     "metadata": {},
     "output_type": "execute_result"
    }
   ],
   "source": [
    "model.fit_generator(generator,epochs=90)"
   ]
  },
  {
   "cell_type": "code",
   "execution_count": 35,
   "metadata": {},
   "outputs": [
    {
     "data": {
      "text/plain": [
       "[0.043942589312791824, 0.04394259]"
      ]
     },
     "execution_count": 35,
     "metadata": {},
     "output_type": "execute_result"
    }
   ],
   "source": [
    "model.evaluate_generator(validation_sequence)"
   ]
  },
  {
   "cell_type": "code",
   "execution_count": 36,
   "metadata": {
    "scrolled": true
   },
   "outputs": [
    {
     "data": {
      "text/plain": [
       "array([[[0., 0., 0., ..., 0., 0., 0.],\n",
       "        [0., 0., 0., ..., 0., 0., 0.],\n",
       "        [0., 0., 0., ..., 0., 0., 0.],\n",
       "        ...,\n",
       "        [0., 0., 0., ..., 0., 0., 0.],\n",
       "        [0., 0., 0., ..., 0., 0., 0.],\n",
       "        [0., 0., 0., ..., 0., 0., 0.]]])"
      ]
     },
     "execution_count": 36,
     "metadata": {},
     "output_type": "execute_result"
    }
   ],
   "source": [
    "pred_list = []\n",
    "\n",
    "batch = train[-12:].reshape((1, n_input, n_features))\n",
    "batch"
   ]
  },
  {
   "cell_type": "code",
   "execution_count": 37,
   "metadata": {},
   "outputs": [],
   "source": [
    "for i in range(n_input):   \n",
    "    pred_list.append(model.predict(batch)[0]) \n",
    "    batch = np.append(batch[:,1:,:],[[pred_list[i]]],axis=1)\n",
    "\n",
    "pred_list = scaler.inverse_transform(pred_list)\n",
    "\n",
    "# prediksi = (model.predict(batch)[0])"
   ]
  },
  {
   "cell_type": "code",
   "execution_count": 38,
   "metadata": {},
   "outputs": [
    {
     "data": {
      "text/plain": [
       "<matplotlib.image.AxesImage at 0x13230f3c390>"
      ]
     },
     "execution_count": 38,
     "metadata": {},
     "output_type": "execute_result"
    },
    {
     "data": {
      "image/png": "[encoded data removed]",
      "text/plain": [
       "<Figure size 432x288 with 1 Axes>"
      ]
     },
     "metadata": {
      "needs_background": "light"
     },
     "output_type": "display_data"
    }
   ],
   "source": [
    "plt.imshow(pred_list[0].reshape(83,114))"
   ]
  },
  {
   "cell_type": "code",
   "execution_count": 39,
   "metadata": {},
   "outputs": [],
   "source": [
    "train = df\n",
    "test = df[-24:]"
   ]
  },
  {
   "cell_type": "code",
   "execution_count": 40,
   "metadata": {},
   "outputs": [],
   "source": [
    "scaler.fit(train)\n",
    "train = scaler.transform(train)\n",
    "scaler.fit(test)\n",
    "test = scaler.transform(test)"
   ]
  },
  {
   "cell_type": "code",
   "execution_count": 41,
   "metadata": {},
   "outputs": [],
   "source": [
    "n_input = 12\n",
    "n_features = 9462\n",
    "generator = TimeseriesGenerator(train, train, length=n_input, batch_size=12)\n",
    "validation_sequence = TimeseriesGenerator(test, test, length=n_input, batch_size=12)"
   ]
  },
  {
   "cell_type": "code",
   "execution_count": 42,
   "metadata": {
    "scrolled": false
   },
   "outputs": [
    {
     "name": "stdout",
     "output_type": "stream",
     "text": [
      "Epoch 1/90\n",
      "27/27 [==============================] - 1s 28ms/step - loss: 0.0207 - mean_absolute_error: 0.0207\n",
      "Epoch 2/90\n",
      "27/27 [==============================] - 1s 27ms/step - loss: 0.0206 - mean_absolute_error: 0.0206\n",
      "Epoch 3/90\n",
      "27/27 [==============================] - 1s 28ms/step - loss: 0.0206 - mean_absolute_error: 0.0206\n",
      "Epoch 4/90\n",
      "27/27 [==============================] - 1s 29ms/step - loss: 0.0206 - mean_absolute_error: 0.0206\n",
      "Epoch 5/90\n",
      "27/27 [==============================] - 1s 28ms/step - loss: 0.0206 - mean_absolute_error: 0.0206\n",
      "Epoch 6/90\n",
      "27/27 [==============================] - 1s 27ms/step - loss: 0.0206 - mean_absolute_error: 0.0206\n",
      "Epoch 7/90\n",
      "27/27 [==============================] - 1s 28ms/step - loss: 0.0205 - mean_absolute_error: 0.0205\n",
      "Epoch 8/90\n",
      "27/27 [==============================] - 1s 28ms/step - loss: 0.0206 - mean_absolute_error: 0.0206\n",
      "Epoch 9/90\n",
      "27/27 [==============================] - 1s 29ms/step - loss: 0.0206 - mean_absolute_error: 0.0206\n",
      "Epoch 10/90\n",
      "27/27 [==============================] - 1s 27ms/step - loss: 0.0206 - mean_absolute_error: 0.0206\n",
      "Epoch 11/90\n",
      "27/27 [==============================] - 1s 28ms/step - loss: 0.0206 - mean_absolute_error: 0.0206\n",
      "Epoch 12/90\n",
      "27/27 [==============================] - 1s 28ms/step - loss: 0.0205 - mean_absolute_error: 0.0205\n",
      "Epoch 13/90\n",
      "27/27 [==============================] - 1s 28ms/step - loss: 0.0205 - mean_absolute_error: 0.0205\n",
      "Epoch 14/90\n",
      "27/27 [==============================] - 1s 28ms/step - loss: 0.0205 - mean_absolute_error: 0.0205\n",
      "Epoch 15/90\n",
      "27/27 [==============================] - 1s 28ms/step - loss: 0.0206 - mean_absolute_error: 0.0206\n",
      "Epoch 16/90\n",
      "27/27 [==============================] - 1s 27ms/step - loss: 0.0205 - mean_absolute_error: 0.0205\n",
      "Epoch 17/90\n",
      "27/27 [==============================] - 1s 27ms/step - loss: 0.0205 - mean_absolute_error: 0.0205\n",
      "Epoch 18/90\n",
      "27/27 [==============================] - 1s 27ms/step - loss: 0.0205 - mean_absolute_error: 0.0205\n",
      "Epoch 19/90\n",
      "27/27 [==============================] - 1s 27ms/step - loss: 0.0205 - mean_absolute_error: 0.0205\n",
      "Epoch 20/90\n",
      "27/27 [==============================] - 1s 27ms/step - loss: 0.0206 - mean_absolute_error: 0.0206\n",
      "Epoch 21/90\n",
      "27/27 [==============================] - 1s 28ms/step - loss: 0.0206 - mean_absolute_error: 0.0206\n",
      "Epoch 22/90\n",
      "27/27 [==============================] - 1s 27ms/step - loss: 0.0206 - mean_absolute_error: 0.0206\n",
      "Epoch 23/90\n",
      "27/27 [==============================] - 1s 28ms/step - loss: 0.0206 - mean_absolute_error: 0.0206\n",
      "Epoch 24/90\n",
      "27/27 [==============================] - 1s 27ms/step - loss: 0.0205 - mean_absolute_error: 0.0205\n",
      "Epoch 25/90\n",
      "27/27 [==============================] - 1s 28ms/step - loss: 0.0205 - mean_absolute_error: 0.0205\n",
      "Epoch 26/90\n",
      "27/27 [==============================] - 1s 27ms/step - loss: 0.0206 - mean_absolute_error: 0.0206\n",
      "Epoch 27/90\n",
      "27/27 [==============================] - 1s 27ms/step - loss: 0.0206 - mean_absolute_error: 0.0206\n",
      "Epoch 28/90\n",
      "27/27 [==============================] - 1s 27ms/step - loss: 0.0205 - mean_absolute_error: 0.0205\n",
      "Epoch 29/90\n",
      "27/27 [==============================] - 1s 27ms/step - loss: 0.0206 - mean_absolute_error: 0.0206\n",
      "Epoch 30/90\n",
      "27/27 [==============================] - 1s 27ms/step - loss: 0.0205 - mean_absolute_error: 0.0205\n",
      "Epoch 31/90\n",
      "27/27 [==============================] - 1s 28ms/step - loss: 0.0204 - mean_absolute_error: 0.0204\n",
      "Epoch 32/90\n",
      "27/27 [==============================] - 1s 27ms/step - loss: 0.0205 - mean_absolute_error: 0.0205\n",
      "Epoch 33/90\n",
      "27/27 [==============================] - 1s 27ms/step - loss: 0.0205 - mean_absolute_error: 0.0205\n",
      "Epoch 34/90\n",
      "27/27 [==============================] - 1s 28ms/step - loss: 0.0206 - mean_absolute_error: 0.0206\n",
      "Epoch 35/90\n",
      "27/27 [==============================] - 1s 27ms/step - loss: 0.0206 - mean_absolute_error: 0.0206\n",
      "Epoch 36/90\n",
      "27/27 [==============================] - 1s 27ms/step - loss: 0.0205 - mean_absolute_error: 0.0205\n",
      "Epoch 37/90\n",
      "27/27 [==============================] - 1s 29ms/step - loss: 0.0205 - mean_absolute_error: 0.0205\n",
      "Epoch 38/90\n",
      "27/27 [==============================] - 1s 27ms/step - loss: 0.0206 - mean_absolute_error: 0.0206\n",
      "Epoch 39/90\n",
      "27/27 [==============================] - 1s 27ms/step - loss: 0.0206 - mean_absolute_error: 0.0206\n",
      "Epoch 40/90\n",
      "27/27 [==============================] - 1s 28ms/step - loss: 0.0206 - mean_absolute_error: 0.0206\n",
      "Epoch 41/90\n",
      "27/27 [==============================] - 1s 28ms/step - loss: 0.0205 - mean_absolute_error: 0.0205\n",
      "Epoch 42/90\n",
      "27/27 [==============================] - 1s 27ms/step - loss: 0.0206 - mean_absolute_error: 0.0206\n",
      "Epoch 43/90\n",
      "27/27 [==============================] - 1s 29ms/step - loss: 0.0205 - mean_absolute_error: 0.0205\n",
      "Epoch 44/90\n",
      "27/27 [==============================] - 1s 28ms/step - loss: 0.0206 - mean_absolute_error: 0.0206\n",
      "Epoch 45/90\n",
      "27/27 [==============================] - 1s 28ms/step - loss: 0.0205 - mean_absolute_error: 0.0205\n",
      "Epoch 46/90\n",
      "27/27 [==============================] - 1s 28ms/step - loss: 0.0205 - mean_absolute_error: 0.0205\n",
      "Epoch 47/90\n",
      "27/27 [==============================] - 1s 28ms/step - loss: 0.0205 - mean_absolute_error: 0.0205\n",
      "Epoch 48/90\n",
      "27/27 [==============================] - 1s 28ms/step - loss: 0.0205 - mean_absolute_error: 0.0205\n",
      "Epoch 49/90\n",
      "27/27 [==============================] - 1s 27ms/step - loss: 0.0205 - mean_absolute_error: 0.0205\n",
      "Epoch 50/90\n",
      "27/27 [==============================] - 1s 27ms/step - loss: 0.0206 - mean_absolute_error: 0.0206\n",
      "Epoch 51/90\n",
      "27/27 [==============================] - 1s 29ms/step - loss: 0.0205 - mean_absolute_error: 0.0205\n",
      "Epoch 52/90\n",
      "27/27 [==============================] - 1s 27ms/step - loss: 0.0205 - mean_absolute_error: 0.0205\n",
      "Epoch 53/90\n",
      "27/27 [==============================] - 1s 28ms/step - loss: 0.0205 - mean_absolute_error: 0.0205\n",
      "Epoch 54/90\n",
      "27/27 [==============================] - 1s 27ms/step - loss: 0.0206 - mean_absolute_error: 0.0206\n",
      "Epoch 55/90\n",
      "27/27 [==============================] - 1s 27ms/step - loss: 0.0205 - mean_absolute_error: 0.0205\n",
      "Epoch 56/90\n",
      "27/27 [==============================] - 1s 27ms/step - loss: 0.0205 - mean_absolute_error: 0.0205\n",
      "Epoch 57/90\n",
      "27/27 [==============================] - 1s 28ms/step - loss: 0.0205 - mean_absolute_error: 0.0205\n",
      "Epoch 58/90\n",
      "27/27 [==============================] - 1s 29ms/step - loss: 0.0205 - mean_absolute_error: 0.0205\n",
      "Epoch 59/90\n",
      "27/27 [==============================] - 1s 28ms/step - loss: 0.0206 - mean_absolute_error: 0.0206\n",
      "Epoch 60/90\n",
      "27/27 [==============================] - 1s 27ms/step - loss: 0.0204 - mean_absolute_error: 0.0204\n",
      "Epoch 61/90\n",
      "27/27 [==============================] - 1s 28ms/step - loss: 0.0205 - mean_absolute_error: 0.0205\n",
      "Epoch 62/90\n",
      "27/27 [==============================] - 1s 28ms/step - loss: 0.0205 - mean_absolute_error: 0.0205\n",
      "Epoch 63/90\n",
      "27/27 [==============================] - 1s 27ms/step - loss: 0.0205 - mean_absolute_error: 0.0205\n",
      "Epoch 64/90\n",
      "27/27 [==============================] - 1s 28ms/step - loss: 0.0205 - mean_absolute_error: 0.0205\n",
      "Epoch 65/90\n",
      "27/27 [==============================] - 1s 28ms/step - loss: 0.0205 - mean_absolute_error: 0.0205\n",
      "Epoch 66/90\n",
      "27/27 [==============================] - 1s 28ms/step - loss: 0.0204 - mean_absolute_error: 0.0204\n",
      "Epoch 67/90\n",
      "27/27 [==============================] - 1s 28ms/step - loss: 0.0205 - mean_absolute_error: 0.0205\n",
      "Epoch 68/90\n",
      "27/27 [==============================] - 1s 26ms/step - loss: 0.0205 - mean_absolute_error: 0.0205\n",
      "Epoch 69/90\n",
      "27/27 [==============================] - 1s 29ms/step - loss: 0.0205 - mean_absolute_error: 0.0205\n",
      "Epoch 70/90\n",
      "27/27 [==============================] - 1s 28ms/step - loss: 0.0205 - mean_absolute_error: 0.0205\n",
      "Epoch 71/90\n",
      "27/27 [==============================] - 1s 28ms/step - loss: 0.0205 - mean_absolute_error: 0.0205\n",
      "Epoch 72/90\n",
      "27/27 [==============================] - 1s 27ms/step - loss: 0.0205 - mean_absolute_error: 0.0205\n",
      "Epoch 73/90\n",
      "27/27 [==============================] - 1s 28ms/step - loss: 0.0205 - mean_absolute_error: 0.0205\n",
      "Epoch 74/90\n"
     ]
    },
    {
     "name": "stdout",
     "output_type": "stream",
     "text": [
      "27/27 [==============================] - 1s 27ms/step - loss: 0.0205 - mean_absolute_error: 0.0205\n",
      "Epoch 75/90\n",
      "27/27 [==============================] - 1s 28ms/step - loss: 0.0205 - mean_absolute_error: 0.0205\n",
      "Epoch 76/90\n",
      "27/27 [==============================] - 1s 27ms/step - loss: 0.0205 - mean_absolute_error: 0.0205\n",
      "Epoch 77/90\n",
      "27/27 [==============================] - 1s 28ms/step - loss: 0.0205 - mean_absolute_error: 0.0205\n",
      "Epoch 78/90\n",
      "27/27 [==============================] - 1s 29ms/step - loss: 0.0205 - mean_absolute_error: 0.0205\n",
      "Epoch 79/90\n",
      "27/27 [==============================] - 1s 28ms/step - loss: 0.0205 - mean_absolute_error: 0.0205\n",
      "Epoch 80/90\n",
      "27/27 [==============================] - 1s 27ms/step - loss: 0.0205 - mean_absolute_error: 0.0205\n",
      "Epoch 81/90\n",
      "27/27 [==============================] - 1s 28ms/step - loss: 0.0205 - mean_absolute_error: 0.0205\n",
      "Epoch 82/90\n",
      "27/27 [==============================] - 1s 28ms/step - loss: 0.0205 - mean_absolute_error: 0.0205\n",
      "Epoch 83/90\n",
      "27/27 [==============================] - 1s 28ms/step - loss: 0.0205 - mean_absolute_error: 0.0205\n",
      "Epoch 84/90\n",
      "27/27 [==============================] - 1s 27ms/step - loss: 0.0205 - mean_absolute_error: 0.0205\n",
      "Epoch 85/90\n",
      "27/27 [==============================] - 1s 27ms/step - loss: 0.0204 - mean_absolute_error: 0.0204\n",
      "Epoch 86/90\n",
      "27/27 [==============================] - 1s 28ms/step - loss: 0.0205 - mean_absolute_error: 0.0205\n",
      "Epoch 87/90\n",
      "27/27 [==============================] - 1s 28ms/step - loss: 0.0205 - mean_absolute_error: 0.0205\n",
      "Epoch 88/90\n",
      "27/27 [==============================] - 1s 28ms/step - loss: 0.0205 - mean_absolute_error: 0.0205\n",
      "Epoch 89/90\n",
      "27/27 [==============================] - 1s 28ms/step - loss: 0.0205 - mean_absolute_error: 0.0205\n",
      "Epoch 90/90\n",
      "27/27 [==============================] - 1s 29ms/step - loss: 0.0205 - mean_absolute_error: 0.0205\n"
     ]
    },
    {
     "data": {
      "text/plain": [
       "<tensorflow.python.keras.callbacks.History at 0x132324dca20>"
      ]
     },
     "execution_count": 42,
     "metadata": {},
     "output_type": "execute_result"
    }
   ],
   "source": [
    "model.fit_generator(generator,epochs=90)"
   ]
  },
  {
   "cell_type": "code",
   "execution_count": 43,
   "metadata": {},
   "outputs": [
    {
     "data": {
      "text/plain": [
       "[0.044029589742422104, 0.04402959]"
      ]
     },
     "execution_count": 43,
     "metadata": {},
     "output_type": "execute_result"
    }
   ],
   "source": [
    "model.evaluate_generator(validation_sequence)"
   ]
  },
  {
   "cell_type": "code",
   "execution_count": 44,
   "metadata": {},
   "outputs": [],
   "source": [
    "pred_list = []\n",
    "\n",
    "batch = data_4[-60:-48].reshape((1, n_input, n_features))\n",
    "\n",
    "for i in range(n_input):   \n",
    "    pred_list.append(model.predict(batch)[0]) \n",
    "    batch = np.append(batch[:,1:,:],[[pred_list[i]]],axis=1)\n",
    "    \n",
    "batch1 = data_4[-48:-36].reshape((1, n_input, n_features))\n",
    "\n",
    "for i in range(n_input):   \n",
    "    pred_list.append(model.predict(batch1)[0]) \n",
    "    batch1 = np.append(batch1[:,1:,:],[[pred_list[i]]],axis=1)\n",
    "    \n",
    "batch2 = data_4[-36:-24].reshape((1, n_input, n_features))\n",
    "\n",
    "for i in range(n_input):   \n",
    "    pred_list.append(model.predict(batch2)[0]) \n",
    "    batch2 = np.append(batch2[:,1:,:],[[pred_list[i]]],axis=1)\n",
    "    \n",
    "# data tahun 2014 untuk memprediksi tahun 2015\n",
    "batch3 = data_4[-24:-12].reshape((1, n_input, n_features))\n",
    "\n",
    "for i in range(n_input):   \n",
    "    pred_list.append(model.predict(batch3)[0]) \n",
    "    batch3 = np.append(batch3[:,1:,:],[[pred_list[i]]],axis=1)\n",
    "\n",
    "# data tahun 2015 untuk memprediksi tahun 2016\n",
    "batch4 = data_4[-12:].reshape((1, n_input, n_features))\n",
    "\n",
    "for i in range(n_input):   \n",
    "    pred_list.append(model.predict(batch4)[0]) \n",
    "    batch4 = np.append(batch4[:,1:,:],[[pred_list[i]]],axis=1)"
   ]
  },
  {
   "cell_type": "code",
   "execution_count": 45,
   "metadata": {},
   "outputs": [
    {
     "data": {
      "text/plain": [
       "array([[[2.40576483e-05, 2.42677488e-05, 2.47552525e-05, ...,\n",
       "         2.40054851e-05, 2.43321265e-05, 2.52354530e-05],\n",
       "        [2.40576483e-05, 2.42677488e-05, 2.47552525e-05, ...,\n",
       "         2.40054851e-05, 2.43321265e-05, 2.52354530e-05],\n",
       "        [2.40576483e-05, 2.42677488e-05, 2.47552525e-05, ...,\n",
       "         2.40054851e-05, 2.43321265e-05, 2.52354530e-05],\n",
       "        ...,\n",
       "        [2.46414165e-05, 2.48540582e-05, 2.53517410e-05, ...,\n",
       "         2.45879437e-05, 2.49185159e-05, 2.58446707e-05],\n",
       "        [2.46464460e-05, 2.48590586e-05, 2.53568178e-05, ...,\n",
       "         2.45930096e-05, 2.49236000e-05, 2.58499222e-05],\n",
       "        [2.45891861e-05, 2.48015185e-05, 2.52983173e-05, ...,\n",
       "         2.45358042e-05, 2.48660290e-05, 2.57901374e-05]]])"
      ]
     },
     "execution_count": 45,
     "metadata": {},
     "output_type": "execute_result"
    }
   ],
   "source": [
    "batch"
   ]
  },
  {
   "cell_type": "code",
   "execution_count": 46,
   "metadata": {},
   "outputs": [
    {
     "data": {
      "text/plain": [
       "array([[2.40576483e-05, 2.42677488e-05, 2.47552525e-05, ...,\n",
       "        2.40054851e-05, 2.43321265e-05, 2.52354530e-05],\n",
       "       [2.40576483e-05, 2.42677488e-05, 2.47552525e-05, ...,\n",
       "        2.40054851e-05, 2.43321265e-05, 2.52354530e-05],\n",
       "       [2.40576483e-05, 2.42677488e-05, 2.47552525e-05, ...,\n",
       "        2.40054851e-05, 2.43321265e-05, 2.52354530e-05],\n",
       "       ...,\n",
       "       [2.40576701e-05, 2.42677488e-05, 2.47552525e-05, ...,\n",
       "        2.40055087e-05, 2.43321483e-05, 2.52355003e-05],\n",
       "       [2.40576483e-05, 2.42677488e-05, 2.47552525e-05, ...,\n",
       "        2.40054851e-05, 2.43321483e-05, 2.52354530e-05],\n",
       "       [2.40576483e-05, 2.42677488e-05, 2.47552525e-05, ...,\n",
       "        2.40054851e-05, 2.43321265e-05, 2.52354530e-05]])"
      ]
     },
     "execution_count": 46,
     "metadata": {},
     "output_type": "execute_result"
    }
   ],
   "source": [
    "pred_list = scaler.inverse_transform(pred_list)\n",
    "pred_list"
   ]
  },
  {
   "cell_type": "code",
   "execution_count": 50,
   "metadata": {},
   "outputs": [],
   "source": [
    "units = int(int(model.layers[0].trainable_weights[0].shape[1])/4)\n",
    "W = model.layers[0].get_weights()[0]\n",
    "U = model.layers[0].get_weights()[1]\n",
    "b = model.layers[0].get_weights()[2]\n",
    "\n",
    "W_i = W[:, :units]\n",
    "W_f = W[:, units: units * 2]\n",
    "W_c = W[:, units * 2: units * 3]\n",
    "W_o = W[:, units * 3:]\n",
    "\n",
    "U_i = U[:, :units]\n",
    "U_f = U[:, units: units * 2]\n",
    "U_c = U[:, units * 2: units * 3]\n",
    "U_o = U[:, units * 3:]\n",
    "\n",
    "b_i = b[:units]\n",
    "b_f = b[units: units * 2]\n",
    "b_c = b[units * 2: units * 3]\n",
    "b_o = b[units * 3:]"
   ]
  },
  {
   "cell_type": "code",
   "execution_count": 51,
   "metadata": {},
   "outputs": [
    {
     "name": "stdout",
     "output_type": "stream",
     "text": [
      "No units:  20\n"
     ]
    }
   ],
   "source": [
    "print(\"No units: \", units)"
   ]
  },
  {
   "cell_type": "code",
   "execution_count": 52,
   "metadata": {},
   "outputs": [
    {
     "data": {
      "text/plain": [
       "array([[-0.04056591,  0.07422994,  0.00326647, ..., -0.0012653 ,\n",
       "        -0.01323149,  0.07664069],\n",
       "       [ 0.06646907, -0.05866835,  0.00157723, ..., -0.0142831 ,\n",
       "         0.01344127,  0.08731055],\n",
       "       [-0.06579509,  0.01876621,  0.00887792, ...,  0.01812011,\n",
       "        -0.13834536,  0.09903961],\n",
       "       ...,\n",
       "       [-0.01432676, -0.01135174,  0.07500387, ..., -0.08752035,\n",
       "         0.00950309,  0.05051601],\n",
       "       [ 0.00534822,  0.0090141 , -0.0639431 , ..., -0.00190198,\n",
       "        -0.1222081 , -0.01742942],\n",
       "       [-0.03991544,  0.01540577,  0.08580473, ..., -0.02138927,\n",
       "        -0.01522709,  0.12997515]], dtype=float32)"
      ]
     },
     "execution_count": 52,
     "metadata": {},
     "output_type": "execute_result"
    }
   ],
   "source": [
    "W_i"
   ]
  },
  {
   "cell_type": "code",
   "execution_count": 55,
   "metadata": {},
   "outputs": [],
   "source": [
    "import pandas as pd\n",
    "\n",
    "f= open(\"W_i.txt\",\"w+\")\n",
    "for i in range(9462):\n",
    "    for j in range(1):\n",
    "        f.write(str(W_i))\n",
    "    f.write('\\r\\n')\n",
    "        \n",
    "f.close()"
   ]
  },
  {
   "cell_type": "code",
   "execution_count": 56,
   "metadata": {},
   "outputs": [
    {
     "data": {
      "text/plain": [
       "<_io.TextIOWrapper name='W_i.txt' mode='w+' encoding='cp1252'>"
      ]
     },
     "execution_count": 56,
     "metadata": {},
     "output_type": "execute_result"
    }
   ],
   "source": [
    "f= open(\"W_i.txt\",\"w+\")\n",
    "f"
   ]
  }
 ],
 "metadata": {
  "kernelspec": {
   "display_name": "Python 3",
   "language": "python",
   "name": "python3"
  },
  "language_info": {
   "codemirror_mode": {
    "name": "ipython",
    "version": 3
   },
   "file_extension": ".py",
   "mimetype": "text/x-python",
   "name": "python",
   "nbconvert_exporter": "python",
   "pygments_lexer": "ipython3",
   "version": "3.7.3"
  }
 },
 "nbformat": 4,
 "nbformat_minor": 2
}
