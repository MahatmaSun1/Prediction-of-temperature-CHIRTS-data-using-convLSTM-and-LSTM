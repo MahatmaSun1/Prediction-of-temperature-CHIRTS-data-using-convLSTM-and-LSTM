{
 "cells": [
  {
   "cell_type": "code",
   "execution_count": 85,
   "metadata": {},
   "outputs": [],
   "source": [
    "import numpy as np\n",
    "import pandas as pd\n",
    "import matplotlib.pyplot as plt\n",
    "%matplotlib inline\n",
    "from sklearn.preprocessing import MinMaxScaler\n",
    "from tensorflow.keras.preprocessing.sequence import TimeseriesGenerator\n",
    "from tensorflow.keras.models import Sequential\n",
    "from tensorflow.keras.layers import Dense\n",
    "from tensorflow.keras.layers import LSTM\n",
    "from tensorflow.keras.layers import Dropout, Embedding, TimeDistributed\n",
    "from keras.initializers import RandomNormal\n",
    "# from keras.layers import Conv1D, MaxPooling2D\n",
    "import warnings\n",
    "import pickle\n",
    "warnings.filterwarnings(\"ignore\")"
   ]
  },
  {
   "cell_type": "code",
   "execution_count": 86,
   "metadata": {},
   "outputs": [
    {
     "data": {
      "text/plain": [
       "<matplotlib.image.AxesImage at 0x2465982f0f0>"
      ]
     },
     "execution_count": 86,
     "metadata": {},
     "output_type": "execute_result"
    },
    {
     "data": {
      "image/png": "[encoded data removed]",
      "text/plain": [
       "<Figure size 432x288 with 1 Axes>"
      ]
     },
     "metadata": {
      "needs_background": "light"
     },
     "output_type": "display_data"
    }
   ],
   "source": [
    "pickle_in = open(\"../Data_error/error_flatten.pickle\",\"rb\")\n",
    "# data diload sudah dalam bentuk 1D\n",
    "X = pickle.load(pickle_in)\n",
    "# untuk menampilkan gambar data 1D -> 2D\n",
    "plt.imshow(X[0].reshape(83,114))"
   ]
  },
  {
   "cell_type": "code",
   "execution_count": 87,
   "metadata": {},
   "outputs": [
    {
     "data": {
      "text/plain": [
       "(396, 9462)"
      ]
     },
     "execution_count": 87,
     "metadata": {},
     "output_type": "execute_result"
    }
   ],
   "source": [
    "np.array(X).shape"
   ]
  },
  {
   "cell_type": "code",
   "execution_count": 88,
   "metadata": {},
   "outputs": [],
   "source": [
    "df = X\n",
    "data_1 = df[:-48]\n",
    "data_2 = df[:-36]\n",
    "data_3 = df[:-24]\n",
    "data_4 = df[:-12]\n",
    "data_5 = df\n",
    "# data tahun 1983-2011\n",
    "df=df[:-60]"
   ]
  },
  {
   "cell_type": "code",
   "execution_count": 89,
   "metadata": {},
   "outputs": [],
   "source": [
    "# train -> data 1983-2011\n",
    "train, test = df[-120:], df[-24:]"
   ]
  },
  {
   "cell_type": "code",
   "execution_count": 90,
   "metadata": {},
   "outputs": [
    {
     "data": {
      "text/plain": [
       "10.0"
      ]
     },
     "execution_count": 90,
     "metadata": {},
     "output_type": "execute_result"
    }
   ],
   "source": [
    "np.array(train).shape[0]/12"
   ]
  },
  {
   "cell_type": "code",
   "execution_count": 91,
   "metadata": {},
   "outputs": [],
   "source": [
    "scaler = MinMaxScaler()\n",
    "scaler.fit(train)\n",
    "scaler.fit(data_4)\n",
    "scaler.fit(test)\n",
    "train = scaler.transform(train)\n",
    "data_4 = scaler.transform(data_4)\n",
    "test = scaler.transform(test)"
   ]
  },
  {
   "cell_type": "code",
   "execution_count": 92,
   "metadata": {},
   "outputs": [],
   "source": [
    "n_input = 12\n",
    "n_features = 9462\n",
    "batch_size=12\n",
    "# supervised data\n",
    "generator = TimeseriesGenerator(train, train, length=n_input, batch_size=batch_size)\n",
    "validation_sequence = TimeseriesGenerator(test, test, length=n_input, batch_size=batch_size)"
   ]
  },
  {
   "cell_type": "code",
   "execution_count": 93,
   "metadata": {},
   "outputs": [],
   "source": [
    "import tensorflow.compat.v1 as tf\n",
    "tf.disable_v2_behavior()\n",
    "model = Sequential()\n",
    "model.add(LSTM(10, activation='relu', kernel_initializer=RandomNormal(mean=0.0, stddev=0.05, seed=1), unit_forget_bias='zeros', input_shape=(n_input, n_features), return_sequences=True))\n",
    "model.add(LSTM(20, activation='relu', kernel_initializer=RandomNormal(mean=0.0, stddev=0.05, seed=1), unit_forget_bias='zeros', return_sequences=True))\n",
    "model.add(Dropout(0.2))\n",
    "model.add(LSTM(30, activation='relu', kernel_initializer=RandomNormal(mean=0.0, stddev=0.05, seed=1), unit_forget_bias='zeros', return_sequences=False))\n",
    "model.add(Dropout(0.2))\n",
    "model.add(Dense(40, activation='sigmoid', kernel_initializer=RandomNormal(mean=0.0, stddev=0.05, seed=1)))\n",
    "model.add(Dropout(0.2))\n",
    "model.add(Dense(50, activation='sigmoid', kernel_initializer=RandomNormal(mean=0.0, stddev=0.05, seed=1)))\n",
    "model.add(Dropout(0.2))\n",
    "model.add(Dense(60, activation='sigmoid', kernel_initializer=RandomNormal(mean=0.0, stddev=0.05, seed=1)))\n",
    "model.add(Dropout(0.2))\n",
    "model.add(Dense(n_features, activation='sigmoid', kernel_initializer=RandomNormal(mean=0.0, stddev=0.05, seed=1)))\n",
    "model.compile(optimizer='adam', loss='mae', metrics=['mae'])"
   ]
  },
  {
   "cell_type": "code",
   "execution_count": 94,
   "metadata": {},
   "outputs": [
    {
     "name": "stdout",
     "output_type": "stream",
     "text": [
      "Model: \"sequential_3\"\n",
      "_________________________________________________________________\n",
      "Layer (type)                 Output Shape              Param #   \n",
      "=================================================================\n",
      "lstm_9 (LSTM)                (None, 12, 10)            378920    \n",
      "_________________________________________________________________\n",
      "lstm_10 (LSTM)               (None, 12, 20)            2480      \n",
      "_________________________________________________________________\n",
      "dropout_15 (Dropout)         (None, 12, 20)            0         \n",
      "_________________________________________________________________\n",
      "lstm_11 (LSTM)               (None, 30)                6120      \n",
      "_________________________________________________________________\n",
      "dropout_16 (Dropout)         (None, 30)                0         \n",
      "_________________________________________________________________\n",
      "dense_12 (Dense)             (None, 40)                1240      \n",
      "_________________________________________________________________\n",
      "dropout_17 (Dropout)         (None, 40)                0         \n",
      "_________________________________________________________________\n",
      "dense_13 (Dense)             (None, 50)                2050      \n",
      "_________________________________________________________________\n",
      "dropout_18 (Dropout)         (None, 50)                0         \n",
      "_________________________________________________________________\n",
      "dense_14 (Dense)             (None, 60)                3060      \n",
      "_________________________________________________________________\n",
      "dropout_19 (Dropout)         (None, 60)                0         \n",
      "_________________________________________________________________\n",
      "dense_15 (Dense)             (None, 9462)              577182    \n",
      "=================================================================\n",
      "Total params: 971,052\n",
      "Trainable params: 971,052\n",
      "Non-trainable params: 0\n",
      "_________________________________________________________________\n"
     ]
    }
   ],
   "source": [
    "model.summary()"
   ]
  },
  {
   "cell_type": "code",
   "execution_count": 95,
   "metadata": {},
   "outputs": [
    {
     "name": "stdout",
     "output_type": "stream",
     "text": [
      "Epoch 1/90\n",
      "9/9 [==============================] - 2s 271ms/step - loss: 0.4534 - mean_absolute_error: 0.4534\n",
      "Epoch 2/90\n",
      "9/9 [==============================] - 0s 33ms/step - loss: 0.3868 - mean_absolute_error: 0.3868\n",
      "Epoch 3/90\n",
      "9/9 [==============================] - 0s 32ms/step - loss: 0.3076 - mean_absolute_error: 0.3076\n",
      "Epoch 4/90\n",
      "9/9 [==============================] - 0s 34ms/step - loss: 0.2259 - mean_absolute_error: 0.2259\n",
      "Epoch 5/90\n",
      "9/9 [==============================] - 0s 32ms/step - loss: 0.1602 - mean_absolute_error: 0.1602\n",
      "Epoch 6/90\n",
      "9/9 [==============================] - 0s 34ms/step - loss: 0.1112 - mean_absolute_error: 0.1112\n",
      "Epoch 7/90\n",
      "9/9 [==============================] - 0s 33ms/step - loss: 0.0853 - mean_absolute_error: 0.0853\n",
      "Epoch 8/90\n",
      "9/9 [==============================] - 0s 34ms/step - loss: 0.0694 - mean_absolute_error: 0.0694\n",
      "Epoch 9/90\n",
      "9/9 [==============================] - 0s 33ms/step - loss: 0.0637 - mean_absolute_error: 0.0637\n",
      "Epoch 10/90\n",
      "9/9 [==============================] - 0s 36ms/step - loss: 0.0578 - mean_absolute_error: 0.0578\n",
      "Epoch 11/90\n",
      "9/9 [==============================] - 0s 32ms/step - loss: 0.0537 - mean_absolute_error: 0.0537\n",
      "Epoch 12/90\n",
      "9/9 [==============================] - 0s 35ms/step - loss: 0.0514 - mean_absolute_error: 0.0514\n",
      "Epoch 13/90\n",
      "9/9 [==============================] - 0s 33ms/step - loss: 0.0495 - mean_absolute_error: 0.0495\n",
      "Epoch 14/90\n",
      "9/9 [==============================] - 0s 33ms/step - loss: 0.0491 - mean_absolute_error: 0.0491\n",
      "Epoch 15/90\n",
      "9/9 [==============================] - 0s 34ms/step - loss: 0.0472 - mean_absolute_error: 0.0472\n",
      "Epoch 16/90\n",
      "9/9 [==============================] - 0s 33ms/step - loss: 0.0460 - mean_absolute_error: 0.0460\n",
      "Epoch 17/90\n",
      "9/9 [==============================] - 0s 35ms/step - loss: 0.0448 - mean_absolute_error: 0.0448\n",
      "Epoch 18/90\n",
      "9/9 [==============================] - 0s 32ms/step - loss: 0.0444 - mean_absolute_error: 0.0444\n",
      "Epoch 19/90\n",
      "9/9 [==============================] - 0s 35ms/step - loss: 0.0433 - mean_absolute_error: 0.0433\n",
      "Epoch 20/90\n",
      "9/9 [==============================] - 0s 33ms/step - loss: 0.0426 - mean_absolute_error: 0.0426\n",
      "Epoch 21/90\n",
      "9/9 [==============================] - 0s 35ms/step - loss: 0.0422 - mean_absolute_error: 0.0422\n",
      "Epoch 22/90\n",
      "9/9 [==============================] - 0s 32ms/step - loss: 0.0414 - mean_absolute_error: 0.0414\n",
      "Epoch 23/90\n",
      "9/9 [==============================] - 0s 34ms/step - loss: 0.0411 - mean_absolute_error: 0.0411\n",
      "Epoch 24/90\n",
      "9/9 [==============================] - 0s 34ms/step - loss: 0.0416 - mean_absolute_error: 0.0416\n",
      "Epoch 25/90\n",
      "9/9 [==============================] - 0s 33ms/step - loss: 0.0411 - mean_absolute_error: 0.0411\n",
      "Epoch 26/90\n",
      "9/9 [==============================] - 0s 34ms/step - loss: 0.0402 - mean_absolute_error: 0.0402\n",
      "Epoch 27/90\n",
      "9/9 [==============================] - 0s 33ms/step - loss: 0.0398 - mean_absolute_error: 0.0398\n",
      "Epoch 28/90\n",
      "9/9 [==============================] - 0s 35ms/step - loss: 0.0400 - mean_absolute_error: 0.0400\n",
      "Epoch 29/90\n",
      "9/9 [==============================] - 0s 33ms/step - loss: 0.0395 - mean_absolute_error: 0.0395\n",
      "Epoch 30/90\n",
      "9/9 [==============================] - 0s 35ms/step - loss: 0.0392 - mean_absolute_error: 0.0392\n",
      "Epoch 31/90\n",
      "9/9 [==============================] - 0s 32ms/step - loss: 0.0389 - mean_absolute_error: 0.0389\n",
      "Epoch 32/90\n",
      "9/9 [==============================] - 0s 35ms/step - loss: 0.0384 - mean_absolute_error: 0.0384\n",
      "Epoch 33/90\n",
      "9/9 [==============================] - 0s 33ms/step - loss: 0.0386 - mean_absolute_error: 0.0386\n",
      "Epoch 34/90\n",
      "9/9 [==============================] - 0s 34ms/step - loss: 0.0383 - mean_absolute_error: 0.0383\n",
      "Epoch 35/90\n",
      "9/9 [==============================] - 0s 34ms/step - loss: 0.0386 - mean_absolute_error: 0.0386\n",
      "Epoch 36/90\n",
      "9/9 [==============================] - 0s 33ms/step - loss: 0.0382 - mean_absolute_error: 0.0382\n",
      "Epoch 37/90\n",
      "9/9 [==============================] - 0s 35ms/step - loss: 0.0382 - mean_absolute_error: 0.0382\n",
      "Epoch 38/90\n",
      "9/9 [==============================] - 0s 32ms/step - loss: 0.0379 - mean_absolute_error: 0.0379\n",
      "Epoch 39/90\n",
      "9/9 [==============================] - 0s 36ms/step - loss: 0.0379 - mean_absolute_error: 0.0379\n",
      "Epoch 40/90\n",
      "9/9 [==============================] - 0s 32ms/step - loss: 0.0379 - mean_absolute_error: 0.0379\n",
      "Epoch 41/90\n",
      "9/9 [==============================] - 0s 34ms/step - loss: 0.0376 - mean_absolute_error: 0.0376\n",
      "Epoch 42/90\n",
      "9/9 [==============================] - 0s 32ms/step - loss: 0.0376 - mean_absolute_error: 0.0376\n",
      "Epoch 43/90\n",
      "9/9 [==============================] - 0s 35ms/step - loss: 0.0375 - mean_absolute_error: 0.0375\n",
      "Epoch 44/90\n",
      "9/9 [==============================] - 0s 33ms/step - loss: 0.0373 - mean_absolute_error: 0.0373\n",
      "Epoch 45/90\n",
      "9/9 [==============================] - 0s 35ms/step - loss: 0.0372 - mean_absolute_error: 0.0372\n",
      "Epoch 46/90\n",
      "9/9 [==============================] - 0s 33ms/step - loss: 0.0370 - mean_absolute_error: 0.0370\n",
      "Epoch 47/90\n",
      "9/9 [==============================] - 0s 33ms/step - loss: 0.0372 - mean_absolute_error: 0.0372\n",
      "Epoch 48/90\n",
      "9/9 [==============================] - 0s 35ms/step - loss: 0.0371 - mean_absolute_error: 0.0371\n",
      "Epoch 49/90\n",
      "9/9 [==============================] - 0s 33ms/step - loss: 0.0371 - mean_absolute_error: 0.0371\n",
      "Epoch 50/90\n",
      "9/9 [==============================] - 0s 35ms/step - loss: 0.0372 - mean_absolute_error: 0.0372\n",
      "Epoch 51/90\n",
      "9/9 [==============================] - 0s 32ms/step - loss: 0.0368 - mean_absolute_error: 0.0368\n",
      "Epoch 52/90\n",
      "9/9 [==============================] - 0s 35ms/step - loss: 0.0370 - mean_absolute_error: 0.0370\n",
      "Epoch 53/90\n",
      "9/9 [==============================] - 0s 32ms/step - loss: 0.0368 - mean_absolute_error: 0.0368\n",
      "Epoch 54/90\n",
      "9/9 [==============================] - 0s 35ms/step - loss: 0.0367 - mean_absolute_error: 0.0367\n",
      "Epoch 55/90\n",
      "9/9 [==============================] - 0s 32ms/step - loss: 0.0369 - mean_absolute_error: 0.0369\n",
      "Epoch 56/90\n",
      "9/9 [==============================] - 0s 36ms/step - loss: 0.0368 - mean_absolute_error: 0.0368\n",
      "Epoch 57/90\n",
      "9/9 [==============================] - 0s 33ms/step - loss: 0.0365 - mean_absolute_error: 0.0365\n",
      "Epoch 58/90\n",
      "9/9 [==============================] - 0s 33ms/step - loss: 0.0365 - mean_absolute_error: 0.0365\n",
      "Epoch 59/90\n",
      "9/9 [==============================] - 0s 35ms/step - loss: 0.0366 - mean_absolute_error: 0.0366\n",
      "Epoch 60/90\n",
      "9/9 [==============================] - 0s 33ms/step - loss: 0.0364 - mean_absolute_error: 0.0364\n",
      "Epoch 61/90\n",
      "9/9 [==============================] - 0s 34ms/step - loss: 0.0365 - mean_absolute_error: 0.0365\n",
      "Epoch 62/90\n",
      "9/9 [==============================] - 0s 33ms/step - loss: 0.0364 - mean_absolute_error: 0.0364\n",
      "Epoch 63/90\n",
      "9/9 [==============================] - 0s 34ms/step - loss: 0.0364 - mean_absolute_error: 0.0364\n",
      "Epoch 64/90\n",
      "9/9 [==============================] - 0s 33ms/step - loss: 0.0365 - mean_absolute_error: 0.0365\n",
      "Epoch 65/90\n",
      "9/9 [==============================] - 0s 35ms/step - loss: 0.0364 - mean_absolute_error: 0.0364\n",
      "Epoch 66/90\n",
      "9/9 [==============================] - 0s 33ms/step - loss: 0.0364 - mean_absolute_error: 0.0364\n",
      "Epoch 67/90\n",
      "9/9 [==============================] - 0s 34ms/step - loss: 0.0362 - mean_absolute_error: 0.0362\n",
      "Epoch 68/90\n",
      "9/9 [==============================] - 0s 33ms/step - loss: 0.0362 - mean_absolute_error: 0.0362\n",
      "Epoch 69/90\n",
      "9/9 [==============================] - 0s 33ms/step - loss: 0.0364 - mean_absolute_error: 0.0364\n",
      "Epoch 70/90\n",
      "9/9 [==============================] - 0s 34ms/step - loss: 0.0361 - mean_absolute_error: 0.0361\n",
      "Epoch 71/90\n",
      "9/9 [==============================] - 0s 33ms/step - loss: 0.0360 - mean_absolute_error: 0.0360\n",
      "Epoch 72/90\n",
      "9/9 [==============================] - 0s 33ms/step - loss: 0.0362 - mean_absolute_error: 0.0362\n",
      "Epoch 73/90\n",
      "9/9 [==============================] - 0s 34ms/step - loss: 0.0360 - mean_absolute_error: 0.0360\n",
      "Epoch 74/90\n",
      "9/9 [==============================] - 0s 35ms/step - loss: 0.0361 - mean_absolute_error: 0.0361\n",
      "Epoch 75/90\n",
      "9/9 [==============================] - 0s 32ms/step - loss: 0.0360 - mean_absolute_error: 0.0360\n",
      "Epoch 76/90\n"
     ]
    },
    {
     "name": "stdout",
     "output_type": "stream",
     "text": [
      "9/9 [==============================] - 0s 35ms/step - loss: 0.0362 - mean_absolute_error: 0.0362\n",
      "Epoch 77/90\n",
      "9/9 [==============================] - 0s 33ms/step - loss: 0.0360 - mean_absolute_error: 0.0360\n",
      "Epoch 78/90\n",
      "9/9 [==============================] - 0s 34ms/step - loss: 0.0360 - mean_absolute_error: 0.0360\n",
      "Epoch 79/90\n",
      "9/9 [==============================] - 0s 34ms/step - loss: 0.0360 - mean_absolute_error: 0.0360\n",
      "Epoch 80/90\n",
      "9/9 [==============================] - 0s 32ms/step - loss: 0.0360 - mean_absolute_error: 0.0360\n",
      "Epoch 81/90\n",
      "9/9 [==============================] - 0s 35ms/step - loss: 0.0359 - mean_absolute_error: 0.0359\n",
      "Epoch 82/90\n",
      "9/9 [==============================] - 0s 33ms/step - loss: 0.0358 - mean_absolute_error: 0.0358\n",
      "Epoch 83/90\n",
      "9/9 [==============================] - 0s 34ms/step - loss: 0.0360 - mean_absolute_error: 0.0360\n",
      "Epoch 84/90\n",
      "9/9 [==============================] - 0s 33ms/step - loss: 0.0359 - mean_absolute_error: 0.0359\n",
      "Epoch 85/90\n",
      "9/9 [==============================] - 0s 34ms/step - loss: 0.0358 - mean_absolute_error: 0.0358\n",
      "Epoch 86/90\n",
      "9/9 [==============================] - 0s 33ms/step - loss: 0.0358 - mean_absolute_error: 0.0358\n",
      "Epoch 87/90\n",
      "9/9 [==============================] - 0s 35ms/step - loss: 0.0359 - mean_absolute_error: 0.0359\n",
      "Epoch 88/90\n",
      "9/9 [==============================] - 0s 33ms/step - loss: 0.0360 - mean_absolute_error: 0.0360\n",
      "Epoch 89/90\n",
      "9/9 [==============================] - 0s 35ms/step - loss: 0.0360 - mean_absolute_error: 0.0360\n",
      "Epoch 90/90\n",
      "9/9 [==============================] - 0s 34ms/step - loss: 0.0357 - mean_absolute_error: 0.0357\n"
     ]
    },
    {
     "data": {
      "text/plain": [
       "<tensorflow.python.keras.callbacks.History at 0x2465985bac8>"
      ]
     },
     "execution_count": 95,
     "metadata": {},
     "output_type": "execute_result"
    }
   ],
   "source": [
    "model.fit_generator(generator,epochs=90)"
   ]
  },
  {
   "cell_type": "code",
   "execution_count": 96,
   "metadata": {},
   "outputs": [
    {
     "data": {
      "text/plain": [
       "[0.04448046162724495, 0.04448046]"
      ]
     },
     "execution_count": 96,
     "metadata": {},
     "output_type": "execute_result"
    }
   ],
   "source": [
    "model.evaluate_generator(validation_sequence)"
   ]
  },
  {
   "cell_type": "code",
   "execution_count": 97,
   "metadata": {
    "scrolled": true
   },
   "outputs": [
    {
     "data": {
      "text/plain": [
       "array([[[0., 0., 0., ..., 0., 0., 0.],\n",
       "        [0., 0., 0., ..., 0., 0., 0.],\n",
       "        [0., 0., 0., ..., 0., 0., 0.],\n",
       "        ...,\n",
       "        [0., 0., 0., ..., 0., 0., 0.],\n",
       "        [0., 0., 0., ..., 0., 0., 0.],\n",
       "        [0., 0., 0., ..., 0., 0., 0.]]])"
      ]
     },
     "execution_count": 97,
     "metadata": {},
     "output_type": "execute_result"
    }
   ],
   "source": [
    "pred_list = []\n",
    "\n",
    "batch = train[-12:].reshape((1, n_input, n_features))\n",
    "batch"
   ]
  },
  {
   "cell_type": "code",
   "execution_count": 98,
   "metadata": {},
   "outputs": [],
   "source": [
    "for i in range(n_input):   \n",
    "    pred_list.append(model.predict(batch)[0]) \n",
    "    batch = np.append(batch[:,1:,:],[[pred_list[i]]],axis=1)\n",
    "\n",
    "pred_list = scaler.inverse_transform(pred_list)\n",
    "\n",
    "# prediksi = (model.predict(batch)[0])"
   ]
  },
  {
   "cell_type": "code",
   "execution_count": 99,
   "metadata": {},
   "outputs": [
    {
     "data": {
      "text/plain": [
       "<matplotlib.image.AxesImage at 0x24660551e48>"
      ]
     },
     "execution_count": 99,
     "metadata": {},
     "output_type": "execute_result"
    },
    {
     "data": {
      "image/png": "[encoded data removed]",
      "text/plain": [
       "<Figure size 432x288 with 1 Axes>"
      ]
     },
     "metadata": {
      "needs_background": "light"
     },
     "output_type": "display_data"
    }
   ],
   "source": [
    "plt.imshow(pred_list[0].reshape(83,114))"
   ]
  },
  {
   "cell_type": "code",
   "execution_count": 100,
   "metadata": {},
   "outputs": [],
   "source": [
    "train = df\n",
    "test = df[-24:]"
   ]
  },
  {
   "cell_type": "code",
   "execution_count": 101,
   "metadata": {},
   "outputs": [],
   "source": [
    "scaler.fit(train)\n",
    "train = scaler.transform(train)\n",
    "scaler.fit(test)\n",
    "test = scaler.transform(test)"
   ]
  },
  {
   "cell_type": "code",
   "execution_count": 102,
   "metadata": {},
   "outputs": [],
   "source": [
    "n_input = 12\n",
    "n_features = 9462\n",
    "generator = TimeseriesGenerator(train, train, length=n_input, batch_size=12)\n",
    "validation_sequence = TimeseriesGenerator(test, test, length=n_input, batch_size=12)"
   ]
  },
  {
   "cell_type": "code",
   "execution_count": 103,
   "metadata": {
    "scrolled": false
   },
   "outputs": [
    {
     "name": "stdout",
     "output_type": "stream",
     "text": [
      "Epoch 1/90\n",
      "27/27 [==============================] - 1s 31ms/step - loss: 0.0214 - mean_absolute_error: 0.0214\n",
      "Epoch 2/90\n",
      "27/27 [==============================] - 1s 31ms/step - loss: 0.0212 - mean_absolute_error: 0.0212\n",
      "Epoch 3/90\n",
      "27/27 [==============================] - 1s 31ms/step - loss: 0.0211 - mean_absolute_error: 0.0211\n",
      "Epoch 4/90\n",
      "27/27 [==============================] - 1s 31ms/step - loss: 0.0211 - mean_absolute_error: 0.0211\n",
      "Epoch 5/90\n",
      "27/27 [==============================] - 1s 35ms/step - loss: 0.0211 - mean_absolute_error: 0.0211\n",
      "Epoch 6/90\n",
      "27/27 [==============================] - 1s 34ms/step - loss: 0.0210 - mean_absolute_error: 0.0210\n",
      "Epoch 7/90\n",
      "27/27 [==============================] - 1s 33ms/step - loss: 0.0210 - mean_absolute_error: 0.0210\n",
      "Epoch 8/90\n",
      "27/27 [==============================] - 1s 32ms/step - loss: 0.0211 - mean_absolute_error: 0.0211\n",
      "Epoch 9/90\n",
      "27/27 [==============================] - 1s 34ms/step - loss: 0.0209 - mean_absolute_error: 0.0209\n",
      "Epoch 10/90\n",
      "27/27 [==============================] - 1s 33ms/step - loss: 0.0210 - mean_absolute_error: 0.0210: 0s - loss: 0.0208 - mean_absolute_error: 0.0\n",
      "Epoch 11/90\n",
      "27/27 [==============================] - 1s 31ms/step - loss: 0.0210 - mean_absolute_error: 0.0210\n",
      "Epoch 12/90\n",
      "27/27 [==============================] - 1s 31ms/step - loss: 0.0209 - mean_absolute_error: 0.0209\n",
      "Epoch 13/90\n",
      "27/27 [==============================] - 1s 34ms/step - loss: 0.0209 - mean_absolute_error: 0.0209\n",
      "Epoch 14/90\n",
      "27/27 [==============================] - 1s 34ms/step - loss: 0.0209 - mean_absolute_error: 0.0209\n",
      "Epoch 15/90\n",
      "27/27 [==============================] - 1s 29ms/step - loss: 0.0209 - mean_absolute_error: 0.0209\n",
      "Epoch 16/90\n",
      "27/27 [==============================] - 1s 27ms/step - loss: 0.0208 - mean_absolute_error: 0.0208\n",
      "Epoch 17/90\n",
      "27/27 [==============================] - 1s 32ms/step - loss: 0.0209 - mean_absolute_error: 0.0209\n",
      "Epoch 18/90\n",
      "27/27 [==============================] - 1s 31ms/step - loss: 0.0208 - mean_absolute_error: 0.0208\n",
      "Epoch 19/90\n",
      "27/27 [==============================] - 1s 31ms/step - loss: 0.0208 - mean_absolute_error: 0.0208\n",
      "Epoch 20/90\n",
      "27/27 [==============================] - 1s 35ms/step - loss: 0.0208 - mean_absolute_error: 0.0208\n",
      "Epoch 21/90\n",
      "27/27 [==============================] - 1s 33ms/step - loss: 0.0209 - mean_absolute_error: 0.0209\n",
      "Epoch 22/90\n",
      "27/27 [==============================] - 1s 35ms/step - loss: 0.0208 - mean_absolute_error: 0.0208\n",
      "Epoch 23/90\n",
      "27/27 [==============================] - 1s 34ms/step - loss: 0.0207 - mean_absolute_error: 0.0207\n",
      "Epoch 24/90\n",
      "27/27 [==============================] - 1s 34ms/step - loss: 0.0208 - mean_absolute_error: 0.0208\n",
      "Epoch 25/90\n",
      "27/27 [==============================] - 1s 34ms/step - loss: 0.0207 - mean_absolute_error: 0.0207\n",
      "Epoch 26/90\n",
      "27/27 [==============================] - 1s 33ms/step - loss: 0.0207 - mean_absolute_error: 0.0207\n",
      "Epoch 27/90\n",
      "27/27 [==============================] - 1s 34ms/step - loss: 0.0207 - mean_absolute_error: 0.0207\n",
      "Epoch 28/90\n",
      "27/27 [==============================] - 1s 35ms/step - loss: 0.0207 - mean_absolute_error: 0.0207\n",
      "Epoch 29/90\n",
      "27/27 [==============================] - 1s 34ms/step - loss: 0.0207 - mean_absolute_error: 0.0207\n",
      "Epoch 30/90\n",
      "27/27 [==============================] - 1s 31ms/step - loss: 0.0207 - mean_absolute_error: 0.0207\n",
      "Epoch 31/90\n",
      "27/27 [==============================] - 1s 34ms/step - loss: 0.0207 - mean_absolute_error: 0.0207\n",
      "Epoch 32/90\n",
      "27/27 [==============================] - 1s 31ms/step - loss: 0.0207 - mean_absolute_error: 0.0207\n",
      "Epoch 33/90\n",
      "27/27 [==============================] - 1s 35ms/step - loss: 0.0207 - mean_absolute_error: 0.0207\n",
      "Epoch 34/90\n",
      "27/27 [==============================] - 1s 34ms/step - loss: 0.0207 - mean_absolute_error: 0.0207\n",
      "Epoch 35/90\n",
      "27/27 [==============================] - 1s 34ms/step - loss: 0.0207 - mean_absolute_error: 0.0207\n",
      "Epoch 36/90\n",
      "27/27 [==============================] - 1s 33ms/step - loss: 0.0207 - mean_absolute_error: 0.0207\n",
      "Epoch 37/90\n",
      "27/27 [==============================] - 1s 34ms/step - loss: 0.0207 - mean_absolute_error: 0.0207\n",
      "Epoch 38/90\n",
      "27/27 [==============================] - 1s 35ms/step - loss: 0.0207 - mean_absolute_error: 0.0207\n",
      "Epoch 39/90\n",
      "27/27 [==============================] - 1s 35ms/step - loss: 0.0207 - mean_absolute_error: 0.0207\n",
      "Epoch 40/90\n",
      "27/27 [==============================] - 1s 35ms/step - loss: 0.0206 - mean_absolute_error: 0.0206\n",
      "Epoch 41/90\n",
      "27/27 [==============================] - 1s 35ms/step - loss: 0.0206 - mean_absolute_error: 0.0206\n",
      "Epoch 42/90\n",
      "27/27 [==============================] - 1s 36ms/step - loss: 0.0207 - mean_absolute_error: 0.0207\n",
      "Epoch 43/90\n",
      "27/27 [==============================] - 1s 31ms/step - loss: 0.0206 - mean_absolute_error: 0.0206\n",
      "Epoch 44/90\n",
      "27/27 [==============================] - 1s 31ms/step - loss: 0.0207 - mean_absolute_error: 0.0207\n",
      "Epoch 45/90\n",
      "27/27 [==============================] - 1s 31ms/step - loss: 0.0207 - mean_absolute_error: 0.0207\n",
      "Epoch 46/90\n",
      "27/27 [==============================] - 1s 35ms/step - loss: 0.0206 - mean_absolute_error: 0.0206\n",
      "Epoch 47/90\n",
      "27/27 [==============================] - 1s 34ms/step - loss: 0.0206 - mean_absolute_error: 0.0206\n",
      "Epoch 48/90\n",
      "27/27 [==============================] - 1s 34ms/step - loss: 0.0206 - mean_absolute_error: 0.0206\n",
      "Epoch 49/90\n",
      "27/27 [==============================] - 1s 34ms/step - loss: 0.0206 - mean_absolute_error: 0.0206\n",
      "Epoch 50/90\n",
      "27/27 [==============================] - 1s 34ms/step - loss: 0.0206 - mean_absolute_error: 0.0206\n",
      "Epoch 51/90\n",
      "27/27 [==============================] - 1s 34ms/step - loss: 0.0206 - mean_absolute_error: 0.0206\n",
      "Epoch 52/90\n",
      "27/27 [==============================] - 1s 35ms/step - loss: 0.0206 - mean_absolute_error: 0.0206\n",
      "Epoch 53/90\n",
      "27/27 [==============================] - 1s 35ms/step - loss: 0.0207 - mean_absolute_error: 0.0207\n",
      "Epoch 54/90\n",
      "27/27 [==============================] - 1s 35ms/step - loss: 0.0206 - mean_absolute_error: 0.0206\n",
      "Epoch 55/90\n",
      "27/27 [==============================] - 1s 35ms/step - loss: 0.0206 - mean_absolute_error: 0.0206\n",
      "Epoch 56/90\n",
      "27/27 [==============================] - 1s 34ms/step - loss: 0.0206 - mean_absolute_error: 0.0206\n",
      "Epoch 57/90\n",
      "27/27 [==============================] - 1s 31ms/step - loss: 0.0206 - mean_absolute_error: 0.0206\n",
      "Epoch 58/90\n",
      "27/27 [==============================] - 1s 34ms/step - loss: 0.0206 - mean_absolute_error: 0.0206\n",
      "Epoch 59/90\n",
      "27/27 [==============================] - 1s 31ms/step - loss: 0.0205 - mean_absolute_error: 0.0205\n",
      "Epoch 60/90\n",
      "27/27 [==============================] - 1s 31ms/step - loss: 0.0206 - mean_absolute_error: 0.0206\n",
      "Epoch 61/90\n",
      "27/27 [==============================] - 1s 34ms/step - loss: 0.0205 - mean_absolute_error: 0.0205\n",
      "Epoch 62/90\n",
      "27/27 [==============================] - 1s 34ms/step - loss: 0.0206 - mean_absolute_error: 0.0206\n",
      "Epoch 63/90\n",
      "27/27 [==============================] - 1s 34ms/step - loss: 0.0206 - mean_absolute_error: 0.0206\n",
      "Epoch 64/90\n",
      "27/27 [==============================] - 1s 33ms/step - loss: 0.0206 - mean_absolute_error: 0.0206\n",
      "Epoch 65/90\n",
      "27/27 [==============================] - 1s 34ms/step - loss: 0.0206 - mean_absolute_error: 0.0206\n",
      "Epoch 66/90\n",
      "27/27 [==============================] - 1s 34ms/step - loss: 0.0206 - mean_absolute_error: 0.0206\n",
      "Epoch 67/90\n",
      "27/27 [==============================] - 1s 34ms/step - loss: 0.0206 - mean_absolute_error: 0.0206\n",
      "Epoch 68/90\n",
      "27/27 [==============================] - 1s 35ms/step - loss: 0.0206 - mean_absolute_error: 0.0206\n",
      "Epoch 69/90\n",
      "27/27 [==============================] - 1s 35ms/step - loss: 0.0206 - mean_absolute_error: 0.0206\n",
      "Epoch 70/90\n",
      "27/27 [==============================] - 1s 35ms/step - loss: 0.0206 - mean_absolute_error: 0.0206\n",
      "Epoch 71/90\n",
      "27/27 [==============================] - 1s 34ms/step - loss: 0.0205 - mean_absolute_error: 0.0205\n",
      "Epoch 72/90\n",
      "27/27 [==============================] - 1s 35ms/step - loss: 0.0205 - mean_absolute_error: 0.0205\n",
      "Epoch 73/90\n",
      "27/27 [==============================] - 1s 35ms/step - loss: 0.0206 - mean_absolute_error: 0.0206\n",
      "Epoch 74/90\n"
     ]
    },
    {
     "name": "stdout",
     "output_type": "stream",
     "text": [
      "27/27 [==============================] - 1s 35ms/step - loss: 0.0206 - mean_absolute_error: 0.0206\n",
      "Epoch 75/90\n",
      "27/27 [==============================] - 1s 31ms/step - loss: 0.0205 - mean_absolute_error: 0.0205\n",
      "Epoch 76/90\n",
      "27/27 [==============================] - 1s 31ms/step - loss: 0.0205 - mean_absolute_error: 0.0205\n",
      "Epoch 77/90\n",
      "27/27 [==============================] - 1s 31ms/step - loss: 0.0206 - mean_absolute_error: 0.0206\n",
      "Epoch 78/90\n",
      "27/27 [==============================] - 1s 35ms/step - loss: 0.0206 - mean_absolute_error: 0.0206\n",
      "Epoch 79/90\n",
      "27/27 [==============================] - 1s 33ms/step - loss: 0.0206 - mean_absolute_error: 0.0206\n",
      "Epoch 80/90\n",
      "27/27 [==============================] - 1s 35ms/step - loss: 0.0205 - mean_absolute_error: 0.0205\n",
      "Epoch 81/90\n",
      "27/27 [==============================] - 1s 33ms/step - loss: 0.0206 - mean_absolute_error: 0.0206\n",
      "Epoch 82/90\n",
      "27/27 [==============================] - 1s 34ms/step - loss: 0.0205 - mean_absolute_error: 0.0205\n",
      "Epoch 83/90\n",
      "27/27 [==============================] - 1s 34ms/step - loss: 0.0206 - mean_absolute_error: 0.0206\n",
      "Epoch 84/90\n",
      "27/27 [==============================] - 1s 33ms/step - loss: 0.0205 - mean_absolute_error: 0.0205\n",
      "Epoch 85/90\n",
      "27/27 [==============================] - 1s 31ms/step - loss: 0.0205 - mean_absolute_error: 0.0205\n",
      "Epoch 86/90\n",
      "27/27 [==============================] - 1s 33ms/step - loss: 0.0205 - mean_absolute_error: 0.0205\n",
      "Epoch 87/90\n",
      "27/27 [==============================] - 1s 31ms/step - loss: 0.0205 - mean_absolute_error: 0.0205\n",
      "Epoch 88/90\n",
      "27/27 [==============================] - 1s 31ms/step - loss: 0.0205 - mean_absolute_error: 0.0205\n",
      "Epoch 89/90\n",
      "27/27 [==============================] - 1s 31ms/step - loss: 0.0205 - mean_absolute_error: 0.0205\n",
      "Epoch 90/90\n",
      "27/27 [==============================] - 1s 31ms/step - loss: 0.0206 - mean_absolute_error: 0.0206\n"
     ]
    },
    {
     "data": {
      "text/plain": [
       "<tensorflow.python.keras.callbacks.History at 0x2466058c160>"
      ]
     },
     "execution_count": 103,
     "metadata": {},
     "output_type": "execute_result"
    }
   ],
   "source": [
    "model.fit_generator(generator,epochs=90)"
   ]
  },
  {
   "cell_type": "code",
   "execution_count": 104,
   "metadata": {},
   "outputs": [
    {
     "data": {
      "text/plain": [
       "[0.04403593763709068, 0.044035938]"
      ]
     },
     "execution_count": 104,
     "metadata": {},
     "output_type": "execute_result"
    }
   ],
   "source": [
    "model.evaluate_generator(validation_sequence)"
   ]
  },
  {
   "cell_type": "code",
   "execution_count": 105,
   "metadata": {},
   "outputs": [],
   "source": [
    "pred_list = []\n",
    "\n",
    "batch = data_4[-60:-48].reshape((1, n_input, n_features))\n",
    "\n",
    "for i in range(n_input):   \n",
    "    pred_list.append(model.predict(batch)[0]) \n",
    "    batch = np.append(batch[:,1:,:],[[pred_list[i]]],axis=1)\n",
    "    \n",
    "batch1 = data_4[-48:-36].reshape((1, n_input, n_features))\n",
    "\n",
    "for i in range(n_input):   \n",
    "    pred_list.append(model.predict(batch1)[0]) \n",
    "    batch1 = np.append(batch1[:,1:,:],[[pred_list[i]]],axis=1)\n",
    "    \n",
    "batch2 = data_4[-36:-24].reshape((1, n_input, n_features))\n",
    "\n",
    "for i in range(n_input):   \n",
    "    pred_list.append(model.predict(batch2)[0]) \n",
    "    batch2 = np.append(batch2[:,1:,:],[[pred_list[i]]],axis=1)\n",
    "    \n",
    "# data tahun 2014 untuk memprediksi tahun 2015\n",
    "batch3 = data_4[-24:-12].reshape((1, n_input, n_features))\n",
    "\n",
    "for i in range(n_input):   \n",
    "    pred_list.append(model.predict(batch3)[0]) \n",
    "    batch3 = np.append(batch3[:,1:,:],[[pred_list[i]]],axis=1)\n",
    "\n",
    "# data tahun 2015 untuk memprediksi tahun 2016\n",
    "batch4 = data_4[-12:].reshape((1, n_input, n_features))\n",
    "\n",
    "for i in range(n_input):   \n",
    "    pred_list.append(model.predict(batch4)[0]) \n",
    "    batch4 = np.append(batch4[:,1:,:],[[pred_list[i]]],axis=1)"
   ]
  },
  {
   "cell_type": "code",
   "execution_count": 106,
   "metadata": {},
   "outputs": [
    {
     "data": {
      "text/plain": [
       "array([[[6.27374102e-05, 6.29326314e-05, 6.46135813e-05, ...,\n",
       "         6.23060550e-05, 6.36571131e-05, 6.60833975e-05],\n",
       "        [6.27374102e-05, 6.29326314e-05, 6.46135813e-05, ...,\n",
       "         6.23060550e-05, 6.36571131e-05, 6.60833975e-05],\n",
       "        [6.27374102e-05, 6.29326314e-05, 6.46135813e-05, ...,\n",
       "         6.23060550e-05, 6.36571131e-05, 6.60833975e-05],\n",
       "        ...,\n",
       "        [6.45896216e-05, 6.47877605e-05, 6.65071566e-05, ...,\n",
       "         6.41531733e-05, 6.55247204e-05, 6.80263329e-05],\n",
       "        [6.45656619e-05, 6.47637935e-05, 6.64823019e-05, ...,\n",
       "         6.41293736e-05, 6.55004187e-05, 6.80010999e-05],\n",
       "        [6.44750908e-05, 6.46731933e-05, 6.63899264e-05, ...,\n",
       "         6.40390499e-05, 6.54091637e-05, 6.79060322e-05]]])"
      ]
     },
     "execution_count": 106,
     "metadata": {},
     "output_type": "execute_result"
    }
   ],
   "source": [
    "batch"
   ]
  },
  {
   "cell_type": "code",
   "execution_count": 107,
   "metadata": {},
   "outputs": [
    {
     "data": {
      "text/plain": [
       "array([[6.27374102e-05, 6.29326314e-05, 6.46135813e-05, ...,\n",
       "        6.23060550e-05, 6.36571131e-05, 6.60833975e-05],\n",
       "       [6.27374102e-05, 6.29326314e-05, 6.46135813e-05, ...,\n",
       "        6.23060550e-05, 6.36571131e-05, 6.60833975e-05],\n",
       "       [6.27374102e-05, 6.29326314e-05, 6.46135813e-05, ...,\n",
       "        6.23060550e-05, 6.36571131e-05, 6.60833975e-05],\n",
       "       ...,\n",
       "       [6.27374757e-05, 6.29326896e-05, 6.46136468e-05, ...,\n",
       "        6.23061133e-05, 6.36572368e-05, 6.60834557e-05],\n",
       "       [6.27374102e-05, 6.29326314e-05, 6.46136468e-05, ...,\n",
       "        6.23060550e-05, 6.36571713e-05, 6.60833975e-05],\n",
       "       [6.27374102e-05, 6.29326314e-05, 6.46135813e-05, ...,\n",
       "        6.23060550e-05, 6.36571131e-05, 6.60833975e-05]])"
      ]
     },
     "execution_count": 107,
     "metadata": {},
     "output_type": "execute_result"
    }
   ],
   "source": [
    "pred_list = scaler.inverse_transform(pred_list)\n",
    "pred_list"
   ]
  },
  {
   "cell_type": "code",
   "execution_count": 108,
   "metadata": {},
   "outputs": [
    {
     "data": {
      "text/plain": [
       "(60, 9462)"
      ]
     },
     "execution_count": 108,
     "metadata": {},
     "output_type": "execute_result"
    }
   ],
   "source": [
    "pred_list.shape"
   ]
  },
  {
   "cell_type": "code",
   "execution_count": 109,
   "metadata": {},
   "outputs": [
    {
     "data": {
      "text/plain": [
       "<matplotlib.image.AxesImage at 0x24600478f98>"
      ]
     },
     "execution_count": 109,
     "metadata": {},
     "output_type": "execute_result"
    },
    {
     "data": {
      "image/png": "[encoded data removed]",
      "text/plain": [
       "<Figure size 432x288 with 1 Axes>"
      ]
     },
     "metadata": {
      "needs_background": "light"
     },
     "output_type": "display_data"
    }
   ],
   "source": [
    "plt.imshow(pred_list[59].reshape(83,114))"
   ]
  },
  {
   "cell_type": "code",
   "execution_count": 110,
   "metadata": {},
   "outputs": [
    {
     "data": {
      "text/plain": [
       "<matplotlib.image.AxesImage at 0x246004daac8>"
      ]
     },
     "execution_count": 110,
     "metadata": {},
     "output_type": "execute_result"
    },
    {
     "data": {
      "image/png": "[encoded data removed]",
      "text/plain": [
       "<Figure size 432x288 with 1 Axes>"
      ]
     },
     "metadata": {
      "needs_background": "light"
     },
     "output_type": "display_data"
    }
   ],
   "source": [
    "df_asli = X[-60:]\n",
    "plt.imshow(df_asli[0].reshape(83,114))"
   ]
  },
  {
   "cell_type": "code",
   "execution_count": 111,
   "metadata": {},
   "outputs": [
    {
     "data": {
      "text/plain": [
       "0.09475121418344301"
      ]
     },
     "execution_count": 111,
     "metadata": {},
     "output_type": "execute_result"
    }
   ],
   "source": [
    "max(pred_list[10])"
   ]
  },
  {
   "cell_type": "code",
   "execution_count": 112,
   "metadata": {},
   "outputs": [
    {
     "data": {
      "text/plain": [
       "0.0"
      ]
     },
     "execution_count": 112,
     "metadata": {},
     "output_type": "execute_result"
    }
   ],
   "source": [
    "max(df_asli[10])"
   ]
  },
  {
   "cell_type": "code",
   "execution_count": 113,
   "metadata": {},
   "outputs": [],
   "source": [
    "# MAE untuk semua data\n",
    "pred_list[pred_list<0]=0\n",
    "pred_list_new=[]\n",
    "df_asli_new=[]\n",
    "no=0\n",
    "df_asli=np.array(df_asli)\n",
    "# for pred in pred_list:\n",
    "#     pred_list_new.append(list(filter(lambda x: x != 0, pred_list[no])))\n",
    "#     df_asli_new.append(list(filter(lambda x: x != 0, df_asli[no])))\n",
    "#     no+=1\n",
    "    \n",
    "pred_list_new=np.array(pred_list_new)\n",
    "df_asli_new=np.array(df_asli_new)\n",
    "\n",
    "# pred_list.shape\n",
    "# np.array(df_asli_new).shape\n",
    "\n",
    "mae=[]\n",
    "no=0\n",
    "# for pred1 in pred_list:\n",
    "#     mae_ = df_asli[no]-pred1\n",
    "#     mae_ = np.average(mae_)\n",
    "#     mae.append(mae_)\n",
    "#     no+=1\n",
    "from sklearn.metrics import mean_absolute_error\n",
    "for pred1 in pred_list:\n",
    "    mae_ = mean_absolute_error(df_asli[no], pred1)\n",
    "    mae.append(mae_)\n",
    "    no+=1"
   ]
  },
  {
   "cell_type": "code",
   "execution_count": 114,
   "metadata": {},
   "outputs": [],
   "source": [
    "sae=[]\n",
    "no=0\n",
    "\n",
    "for pred1 in pred_list:\n",
    "    sae_ = df_asli[no]-pred1\n",
    "    sae_ = np.abs(sae_)\n",
    "    sae.append(sae_)\n",
    "    no+=1"
   ]
  },
  {
   "cell_type": "code",
   "execution_count": 115,
   "metadata": {},
   "outputs": [
    {
     "data": {
      "text/plain": [
       "[0.04806602914664172,\n",
       " 0.027113212191975516,\n",
       " 0.05331779800243078,\n",
       " 0.0023969818262725507,\n",
       " 0.0023969818262725507,\n",
       " 0.0019178425132739083,\n",
       " 0.003503307102829662,\n",
       " 0.020914647275146428,\n",
       " 0.07253608676250482,\n",
       " 0.004150665105421426,\n",
       " 0.0024207965532910317,\n",
       " 0.0024203818686142813,\n",
       " 0.06689362678111369,\n",
       " 0.04249403512691631,\n",
       " 0.06621681733767819,\n",
       " 0.0023969818262725507,\n",
       " 0.0023969818262725507,\n",
       " 0.0014569759224722996,\n",
       " 0.0038714564410607857,\n",
       " 0.02466986692696695,\n",
       " 0.07151938999133757,\n",
       " 0.0034635462711723273,\n",
       " 0.002420796679779943,\n",
       " 0.0024196273505990517,\n",
       " 0.04137687260813664,\n",
       " 0.016727517796211094,\n",
       " 0.03930850955337374,\n",
       " 0.0023969818262725507,\n",
       " 0.0023969818262725507,\n",
       " 0.001994210036728001,\n",
       " 0.004523415562229137,\n",
       " 0.0180085713620014,\n",
       " 0.07249622951745269,\n",
       " 0.0035649526203945857,\n",
       " 0.0024207965532910317,\n",
       " 0.002427051376546375,\n",
       " 0.0024888289032583767,\n",
       " 0.0023969818262725507,\n",
       " 0.0023969818262725507,\n",
       " 0.0023969818262725507,\n",
       " 0.0023969818262725507,\n",
       " 0.0023969818262725507,\n",
       " 0.009804190099440406,\n",
       " 0.005234845976750623,\n",
       " 0.07847497382299846,\n",
       " 0.004869432276141386,\n",
       " 0.002420797582154394,\n",
       " 0.01776120182760001,\n",
       " 0.09777683657955122,\n",
       " 0.06431661886426605,\n",
       " 0.08488493219013939,\n",
       " 0.0023969818262725507,\n",
       " 0.0023969818262725507,\n",
       " 0.0014965164652717743,\n",
       " 0.003482127713634469,\n",
       " 0.028588443214469763,\n",
       " 0.06938649491046033,\n",
       " 0.002831593470234469,\n",
       " 0.002396981901768508,\n",
       " 0.0023969818262725507]"
      ]
     },
     "execution_count": 115,
     "metadata": {},
     "output_type": "execute_result"
    }
   ],
   "source": [
    "mae"
   ]
  },
  {
   "cell_type": "code",
   "execution_count": 116,
   "metadata": {},
   "outputs": [
    {
     "data": {
      "text/plain": [
       "0.02057345989505912"
      ]
     },
     "execution_count": 116,
     "metadata": {},
     "output_type": "execute_result"
    }
   ],
   "source": [
    "sum(mae)/60"
   ]
  },
  {
   "cell_type": "code",
   "execution_count": 117,
   "metadata": {},
   "outputs": [
    {
     "data": {
      "text/plain": [
       "[array([6.27374102e-05, 6.29326314e-05, 6.46135813e-05, ...,\n",
       "        6.23060550e-05, 6.36571131e-05, 6.60833975e-05]),\n",
       " array([6.27374102e-05, 6.29326314e-05, 6.46135813e-05, ...,\n",
       "        6.23060550e-05, 6.36571131e-05, 6.60833975e-05]),\n",
       " array([6.27374102e-05, 6.29326314e-05, 6.46135813e-05, ...,\n",
       "        6.23060550e-05, 6.36571131e-05, 6.60833975e-05]),\n",
       " array([6.27374102e-05, 6.29326314e-05, 6.46135813e-05, ...,\n",
       "        6.23060550e-05, 6.36571131e-05, 6.60833975e-05]),\n",
       " array([6.27374102e-05, 6.29326314e-05, 6.46135813e-05, ...,\n",
       "        6.23060550e-05, 6.36571131e-05, 6.60833975e-05]),\n",
       " array([6.27374102e-05, 6.29326314e-05, 6.46135813e-05, ...,\n",
       "        6.23060550e-05, 6.36571131e-05, 6.60833975e-05]),\n",
       " array([6.27374102e-05, 6.29326314e-05, 6.46135813e-05, ...,\n",
       "        6.23060550e-05, 6.36571131e-05, 6.60833975e-05]),\n",
       " array([6.27374102e-05, 6.29326314e-05, 6.46135813e-05, ...,\n",
       "        6.23060550e-05, 6.36571131e-05, 6.60833975e-05]),\n",
       " array([6.27374102e-05, 6.29326314e-05, 6.46135813e-05, ...,\n",
       "        6.23060550e-05, 6.36571131e-05, 6.60833975e-05]),\n",
       " array([6.45896216e-05, 6.47877605e-05, 6.65071566e-05, ...,\n",
       "        6.41531733e-05, 6.55247204e-05, 6.80263329e-05]),\n",
       " array([6.45656619e-05, 6.47637935e-05, 6.64823019e-05, ...,\n",
       "        6.41293736e-05, 6.55004187e-05, 6.80010999e-05]),\n",
       " array([6.44750908e-05, 6.46731933e-05, 6.63899264e-05, ...,\n",
       "        6.40390499e-05, 6.54091637e-05, 6.79060322e-05]),\n",
       " array([6.27374102e-05, 6.29326314e-05, 6.46135813e-05, ...,\n",
       "        6.23060550e-05, 6.36571131e-05, 6.60833975e-05]),\n",
       " array([6.27374102e-05, 6.29326314e-05, 6.46135813e-05, ...,\n",
       "        6.23060550e-05, 6.36571131e-05, 6.60833975e-05]),\n",
       " array([6.27374102e-05, 6.29326314e-05, 6.46135813e-05, ...,\n",
       "        6.23060550e-05, 6.36571131e-05, 6.60833975e-05]),\n",
       " array([6.27374102e-05, 6.29326314e-05, 6.46135813e-05, ...,\n",
       "        6.23060550e-05, 6.36571131e-05, 6.60833975e-05]),\n",
       " array([6.27374102e-05, 6.29326314e-05, 6.46135813e-05, ...,\n",
       "        6.23060550e-05, 6.36571131e-05, 6.60833975e-05]),\n",
       " array([6.27374102e-05, 6.29326314e-05, 6.46135813e-05, ...,\n",
       "        6.23060550e-05, 6.36571131e-05, 6.60833975e-05]),\n",
       " array([6.27374102e-05, 6.29326314e-05, 6.46135813e-05, ...,\n",
       "        6.23060550e-05, 6.36571131e-05, 6.60833975e-05]),\n",
       " array([6.27374102e-05, 6.29326314e-05, 6.46135813e-05, ...,\n",
       "        6.23060550e-05, 6.36571131e-05, 6.60833975e-05]),\n",
       " array([6.27374102e-05, 6.29326314e-05, 6.46135813e-05, ...,\n",
       "        6.23060550e-05, 6.36571131e-05, 6.60833975e-05]),\n",
       " array([6.45894324e-05, 6.47875131e-05, 6.65069019e-05, ...,\n",
       "        6.41528677e-05, 6.55245312e-05, 6.80260709e-05]),\n",
       " array([6.45656619e-05, 6.47637935e-05, 6.64824256e-05, ...,\n",
       "        6.41293736e-05, 6.55004187e-05, 6.80010999e-05]),\n",
       " array([6.44750908e-05, 6.46731933e-05, 6.63899264e-05, ...,\n",
       "        6.40390499e-05, 6.54091637e-05, 6.79060322e-05]),\n",
       " array([6.27374102e-05, 6.29326314e-05, 6.46135813e-05, ...,\n",
       "        6.23060550e-05, 6.36571131e-05, 6.60833975e-05]),\n",
       " array([6.27374102e-05, 6.29326314e-05, 6.46135813e-05, ...,\n",
       "        6.23060550e-05, 6.36571131e-05, 6.60833975e-05]),\n",
       " array([6.27374102e-05, 6.29326314e-05, 6.46135813e-05, ...,\n",
       "        6.23060550e-05, 6.36571131e-05, 6.60833975e-05]),\n",
       " array([6.27374102e-05, 6.29326314e-05, 6.46135813e-05, ...,\n",
       "        6.23060550e-05, 6.36571131e-05, 6.60833975e-05]),\n",
       " array([6.27374102e-05, 6.29326314e-05, 6.46135813e-05, ...,\n",
       "        6.23060550e-05, 6.36571131e-05, 6.60833975e-05]),\n",
       " array([6.27374102e-05, 6.29326314e-05, 6.46135813e-05, ...,\n",
       "        6.23060550e-05, 6.36571131e-05, 6.60833975e-05]),\n",
       " array([6.27374102e-05, 6.29326314e-05, 6.46135813e-05, ...,\n",
       "        6.23060550e-05, 6.36571131e-05, 6.60833975e-05]),\n",
       " array([6.27374102e-05, 6.29326314e-05, 6.46135813e-05, ...,\n",
       "        6.23060550e-05, 6.36571131e-05, 6.60833975e-05]),\n",
       " array([6.27374102e-05, 6.29326314e-05, 6.46135813e-05, ...,\n",
       "        6.23060550e-05, 6.36571131e-05, 6.60833975e-05]),\n",
       " array([6.46124754e-05, 6.48106870e-05, 6.65302432e-05, ...,\n",
       "        6.41759980e-05, 6.55477852e-05, 6.80502708e-05]),\n",
       " array([6.45656619e-05, 6.47637935e-05, 6.64823019e-05, ...,\n",
       "        6.41293736e-05, 6.55004187e-05, 6.80010999e-05]),\n",
       " array([6.44750908e-05, 6.46731933e-05, 6.63899264e-05, ...,\n",
       "        6.40390499e-05, 6.54091637e-05, 6.79060322e-05]),\n",
       " array([6.27374102e-05, 6.29326314e-05, 6.46135813e-05, ...,\n",
       "        6.23060550e-05, 6.36571131e-05, 6.60833975e-05]),\n",
       " array([6.27374102e-05, 6.29326314e-05, 6.46135813e-05, ...,\n",
       "        6.23060550e-05, 6.36571131e-05, 6.60833975e-05]),\n",
       " array([6.27374102e-05, 6.29326314e-05, 6.46135813e-05, ...,\n",
       "        6.23060550e-05, 6.36571131e-05, 6.60833975e-05]),\n",
       " array([6.27374102e-05, 6.29326314e-05, 6.46135813e-05, ...,\n",
       "        6.23060550e-05, 6.36571131e-05, 6.60833975e-05]),\n",
       " array([6.27374102e-05, 6.29326314e-05, 6.46135813e-05, ...,\n",
       "        6.23060550e-05, 6.36571131e-05, 6.60833975e-05]),\n",
       " array([6.27374102e-05, 6.29326314e-05, 6.46135813e-05, ...,\n",
       "        6.23060550e-05, 6.36571131e-05, 6.60833975e-05]),\n",
       " array([6.27374102e-05, 6.29326314e-05, 6.46135813e-05, ...,\n",
       "        6.23060550e-05, 6.36571131e-05, 6.60833975e-05]),\n",
       " array([6.27374102e-05, 6.29326314e-05, 6.46135813e-05, ...,\n",
       "        6.23060550e-05, 6.36571131e-05, 6.60833975e-05]),\n",
       " array([6.27374102e-05, 6.29326314e-05, 6.46135813e-05, ...,\n",
       "        6.23060550e-05, 6.36571131e-05, 6.60833975e-05]),\n",
       " array([6.46088374e-05, 6.48071000e-05, 6.65266925e-05, ...,\n",
       "        6.41723818e-05, 6.55441545e-05, 6.80463127e-05]),\n",
       " array([6.45657274e-05, 6.47639172e-05, 6.64824256e-05, ...,\n",
       "        6.41293736e-05, 6.55004842e-05, 6.80011653e-05]),\n",
       " array([6.44751563e-05, 6.46732587e-05, 6.63900573e-05, ...,\n",
       "        6.40391736e-05, 6.54093528e-05, 6.79062941e-05]),\n",
       " array([6.27378904e-05, 6.29329952e-05, 6.46140179e-05, ...,\n",
       "        6.23064116e-05, 6.36574769e-05, 6.60837104e-05]),\n",
       " array([6.27374102e-05, 6.29326314e-05, 6.46136468e-05, ...,\n",
       "        6.23060550e-05, 6.36571131e-05, 6.60833975e-05]),\n",
       " array([6.27374102e-05, 6.29326314e-05, 6.46135813e-05, ...,\n",
       "        6.23060550e-05, 6.36571131e-05, 6.60833975e-05]),\n",
       " array([6.27374102e-05, 6.29326314e-05, 6.46135813e-05, ...,\n",
       "        6.23060550e-05, 6.36571131e-05, 6.60833975e-05]),\n",
       " array([6.27374102e-05, 6.29326314e-05, 6.46135813e-05, ...,\n",
       "        6.23060550e-05, 6.36571131e-05, 6.60833975e-05]),\n",
       " array([6.27374102e-05, 6.29326314e-05, 6.46135813e-05, ...,\n",
       "        6.23060550e-05, 6.36571131e-05, 6.60833975e-05]),\n",
       " array([6.27374102e-05, 6.29326314e-05, 6.46135813e-05, ...,\n",
       "        6.23060550e-05, 6.36571131e-05, 6.60833975e-05]),\n",
       " array([6.27374102e-05, 6.29326314e-05, 6.46135813e-05, ...,\n",
       "        6.23060550e-05, 6.36571131e-05, 6.60833975e-05]),\n",
       " array([6.27374102e-05, 6.29326314e-05, 6.46135813e-05, ...,\n",
       "        6.23060550e-05, 6.36571131e-05, 6.60833975e-05]),\n",
       " array([6.27374757e-05, 6.29326896e-05, 6.46136468e-05, ...,\n",
       "        6.23061133e-05, 6.36572368e-05, 6.60834557e-05]),\n",
       " array([6.27374102e-05, 6.29326314e-05, 6.46136468e-05, ...,\n",
       "        6.23060550e-05, 6.36571713e-05, 6.60833975e-05]),\n",
       " array([6.27374102e-05, 6.29326314e-05, 6.46135813e-05, ...,\n",
       "        6.23060550e-05, 6.36571131e-05, 6.60833975e-05])]"
      ]
     },
     "execution_count": 117,
     "metadata": {},
     "output_type": "execute_result"
    }
   ],
   "source": [
    "sae"
   ]
  },
  {
   "cell_type": "code",
   "execution_count": 118,
   "metadata": {},
   "outputs": [
    {
     "data": {
      "text/plain": [
       "194.6660775270493"
      ]
     },
     "execution_count": 118,
     "metadata": {},
     "output_type": "execute_result"
    }
   ],
   "source": [
    "sae_ = sum(sae)/60\n",
    "sae_ = np.sum(sae_)\n",
    "sae_"
   ]
  },
  {
   "cell_type": "code",
   "execution_count": 31,
   "metadata": {},
   "outputs": [],
   "source": [
    "# pred_list_new\n",
    "\n",
    "Pred_rata= []\n",
    "for i in range(0,60):\n",
    "\tPred_rata.append((pred_list[i].mean()))\n"
   ]
  },
  {
   "cell_type": "code",
   "execution_count": 32,
   "metadata": {},
   "outputs": [],
   "source": [
    "df_asli_rata= []\n",
    "for i in range(0,60):\n",
    "\tdf_asli_rata.append((df_asli[i].mean()))"
   ]
  },
  {
   "cell_type": "code",
   "execution_count": 33,
   "metadata": {},
   "outputs": [
    {
     "data": {
      "text/plain": [
       "[0.0024492434519973443,\n",
       " 0.0024492434519973443,\n",
       " 0.0024492434519973443,\n",
       " 0.0024480937494316905,\n",
       " 0.002449197812970371,\n",
       " 0.002449242422035398,\n",
       " 0.0024492434519973443,\n",
       " 0.0024492434519973443,\n",
       " 0.0024492434519973443,\n",
       " 0.0024663972194014926,\n",
       " 0.002466249593303063,\n",
       " 0.0024656653046057405,\n",
       " 0.0024492434519973443,\n",
       " 0.0024492434519973443,\n",
       " 0.0024492434519973443,\n",
       " 0.0024480212905038973,\n",
       " 0.002448700004747854,\n",
       " 0.0024491184020638806,\n",
       " 0.002449243253537871,\n",
       " 0.0024492434519973443,\n",
       " 0.0024492434519973443,\n",
       " 0.0024663877462136547,\n",
       " 0.00246624941649793,\n",
       " 0.0024656651635433023,\n",
       " 0.0024492434519973443,\n",
       " 0.0024492434519973443,\n",
       " 0.0024492434519973443,\n",
       " 0.0024480296443472284,\n",
       " 0.0024488090391948823,\n",
       " 0.0024491625339970323,\n",
       " 0.0024492433430216825,\n",
       " 0.0024492434519973443,\n",
       " 0.0024492434519973443,\n",
       " 0.0024665402474865644,\n",
       " 0.002466249593303063,\n",
       " 0.0024656653046057405,\n",
       " 0.0024492434519973443,\n",
       " 0.0024492427277928884,\n",
       " 0.002449239689221592,\n",
       " 0.0024480185881953806,\n",
       " 0.002448643398382706,\n",
       " 0.0024491444279188907,\n",
       " 0.0024492431206044876,\n",
       " 0.0024492434488794295,\n",
       " 0.0024492434519973443,\n",
       " 0.0024665150805231735,\n",
       " 0.002466248339011045,\n",
       " 0.0024656639459717847,\n",
       " 0.0024484400723649544,\n",
       " 0.0024481381994895988,\n",
       " 0.0024480408332118856,\n",
       " 0.0024480141274087343,\n",
       " 0.0024482632467781045,\n",
       " 0.0024492153806384776,\n",
       " 0.0024492432780832286,\n",
       " 0.0024492434519973443,\n",
       " 0.0024492434519973443,\n",
       " 0.0024483372388500067,\n",
       " 0.0024482849306475965,\n",
       " 0.00244827424652323]"
      ]
     },
     "execution_count": 33,
     "metadata": {},
     "output_type": "execute_result"
    }
   ],
   "source": [
    "Pred_rata"
   ]
  },
  {
   "cell_type": "code",
   "execution_count": 34,
   "metadata": {},
   "outputs": [
    {
     "data": {
      "text/plain": [
       "[0.050361443,\n",
       " 0.029394211,\n",
       " 0.055611517,\n",
       " 0.0,\n",
       " 0.0,\n",
       " 0.00049859984,\n",
       " 0.0047321394,\n",
       " 0.023135662,\n",
       " 0.07482821,\n",
       " 0.0019517558,\n",
       " 0.0,\n",
       " 8.443186e-07,\n",
       " 0.069189034,\n",
       " 0.04478209,\n",
       " 0.068511695,\n",
       " 0.0,\n",
       " 0.0,\n",
       " 0.0015270336,\n",
       " 0.005131007,\n",
       " 0.026906889,\n",
       " 0.073812164,\n",
       " 0.0012374661,\n",
       " 0.0,\n",
       " 0.0,\n",
       " 0.04367229,\n",
       " 0.018763991,\n",
       " 0.041600674,\n",
       " 0.0,\n",
       " 0.0,\n",
       " 0.000423101,\n",
       " 0.0060387095,\n",
       " 0.020210369,\n",
       " 0.0747887,\n",
       " 0.0013435925,\n",
       " 0.0,\n",
       " 7.588192e-06,\n",
       " 9.328075e-05,\n",
       " 0.0,\n",
       " 0.0,\n",
       " 0.0,\n",
       " 0.0,\n",
       " 0.0,\n",
       " 0.01143431,\n",
       " 0.0050058723,\n",
       " 0.08076222,\n",
       " 0.0026893893,\n",
       " 0.0,\n",
       " 0.019596733,\n",
       " 0.10007225,\n",
       " 0.06660953,\n",
       " 0.087180346,\n",
       " 0.0,\n",
       " 0.0,\n",
       " 0.0012253057,\n",
       " 0.004553074,\n",
       " 0.030833978,\n",
       " 0.07168045,\n",
       " 0.00053633633,\n",
       " 0.0,\n",
       " 0.0]"
      ]
     },
     "execution_count": 34,
     "metadata": {},
     "output_type": "execute_result"
    }
   ],
   "source": [
    "df_asli_rata\n"
   ]
  },
  {
   "cell_type": "code",
   "execution_count": 35,
   "metadata": {},
   "outputs": [
    {
     "data": {
      "text/plain": [
       "[Timestamp('2012-01-01 00:00:00'),\n",
       " Timestamp('2012-02-01 00:00:00'),\n",
       " Timestamp('2012-03-01 00:00:00'),\n",
       " Timestamp('2012-04-01 00:00:00'),\n",
       " Timestamp('2012-05-01 00:00:00'),\n",
       " Timestamp('2012-06-01 00:00:00'),\n",
       " Timestamp('2012-07-01 00:00:00'),\n",
       " Timestamp('2012-08-01 00:00:00'),\n",
       " Timestamp('2012-09-01 00:00:00'),\n",
       " Timestamp('2012-10-01 00:00:00'),\n",
       " Timestamp('2012-11-01 00:00:00'),\n",
       " Timestamp('2012-12-01 00:00:00'),\n",
       " Timestamp('2013-01-01 00:00:00'),\n",
       " Timestamp('2013-02-01 00:00:00'),\n",
       " Timestamp('2013-03-01 00:00:00'),\n",
       " Timestamp('2013-04-01 00:00:00'),\n",
       " Timestamp('2013-05-01 00:00:00'),\n",
       " Timestamp('2013-06-01 00:00:00'),\n",
       " Timestamp('2013-07-01 00:00:00'),\n",
       " Timestamp('2013-08-01 00:00:00'),\n",
       " Timestamp('2013-09-01 00:00:00'),\n",
       " Timestamp('2013-10-01 00:00:00'),\n",
       " Timestamp('2013-11-01 00:00:00'),\n",
       " Timestamp('2013-12-01 00:00:00'),\n",
       " Timestamp('2014-01-01 00:00:00'),\n",
       " Timestamp('2014-02-01 00:00:00'),\n",
       " Timestamp('2014-03-01 00:00:00'),\n",
       " Timestamp('2014-04-01 00:00:00'),\n",
       " Timestamp('2014-05-01 00:00:00'),\n",
       " Timestamp('2014-06-01 00:00:00'),\n",
       " Timestamp('2014-07-01 00:00:00'),\n",
       " Timestamp('2014-08-01 00:00:00'),\n",
       " Timestamp('2014-09-01 00:00:00'),\n",
       " Timestamp('2014-10-01 00:00:00'),\n",
       " Timestamp('2014-11-01 00:00:00'),\n",
       " Timestamp('2014-12-01 00:00:00'),\n",
       " Timestamp('2015-01-01 00:00:00'),\n",
       " Timestamp('2015-02-01 00:00:00'),\n",
       " Timestamp('2015-03-01 00:00:00'),\n",
       " Timestamp('2015-04-01 00:00:00'),\n",
       " Timestamp('2015-05-01 00:00:00'),\n",
       " Timestamp('2015-06-01 00:00:00'),\n",
       " Timestamp('2015-07-01 00:00:00'),\n",
       " Timestamp('2015-08-01 00:00:00'),\n",
       " Timestamp('2015-09-01 00:00:00'),\n",
       " Timestamp('2015-10-01 00:00:00'),\n",
       " Timestamp('2015-11-01 00:00:00'),\n",
       " Timestamp('2015-12-01 00:00:00'),\n",
       " Timestamp('2016-01-01 00:00:00'),\n",
       " Timestamp('2016-02-01 00:00:00'),\n",
       " Timestamp('2016-03-01 00:00:00'),\n",
       " Timestamp('2016-04-01 00:00:00'),\n",
       " Timestamp('2016-05-01 00:00:00'),\n",
       " Timestamp('2016-06-01 00:00:00'),\n",
       " Timestamp('2016-07-01 00:00:00'),\n",
       " Timestamp('2016-08-01 00:00:00'),\n",
       " Timestamp('2016-09-01 00:00:00'),\n",
       " Timestamp('2016-10-01 00:00:00'),\n",
       " Timestamp('2016-11-01 00:00:00'),\n",
       " Timestamp('2016-12-01 00:00:00')]"
      ]
     },
     "execution_count": 35,
     "metadata": {},
     "output_type": "execute_result"
    }
   ],
   "source": [
    "# membuat index tanggal, agar mempudah dalam proses plotting data\n",
    "awal = \"2012-1\"\n",
    "awal = pd.to_datetime(awal)\n",
    "from pandas.tseries.offsets import DateOffset\n",
    "add_dates = [awal + DateOffset(months=x) for x in range(0,60) ]\n",
    "add_dates"
   ]
  },
  {
   "cell_type": "code",
   "execution_count": 36,
   "metadata": {},
   "outputs": [
    {
     "data": {
      "text/plain": [
       "60"
      ]
     },
     "execution_count": 36,
     "metadata": {},
     "output_type": "execute_result"
    }
   ],
   "source": [
    "len(add_dates)\n"
   ]
  },
  {
   "cell_type": "code",
   "execution_count": 37,
   "metadata": {},
   "outputs": [
    {
     "data": {
      "text/plain": [
       "60"
      ]
     },
     "execution_count": 37,
     "metadata": {},
     "output_type": "execute_result"
    }
   ],
   "source": [
    "len(Pred_rata)\n"
   ]
  },
  {
   "cell_type": "code",
   "execution_count": 38,
   "metadata": {},
   "outputs": [
    {
     "data": {
      "text/plain": [
       "60"
      ]
     },
     "execution_count": 38,
     "metadata": {},
     "output_type": "execute_result"
    }
   ],
   "source": [
    "len(df_asli_rata)"
   ]
  },
  {
   "cell_type": "code",
   "execution_count": 39,
   "metadata": {},
   "outputs": [],
   "source": [
    "dict = {'bulan': add_dates, 'data ':mae}\n",
    "df = pd.DataFrame(dict)"
   ]
  },
  {
   "cell_type": "code",
   "execution_count": 40,
   "metadata": {},
   "outputs": [
    {
     "data": {
      "text/html": [
       "<div>\n",
       "<style scoped>\n",
       "    .dataframe tbody tr th:only-of-type {\n",
       "        vertical-align: middle;\n",
       "    }\n",
       "\n",
       "    .dataframe tbody tr th {\n",
       "        vertical-align: top;\n",
       "    }\n",
       "\n",
       "    .dataframe thead th {\n",
       "        text-align: right;\n",
       "    }\n",
       "</style>\n",
       "<table border=\"1\" class=\"dataframe\">\n",
       "  <thead>\n",
       "    <tr style=\"text-align: right;\">\n",
       "      <th></th>\n",
       "      <th>bulan</th>\n",
       "      <th>data</th>\n",
       "    </tr>\n",
       "  </thead>\n",
       "  <tbody>\n",
       "    <tr>\n",
       "      <th>0</th>\n",
       "      <td>2012-01-01</td>\n",
       "      <td>0.047951</td>\n",
       "    </tr>\n",
       "    <tr>\n",
       "      <th>1</th>\n",
       "      <td>2012-02-01</td>\n",
       "      <td>0.026991</td>\n",
       "    </tr>\n",
       "    <tr>\n",
       "      <th>2</th>\n",
       "      <td>2012-03-01</td>\n",
       "      <td>0.053202</td>\n",
       "    </tr>\n",
       "    <tr>\n",
       "      <th>3</th>\n",
       "      <td>2012-04-01</td>\n",
       "      <td>0.002448</td>\n",
       "    </tr>\n",
       "    <tr>\n",
       "      <th>4</th>\n",
       "      <td>2012-05-01</td>\n",
       "      <td>0.002449</td>\n",
       "    </tr>\n",
       "    <tr>\n",
       "      <th>5</th>\n",
       "      <td>2012-06-01</td>\n",
       "      <td>0.001956</td>\n",
       "    </tr>\n",
       "    <tr>\n",
       "      <th>6</th>\n",
       "      <td>2012-07-01</td>\n",
       "      <td>0.003324</td>\n",
       "    </tr>\n",
       "    <tr>\n",
       "      <th>7</th>\n",
       "      <td>2012-08-01</td>\n",
       "      <td>0.020770</td>\n",
       "    </tr>\n",
       "    <tr>\n",
       "      <th>8</th>\n",
       "      <td>2012-09-01</td>\n",
       "      <td>0.072419</td>\n",
       "    </tr>\n",
       "    <tr>\n",
       "      <th>9</th>\n",
       "      <td>2012-10-01</td>\n",
       "      <td>0.004228</td>\n",
       "    </tr>\n",
       "    <tr>\n",
       "      <th>10</th>\n",
       "      <td>2012-11-01</td>\n",
       "      <td>0.002466</td>\n",
       "    </tr>\n",
       "    <tr>\n",
       "      <th>11</th>\n",
       "      <td>2012-12-01</td>\n",
       "      <td>0.002466</td>\n",
       "    </tr>\n",
       "    <tr>\n",
       "      <th>12</th>\n",
       "      <td>2013-01-01</td>\n",
       "      <td>0.066779</td>\n",
       "    </tr>\n",
       "    <tr>\n",
       "      <th>13</th>\n",
       "      <td>2013-02-01</td>\n",
       "      <td>0.042375</td>\n",
       "    </tr>\n",
       "    <tr>\n",
       "      <th>14</th>\n",
       "      <td>2013-03-01</td>\n",
       "      <td>0.066101</td>\n",
       "    </tr>\n",
       "    <tr>\n",
       "      <th>15</th>\n",
       "      <td>2013-04-01</td>\n",
       "      <td>0.002448</td>\n",
       "    </tr>\n",
       "    <tr>\n",
       "      <th>16</th>\n",
       "      <td>2013-05-01</td>\n",
       "      <td>0.002449</td>\n",
       "    </tr>\n",
       "    <tr>\n",
       "      <th>17</th>\n",
       "      <td>2013-06-01</td>\n",
       "      <td>0.001393</td>\n",
       "    </tr>\n",
       "    <tr>\n",
       "      <th>18</th>\n",
       "      <td>2013-07-01</td>\n",
       "      <td>0.003686</td>\n",
       "    </tr>\n",
       "    <tr>\n",
       "      <th>19</th>\n",
       "      <td>2013-08-01</td>\n",
       "      <td>0.024530</td>\n",
       "    </tr>\n",
       "    <tr>\n",
       "      <th>20</th>\n",
       "      <td>2013-09-01</td>\n",
       "      <td>0.071403</td>\n",
       "    </tr>\n",
       "    <tr>\n",
       "      <th>21</th>\n",
       "      <td>2013-10-01</td>\n",
       "      <td>0.003535</td>\n",
       "    </tr>\n",
       "    <tr>\n",
       "      <th>22</th>\n",
       "      <td>2013-11-01</td>\n",
       "      <td>0.002466</td>\n",
       "    </tr>\n",
       "    <tr>\n",
       "      <th>23</th>\n",
       "      <td>2013-12-01</td>\n",
       "      <td>0.002466</td>\n",
       "    </tr>\n",
       "    <tr>\n",
       "      <th>24</th>\n",
       "      <td>2014-01-01</td>\n",
       "      <td>0.041262</td>\n",
       "    </tr>\n",
       "    <tr>\n",
       "      <th>25</th>\n",
       "      <td>2014-02-01</td>\n",
       "      <td>0.016568</td>\n",
       "    </tr>\n",
       "    <tr>\n",
       "      <th>26</th>\n",
       "      <td>2014-03-01</td>\n",
       "      <td>0.039191</td>\n",
       "    </tr>\n",
       "    <tr>\n",
       "      <th>27</th>\n",
       "      <td>2014-04-01</td>\n",
       "      <td>0.002448</td>\n",
       "    </tr>\n",
       "    <tr>\n",
       "      <th>28</th>\n",
       "      <td>2014-05-01</td>\n",
       "      <td>0.002449</td>\n",
       "    </tr>\n",
       "    <tr>\n",
       "      <th>29</th>\n",
       "      <td>2014-06-01</td>\n",
       "      <td>0.002033</td>\n",
       "    </tr>\n",
       "    <tr>\n",
       "      <th>30</th>\n",
       "      <td>2014-07-01</td>\n",
       "      <td>0.004315</td>\n",
       "    </tr>\n",
       "    <tr>\n",
       "      <th>31</th>\n",
       "      <td>2014-08-01</td>\n",
       "      <td>0.017859</td>\n",
       "    </tr>\n",
       "    <tr>\n",
       "      <th>32</th>\n",
       "      <td>2014-09-01</td>\n",
       "      <td>0.072379</td>\n",
       "    </tr>\n",
       "    <tr>\n",
       "      <th>33</th>\n",
       "      <td>2014-10-01</td>\n",
       "      <td>0.003637</td>\n",
       "    </tr>\n",
       "    <tr>\n",
       "      <th>34</th>\n",
       "      <td>2014-11-01</td>\n",
       "      <td>0.002466</td>\n",
       "    </tr>\n",
       "    <tr>\n",
       "      <th>35</th>\n",
       "      <td>2014-12-01</td>\n",
       "      <td>0.002473</td>\n",
       "    </tr>\n",
       "    <tr>\n",
       "      <th>36</th>\n",
       "      <td>2015-01-01</td>\n",
       "      <td>0.002542</td>\n",
       "    </tr>\n",
       "    <tr>\n",
       "      <th>37</th>\n",
       "      <td>2015-02-01</td>\n",
       "      <td>0.002449</td>\n",
       "    </tr>\n",
       "    <tr>\n",
       "      <th>38</th>\n",
       "      <td>2015-03-01</td>\n",
       "      <td>0.002449</td>\n",
       "    </tr>\n",
       "    <tr>\n",
       "      <th>39</th>\n",
       "      <td>2015-04-01</td>\n",
       "      <td>0.002448</td>\n",
       "    </tr>\n",
       "    <tr>\n",
       "      <th>40</th>\n",
       "      <td>2015-05-01</td>\n",
       "      <td>0.002449</td>\n",
       "    </tr>\n",
       "    <tr>\n",
       "      <th>41</th>\n",
       "      <td>2015-06-01</td>\n",
       "      <td>0.002449</td>\n",
       "    </tr>\n",
       "    <tr>\n",
       "      <th>42</th>\n",
       "      <td>2015-07-01</td>\n",
       "      <td>0.009663</td>\n",
       "    </tr>\n",
       "    <tr>\n",
       "      <th>43</th>\n",
       "      <td>2015-08-01</td>\n",
       "      <td>0.005252</td>\n",
       "    </tr>\n",
       "    <tr>\n",
       "      <th>44</th>\n",
       "      <td>2015-09-01</td>\n",
       "      <td>0.078355</td>\n",
       "    </tr>\n",
       "    <tr>\n",
       "      <th>45</th>\n",
       "      <td>2015-10-01</td>\n",
       "      <td>0.004951</td>\n",
       "    </tr>\n",
       "    <tr>\n",
       "      <th>46</th>\n",
       "      <td>2015-11-01</td>\n",
       "      <td>0.002466</td>\n",
       "    </tr>\n",
       "    <tr>\n",
       "      <th>47</th>\n",
       "      <td>2015-12-01</td>\n",
       "      <td>0.017637</td>\n",
       "    </tr>\n",
       "    <tr>\n",
       "      <th>48</th>\n",
       "      <td>2016-01-01</td>\n",
       "      <td>0.097663</td>\n",
       "    </tr>\n",
       "    <tr>\n",
       "      <th>49</th>\n",
       "      <td>2016-02-01</td>\n",
       "      <td>0.064201</td>\n",
       "    </tr>\n",
       "    <tr>\n",
       "      <th>50</th>\n",
       "      <td>2016-03-01</td>\n",
       "      <td>0.084771</td>\n",
       "    </tr>\n",
       "    <tr>\n",
       "      <th>51</th>\n",
       "      <td>2016-04-01</td>\n",
       "      <td>0.002448</td>\n",
       "    </tr>\n",
       "    <tr>\n",
       "      <th>52</th>\n",
       "      <td>2016-05-01</td>\n",
       "      <td>0.002448</td>\n",
       "    </tr>\n",
       "    <tr>\n",
       "      <th>53</th>\n",
       "      <td>2016-06-01</td>\n",
       "      <td>0.001461</td>\n",
       "    </tr>\n",
       "    <tr>\n",
       "      <th>54</th>\n",
       "      <td>2016-07-01</td>\n",
       "      <td>0.003310</td>\n",
       "    </tr>\n",
       "    <tr>\n",
       "      <th>55</th>\n",
       "      <td>2016-08-01</td>\n",
       "      <td>0.028451</td>\n",
       "    </tr>\n",
       "    <tr>\n",
       "      <th>56</th>\n",
       "      <td>2016-09-01</td>\n",
       "      <td>0.069271</td>\n",
       "    </tr>\n",
       "    <tr>\n",
       "      <th>57</th>\n",
       "      <td>2016-10-01</td>\n",
       "      <td>0.002897</td>\n",
       "    </tr>\n",
       "    <tr>\n",
       "      <th>58</th>\n",
       "      <td>2016-11-01</td>\n",
       "      <td>0.002448</td>\n",
       "    </tr>\n",
       "    <tr>\n",
       "      <th>59</th>\n",
       "      <td>2016-12-01</td>\n",
       "      <td>0.002448</td>\n",
       "    </tr>\n",
       "  </tbody>\n",
       "</table>\n",
       "</div>"
      ],
      "text/plain": [
       "        bulan     data \n",
       "0  2012-01-01  0.047951\n",
       "1  2012-02-01  0.026991\n",
       "2  2012-03-01  0.053202\n",
       "3  2012-04-01  0.002448\n",
       "4  2012-05-01  0.002449\n",
       "5  2012-06-01  0.001956\n",
       "6  2012-07-01  0.003324\n",
       "7  2012-08-01  0.020770\n",
       "8  2012-09-01  0.072419\n",
       "9  2012-10-01  0.004228\n",
       "10 2012-11-01  0.002466\n",
       "11 2012-12-01  0.002466\n",
       "12 2013-01-01  0.066779\n",
       "13 2013-02-01  0.042375\n",
       "14 2013-03-01  0.066101\n",
       "15 2013-04-01  0.002448\n",
       "16 2013-05-01  0.002449\n",
       "17 2013-06-01  0.001393\n",
       "18 2013-07-01  0.003686\n",
       "19 2013-08-01  0.024530\n",
       "20 2013-09-01  0.071403\n",
       "21 2013-10-01  0.003535\n",
       "22 2013-11-01  0.002466\n",
       "23 2013-12-01  0.002466\n",
       "24 2014-01-01  0.041262\n",
       "25 2014-02-01  0.016568\n",
       "26 2014-03-01  0.039191\n",
       "27 2014-04-01  0.002448\n",
       "28 2014-05-01  0.002449\n",
       "29 2014-06-01  0.002033\n",
       "30 2014-07-01  0.004315\n",
       "31 2014-08-01  0.017859\n",
       "32 2014-09-01  0.072379\n",
       "33 2014-10-01  0.003637\n",
       "34 2014-11-01  0.002466\n",
       "35 2014-12-01  0.002473\n",
       "36 2015-01-01  0.002542\n",
       "37 2015-02-01  0.002449\n",
       "38 2015-03-01  0.002449\n",
       "39 2015-04-01  0.002448\n",
       "40 2015-05-01  0.002449\n",
       "41 2015-06-01  0.002449\n",
       "42 2015-07-01  0.009663\n",
       "43 2015-08-01  0.005252\n",
       "44 2015-09-01  0.078355\n",
       "45 2015-10-01  0.004951\n",
       "46 2015-11-01  0.002466\n",
       "47 2015-12-01  0.017637\n",
       "48 2016-01-01  0.097663\n",
       "49 2016-02-01  0.064201\n",
       "50 2016-03-01  0.084771\n",
       "51 2016-04-01  0.002448\n",
       "52 2016-05-01  0.002448\n",
       "53 2016-06-01  0.001461\n",
       "54 2016-07-01  0.003310\n",
       "55 2016-08-01  0.028451\n",
       "56 2016-09-01  0.069271\n",
       "57 2016-10-01  0.002897\n",
       "58 2016-11-01  0.002448\n",
       "59 2016-12-01  0.002448"
      ]
     },
     "execution_count": 40,
     "metadata": {},
     "output_type": "execute_result"
    }
   ],
   "source": [
    "df"
   ]
  },
  {
   "cell_type": "code",
   "execution_count": 41,
   "metadata": {},
   "outputs": [
    {
     "data": {
      "text/plain": [
       "[<matplotlib.lines.Line2D at 0x281ef195b00>]"
      ]
     },
     "execution_count": 41,
     "metadata": {},
     "output_type": "execute_result"
    },
    {
     "data": {
      "image/png": "[encoded data removed]",
      "text/plain": [
       "<Figure size 1440x360 with 1 Axes>"
      ]
     },
     "metadata": {
      "needs_background": "light"
     },
     "output_type": "display_data"
    }
   ],
   "source": [
    "df = df.set_index(\"bulan\")\n",
    "plt.figure(figsize=(20, 5))\n",
    "plt.plot(df.index,df)"
   ]
  },
  {
   "cell_type": "code",
   "execution_count": 42,
   "metadata": {},
   "outputs": [
    {
     "data": {
      "text/html": [
       "<div>\n",
       "<style scoped>\n",
       "    .dataframe tbody tr th:only-of-type {\n",
       "        vertical-align: middle;\n",
       "    }\n",
       "\n",
       "    .dataframe tbody tr th {\n",
       "        vertical-align: top;\n",
       "    }\n",
       "\n",
       "    .dataframe thead th {\n",
       "        text-align: right;\n",
       "    }\n",
       "</style>\n",
       "<table border=\"1\" class=\"dataframe\">\n",
       "  <thead>\n",
       "    <tr style=\"text-align: right;\">\n",
       "      <th></th>\n",
       "      <th>bulan</th>\n",
       "      <th>data prediksi</th>\n",
       "      <th>data asli</th>\n",
       "    </tr>\n",
       "  </thead>\n",
       "  <tbody>\n",
       "    <tr>\n",
       "      <th>0</th>\n",
       "      <td>2012-01-01</td>\n",
       "      <td>0.002449</td>\n",
       "      <td>5.036144e-02</td>\n",
       "    </tr>\n",
       "    <tr>\n",
       "      <th>1</th>\n",
       "      <td>2012-02-01</td>\n",
       "      <td>0.002449</td>\n",
       "      <td>2.939421e-02</td>\n",
       "    </tr>\n",
       "    <tr>\n",
       "      <th>2</th>\n",
       "      <td>2012-03-01</td>\n",
       "      <td>0.002449</td>\n",
       "      <td>5.561152e-02</td>\n",
       "    </tr>\n",
       "    <tr>\n",
       "      <th>3</th>\n",
       "      <td>2012-04-01</td>\n",
       "      <td>0.002448</td>\n",
       "      <td>0.000000e+00</td>\n",
       "    </tr>\n",
       "    <tr>\n",
       "      <th>4</th>\n",
       "      <td>2012-05-01</td>\n",
       "      <td>0.002449</td>\n",
       "      <td>0.000000e+00</td>\n",
       "    </tr>\n",
       "    <tr>\n",
       "      <th>5</th>\n",
       "      <td>2012-06-01</td>\n",
       "      <td>0.002449</td>\n",
       "      <td>4.985998e-04</td>\n",
       "    </tr>\n",
       "    <tr>\n",
       "      <th>6</th>\n",
       "      <td>2012-07-01</td>\n",
       "      <td>0.002449</td>\n",
       "      <td>4.732139e-03</td>\n",
       "    </tr>\n",
       "    <tr>\n",
       "      <th>7</th>\n",
       "      <td>2012-08-01</td>\n",
       "      <td>0.002449</td>\n",
       "      <td>2.313566e-02</td>\n",
       "    </tr>\n",
       "    <tr>\n",
       "      <th>8</th>\n",
       "      <td>2012-09-01</td>\n",
       "      <td>0.002449</td>\n",
       "      <td>7.482821e-02</td>\n",
       "    </tr>\n",
       "    <tr>\n",
       "      <th>9</th>\n",
       "      <td>2012-10-01</td>\n",
       "      <td>0.002466</td>\n",
       "      <td>1.951756e-03</td>\n",
       "    </tr>\n",
       "    <tr>\n",
       "      <th>10</th>\n",
       "      <td>2012-11-01</td>\n",
       "      <td>0.002466</td>\n",
       "      <td>0.000000e+00</td>\n",
       "    </tr>\n",
       "    <tr>\n",
       "      <th>11</th>\n",
       "      <td>2012-12-01</td>\n",
       "      <td>0.002466</td>\n",
       "      <td>8.443186e-07</td>\n",
       "    </tr>\n",
       "    <tr>\n",
       "      <th>12</th>\n",
       "      <td>2013-01-01</td>\n",
       "      <td>0.002449</td>\n",
       "      <td>6.918903e-02</td>\n",
       "    </tr>\n",
       "    <tr>\n",
       "      <th>13</th>\n",
       "      <td>2013-02-01</td>\n",
       "      <td>0.002449</td>\n",
       "      <td>4.478209e-02</td>\n",
       "    </tr>\n",
       "    <tr>\n",
       "      <th>14</th>\n",
       "      <td>2013-03-01</td>\n",
       "      <td>0.002449</td>\n",
       "      <td>6.851169e-02</td>\n",
       "    </tr>\n",
       "    <tr>\n",
       "      <th>15</th>\n",
       "      <td>2013-04-01</td>\n",
       "      <td>0.002448</td>\n",
       "      <td>0.000000e+00</td>\n",
       "    </tr>\n",
       "    <tr>\n",
       "      <th>16</th>\n",
       "      <td>2013-05-01</td>\n",
       "      <td>0.002449</td>\n",
       "      <td>0.000000e+00</td>\n",
       "    </tr>\n",
       "    <tr>\n",
       "      <th>17</th>\n",
       "      <td>2013-06-01</td>\n",
       "      <td>0.002449</td>\n",
       "      <td>1.527034e-03</td>\n",
       "    </tr>\n",
       "    <tr>\n",
       "      <th>18</th>\n",
       "      <td>2013-07-01</td>\n",
       "      <td>0.002449</td>\n",
       "      <td>5.131007e-03</td>\n",
       "    </tr>\n",
       "    <tr>\n",
       "      <th>19</th>\n",
       "      <td>2013-08-01</td>\n",
       "      <td>0.002449</td>\n",
       "      <td>2.690689e-02</td>\n",
       "    </tr>\n",
       "    <tr>\n",
       "      <th>20</th>\n",
       "      <td>2013-09-01</td>\n",
       "      <td>0.002449</td>\n",
       "      <td>7.381216e-02</td>\n",
       "    </tr>\n",
       "    <tr>\n",
       "      <th>21</th>\n",
       "      <td>2013-10-01</td>\n",
       "      <td>0.002466</td>\n",
       "      <td>1.237466e-03</td>\n",
       "    </tr>\n",
       "    <tr>\n",
       "      <th>22</th>\n",
       "      <td>2013-11-01</td>\n",
       "      <td>0.002466</td>\n",
       "      <td>0.000000e+00</td>\n",
       "    </tr>\n",
       "    <tr>\n",
       "      <th>23</th>\n",
       "      <td>2013-12-01</td>\n",
       "      <td>0.002466</td>\n",
       "      <td>0.000000e+00</td>\n",
       "    </tr>\n",
       "    <tr>\n",
       "      <th>24</th>\n",
       "      <td>2014-01-01</td>\n",
       "      <td>0.002449</td>\n",
       "      <td>4.367229e-02</td>\n",
       "    </tr>\n",
       "    <tr>\n",
       "      <th>25</th>\n",
       "      <td>2014-02-01</td>\n",
       "      <td>0.002449</td>\n",
       "      <td>1.876399e-02</td>\n",
       "    </tr>\n",
       "    <tr>\n",
       "      <th>26</th>\n",
       "      <td>2014-03-01</td>\n",
       "      <td>0.002449</td>\n",
       "      <td>4.160067e-02</td>\n",
       "    </tr>\n",
       "    <tr>\n",
       "      <th>27</th>\n",
       "      <td>2014-04-01</td>\n",
       "      <td>0.002448</td>\n",
       "      <td>0.000000e+00</td>\n",
       "    </tr>\n",
       "    <tr>\n",
       "      <th>28</th>\n",
       "      <td>2014-05-01</td>\n",
       "      <td>0.002449</td>\n",
       "      <td>0.000000e+00</td>\n",
       "    </tr>\n",
       "    <tr>\n",
       "      <th>29</th>\n",
       "      <td>2014-06-01</td>\n",
       "      <td>0.002449</td>\n",
       "      <td>4.231010e-04</td>\n",
       "    </tr>\n",
       "    <tr>\n",
       "      <th>30</th>\n",
       "      <td>2014-07-01</td>\n",
       "      <td>0.002449</td>\n",
       "      <td>6.038710e-03</td>\n",
       "    </tr>\n",
       "    <tr>\n",
       "      <th>31</th>\n",
       "      <td>2014-08-01</td>\n",
       "      <td>0.002449</td>\n",
       "      <td>2.021037e-02</td>\n",
       "    </tr>\n",
       "    <tr>\n",
       "      <th>32</th>\n",
       "      <td>2014-09-01</td>\n",
       "      <td>0.002449</td>\n",
       "      <td>7.478870e-02</td>\n",
       "    </tr>\n",
       "    <tr>\n",
       "      <th>33</th>\n",
       "      <td>2014-10-01</td>\n",
       "      <td>0.002467</td>\n",
       "      <td>1.343593e-03</td>\n",
       "    </tr>\n",
       "    <tr>\n",
       "      <th>34</th>\n",
       "      <td>2014-11-01</td>\n",
       "      <td>0.002466</td>\n",
       "      <td>0.000000e+00</td>\n",
       "    </tr>\n",
       "    <tr>\n",
       "      <th>35</th>\n",
       "      <td>2014-12-01</td>\n",
       "      <td>0.002466</td>\n",
       "      <td>7.588192e-06</td>\n",
       "    </tr>\n",
       "    <tr>\n",
       "      <th>36</th>\n",
       "      <td>2015-01-01</td>\n",
       "      <td>0.002449</td>\n",
       "      <td>9.328075e-05</td>\n",
       "    </tr>\n",
       "    <tr>\n",
       "      <th>37</th>\n",
       "      <td>2015-02-01</td>\n",
       "      <td>0.002449</td>\n",
       "      <td>0.000000e+00</td>\n",
       "    </tr>\n",
       "    <tr>\n",
       "      <th>38</th>\n",
       "      <td>2015-03-01</td>\n",
       "      <td>0.002449</td>\n",
       "      <td>0.000000e+00</td>\n",
       "    </tr>\n",
       "    <tr>\n",
       "      <th>39</th>\n",
       "      <td>2015-04-01</td>\n",
       "      <td>0.002448</td>\n",
       "      <td>0.000000e+00</td>\n",
       "    </tr>\n",
       "    <tr>\n",
       "      <th>40</th>\n",
       "      <td>2015-05-01</td>\n",
       "      <td>0.002449</td>\n",
       "      <td>0.000000e+00</td>\n",
       "    </tr>\n",
       "    <tr>\n",
       "      <th>41</th>\n",
       "      <td>2015-06-01</td>\n",
       "      <td>0.002449</td>\n",
       "      <td>0.000000e+00</td>\n",
       "    </tr>\n",
       "    <tr>\n",
       "      <th>42</th>\n",
       "      <td>2015-07-01</td>\n",
       "      <td>0.002449</td>\n",
       "      <td>1.143431e-02</td>\n",
       "    </tr>\n",
       "    <tr>\n",
       "      <th>43</th>\n",
       "      <td>2015-08-01</td>\n",
       "      <td>0.002449</td>\n",
       "      <td>5.005872e-03</td>\n",
       "    </tr>\n",
       "    <tr>\n",
       "      <th>44</th>\n",
       "      <td>2015-09-01</td>\n",
       "      <td>0.002449</td>\n",
       "      <td>8.076222e-02</td>\n",
       "    </tr>\n",
       "    <tr>\n",
       "      <th>45</th>\n",
       "      <td>2015-10-01</td>\n",
       "      <td>0.002467</td>\n",
       "      <td>2.689389e-03</td>\n",
       "    </tr>\n",
       "    <tr>\n",
       "      <th>46</th>\n",
       "      <td>2015-11-01</td>\n",
       "      <td>0.002466</td>\n",
       "      <td>0.000000e+00</td>\n",
       "    </tr>\n",
       "    <tr>\n",
       "      <th>47</th>\n",
       "      <td>2015-12-01</td>\n",
       "      <td>0.002466</td>\n",
       "      <td>1.959673e-02</td>\n",
       "    </tr>\n",
       "    <tr>\n",
       "      <th>48</th>\n",
       "      <td>2016-01-01</td>\n",
       "      <td>0.002448</td>\n",
       "      <td>1.000722e-01</td>\n",
       "    </tr>\n",
       "    <tr>\n",
       "      <th>49</th>\n",
       "      <td>2016-02-01</td>\n",
       "      <td>0.002448</td>\n",
       "      <td>6.660953e-02</td>\n",
       "    </tr>\n",
       "    <tr>\n",
       "      <th>50</th>\n",
       "      <td>2016-03-01</td>\n",
       "      <td>0.002448</td>\n",
       "      <td>8.718035e-02</td>\n",
       "    </tr>\n",
       "    <tr>\n",
       "      <th>51</th>\n",
       "      <td>2016-04-01</td>\n",
       "      <td>0.002448</td>\n",
       "      <td>0.000000e+00</td>\n",
       "    </tr>\n",
       "    <tr>\n",
       "      <th>52</th>\n",
       "      <td>2016-05-01</td>\n",
       "      <td>0.002448</td>\n",
       "      <td>0.000000e+00</td>\n",
       "    </tr>\n",
       "    <tr>\n",
       "      <th>53</th>\n",
       "      <td>2016-06-01</td>\n",
       "      <td>0.002449</td>\n",
       "      <td>1.225306e-03</td>\n",
       "    </tr>\n",
       "    <tr>\n",
       "      <th>54</th>\n",
       "      <td>2016-07-01</td>\n",
       "      <td>0.002449</td>\n",
       "      <td>4.553074e-03</td>\n",
       "    </tr>\n",
       "    <tr>\n",
       "      <th>55</th>\n",
       "      <td>2016-08-01</td>\n",
       "      <td>0.002449</td>\n",
       "      <td>3.083398e-02</td>\n",
       "    </tr>\n",
       "    <tr>\n",
       "      <th>56</th>\n",
       "      <td>2016-09-01</td>\n",
       "      <td>0.002449</td>\n",
       "      <td>7.168045e-02</td>\n",
       "    </tr>\n",
       "    <tr>\n",
       "      <th>57</th>\n",
       "      <td>2016-10-01</td>\n",
       "      <td>0.002448</td>\n",
       "      <td>5.363363e-04</td>\n",
       "    </tr>\n",
       "    <tr>\n",
       "      <th>58</th>\n",
       "      <td>2016-11-01</td>\n",
       "      <td>0.002448</td>\n",
       "      <td>0.000000e+00</td>\n",
       "    </tr>\n",
       "    <tr>\n",
       "      <th>59</th>\n",
       "      <td>2016-12-01</td>\n",
       "      <td>0.002448</td>\n",
       "      <td>0.000000e+00</td>\n",
       "    </tr>\n",
       "  </tbody>\n",
       "</table>\n",
       "</div>"
      ],
      "text/plain": [
       "        bulan  data prediksi     data asli\n",
       "0  2012-01-01       0.002449  5.036144e-02\n",
       "1  2012-02-01       0.002449  2.939421e-02\n",
       "2  2012-03-01       0.002449  5.561152e-02\n",
       "3  2012-04-01       0.002448  0.000000e+00\n",
       "4  2012-05-01       0.002449  0.000000e+00\n",
       "5  2012-06-01       0.002449  4.985998e-04\n",
       "6  2012-07-01       0.002449  4.732139e-03\n",
       "7  2012-08-01       0.002449  2.313566e-02\n",
       "8  2012-09-01       0.002449  7.482821e-02\n",
       "9  2012-10-01       0.002466  1.951756e-03\n",
       "10 2012-11-01       0.002466  0.000000e+00\n",
       "11 2012-12-01       0.002466  8.443186e-07\n",
       "12 2013-01-01       0.002449  6.918903e-02\n",
       "13 2013-02-01       0.002449  4.478209e-02\n",
       "14 2013-03-01       0.002449  6.851169e-02\n",
       "15 2013-04-01       0.002448  0.000000e+00\n",
       "16 2013-05-01       0.002449  0.000000e+00\n",
       "17 2013-06-01       0.002449  1.527034e-03\n",
       "18 2013-07-01       0.002449  5.131007e-03\n",
       "19 2013-08-01       0.002449  2.690689e-02\n",
       "20 2013-09-01       0.002449  7.381216e-02\n",
       "21 2013-10-01       0.002466  1.237466e-03\n",
       "22 2013-11-01       0.002466  0.000000e+00\n",
       "23 2013-12-01       0.002466  0.000000e+00\n",
       "24 2014-01-01       0.002449  4.367229e-02\n",
       "25 2014-02-01       0.002449  1.876399e-02\n",
       "26 2014-03-01       0.002449  4.160067e-02\n",
       "27 2014-04-01       0.002448  0.000000e+00\n",
       "28 2014-05-01       0.002449  0.000000e+00\n",
       "29 2014-06-01       0.002449  4.231010e-04\n",
       "30 2014-07-01       0.002449  6.038710e-03\n",
       "31 2014-08-01       0.002449  2.021037e-02\n",
       "32 2014-09-01       0.002449  7.478870e-02\n",
       "33 2014-10-01       0.002467  1.343593e-03\n",
       "34 2014-11-01       0.002466  0.000000e+00\n",
       "35 2014-12-01       0.002466  7.588192e-06\n",
       "36 2015-01-01       0.002449  9.328075e-05\n",
       "37 2015-02-01       0.002449  0.000000e+00\n",
       "38 2015-03-01       0.002449  0.000000e+00\n",
       "39 2015-04-01       0.002448  0.000000e+00\n",
       "40 2015-05-01       0.002449  0.000000e+00\n",
       "41 2015-06-01       0.002449  0.000000e+00\n",
       "42 2015-07-01       0.002449  1.143431e-02\n",
       "43 2015-08-01       0.002449  5.005872e-03\n",
       "44 2015-09-01       0.002449  8.076222e-02\n",
       "45 2015-10-01       0.002467  2.689389e-03\n",
       "46 2015-11-01       0.002466  0.000000e+00\n",
       "47 2015-12-01       0.002466  1.959673e-02\n",
       "48 2016-01-01       0.002448  1.000722e-01\n",
       "49 2016-02-01       0.002448  6.660953e-02\n",
       "50 2016-03-01       0.002448  8.718035e-02\n",
       "51 2016-04-01       0.002448  0.000000e+00\n",
       "52 2016-05-01       0.002448  0.000000e+00\n",
       "53 2016-06-01       0.002449  1.225306e-03\n",
       "54 2016-07-01       0.002449  4.553074e-03\n",
       "55 2016-08-01       0.002449  3.083398e-02\n",
       "56 2016-09-01       0.002449  7.168045e-02\n",
       "57 2016-10-01       0.002448  5.363363e-04\n",
       "58 2016-11-01       0.002448  0.000000e+00\n",
       "59 2016-12-01       0.002448  0.000000e+00"
      ]
     },
     "execution_count": 42,
     "metadata": {},
     "output_type": "execute_result"
    }
   ],
   "source": [
    "dict = {'bulan': add_dates, 'data prediksi':Pred_rata, 'data asli':df_asli_rata}\n",
    "df = pd.DataFrame(dict)\n",
    "df\n"
   ]
  },
  {
   "cell_type": "code",
   "execution_count": 43,
   "metadata": {},
   "outputs": [
    {
     "data": {
      "image/png": "[encoded data removed]",
      "text/plain": [
       "<Figure size 1440x360 with 1 Axes>"
      ]
     },
     "metadata": {
      "needs_background": "light"
     },
     "output_type": "display_data"
    }
   ],
   "source": [
    "# df_asli = data_4\n",
    "df = df.set_index(\"bulan\")\n",
    "plt.figure(figsize=(20, 5))\n",
    "plt.plot(df.index, df_asli_rata[-60:], color='b', label=\"observasi\")\n",
    "plt.plot(df.index, Pred_rata[-60:], color='r', label=\"prediksi\")\n",
    "plt.legend(loc='best', fontsize='xx-large')\n",
    "plt.xticks(fontsize=18)\n",
    "plt.yticks(fontsize=16)\n",
    "plt.show()"
   ]
  },
  {
   "cell_type": "code",
   "execution_count": 44,
   "metadata": {},
   "outputs": [
    {
     "data": {
      "image/png": "[encoded data removed]",
      "text/plain": [
       "<Figure size 432x288 with 1 Axes>"
      ]
     },
     "metadata": {
      "needs_background": "light"
     },
     "output_type": "display_data"
    }
   ],
   "source": [
    "# # Time series data\n",
    "\n",
    "# data = mae\n",
    "\n",
    " \n",
    "\n",
    "# # Plot autocorrelation\n",
    "\n",
    "# plt.acorr(data, maxlags=12)\n",
    "\n",
    " \n",
    "\n",
    "# # Add labels to autocorrelation plot\n",
    "\n",
    "# plt.title('Autocorrelation of LSTM')\n",
    "\n",
    "# plt.xlabel('Lag')\n",
    "\n",
    "# plt.ylabel('Autocorrelation')\n",
    "\n",
    " \n",
    "\n",
    "# # Display the autocorrelation plot\n",
    "\n",
    "# plt.show()\n",
    "\n",
    "import statsmodels.tsa.api as smt\n",
    "\n",
    "acf = smt.graphics.plot_acf(mae, lags=12 , alpha=0.05)\n",
    "acf.show()"
   ]
  },
  {
   "cell_type": "code",
   "execution_count": 45,
   "metadata": {},
   "outputs": [
    {
     "data": {
      "image/png": "[encoded data removed]",
      "text/plain": [
       "<Figure size 432x288 with 1 Axes>"
      ]
     },
     "metadata": {
      "needs_background": "light"
     },
     "output_type": "display_data"
    }
   ],
   "source": [
    "pacf = smt.graphics.plot_pacf(mae, lags=12 , alpha=0.05)\n",
    "pacf.show()"
   ]
  },
  {
   "cell_type": "code",
   "execution_count": 46,
   "metadata": {},
   "outputs": [
    {
     "data": {
      "text/plain": [
       "<matplotlib.image.AxesImage at 0x281f250eb00>"
      ]
     },
     "execution_count": 46,
     "metadata": {},
     "output_type": "execute_result"
    },
    {
     "data": {
      "image/png": "[encoded data removed]",
      "text/plain": [
       "<Figure size 432x288 with 1 Axes>"
      ]
     },
     "metadata": {
      "needs_background": "light"
     },
     "output_type": "display_data"
    }
   ],
   "source": [
    "plt.imshow((df_asli[59]-pred_list[59]).reshape(83,114))"
   ]
  },
  {
   "cell_type": "code",
   "execution_count": 47,
   "metadata": {},
   "outputs": [
    {
     "data": {
      "text/plain": [
       "0.020538477584126285"
      ]
     },
     "execution_count": 47,
     "metadata": {},
     "output_type": "execute_result"
    }
   ],
   "source": [
    "sum(mae)/60"
   ]
  },
  {
   "cell_type": "code",
   "execution_count": 48,
   "metadata": {},
   "outputs": [],
   "source": [
    "from skimage import io\n",
    "# io.imsave('NewRaster/201201.tif', pred_list[0].reshape(83,114))"
   ]
  },
  {
   "cell_type": "code",
   "execution_count": 49,
   "metadata": {},
   "outputs": [],
   "source": [
    "pred_list[pred_list==0]=-9999"
   ]
  },
  {
   "cell_type": "code",
   "execution_count": 50,
   "metadata": {},
   "outputs": [
    {
     "data": {
      "text/plain": [
       "'Raster_1/201612.tif'"
      ]
     },
     "execution_count": 50,
     "metadata": {},
     "output_type": "execute_result"
    }
   ],
   "source": [
    "no=0\n",
    "for pred in pred_list:\n",
    "    if(add_dates[no].month<10):\n",
    "        nama_file = 'Raster_1/'+str(add_dates[no].year)+'0'+str(add_dates[no].month)+'.tif'\n",
    "    else:\n",
    "        nama_file = 'Raster_1/'+str(add_dates[no].year)+str(add_dates[no].month)+'.tif'\n",
    "            \n",
    "    io.imsave(nama_file, pred_list[no].reshape(83,114))\n",
    "    no+=1\n",
    "nama_file"
   ]
  },
  {
   "cell_type": "raw",
   "metadata": {},
   "source": []
  },
  {
   "cell_type": "code",
   "execution_count": null,
   "metadata": {},
   "outputs": [],
   "source": []
  },
  {
   "cell_type": "code",
   "execution_count": null,
   "metadata": {},
   "outputs": [],
   "source": []
  },
  {
   "cell_type": "code",
   "execution_count": 51,
   "metadata": {},
   "outputs": [],
   "source": [
    "model.save('LSTM102030DENSE405060_adam_seed1.h5')"
   ]
  },
  {
   "cell_type": "code",
   "execution_count": null,
   "metadata": {},
   "outputs": [],
   "source": []
  }
 ],
 "metadata": {
  "kernelspec": {
   "display_name": "Python 3",
   "language": "python",
   "name": "python3"
  },
  "language_info": {
   "codemirror_mode": {
    "name": "ipython",
    "version": 3
   },
   "file_extension": ".py",
   "mimetype": "text/x-python",
   "name": "python",
   "nbconvert_exporter": "python",
   "pygments_lexer": "ipython3",
   "version": "3.7.3"
  }
 },
 "nbformat": 4,
 "nbformat_minor": 2
}
